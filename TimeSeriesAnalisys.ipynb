{
 "metadata": {
  "name": ""
 },
 "nbformat": 3,
 "nbformat_minor": 0,
 "worksheets": [
  {
   "cells": [
    {
     "cell_type": "code",
     "collapsed": false,
     "input": [
      "from pandas import read_csv\n",
      "import statsmodels.api as stm"
     ],
     "language": "python",
     "metadata": {},
     "outputs": [],
     "prompt_number": 1
    },
    {
     "cell_type": "code",
     "collapsed": false,
     "input": [
      "dataset = read_csv('tovar_moving.csv',';', index_col=['dt'], parse_dates=['dt'], dayfirst=True)\n",
      "dataset.head()"
     ],
     "language": "python",
     "metadata": {},
     "outputs": [
      {
       "html": [
        "<div style=\"max-height:1000px;max-width:1500px;overflow:auto;\">\n",
        "<table border=\"1\" class=\"dataframe\">\n",
        "  <thead>\n",
        "    <tr style=\"text-align: right;\">\n",
        "      <th></th>\n",
        "      <th>Otgruzka</th>\n",
        "      <th>priemka</th>\n",
        "    </tr>\n",
        "    <tr>\n",
        "      <th>dt</th>\n",
        "      <th></th>\n",
        "      <th></th>\n",
        "    </tr>\n",
        "  </thead>\n",
        "  <tbody>\n",
        "    <tr>\n",
        "      <th>2006-09-01</th>\n",
        "      <td> 31588</td>\n",
        "      <td> 70147</td>\n",
        "    </tr>\n",
        "    <tr>\n",
        "      <th>2006-09-02</th>\n",
        "      <td> 21098</td>\n",
        "      <td> 61749</td>\n",
        "    </tr>\n",
        "    <tr>\n",
        "      <th>2006-09-03</th>\n",
        "      <td> 26290</td>\n",
        "      <td> 34944</td>\n",
        "    </tr>\n",
        "    <tr>\n",
        "      <th>2006-09-04</th>\n",
        "      <td> 33084</td>\n",
        "      <td> 54086</td>\n",
        "    </tr>\n",
        "    <tr>\n",
        "      <th>2006-09-05</th>\n",
        "      <td> 65881</td>\n",
        "      <td> 76171</td>\n",
        "    </tr>\n",
        "  </tbody>\n",
        "</table>\n",
        "</div>"
       ],
       "metadata": {},
       "output_type": "pyout",
       "prompt_number": 6,
       "text": [
        "            Otgruzka  priemka\n",
        "dt                           \n",
        "2006-09-01     31588    70147\n",
        "2006-09-02     21098    61749\n",
        "2006-09-03     26290    34944\n",
        "2006-09-04     33084    54086\n",
        "2006-09-05     65881    76171"
       ]
      }
     ],
     "prompt_number": 6
    },
    {
     "cell_type": "markdown",
     "metadata": {},
     "source": [
      "\u0411\u0443\u0434\u0435\u043c \u0430\u043d\u0430\u043b\u0438\u0437\u0438\u0440\u043e\u0432\u0430\u0442\u044c \u0438 \u043f\u0440\u043e\u0433\u043d\u043e\u0437\u0438\u0440\u043e\u0432\u0430\u0442\u044c \u043e\u0442\u0433\u0440\u0443\u0437\u043a\u0443 \u043f\u043e \u043c\u0435\u0441\u044f\u0446\u0430\u043c:"
     ]
    },
    {
     "cell_type": "code",
     "collapsed": false,
     "input": [
      "OtgruzkaMes = dataset.Otgruzka.resample('M', how='sum')\n",
      "DFM.head()"
     ],
     "language": "python",
     "metadata": {},
     "outputs": [
      {
       "metadata": {},
       "output_type": "pyout",
       "prompt_number": 10,
       "text": [
        "dt\n",
        "2006-09-30    1469660\n",
        "2006-10-31    2072025\n",
        "2006-11-30    2021198\n",
        "2006-12-31    1098522\n",
        "2007-01-31     811363\n",
        "Freq: M, dtype: float64"
       ]
      }
     ],
     "prompt_number": 10
    },
    {
     "cell_type": "markdown",
     "metadata": {},
     "source": [
      "\u0426\u0435\u043b\u044c\u044e \u0438\u0441\u0441\u043b\u0435\u0434\u043e\u0432\u0430\u043d\u0438\u044f \u0432\u0440\u0435\u043c\u0435\u043d\u043d\u043e\u0433\u043e \u0440\u044f\u0434\u0430 \u044f\u0432\u043b\u044f\u0435\u0442\u0441\u044f \u0432\u044b\u044f\u0432\u043b\u0435\u043d\u0438\u0435 \u0437\u0430\u043a\u043e\u043d\u043e\u043c\u0435\u0440\u043d\u043e\u0441\u0442\u0435\u0439 \u0432 \u0438\u0437\u043c\u0435\u043d\u0435\u043d\u0438\u0438 \u0443\u0440\u043e\u0432\u043d\u0435\u0439 \u0440\u044f\u0434\u0430 \u0438 \u043f\u043e\u0441\u0442\u0440\u043e\u0435\u043d\u0438\u0438 \u0435\u0433\u043e \u043c\u043e\u0434\u0435\u043b\u0438 \u0432 \u0446\u0435\u043b\u044f\u0445 \u043f\u0440\u043e\u0433\u043d\u043e\u0437\u0438\u0440\u043e\u0432\u0430\u043d\u0438\u044f \u0438 \u0438\u0441\u0441\u043b\u0435\u0434\u043e\u0432\u0430\u043d\u0438\u044f \u0432\u0437\u0430\u0438\u043c\u043e\u0441\u0432\u044f\u0437\u0435\u0439 \u043c\u0435\u0436\u0434\u0443 \u044f\u0432\u043b\u0435\u043d\u0438\u044f\u043c\u0438."
     ]
    },
    {
     "cell_type": "markdown",
     "metadata": {},
     "source": [
      "\u041f\u0440\u0438 \u0438\u0441\u0441\u043b\u0435\u0434\u043e\u0432\u0430\u043d\u0438\u0438 \u044d\u043a\u043e\u043d\u043e\u043c\u0438\u0447\u0435\u0441\u043a\u043e\u0433\u043e \u0432\u0440\u0435\u043c\u0435\u043d\u043d\u043e\u0433\u043e \u0440\u044f\u0434\u0430 \u0435\u0433\u043e \u043e\u0431\u044b\u0447\u043d\u043e \u043f\u0440\u0435\u0434\u0441\u0442\u0430\u0432-\n",
      "\u043b\u044f\u044e\u0442 \u0432 \u0432\u0438\u0434\u0435 \u0441\u043e\u0432\u043e\u043a\u0443\u043f\u043d\u043e\u0441\u0442\u0438 \u0442\u0440\u0435\u0445 \u0441\u043e\u0441\u0442\u0430\u0432\u043b\u044f\u044e\u0449\u0438\u0445:\n",
      "<ul>\n",
      "<li>\u0434\u043e\u043b\u0433\u043e\u0432\u0440\u0435\u043c\u0435\u043d\u043d\u043e\u0439 \u0442\u0435\u043d\u0434\u0435\u043d\u0446\u0438\u0438</li>\n",
      "<li>\u043f\u0435\u0440\u0438\u043e\u0434\u0438\u0447\u0435\u0441\u043a\u0438\u0445 \u043a\u043e\u043b\u0435\u0431\u0430\u043d\u0438\u0439</li>\n",
      "<li>\u0441\u043b\u0443\u0447\u0430\u0439\u043d\u044b\u0445 \u043a\u043e\u043b\u0435\u0431\u0430\u043d\u0438\u0439</li>\n",
      "</ul>"
     ]
    },
    {
     "cell_type": "code",
     "collapsed": false,
     "input": [],
     "language": "python",
     "metadata": {},
     "outputs": []
    }
   ],
   "metadata": {}
  }
 ]
}