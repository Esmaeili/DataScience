{
 "metadata": {
  "name": "������"
 },
 "nbformat": 3,
 "nbformat_minor": 0,
 "worksheets": [
  {
   "cells": [
    {
     "cell_type": "markdown",
     "metadata": {},
     "source": "<h1>������ ������� ����������� Pandas+Vincent </h1>"
    },
    {
     "cell_type": "markdown",
     "metadata": {},
     "source": "������ ����, ��������� ��������."
    },
    {
     "cell_type": "markdown",
     "metadata": {},
     "source": "� <a href = "http://habrahabr.ru/post/197212/">�������</a> ������ ���� ������� ������� � ����������� ������ � <b>Pandas</b> � <i>matplotlib</i>. ������� �� �������� �� �������� ��� ���� ������ ����������� ����������� ������� � ������� <a href="https://vincent.readthedocs.org/en/latest/index.html">Vincent</a>, ������� ��� �� ����� ������ ������������� � Pandas, ���� � ������ ��� ���� ������ ��������, ��� � ������ � matplotlib. "
    },
    {
     "cell_type": "markdown",
     "metadata": {},
     "source": "<h4>��������</h4>"
    },
    {
     "cell_type": "markdown",
     "metadata": {},
     "source": "<b>Vincent</b> - ��� ������ ��������������� ��� ��������� ������ �� python � JavaScript ���������� ��� ������������ <a href='http://d3js.org/'>D3js</a> � <a href='http://trifacta.github.io/vega/'>Vega</a>, ������� � ���� ������� ���� ������� ����������� ��� ������������� ������������ ������. "
    },
    {
     "cell_type": "markdown",
     "metadata": {},
     "source": "�.�. ����� ������� �� ����� ����������� ������ �� python, � ������� � ����������� �� ������ ������� �� js. �������� ��� ����� ���� ������ ��� ������������ �����-���� ������������� ������ � ��������� �� �� �����. ����� ���� vincent �������� ����������� � IPython Notebook, �, ��� �� ��� � matplotlib, ����� �������� ������� ��������������� � ���. "
    },
    {
     "cell_type": "markdown",
     "metadata": {},
     "source": "� �������� ������������ ������������ ������� ������, � ��������� ����������� 2 ������:
<ul>
    <li>������� �������� �������������� ������ ��������� � ������������ � ������������ ����������� �������</li>
    <li>������� �� ����� �� ������������� �� ��������� �� �������������� ������ �� 2010</li></ul>
� �������� �������� ������ ������� ����������� <a href="http://www.gks.ru/bgd/regl/b12_14p/IssWWW.exe/Stg/d01/05-02.htm">�����</a> ��������. "
    },
    {
     "cell_type": "markdown",
     "metadata": {},
     "source": "<h4>������ ������</h4>"
    },
    {
     "cell_type": "markdown",
     "metadata": {},
     "source": "��� ������ ������� �������� ������ � ��������� ����� �� �������������� ���������."
    },
    {
     "cell_type": "code",
     "collapsed": false,
     "input": "import pandas as pd
import vincent

stat = pd.read_html('Data/AVGPeopleProfit.htm', header=0, index_col=0)[0]",
     "language": "python",
     "metadata": {},
     "outputs": [],
     "prompt_number": 1
    },
    {
     "cell_type": "markdown",
     "metadata": {},
     "source": "���� ��� �������� ������ � ���� ��� �� ���������� ������ <a href="http://pandas.pydata.org/pandas-docs/stable/generated/pandas.io.html.read_html.html?highlight=read_html#pandas.io.html.read_html">read_html()</a> (������ ������ ��������� � pandas ������� � 0.12 ������). � �������� ���������� � ����� ������ ���������� 3 ���������:<ol><li>����� html ��������</li><li>����� ������, ���������� ����� ��������</li><li>����� �������, ������� ����� �������������� � ���� �������</li></ol>"
    },
    {
     "cell_type": "markdown",
     "metadata": {},
     "source": "�������� �� ��������, ��� � �������� �� ������ �������� (�������� <i>read_csv</i>)  <i>read_html</i> ���������� �� ������ DataFrame, � ������ ����� ��������. ��� ������� � ���, ��� �������� ����� ��������� �� ����, � ��������� ������ � � ������ ���� ���������� �� ������ �������."
    },
    {
     "cell_type": "markdown",
     "metadata": {},
     "source": "����� �������� � ��� ���������� ������� ���������� ����:"
    },
    {
     "cell_type": "code",
     "collapsed": false,
     "input": "stat.head()",
     "language": "python",
     "metadata": {},
     "outputs": [
      {
       "html": "<div style="max-height:1000px;max-width:1500px;overflow:auto;">
<table border="1" class="dataframe">
  <thead>
    <tr style="text-align: right;">
      <th></th>
      <th>1990.0</th>
      <th>2000.0</th>
      <th>2001.0</th>
      <th>2002.0</th>
      <th>2003.0</th>
      <th>2004.0</th>
      <th>2005.0</th>
      <th>2006.0</th>
      <th>2007.0</th>
      <th>2008.0</th>
      <th>2009.0</th>
      <th>2010.0</th>
      <th>2011.0</th>
      <th>nan</th>
    </tr>
  </thead>
  <tbody>
    <tr>
      <th>���������� ���������</th>
      <td>NaN</td>
      <td> 2281</td>
      <td> 3062</td>
      <td> 3947</td>
      <td> 5167</td>
      <td> 6399</td>
      <td>  8088</td>
      <td> 10155</td>
      <td> 12540</td>
      <td> 14864</td>
      <td> 16895</td>
      <td> 18951</td>
      <td> 20755</td>
      <td>NaN</td>
    </tr>
    <tr>
      <th>����������� ����������� �����</th>
      <td>NaN</td>
      <td> 3231</td>
      <td> 4300</td>
      <td> 5436</td>
      <td> 7189</td>
      <td> 8900</td>
      <td> 10902</td>
      <td> 13570</td>
      <td> 16631</td>
      <td> 18590</td>
      <td> 21931</td>
      <td> 24645</td>
      <td> 27091</td>
      <td>  1</td>
    </tr>
    <tr>
      <th>������������ �������</th>
      <td>NaN</td>
      <td> 1555</td>
      <td> 2121</td>
      <td> 2762</td>
      <td> 3357</td>
      <td> 4069</td>
      <td>  5276</td>
      <td>  7083</td>
      <td>  9399</td>
      <td> 12749</td>
      <td> 14147</td>
      <td> 16993</td>
      <td> 18800</td>
      <td> 24</td>
    </tr>
    <tr>
      <th>�������� �������</th>
      <td>NaN</td>
      <td> 1312</td>
      <td> 1818</td>
      <td> 2452</td>
      <td> 3136</td>
      <td> 3725</td>
      <td>  4788</td>
      <td>  6171</td>
      <td>  7626</td>
      <td> 10083</td>
      <td> 11484</td>
      <td> 13358</td>
      <td> 15348</td>
      <td> 52</td>
    </tr>
    <tr>
      <th>������������ �������</th>
      <td>NaN</td>
      <td> 1280</td>
      <td> 1666</td>
      <td> 2158</td>
      <td> 2837</td>
      <td> 3363</td>
      <td>  4107</td>
      <td>  5627</td>
      <td>  7015</td>
      <td>  9480</td>
      <td> 10827</td>
      <td> 12956</td>
      <td> 14312</td>
      <td> 64</td>
    </tr>
  </tbody>
</table>
</div>",
       "output_type": "pyout",
       "prompt_number": 2,
       "text": "                                1990   2000   2001   2002   2003   2004  \
���������� ���������             NaN   2281   3062   3947   5167   6399   
����������� ����������� �����    NaN   3231   4300   5436   7189   8900   
������������ �������             NaN   1555   2121   2762   3357   4069   
�������� �������                 NaN   1312   1818   2452   3136   3725   
������������ �������             NaN   1280   1666   2158   2837   3363   

                                2005   2006   2007   2008   2009   2010  \
���������� ���������            8088  10155  12540  14864  16895  18951   
����������� ����������� �����  10902  13570  16631  18590  21931  24645   
������������ �������            5276   7083   9399  12749  14147  16993   
�������� �������                4788   6171   7626  10083  11484  13358   
������������ �������            4107   5627   7015   9480  10827  12956   

                                2011  NaN    
���������� ���������           20755    NaN  
����������� ����������� �����  27091      1  
������������ �������           18800     24  
�������� �������               15348     52  
������������ �������           14312     64  "
      }
     ],
     "prompt_number": 2
    },
    {
     "cell_type": "markdown",
     "metadata": {},
     "source": "��� ����� �������� ����� ����� ��������� ��������� �������, �.�. � ��� ������������ ���� ������� ��� �������� � ���� ������� � ������� ����������. �� ��� �� ������� ������� ������ ��� ������ (�� 2 �� 13) ��������� ������ � �������� �� � ����� DataFrame."
    },
    {
     "cell_type": "code",
     "collapsed": false,
     "input": "stat = stat[stat.columns[1:13]]",
     "language": "python",
     "metadata": {},
     "outputs": [],
     "prompt_number": 3
    },
    {
     "cell_type": "markdown",
     "metadata": {},
     "source": "������ � ��� ��������� ����� ������, ��������� ��� ������. ������� ����� ���� �������� ��������, �� ����� ����� ��� ������ �� �������� ������ ������������ ������."
    },
    {
     "cell_type": "code",
     "collapsed": false,
     "input": "stat.head()",
     "language": "python",
     "metadata": {},
     "outputs": [
      {
       "html": "<div style="max-height:1000px;max-width:1500px;overflow:auto;">
<table border="1" class="dataframe">
  <thead>
    <tr style="text-align: right;">
      <th></th>
      <th>2000.0</th>
      <th>2001.0</th>
      <th>2002.0</th>
      <th>2003.0</th>
      <th>2004.0</th>
      <th>2005.0</th>
      <th>2006.0</th>
      <th>2007.0</th>
      <th>2008.0</th>
      <th>2009.0</th>
      <th>2010.0</th>
      <th>2011.0</th>
    </tr>
  </thead>
  <tbody>
    <tr>
      <th>���������� ���������</th>
      <td> 2281</td>
      <td> 3062</td>
      <td> 3947</td>
      <td> 5167</td>
      <td> 6399</td>
      <td>  8088</td>
      <td> 10155</td>
      <td> 12540</td>
      <td> 14864</td>
      <td> 16895</td>
      <td> 18951</td>
      <td> 20755</td>
    </tr>
    <tr>
      <th>����������� ����������� �����</th>
      <td> 3231</td>
      <td> 4300</td>
      <td> 5436</td>
      <td> 7189</td>
      <td> 8900</td>
      <td> 10902</td>
      <td> 13570</td>
      <td> 16631</td>
      <td> 18590</td>
      <td> 21931</td>
      <td> 24645</td>
      <td> 27091</td>
    </tr>
    <tr>
      <th>������������ �������</th>
      <td> 1555</td>
      <td> 2121</td>
      <td> 2762</td>
      <td> 3357</td>
      <td> 4069</td>
      <td>  5276</td>
      <td>  7083</td>
      <td>  9399</td>
      <td> 12749</td>
      <td> 14147</td>
      <td> 16993</td>
      <td> 18800</td>
    </tr>
    <tr>
      <th>�������� �������</th>
      <td> 1312</td>
      <td> 1818</td>
      <td> 2452</td>
      <td> 3136</td>
      <td> 3725</td>
      <td>  4788</td>
      <td>  6171</td>
      <td>  7626</td>
      <td> 10083</td>
      <td> 11484</td>
      <td> 13358</td>
      <td> 15348</td>
    </tr>
    <tr>
      <th>������������ �������</th>
      <td> 1280</td>
      <td> 1666</td>
      <td> 2158</td>
      <td> 2837</td>
      <td> 3363</td>
      <td>  4107</td>
      <td>  5627</td>
      <td>  7015</td>
      <td>  9480</td>
      <td> 10827</td>
      <td> 12956</td>
      <td> 14312</td>
    </tr>
  </tbody>
</table>
</div>",
       "output_type": "pyout",
       "prompt_number": 4,
       "text": "                               2000  2001  2002  2003  2004   2005   2006  \
���������� ���������           2281  3062  3947  5167  6399   8088  10155   
����������� ����������� �����  3231  4300  5436  7189  8900  10902  13570   
������������ �������           1555  2121  2762  3357  4069   5276   7083   
�������� �������               1312  1818  2452  3136  3725   4788   6171   
������������ �������           1280  1666  2158  2837  3363   4107   5627   

                                2007   2008   2009   2010   2011  
���������� ���������           12540  14864  16895  18951  20755  
����������� ����������� �����  16631  18590  21931  24645  27091  
������������ �������            9399  12749  14147  16993  18800  
�������� �������                7626  10083  11484  13358  15348  
������������ �������            7015   9480  10827  12956  14312  "
      }
     ],
     "prompt_number": 4
    },
    {
     "cell_type": "markdown",
     "metadata": {},
     "source": "����, ������� ��������� � ����������� ������ ������ �� ������������ ������ 2 �������. ����� �������� ������, �� ������ ������� �� �������� ������, ���������� ������� ������������ ��� ������ (���������� � �����������), � ����� ��������������� ���������� �������. ������� ��� ����� ���:"
    },
    {
     "cell_type": "code",
     "collapsed": false,
     "input": "fo = [u'����������� ����������� �����',u'����������� ����������� �����']
fostat = stat[stat.index.isin(fo)].transpose()",
     "language": "python",
     "metadata": {},
     "outputs": [],
     "prompt_number": 5
    },
    {
     "cell_type": "markdown",
     "metadata": {},
     "source": "� ����������� ���� ����, �� ������� ��������� ��� ����� ������ �� ������ ��� ������� ��� ������ ������� <a href="http://pandas.pydata.org/pandas-docs/stable/generated/pandas.Series.isin.html#pandas.Series.isin">isin()</a>, ������� ��������� �������� ������� � ������� �������� ������ (������ ��������� IN � SQL). ����� ���������� ������� <a href="http://pandas.pydata.org/pandas-docs/stable/generated/pandas.DataFrame.transpose.html?highlight=transpose#pandas.DataFrame.transpose">transpose()</a> ��� ���������������� ����������� ����� ������ � ���������� ��������� � ����� DataFrame."
    },
    {
     "cell_type": "markdown",
     "metadata": {},
     "source": "���������� ������� �������� ���:"
    },
    {
     "cell_type": "code",
     "collapsed": false,
     "input": "fostat",
     "language": "python",
     "metadata": {},
     "outputs": [
      {
       "html": "<div style="max-height:1000px;max-width:1500px;overflow:auto;">
<table border="1" class="dataframe">
  <thead>
    <tr style="text-align: right;">
      <th></th>
      <th>����������� ����������� �����</th>
      <th>����������� ����������� �����</th>
    </tr>
  </thead>
  <tbody>
    <tr>
      <th>2000</th>
      <td>  3231</td>
      <td>  1726</td>
    </tr>
    <tr>
      <th>2001</th>
      <td>  4300</td>
      <td>  2319</td>
    </tr>
    <tr>
      <th>2002</th>
      <td>  5436</td>
      <td>  3035</td>
    </tr>
    <tr>
      <th>2003</th>
      <td>  7189</td>
      <td>  3917</td>
    </tr>
    <tr>
      <th>2004</th>
      <td>  8900</td>
      <td>  4787</td>
    </tr>
    <tr>
      <th>2005</th>
      <td> 10902</td>
      <td>  6229</td>
    </tr>
    <tr>
      <th>2006</th>
      <td> 13570</td>
      <td>  8014</td>
    </tr>
    <tr>
      <th>2007</th>
      <td> 16631</td>
      <td>  9959</td>
    </tr>
    <tr>
      <th>2008</th>
      <td> 18590</td>
      <td> 12392</td>
    </tr>
    <tr>
      <th>2009</th>
      <td> 21931</td>
      <td> 13962</td>
    </tr>
    <tr>
      <th>2010</th>
      <td> 24645</td>
      <td> 15840</td>
    </tr>
    <tr>
      <th>2011</th>
      <td> 27091</td>
      <td> 17282</td>
    </tr>
  </tbody>
</table>
</div>",
       "output_type": "pyout",
       "prompt_number": 6,
       "text": "      ����������� ����������� �����  ����������� ����������� �����
2000                           3231                           1726
2001                           4300                           2319
2002                           5436                           3035
2003                           7189                           3917
2004                           8900                           4787
2005                          10902                           6229
2006                          13570                           8014
2007                          16631                           9959
2008                          18590                          12392
2009                          21931                          13962
2010                          24645                          15840
2011                          27091                          17282"
      }
     ],
     "prompt_number": 6
    },
    {
     "cell_type": "markdown",
     "metadata": {},
     "source": "��� ����� �������� �������� ������� � ������� � ��� ������ ����� ������ ���� � �������� �������. ��� �� ����� ������, ������� ������� �������� ������ �� ������ ����:"
    },
    {
     "cell_type": "code",
     "collapsed": false,
     "input": "fostat.set_index(pd.date_range('1999','2011', freq='AS'), inplace=True)",
     "language": "python",
     "metadata": {},
     "outputs": [],
     "prompt_number": 7
    },
    {
     "cell_type": "markdown",
     "metadata": {},
     "source": "������ <a href="http://pandas.pydata.org/pandas-docs/stable/generated/pandas.DataFrame.set_index.html?highlight=set_index#pandas.DataFrame.set_index">set_index()</a> ������������ ��� ������� ������ ������� � DataFrame. � ����� ������ �� ���������� 2 ���������:<ol><li>������ ����� �������� �������(����� ���� ����� ��������� �������)</li><li>�������� ��������, ��� �� �������� ������ � ������� ������, ���� �� ����� False ������ �� ����������<ol>"
    },
    {
     "cell_type": "markdown",
     "metadata": {},
     "source": "������ ������ � ��� ��������� ������ ��� ���������� �������. ���� ���� �� ��������� � IPython Notebook � ������ ������ ��������� � �������� ������� �� ��� ���������� ���������� ������� ������� <i>initialize_notebook()</i>. ��������� ��� ����� ��������� �������:"
    },
    {
     "cell_type": "code",
     "collapsed": false,
     "input": "vincent.core.initialize_notebook()",
     "language": "python",
     "metadata": {},
     "outputs": [],
     "prompt_number": "*"
    },
    {
     "cell_type": "markdown",
     "metadata": {},
     "source": "������ ��� ����� ������� ������ ��������������� ���� ��������� (������ ������ �������� ����� ������� � <a href="https://vincent.readthedocs.org/en/latest/">������������</a>). � ����� ������ ��� ����� �������� ������. ��� ����� ���������:"
    },
    {
     "cell_type": "code",
     "collapsed": false,
     "input": "line = vincent.Line(fostat) #������� ������ �������
line.axis_titles(x=u'���', y=u'���. ���') #������ �������� ����
line.legend(title=u'��� vs ���') #������� ������� � ������ �� ���������",
     "language": "python",
     "metadata": {},
     "outputs": [],
     "prompt_number": "*"
    },
    {
     "cell_type": "markdown",
     "metadata": {},
     "source": "������� ������ ����� � ������� ������� <i>display()</i>:"
    },
    {
     "cell_type": "code",
     "collapsed": false,
     "input": "line.display()",
     "language": "python",
     "metadata": {},
     "outputs": []
    },
    {
     "cell_type": "markdown",
     "metadata": {},
     "source": "� ���������� �� ������ ���������:"
    },
    {
     "cell_type": "markdown",
     "metadata": {},
     "source": "<center><img src="http://habr.habrastorage.org/post_images/acc/67c/8b6/acc67c8b6b47000deb19b257a109f9bc.png"></center>"
    },
    {
     "cell_type": "markdown",
     "metadata": {},
     "source": "<h4>���������� �����������</h4>"
    },
    {
     "cell_type": "markdown",
     "metadata": {},
     "source": "�� ��� �� � ������ ������� �� ����������. ������ ������� �������� �� ������. ��� �� ������� ��� ����������� TopoJSON ���� � ������ ��, � ����� ���������� ��������. �������� � ��� ��� �� �������� � ��� ��� ����� ����� �������� <a href="http://habrahabr.ru/post/181766/">�����</a>. ��� ������ ������� �������� ���������� �������� � ������� <i>read_csv</i>, ��������� � ����� �� <a href="http://habrahabr.ru/post/196980/">����������</a> ������:"
    },
    {
     "cell_type": "code",
     "collapsed": false,
     "input": "spr = pd.read_csv('Data/russia-region-names.tsv','\t', index_col=0, header=None, names = ['name','code'], encoding='utf-8')",
     "language": "python",
     "metadata": {},
     "outputs": [],
     "prompt_number": 11
    },
    {
     "cell_type": "markdown",
     "metadata": {},
     "source": "��� ����� �������� ��� ��������� ��������� �������������� ����������:<ul><li><i>index_col</i> - ������ ����� ������� ������� ����� ������������� � �������� �������</li><li><i>header</i> - � ����� ������ ��������, ��� ��� ����������� ���������� �� �� ���������� ������ �� �����</li><li><i>names</i> - �������� ������, �������� �������� ����� ���������� ��������</li><li><i>encoding</i> - ������ ��������� � ������ �������� ����</li></ul>"
    },
    {
     "cell_type": "markdown",
     "metadata": {},
     "source": "���� �� ��������� �����������, �� ��� ����� ������ <i>stat</i>, �� ����� �������, ��� ��� ��������� �������� �������� ������ ��� '1)' � '2)', ������� ��� �������� � ������� read_html() ���������������� � ������� ������� � ���������� � ����� ��������������� ����� � �������� �������. ����� ���� ����� ������� ������� � ����� ������ ������ ����� '�. ', � � ����������� �� ���. ��� ��� ������ ������ �� ��, ��� ����� �� ����� ���������� ����� �� ����. ������� � ����������, ����� ��������� ���� � ��������, � ��� ����� ������� ��� ����."
    },
    {
     "cell_type": "markdown",
     "metadata": {},
     "source": "��������� ��� ����� ��������� �������:"
    },
    {
     "cell_type": "code",
     "collapsed": false,
     "input": "new_index = stat.index.to_series()
new_index = new_index.str.replace(u'(2\))|(1\))|(�. )','')",
     "language": "python",
     "metadata": {},
     "outputs": [],
     "prompt_number": "*"
    },
    {
     "cell_type": "markdown",
     "metadata": {},
     "source": "������ ������ ��������, ��� �� �������� ��������� ������� � ��������� ����� �����. �� ����� ������ �� �������� �������� ��������������� ����������� ��������� �� ������."
    },
    {
     "cell_type": "markdown",
     "metadata": {},
     "source": "������ ��� ���� �������� ������� �������� ���������� �� ������ ������. ��� ������������ ����, ������� ��� ����� ���:"
    },
    {
     "cell_type": "code",
     "collapsed": false,
     "input": "stat.set_index(new_index, inplace=True)",
     "language": "python",
     "metadata": {},
     "outputs": [],
     "prompt_number": 13
    },
    {
     "cell_type": "markdown",
     "metadata": {},
     "source": "������ �� ����� ���������� ��� ����� ������ �� ������������, ����� �������� ���� ��������"
    },
    {
     "cell_type": "code",
     "collapsed": false,
     "input": "RegionProfit = stat.join(spr, how='inner')",
     "language": "python",
     "metadata": {},
     "outputs": [],
     "prompt_number": 14
    },
    {
     "cell_type": "markdown",
     "metadata": {},
     "source": "���� ������ ����� ���� ����������� �������� ���:"
    },
    {
     "cell_type": "code",
     "collapsed": false,
     "input": "RegionProfit.head()",
     "language": "python",
     "metadata": {},
     "outputs": [
      {
       "html": "<div style="max-height:1000px;max-width:1500px;overflow:auto;">
<table border="1" class="dataframe">
  <thead>
    <tr style="text-align: right;">
      <th></th>
      <th>2000.0</th>
      <th>2001.0</th>
      <th>2002.0</th>
      <th>2003.0</th>
      <th>2004.0</th>
      <th>2005.0</th>
      <th>2006.0</th>
      <th>2007.0</th>
      <th>2008.0</th>
      <th>2009.0</th>
      <th>2010.0</th>
      <th>2011.0</th>
      <th>code</th>
    </tr>
  </thead>
  <tbody>
    <tr>
      <th>������������ �������</th>
      <td> 1555</td>
      <td> 2121</td>
      <td> 2762</td>
      <td> 3357</td>
      <td> 4069</td>
      <td> 5276</td>
      <td> 7083</td>
      <td> 9399</td>
      <td> 12749</td>
      <td> 14147</td>
      <td> 16993</td>
      <td> 18800</td>
      <td> RU-BEL</td>
    </tr>
    <tr>
      <th>�������� �������</th>
      <td> 1312</td>
      <td> 1818</td>
      <td> 2452</td>
      <td> 3136</td>
      <td> 3725</td>
      <td> 4788</td>
      <td> 6171</td>
      <td> 7626</td>
      <td> 10083</td>
      <td> 11484</td>
      <td> 13358</td>
      <td> 15348</td>
      <td> RU-BRY</td>
    </tr>
    <tr>
      <th>������������ �������</th>
      <td> 1280</td>
      <td> 1666</td>
      <td> 2158</td>
      <td> 2837</td>
      <td> 3363</td>
      <td> 4107</td>
      <td> 5627</td>
      <td> 7015</td>
      <td>  9480</td>
      <td> 10827</td>
      <td> 12956</td>
      <td> 14312</td>
      <td> RU-VLA</td>
    </tr>
    <tr>
      <th>����������� �������</th>
      <td> 1486</td>
      <td> 2040</td>
      <td> 2597</td>
      <td> 3381</td>
      <td> 4104</td>
      <td> 5398</td>
      <td> 6862</td>
      <td> 8307</td>
      <td> 10587</td>
      <td> 11999</td>
      <td> 13883</td>
      <td> 15871</td>
      <td> RU-VOR</td>
    </tr>
    <tr>
      <th>���������� �������</th>
      <td> 1038</td>
      <td> 1298</td>
      <td> 1778</td>
      <td> 2292</td>
      <td> 2855</td>
      <td> 3480</td>
      <td> 4457</td>
      <td> 5684</td>
      <td>  8343</td>
      <td>  9351</td>
      <td> 11124</td>
      <td> 13006</td>
      <td> RU-IVA</td>
    </tr>
  </tbody>
</table>
</div>",
       "output_type": "pyout",
       "prompt_number": 15,
       "text": "                      2000.0  2001.0  2002.0  2003.0  2004.0  2005.0  2006.0  \
������������ �������    1555    2121    2762    3357    4069    5276    7083   
�������� �������        1312    1818    2452    3136    3725    4788    6171   
������������ �������    1280    1666    2158    2837    3363    4107    5627   
����������� �������     1486    2040    2597    3381    4104    5398    6862   
���������� �������      1038    1298    1778    2292    2855    3480    4457   

                      2007.0  2008.0  2009.0  2010.0  2011.0    code  
������������ �������    9399   12749   14147   16993   18800  RU-BEL  
�������� �������        7626   10083   11484   13358   15348  RU-BRY  
������������ �������    7015    9480   10827   12956   14312  RU-VLA  
����������� �������     8307   10587   11999   13883   15871  RU-VOR  
���������� �������      5684    8343    9351   11124   13006  RU-IVA  "
      }
     ],
     "prompt_number": 15
    },
    {
     "cell_type": "markdown",
     "metadata": {},
     "source": "���� �������� � ����������������� ���������� ����� � ��������� �� ��� ������. ��� ������ ��� ����� ������� ������� � �������� ����� �����:"
    },
    {
     "cell_type": "code",
     "collapsed": false,
     "input": "geo_data = [{'name': 'rus', #��� �����
             'url': 'RusMap/russia.json', #���� �� TopoJSON ����� � ������
             'feature': 'russia'}] #��� ������� �� ����� �����",
     "language": "python",
     "metadata": {},
     "outputs": [],
     "prompt_number": 16
    },
    {
     "cell_type": "markdown",
     "metadata": {},
     "source": "������ ������� �������� ������ ����� ����� � �������� � ���� ���� ������. ������� ��� ����� �������� Map():"
    },
    {
     "cell_type": "code",
     "collapsed": false,
     "input": "vis = vincent.Map(data=RegionProfit, geo_data=geo_data,scale=700, projection='conicEqualArea', rotate = [-105,0], center = [-10, 65],
          data_bind=2011, data_key='code',
          map_key={'rus': 'properties.region'})",
     "language": "python",
     "metadata": {},
     "outputs": [],
     "prompt_number": 17
    },
    {
     "cell_type": "markdown",
     "metadata": {},
     "source": "� �������� ���������� ������� ��������� ��������� ���������:<ul><li><i>data</i> - ����� � �������</li><li><i>geo_data</i> - ������ � ����� ������</li><li><i>projection</i>,- �������� � ������� ���� ����� ����� �����������</li><li><i>rotate, center, scale</i> - <a href='http://habrahabr.ru/post/181766#prj_param'>��������� ��������</a></li><li><i>data_bind</i> - ������� � �������, ������� ����� �����������</li><li><i>data_key</i> - ���� � ����� �� �������� ����� ������������� ������ ����� � ������</li><li><i>map_key</i> - ������� ��� <i><b>{'��� ������� � ������':'��� �������� �� �������� �������������� ��������'}</b></i></li><ul>
"
    },
    {
     "cell_type": "markdown",
     "metadata": {},
     "source": "�� ��� ��� ������� �������������: � ��������� ������ vincent, �������� <b>rotate</b> ����� ���� ������ �������������. ��� ���������� ����������� ����� �����, ����� �����������, ����� ������ �������� ���� ��������� �������� � ���� ������. ����� ��� ��������� ���� � ���� <i>%PYTHON_PATH%\lib\site-packages\vincent\transforms.py</i> ������� ����� ���� ���������� �� �������� ���� ����������:
<code>
    @grammar(int)
    def rotate(value):
        """The rotation of the projection"""
        if value < 0:
            raise ValueError('The rotation cannot be negative.')
</code>
�� :
<code>
    @grammar(list)
    def rotate(value):
		if len(value) != 2:
			raise ValueError('len(center) must = 2')
</code>	"
    },
    {
     "cell_type": "markdown",
     "metadata": {},
     "source": "������ ��� ������ ��������� ��������. �������� ������������ ��� ������. ��� ������ ������� ������� ���� ������� ����� ����� ��������� ����� ���������. ��� ����� � ��� ���������� ����� (marks), ������� �������� ��������� ������������ ���������. ��������� ��� ��� �������� � ������������ � <a href="https://github.com/trifacta/vega/wiki/Marks">Vega</a>. � ����� ������ ��� �������� ���:"
    },
    {
     "cell_type": "code",
     "collapsed": false,
     "input": "vis.marks[0].properties.enter.stroke_opacity = vincent.ValueRef(value=0.5)",
     "language": "python",
     "metadata": {},
     "outputs": [],
     "prompt_number": 18
    },
    {
     "cell_type": "markdown",
     "metadata": {},
     "source": "������ ������� ������� ����� ���� �������� � ����������� �� ������ ������������ � ������ �����. ������� ��� ����� � ������� �������� <a href="https://github.com/trifacta/vega/wiki/Scales">Scales</a>,  �������������� ��� �������� �������� ������ (��������, ���������, ��� � ��) � �������� ��� ����������� (��������, �����, �������)"
    },
    {
     "cell_type": "code",
     "collapsed": false,
     "input": "vis.scales['color'].type = 'threshold' #������ ��� �����
vis.scales['color'].domain = [10000, 15000, 20000, 25000, 30000] #������ ����� �������� ������ ��� �����������
vis.legend(title=u'������ ���.') #������ ������� �����",
     "language": "python",
     "metadata": {},
     "outputs": [],
     "prompt_number": 19
    },
    {
     "cell_type": "markdown",
     "metadata": {},
     "source": "�� ��� �� ����� ���������, ������ �� ����� ���������� ��� � ��� ����������. ��� ����������� ���� ��� ����� ����� ������������ ������� <i>display()</i>, �� � ���� �� ����������� �������� ��� �� ���������, ������� � ������� �������� �� � �������� json ���� � ������� ������� <i>to_json()</i>:"
    },
    {
     "cell_type": "code",
     "collapsed": false,
     "input": "vis.to_json('example_map.json', html_out=True, html_path='example_map.html')",
     "language": "python",
     "metadata": {},
     "outputs": [],
     "prompt_number": 20
    },
    {
     "cell_type": "markdown",
     "metadata": {},
     "source": "� �������� ���������� �� ���������� 3 ���������: <ol><li>��� ��������� �����</li><li>html_out ��������� ��� ���������� ������� ��� � html ���� ��������</li><li>html_path - ������ ���� �� html �����</li></ol>"
    },
    {
     "cell_type": "markdown",
     "metadata": {},
     "source": "����� ���������� ��� html ���� <a href="https://github.com/wrobstory/vincent/tree/master/examples">�����</a> ������� HTTP ������ �������� � Python. ��� ��� ������� � ��������� ������ ���� ��������� �������: "
    },
    {
     "cell_type": "markdown",
     "metadata": {},
     "source": "<code>python -m SimpleHTTPServer 8000</code>"
    },
    {
     "cell_type": "markdown",
     "metadata": {},
     "source": "� ����� ���� ����� ����� ��������� ���:"
    },
    {
     "cell_type": "markdown",
     "metadata": {},
     "source": "<center><img src="http://habr.habrastorage.org/post_images/e06/c9b/b5c/e06c9bb5ce567c6a105214913168985f.png"/></center>"
    },
    {
     "cell_type": "markdown",
     "metadata": {},
     "source": "<h4>����������</h4>"
    },
    {
     "cell_type": "markdown",
     "metadata": {},
     "source": "������� � ��������� �������� ��� ���� ������ ������������ ������ ��� ������������� <b>pandas</b>. ��� �� �������� �� ��������, ��� ��������������� ������ ������������ ����� � ������ ������� �����������. �� ����������� � �� �������, ��� �� ��� ������� ������������ ��� ������� ������ �� ����� � IPython � ���������� ����������� ��������� ������ ��������, � �� json ����, ��� ����� ��� ��� vega ����� ����������� <a href="https://github.com/trifacta/vega/tree/master/bin">���������������</a>"
    }
   ],
   "metadata": {}
  }
 ]
}