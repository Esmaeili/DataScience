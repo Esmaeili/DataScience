{
 "metadata": {
  "name": ""
 },
 "nbformat": 3,
 "nbformat_minor": 0,
 "worksheets": [
  {
   "cells": [
    {
     "cell_type": "code",
     "collapsed": false,
     "input": [
      "import pandas as pd\n",
      "import vincent\n",
      "\n",
      "vincent.core.initialize_notebook()\n",
      "#\u0437\u0430\u0433\u0440\u0443\u0436\u0430\u0435\u043c \u0441\u0442\u0430\u0442\u0438\u0441\u0442\u0438\u043a\u0443 \u0440\u0435\u0433\u0438\u043e\u043d\u043e\u0432 \u0438 \u0441\u043f\u0440\u0430\u0432\u043e\u0447\u043d\u0438\u043a \u0441 \u043a\u043e\u0434\u0430\u043c\u0438 \u0440\u0435\u0433\u0438\u043e\u043d\u043e\u0432 \u0438\u0441\u043f\u043e\u043b\u044c\u0437\u0443\u0435\u043c\u044b\u043c\u0438 \u0432 \u043a\u0430\u0440\u0442\u0435\n",
      "stat = pd.read_html('Data/AVGPeopleProfit.htm', header=0, index_col=0)[0]\n",
      "fo = [u'\u041f\u0440\u0438\u0432\u043e\u043b\u0436\u0441\u043a\u0438\u0439 \u0444\u0435\u0434\u0435\u0440\u0430\u043b\u044c\u043d\u044b\u0439 \u043e\u043a\u0440\u0443\u0433',u'\u0426\u0435\u043d\u0442\u0440\u0430\u043b\u044c\u043d\u044b\u0439 \u0444\u0435\u0434\u0435\u0440\u0430\u043b\u044c\u043d\u044b\u0439 \u043e\u043a\u0440\u0443\u0433']\n",
      "spr = pd.read_csv('Data/russia-region-names.tsv','\\t', index_col=0, header=None, names = ['name','code'], encoding='utf-8')\n",
      "#\u043f\u0440\u0438\u0432\u043e\u0434\u0438\u043c \u0438\u043c\u0435\u043d\u0430 \u0440\u0438\u0433\u0435\u043e\u043d\u043e\u0432 \u0432 \u0441\u0442\u0430\u0442 \u0434\u0430\u043d\u043d\u044b\u0445 \u043a \u0441\u043f\u0440\u0430\u0432\u043e\u0447\u043d\u043e\u043c\u0443 \u0432\u0438\u0434\u0443 \u0438 \u043e\u0431\u043d\u043e\u0432\u043b\u044f\u0435\u043c \u0438\u043d\u0434\u0435\u043a\u0441\n",
      "new_index = stat.index.to_series().str.replace(u'(2\\))|(1\\))|(\u0433. )','')\n",
      "stat.set_index(new_index, inplace=True)\n",
      "#\u0434\u043e\u0431\u0430\u0432\u043b\u044f\u0435\u043c \u043a \u0441\u0442\u0430\u0442 \u0434\u0430\u043d\u043d\u044b\u043c \u043a\u043e\u0434\u044b \u0440\u0435\u0433\u0438\u043e\u043d\u043e\u0432 \u0434\u043b\u044f \u043f\u043e\u0441\u0442\u0440\u043e\u0435\u043d\u0438\u044f \u043a\u0430\u0440\u0442\u044b\n",
      "RegionProfit = stat.join(spr, how='inner')\n",
      "#\u0443\u0434\u044f\u043b\u044f\u0435\u043c \u043b\u0438\u0448\u043d\u0438\u0435 \u043d\u0435\u0438\u043d\u0444\u043e\u0440\u043c\u0430\u0438\u0432\u043d\u044b\u0435 \u0441\u0442\u043e\u043b\u0431\u0446\u044b\n",
      "RegionProfit.drop([1990], axis=1)\n",
      "#\u043f\u043e\u0434\u043a\u043b\u044e\u0447\u0430\u0435\u043c \u043a\u0430\u0440\u0442\u0443 d3\n",
      "geo_data = [{'name': 'rus',\n",
      "             'url': 'RusMap/russia.json',\n",
      "             'feature': 'russia'}]\n",
      "#\u043e\u0442\u0440\u0438\u0441\u043e\u0432\u044b\u0432\u0430\u0435\u043c \u043a\u0430\u0440\u0442\u0443 \u0441 \u043f\u0440\u0438\u0432\u044f\u0437\u043a\u043e\u0439 \u0441\u0442\u0430\u0442 \u0434\u0430\u043d\u043d\u044b\u0445 \u043f\u043e \u0440\u0435\u0433\u0438\u043e\u043d\u043c\u0430\u043c\n",
      "vis = vincent.Map(data=RegionProfit, geo_data=geo_data,scale=700, projection='conicEqualArea', rotate = [-105,0], center = [-10, 65],\n",
      "          data_bind=2011, data_key='code',\n",
      "          map_key={'rus': 'properties.region'})\n",
      "#\u0437\u0430\u0434\u0430\u0435\u043c \u043f\u043e\u043b\u0443\u043f\u0440\u043e\u0437\u0440\u0430\u0447\u043d\u044b\u0435 \u0433\u0440\u0430\u043d\u0438\u0446\u044b \u0440\u0435\u0433\u0438\u043e\u043d\u043e\u0432\n",
      "vis.marks[0].properties.enter.stroke_opacity = vincent.ValueRef(value=0.5)\n",
      "#\u0437\u0430\u0434\u0430\u0435\u043c \u0433\u0440\u0430\u0434\u0430\u0446\u0438\u044e \u043f\u043e \u0446\u0432\u0435\u0442\u0443 \u0434\u043b\u044f \u0433\u0440\u0443\u043f\u043f\u044b \u0434\u043b\u044f \u043e\u0442\u043e\u0431\u0440\u0430\u0436\u0435\u043d\u0438\u044f \u043d\u0430 \u043a\u0430\u0440\u0442\u0435\n",
      "vis.scales['color'].type = 'threshold'\n",
      "vis.scales['color'].domain = [10000, 15000, 20000, 25000, 30000]\n",
      "#\u0432\u0432\u043e\u0434\u0438\u043c \u043d\u0430\u0437\u0432\u0430\u043d\u0438\u0435 \u043b\u0435\u0433\u0435\u043d\u0434\u044b \u043a\u0430\u0440\u0442\u044b\n",
      "vis.legend(title=u'\u0414\u043e\u0445\u043e\u0434\u044b \u0440\u0443\u0431.')\n",
      "#\u0432\u044b\u0433\u0440\u0443\u0436\u0430\u0435\u043c \u0438\u0442\u043e\u0433\u043e\u0432\u0443\u044e \u043a\u0430\u0440\u0442\u0443\n",
      "vis.display()\n"
     ],
     "language": "python",
     "metadata": {},
     "outputs": [],
     "prompt_number": "*"
    },
    {
     "cell_type": "code",
     "collapsed": false,
     "input": [],
     "language": "python",
     "metadata": {},
     "outputs": [],
     "prompt_number": "*"
    },
    {
     "cell_type": "code",
     "collapsed": false,
     "input": [],
     "language": "python",
     "metadata": {},
     "outputs": [],
     "prompt_number": "*"
    },
    {
     "cell_type": "code",
     "collapsed": false,
     "input": [],
     "language": "python",
     "metadata": {},
     "outputs": []
    }
   ],
   "metadata": {}
  }
 ]
}