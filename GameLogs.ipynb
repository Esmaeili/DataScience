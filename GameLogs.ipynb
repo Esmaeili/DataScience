{
 "metadata": {
  "name": ""
 },
 "nbformat": 3,
 "nbformat_minor": 0,
 "worksheets": [
  {
   "cells": [
    {
     "cell_type": "heading",
     "level": 4,
     "metadata": {},
     "source": [
      "\u041e\u043f\u0438\u0441\u0430\u043d\u0438\u0435 \u043d\u0430\u0431\u043e\u0440\u0430 \u0434\u0430\u043d\u043d\u044b\u0445"
     ]
    },
    {
     "cell_type": "markdown",
     "metadata": {},
     "source": [
      "\u041e\u043f\u0438\u0441\u0430\u043d\u0438\u0435 \u0434\u0430\u043d\u043d\u044b\u0445 <a href='https://docs.google.com/spreadsheet/ccc?key=0Ajx8RwCDcKJndGtQU25ERmtieUxSQlkwLWhTb0lHbVE&usp=sharing#gid=0'>\u0442\u0443\u0442</a>"
     ]
    },
    {
     "cell_type": "code",
     "collapsed": false,
     "input": [
      "import cx_Oracle\n",
      "from pandas.io import sql"
     ],
     "language": "python",
     "metadata": {},
     "outputs": [],
     "prompt_number": 1
    },
    {
     "cell_type": "markdown",
     "metadata": {},
     "source": [
      "\u0424\u0443\u043d\u043a\u0446\u0438\u044f \u0434\u043b\u044f \u043e\u043f\u0440\u0435\u0434\u0435\u043b\u0435\u043d\u0438\u044f \u043a\u0430\u043a\u0438\u0435 \u043d\u0435 \u043f\u0443\u0441\u0442\u044b\u0435 \u043f\u043e\u043b\u044f \u0435\u0441\u0442\u044c \u0443 \u0441\u043e\u0431\u044b\u0442\u0438\u044f"
     ]
    },
    {
     "cell_type": "code",
     "collapsed": false,
     "input": [
      "def find_not_null_col(cat, dfr):\n",
      "    test_cat = dfr[dfr.ACT_ == cat]\n",
      "    fields_not_null = [field for field in test_cat \n",
      "                       if sum(unique(test_cat[field].notnull())) ==1 and field not in ['ID_','USER_ID_','DT_','ACT_']]\n",
      "    return fields_not_null"
     ],
     "language": "python",
     "metadata": {},
     "outputs": [],
     "prompt_number": 2
    },
    {
     "cell_type": "code",
     "collapsed": false,
     "input": [
      "db = cx_Oracle.Connection(\"RC\",\"tx8v64\",\"LMTESTNW\")"
     ],
     "language": "python",
     "metadata": {},
     "outputs": [],
     "prompt_number": 3
    },
    {
     "cell_type": "markdown",
     "metadata": {},
     "source": [
      "\u041f\u043e\u043b\u0443\u0447\u0430\u0435\u043c \u0441\u043f\u0438\u0441\u043e\u043a \u043f\u043e\u043b\u044c\u0437\u043e\u0432\u0430\u0442\u0435\u043b\u0435\u0439"
     ]
    },
    {
     "cell_type": "code",
     "collapsed": false,
     "input": [
      "users = sql.read_frame(\"SELECT DISTINCT ZTIL.USER_ID_ FROM ZX_TEMP_IGOR_LOGS ZTIL\", db)"
     ],
     "language": "python",
     "metadata": {},
     "outputs": [],
     "prompt_number": 4
    },
    {
     "cell_type": "markdown",
     "metadata": {},
     "source": [
      "\u041f\u043e\u043b\u0443\u0447\u0430\u0435\u043c \u0434\u0430\u043d\u043d\u044b\u0435 \u043f\u043e \u043f\u043e\u043b\u044c\u0437\u043e\u0432\u0430\u0442\u0435\u043b\u044e"
     ]
    },
    {
     "cell_type": "code",
     "collapsed": false,
     "input": [
      "df = sql.read_frame(\"SELECT * FROM ZX_TEMP_IGOR_LOGS ZTIL WHERE ZTIL.USER_ID_ = %s\" % users.USER_ID_[3], \n",
      "                    db, \n",
      "                    index_col='ID_')"
     ],
     "language": "python",
     "metadata": {},
     "outputs": [],
     "prompt_number": 5
    },
    {
     "cell_type": "markdown",
     "metadata": {},
     "source": [
      "\u041f\u043e\u043b\u0443\u0447\u0430\u0435\u043c \u0432\u0441\u0435 \u0434\u0435\u0439\u0441\u0442\u0432\u0438\u044f \u043f\u043e \u043f\u043e\u043b\u044c\u0437\u043e\u0432\u0430\u0442\u0435\u043b\u044e"
     ]
    },
    {
     "cell_type": "code",
     "collapsed": false,
     "input": [
      "acts_list = df.ACT_.drop_duplicates().order()"
     ],
     "language": "python",
     "metadata": {},
     "outputs": [],
     "prompt_number": 6
    },
    {
     "cell_type": "markdown",
     "metadata": {},
     "source": [
      "\u0420\u0430\u0437\u0434\u0435\u043b\u044f\u0435\u043c \u0438\u043d\u0444\u043e\u0440\u043c\u0430\u0446\u0438\u044e \u043e \u043f\u043e\u043b\u044c\u0437\u043e\u0432\u0430\u0442\u0435\u043b\u0438 \u043d\u0430 \u0441\u043e\u0431\u044b\u0442\u0438\u044f"
     ]
    },
    {
     "cell_type": "code",
     "collapsed": false,
     "input": [
      "acts_sep = {act: df[find_not_null_col(act,df)][df.ACT_ == act] for act in acts_list}"
     ],
     "language": "python",
     "metadata": {},
     "outputs": [],
     "prompt_number": 8
    },
    {
     "cell_type": "code",
     "collapsed": false,
     "input": [
      "print 'User: %s' % (users.USER_ID_[3]), \n",
      "acts_list"
     ],
     "language": "python",
     "metadata": {},
     "outputs": [
      {
       "output_type": "stream",
       "stream": "stdout",
       "text": [
        "User: 1999508"
       ]
      },
      {
       "metadata": {},
       "output_type": "pyout",
       "prompt_number": 9,
       "text": [
        "ID_\n",
        "5800              biz:buy\n",
        "6373          biz:collect\n",
        "5805               biz:up\n",
        "272675           drop:hit\n",
        "272742         gang:event\n",
        "272741          gang:fuse\n",
        "272694            gang:up\n",
        "5841             item:buy\n",
        "5882               job:do\n",
        "5798                login\n",
        "5874         pay:complete\n",
        "5870            pay:start\n",
        "6646             pvp:bomb\n",
        "5836            pvp:fight\n",
        "5827            pvp:start\n",
        "5813         quest:finish\n",
        "272670    quest:objRecipe\n",
        "6366      quest:objUnlock\n",
        "5812          quest:start\n",
        "5711                  reg\n",
        "5930             sa:start\n",
        "5756               signup\n",
        "287599         steal:auto\n",
        "5793                tutor\n",
        "272687            ui:need\n",
        "272660          ui:showme\n",
        "5865           user:equip\n",
        "5819         user:goonBuy\n",
        "5796          user:setVar\n",
        "Name: ACT_, dtype: object"
       ]
      },
      {
       "output_type": "stream",
       "stream": "stdout",
       "text": [
        "\n"
       ]
      }
     ],
     "prompt_number": 9
    },
    {
     "cell_type": "markdown",
     "metadata": {},
     "source": [
      "\u0421\u043f\u0438\u0441\u043e\u043a \u043d\u043e\u0432\u044b\u0445 \u043f\u0440\u0435\u0444\u0438\u043a\u0441\u043e\u0432 \u0434\u043b\u044f \u043f\u043e\u043b\u0435\u0439"
     ]
    },
    {
     "cell_type": "code",
     "collapsed": false,
     "input": [
      "new_prefix = acts_list.str.replace(':','_').tolist()"
     ],
     "language": "python",
     "metadata": {},
     "outputs": [],
     "prompt_number": 10
    },
    {
     "cell_type": "markdown",
     "metadata": {},
     "source": [
      "\u041f\u043e\u043b\u0443\u0447\u0438\u043c \u0441\u043f\u0438\u0441\u043e\u043a \u043f\u043e\u043b\u0435\u0439 \u0438\u0441\u0445\u043e\u0434\u043d\u043e\u0439 \u0442\u0430\u0431\u043b\u0438\u0446\u044b:"
     ]
    },
    {
     "cell_type": "code",
     "collapsed": false,
     "input": [
      "field_list = sql.read_frame(\"SELECT * FROM ZX_TEMP_IGOR_LOGS ZTIL WHERE ROWNUM = 0\", db)"
     ],
     "language": "python",
     "metadata": {},
     "outputs": [],
     "prompt_number": 11
    },
    {
     "cell_type": "markdown",
     "metadata": {},
     "source": [
      "\u0412\u044b\u0432\u0435\u0434\u0435\u043c \u043a\u043e\u043b-\u0432\u043e \u0443\u043d\u0438\u043a\u0430\u043b\u044c\u043d\u044b\u0445 \u0437\u0430\u043f\u0438\u0441\u0435\u0439 \u043f\u043e \u043a\u0430\u0436\u0434\u043e\u043c\u0443 \u043f\u043e\u043b\u044e:"
     ]
    },
    {
     "cell_type": "code",
     "collapsed": false,
     "input": [
      "count = [\"SELECT '%s', COUNT(DISTINCT %s) val FROM ZX_TEMP_IGOR_LOGS ZTIL\" % (field,field) for field in field_list]\n",
      "sql_str = \" UNION ALL \".join(count)\n",
      "count_rec_for_field = sql.read_frame(sql_str, db)"
     ],
     "language": "python",
     "metadata": {},
     "outputs": []
    },
    {
     "cell_type": "code",
     "collapsed": false,
     "input": [
      "count_rec_for_field[~count_rec_for_field[\"'ID_'\"].isin(['ID_','USER_ID_','DT_','ACT_'])]"
     ],
     "language": "python",
     "metadata": {},
     "outputs": []
    },
    {
     "cell_type": "code",
     "collapsed": false,
     "input": [
      "df"
     ],
     "language": "python",
     "metadata": {},
     "outputs": [
      {
       "html": [
        "<pre>\n",
        "&lt;class 'pandas.core.frame.DataFrame'&gt;\n",
        "Int64Index: 1077 entries, 5793 to 797561\n",
        "Data columns (total 57 columns):\n",
        "USER_ID_        1077  non-null values\n",
        "DT_             1077  non-null values\n",
        "ACT_            1077  non-null values\n",
        "PAY_AMOUNT_     3  non-null values\n",
        "A               0  non-null values\n",
        "ABG             0  non-null values\n",
        "AMOUNT          7  non-null values\n",
        "BIZ             53  non-null values\n",
        "BOO             0  non-null values\n",
        "BBYY            13  non-null values\n",
        "C               265  non-null values\n",
        "CID             22  non-null values\n",
        "CITY            53  non-null values\n",
        "CITYCOMPLETE    6  non-null values\n",
        "CSID            35  non-null values\n",
        "EMAIL           1  non-null values\n",
        "F               1  non-null values\n",
        "FINISHED        85  non-null values\n",
        "G               7  non-null values\n",
        "ID              35  non-null values\n",
        "IP              79  non-null values\n",
        "ITEM            13  non-null values\n",
        "ITEM_ID         7  non-null values\n",
        "ITEM_LEFT       0  non-null values\n",
        "ITEMS           1  non-null values\n",
        "JOB             406  non-null values\n",
        "L               0  non-null values\n",
        "LIMIT           0  non-null values\n",
        "N               48  non-null values\n",
        "NO_R            13  non-null values\n",
        "O               4  non-null values\n",
        "OBJ             4  non-null values\n",
        "PASSWORD        0  non-null values\n",
        "QID             26  non-null values\n",
        "QTY             32  non-null values\n",
        "V               1  non-null values\n",
        "QUESTS          59  non-null values\n",
        "R               0  non-null values\n",
        "RES             21  non-null values\n",
        "RETARGET        0  non-null values\n",
        "REWARD          0  non-null values\n",
        "RIVAL           32  non-null values\n",
        "S               5  non-null values\n",
        "S2S_SUBID       0  non-null values\n",
        "S2S_TRACKING    0  non-null values\n",
        "SA_ID           4  non-null values\n",
        "SRC             0  non-null values\n",
        "STAGE           24  non-null values\n",
        "STEAL_DT        13  non-null values\n",
        "STEP            406  non-null values\n",
        "T               265  non-null values\n",
        "TUTOR           42  non-null values\n",
        "UA              1  non-null values\n",
        "USERNAME        2  non-null values\n",
        "UTM_CONTENT     0  non-null values\n",
        "VALUE           0  non-null values\n",
        "VARS            47  non-null values\n",
        "dtypes: datetime64[ns](1), float64(9), int64(1), object(46)\n",
        "</pre>"
       ],
       "metadata": {},
       "output_type": "pyout",
       "prompt_number": 14,
       "text": [
        "<class 'pandas.core.frame.DataFrame'>\n",
        "Int64Index: 1077 entries, 5793 to 797561\n",
        "Data columns (total 57 columns):\n",
        "USER_ID_        1077  non-null values\n",
        "DT_             1077  non-null values\n",
        "ACT_            1077  non-null values\n",
        "PAY_AMOUNT_     3  non-null values\n",
        "A               0  non-null values\n",
        "ABG             0  non-null values\n",
        "AMOUNT          7  non-null values\n",
        "BIZ             53  non-null values\n",
        "BOO             0  non-null values\n",
        "BBYY            13  non-null values\n",
        "C               265  non-null values\n",
        "CID             22  non-null values\n",
        "CITY            53  non-null values\n",
        "CITYCOMPLETE    6  non-null values\n",
        "CSID            35  non-null values\n",
        "EMAIL           1  non-null values\n",
        "F               1  non-null values\n",
        "FINISHED        85  non-null values\n",
        "G               7  non-null values\n",
        "ID              35  non-null values\n",
        "IP              79  non-null values\n",
        "ITEM            13  non-null values\n",
        "ITEM_ID         7  non-null values\n",
        "ITEM_LEFT       0  non-null values\n",
        "ITEMS           1  non-null values\n",
        "JOB             406  non-null values\n",
        "L               0  non-null values\n",
        "LIMIT           0  non-null values\n",
        "N               48  non-null values\n",
        "NO_R            13  non-null values\n",
        "O               4  non-null values\n",
        "OBJ             4  non-null values\n",
        "PASSWORD        0  non-null values\n",
        "QID             26  non-null values\n",
        "QTY             32  non-null values\n",
        "V               1  non-null values\n",
        "QUESTS          59  non-null values\n",
        "R               0  non-null values\n",
        "RES             21  non-null values\n",
        "RETARGET        0  non-null values\n",
        "REWARD          0  non-null values\n",
        "RIVAL           32  non-null values\n",
        "S               5  non-null values\n",
        "S2S_SUBID       0  non-null values\n",
        "S2S_TRACKING    0  non-null values\n",
        "SA_ID           4  non-null values\n",
        "SRC             0  non-null values\n",
        "STAGE           24  non-null values\n",
        "STEAL_DT        13  non-null values\n",
        "STEP            406  non-null values\n",
        "T               265  non-null values\n",
        "TUTOR           42  non-null values\n",
        "UA              1  non-null values\n",
        "USERNAME        2  non-null values\n",
        "UTM_CONTENT     0  non-null values\n",
        "VALUE           0  non-null values\n",
        "VARS            47  non-null values\n",
        "dtypes: datetime64[ns](1), float64(9), int64(1), object(46)"
       ]
      }
     ],
     "prompt_number": 14
    },
    {
     "cell_type": "markdown",
     "metadata": {},
     "source": [
      "\u0427\u0438\u0441\u0442\u0438\u043c \u0434\u0430\u043d\u043d\u044b\u0435 \u043e\u0442 \u043d\u0435\u043d\u0443\u0436\u043d\u044b\u0445 \u0441\u043e\u0431\u044b\u0442\u0438\u0439"
     ]
    },
    {
     "cell_type": "code",
     "collapsed": false,
     "input": [
      "dataset = db.cursor()\n",
      "del_act = ('rating:inc',\n",
      "            'rating:view',\n",
      "            'email:confirm_click',\n",
      "            'email:confirm_sent',\n",
      "            'email:mg:bounce',\n",
      "            'email:mg:delivered',\n",
      "            'email:mg:drop',\n",
      "            'user:restorePasswd',\n",
      "            'cityJob:do',\n",
      "            'drop:miss',\n",
      "            'ui:bank')\n",
      "dataset.execute(\"DELETE FROM ZX_TEMP_IGOR_LOGS ZTIL WHERE ZTIL.ACT_ IN %s\" % str(del_act))\n",
      "db.commit()"
     ],
     "language": "python",
     "metadata": {},
     "outputs": []
    },
    {
     "cell_type": "code",
     "collapsed": false,
     "input": [],
     "language": "python",
     "metadata": {},
     "outputs": []
    }
   ],
   "metadata": {}
  }
 ]
}