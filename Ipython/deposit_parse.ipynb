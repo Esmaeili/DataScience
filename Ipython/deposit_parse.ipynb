{
 "metadata": {
  "name": ""
 },
 "nbformat": 3,
 "nbformat_minor": 0,
 "worksheets": [
  {
   "cells": [
    {
     "cell_type": "markdown",
     "metadata": {},
     "source": [
      "\u0414\u043b\u044f \u0430\u043d\u0430\u043b\u0438\u0437\u0430 \u0432\u043e\u0437\u044c\u043c\u0435\u043c \u0434\u0435\u043f\u043e\u0437\u0438\u0442\u044b \u043d\u0430 \u0433\u043e\u0434 \u0432 \u0440\u0443\u0431\u043b\u044f\u0445 \u043f\u043e \u0442\u043e\u043f 50 \u0431\u0430\u043d\u043a\u0430\u043c \u0441 \u0441\u0430\u0439\u0442\u0430 Banki.ru \u043a \u0443\u0441\u043b\u043e\u0432\u0438\u044f\u043c \u0434\u043e\u0431\u0430\u0432\u0438\u043c \u0440\u043e\u0441\u0441\u0438\u0439\u0441\u043a\u0438\u0435 \u0440\u0435\u0439\u0442\u0438\u043d\u0433\u0438 \u0441\u043e\u043e\u0442\u0432\u0435\u0442\u0441\u0442\u0432\u0443\u044e\u0449\u0435\u0433\u043e \u0431\u0430\u043d\u043a\u0430. \u041f\u043e\u0441\u043b\u043a \u043f\u0430\u0440\u0441\u0438\u043d\u0433\u0430 \u043f\u043e\u043b\u0443\u0447\u0438\u043c \u0442\u0430\u0431\u043b\u0438\u0446\u0443."
     ]
    },
    {
     "cell_type": "markdown",
     "metadata": {},
     "source": [
      "<table>\n",
      "<tr><th>\u043f\u043e\u043b\u0435</th><th>\u0417\u043d\u0430\u0447\u0435\u043d\u0438\u0435</th></tr>\n",
      "<tr><th>refill</th><td>\u0432\u043e\u0437\u043c\u043e\u0436\u043d\u043e \u043f\u043e\u043f\u043e\u043b\u043d\u0435\u043d\u0438\u0435</td></tr>\n",
      "<tr><th>payments_end</th><td>% \u0432 \u043a\u043e\u043d\u0446\u0435 \u0441\u0440\u043e\u043a\u0430</td></tr>\n",
      "<tr><th>payments_monthly</th><td>% \u0435\u0436\u0435\u043c\u0435\u0441\u044f\u0447\u043d\u043e</td></tr>\n",
      "<tr><th>payments_section</th><td>% \u0435\u0436\u0435\u043a\u0432\u0430\u0440\u0442\u0430\u043b\u044c\u043d\u043e</td></tr>\n",
      "<tr><th>capital</th><td>\u043d\u0430\u043b\u0438\u0447\u0438\u0435 \u043a\u0430\u043f\u0438\u0442\u0430\u043b\u0438\u0437\u0430\u0446\u0438\u0438</td></tr>\n",
      "<tr><th>and</th><td>\u0432\u043e\u0437\u043c\u043e\u0436\u043d\u043e \u043f\u043e\u043f\u043e\u043b\u043d\u0435\u043d\u0438\u0435 \u0438 \u0441\u043d\u044f\u0442\u0438\u0435</td></tr>\n",
      "<tr><th>dep_name</th><td>\u043d\u0430\u0437\u0432\u0430\u043d\u0438\u0435 \u0444\u0430\u0439\u043b\u0430</td></tr>\n",
      "<tr><th>min_amount</th><td>\u043c\u0438\u043d\u0438\u043c\u0430\u043b\u044c\u043d\u044b\u0439 \u0432\u0437\u043d\u043e\u0441</td></tr>\n",
      "<tr><th>profit</th><td>\u0440\u0430\u0441\u0447\u0435\u0442\u043d\u0430\u044f \u043f\u0440\u0438\u0431\u044b\u043b\u044c</td></tr>\n",
      "<tr><th>rate</th><td>\u043f\u0440\u043e\u0446\u0435\u043d\u0442\u043d\u0430\u044f \u0441\u0442\u0430\u0432\u043a\u0430</td></tr>\n",
      "<tr><th>day_term</th><td>\u0441\u0440\u043e\u043a \u0434\u0435\u043f\u043e\u0437\u0438\u0442\u0430 \u0432 \u0434\u043d\u044f\u0445</td></tr>\n",
      "<tr><th>spec_deposit</th><td>\u0434\u043e</td></tr>\n",
      "<tr><th>bank</th><td>\u0431\u0430\u043d\u043a</td></tr>\n",
      "</table>"
     ]
    },
    {
     "cell_type": "code",
     "collapsed": false,
     "input": [
      "import lxml.html as html\n",
      "import re, csv, time\n",
      "from pandas import DataFrame, read_csv"
     ],
     "language": "python",
     "metadata": {},
     "outputs": [],
     "prompt_number": 1
    },
    {
     "cell_type": "markdown",
     "metadata": {},
     "source": [
      "\u041f\u043e\u0434\u043a\u043b\u044e\u0447\u0430\u0435\u043c \u0441\u0442\u0440\u0430\u043d\u0438\u0446\u0443 \u0434\u043b\u044f \u043f\u0430\u0440\u0441\u0438\u043d\u0433\u0430"
     ]
    },
    {
     "cell_type": "code",
     "collapsed": false,
     "input": [
      "page = html.parse('http://www.banki.ru/products/deposits/search/Moskva/?PAGEN_1=1&filter=0&sort_param=undefined&sort_order=undefined&PAGESIZE=25&sum=100+000&currency=45&period=6&capitalization=2&replenishment=2&withdrawable=2&SPECIAL_DEPOSIT%5B1%5D=2&SPECIAL_DEPOSIT%5B2%5D=0&SPECIAL_DEPOSIT%5B7%5D=2&SPECIAL_DEPOSIT%5B4%5D=2&SPECIAL_DEPOSIT%5B5%5D=0&SPECIAL_DEPOSIT%5B6%5D=2&SPECIAL_DEPOSIT%5B3%5D=2&SPECIAL_DEPOSIT%5B10%5D=0&SPECIAL_DEPOSIT%5B8%5D=2&bankShow=all&bankTop=50&match=%2Fproducts%2Fdeposits%2Fsearch%2FMoskva%2F%3Ffilter%3D0&regionInfo=Moskva#nav_start')"
     ],
     "language": "python",
     "metadata": {},
     "outputs": [],
     "prompt_number": 238
    },
    {
     "cell_type": "markdown",
     "metadata": {},
     "source": [
      "\u041d\u0430\u0445\u043e\u0434\u0438\u043c \u0442\u0430\u0431\u043b\u0438\u0446\u0443 \u0440\u0435\u0437\u0443\u043b\u044c\u0442\u0430\u0442\u043e\u0432 \u043d\u0430 \u0441\u0442\u0440\u0430\u043d\u0438\u0446\u0435:"
     ]
    },
    {
     "cell_type": "code",
     "collapsed": false,
     "input": [
      "main = page.getroot()\n",
      "div_table = main.find_class('b-deposits').pop()\n",
      "table = div_table.find_class('t-page').pop()"
     ],
     "language": "python",
     "metadata": {},
     "outputs": [],
     "prompt_number": 153
    },
    {
     "cell_type": "markdown",
     "metadata": {},
     "source": [
      "\u041f\u043e\u043b\u0443\u0447\u0430\u0435\u043c \u0432\u0441\u0435 \u0437\u0430\u043f\u0438\u0441\u0438:"
     ]
    },
    {
     "cell_type": "code",
     "collapsed": false,
     "input": [
      "rows = [row for row in table.getchildren()]"
     ],
     "language": "python",
     "metadata": {},
     "outputs": [],
     "prompt_number": 170
    },
    {
     "cell_type": "markdown",
     "metadata": {},
     "source": [
      "\u0421\u043e\u0434\u0430\u0435\u043c \u0444\u0443\u043d\u043a\u0446\u0438\u044e \u0434\u043b\u044f \u0443\u0434\u043e\u0431\u0441\u0442\u0432\u0430:"
     ]
    },
    {
     "cell_type": "code",
     "collapsed": false,
     "input": [
      "def load_url(URL):\n",
      "    page = html.parse(URL)\n",
      "    main = page.getroot()\n",
      "    div_table = main.find_class('b-deposits').pop()\n",
      "    table = div_table.find_class('t-page').pop()\n",
      "    rows = [row for row in table.getchildren()]\n",
      "    return rows"
     ],
     "language": "python",
     "metadata": {},
     "outputs": [],
     "prompt_number": 411
    },
    {
     "cell_type": "markdown",
     "metadata": {},
     "source": [
      "\u0424\u0443\u043d\u043a\u0446\u0438\u044f \u0434\u043b\u044f \u043f\u0430\u0440\u0441\u0438\u043d\u0433\u0430 \u0440\u0435\u0439\u0442\u0438\u043d\u0433\u043e\u0432 \u0430\u0433\u0435\u043d\u0441\u0442\u0432 \u0443 \u0431\u0430\u043d\u043a\u0430"
     ]
    },
    {
     "cell_type": "code",
     "collapsed": false,
     "input": [
      "def get_bank_rating(url):\n",
      "    bank = html.parse(url)\n",
      "    rating_table = bank.getroot().body\\\n",
      "                    .find_class('wrapper wrapper--background-white wrapper--border-grey').pop()\\\n",
      "                    .find_class('l-c-column').pop()\\\n",
      "                    .find_class('widget-gray-panel').pop()\\\n",
      "                    .find_class('b-kb-creditRating').pop()\\\n",
      "                    .find_class('b-kb-2col__right').pop()\\\n",
      "                    .get_element_by_id('creditRatingsTables')\\\n",
      "                    .find_class('b-kb-cRatings__table').pop(0)\n",
      "    rec = {}\n",
      "    for row in rating_table:\n",
      "        agency = row.find_class('b-kb-cRatings__agency-link').pop().text.strip()\n",
      "        rating = row.find_class('b-kb-cRatings__value').pop().text.strip()\n",
      "        rec[agency] = rating\n",
      "    return rec"
     ],
     "language": "python",
     "metadata": {},
     "outputs": [],
     "prompt_number": 362
    },
    {
     "cell_type": "markdown",
     "metadata": {},
     "source": [
      "\u041f\u0430\u0440\u0441\u0438\u043d\u0433 \u0441\u0442\u0440\u043e\u043a \u0441 \u0434\u0435\u043f\u043e\u0437\u0438\u0442\u0430\u043c\u0438:"
     ]
    },
    {
     "cell_type": "code",
     "collapsed": false,
     "input": [
      "def parse_record(record):\n",
      "    res = {}\n",
      "    for field in record.getchildren():   \n",
      "        if field.tag == 'td':\n",
      "            if field.attrib['class'] == 't-page__sorted':\n",
      "                a =  field.find_class('b-deposits-item').pop()\n",
      "                info = [k.text_content().strip() for k in a.getchildren()]\n",
      "                res['dep_name'] = info[0]\n",
      "                res['bank'] = info[1]\n",
      "                href = field.find_class('b-deposits-item__bank').pop()\\\n",
      "                        .getchildren().pop()\\\n",
      "                        .attrib['href']\n",
      "                url = 'http://www.banki.ru%s' % (href)\n",
      "                #print url\n",
      "                res.update(get_bank_rating(url))\n",
      "            elif field.attrib['class'] == 't-page__options':\n",
      "                spec_deposit = field.find_class('b-deposit-about_special').pop().text_content()\n",
      "                res['spec_deposit'] = int(spec_deposit.strip() <> '')\n",
      "                option = field.find_class('b-deposit-about').pop()\n",
      "                for opt in option:                    \n",
      "                    res[opt.attrib['class'][41:]] = 1 \n",
      "            elif field.attrib['class'] == 't-page__rate':\n",
      "                res['rate'] = float(field.text.replace(',','.').replace('%',''))\n",
      "            elif field.attrib['class'].strip() == 't-page__amount':\n",
      "                res['min_amount'] =  int(re.sub('\\D*', '', field.text))\n",
      "            elif field.attrib['class'] == 't-page__term':\n",
      "                div_term = field.getchildren().pop()\n",
      "                res['day_term'] = int(re.sub('\\D*', '',div_term.attrib['title']))\n",
      "            elif field.attrib['class'] == 't-page__profit':\n",
      "                res['profit'] = int(re.sub('\\D*', '', field.text_content().strip()))\n",
      "    return res"
     ],
     "language": "python",
     "metadata": {},
     "outputs": [],
     "prompt_number": 455
    },
    {
     "cell_type": "markdown",
     "metadata": {},
     "source": [
      "\u0422\u0435\u0441\u0442\u043e\u0432\u044b\u0439 \u0432\u044b\u0432\u043e\u0434"
     ]
    },
    {
     "cell_type": "code",
     "collapsed": false,
     "input": [
      "for i in res.iteritems():\n",
      "    print i[0],i[1]"
     ],
     "language": "python",
     "metadata": {},
     "outputs": [
      {
       "output_type": "stream",
       "stream": "stdout",
       "text": [
        "payments_end 1\n",
        "Fitch Ratings AA-(rus)\n",
        "\u042d\u043a\u0441\u043f\u0435\u0440\u0442 \u0420\u0410 A++\n",
        "min_amount 1000\n",
        "S&P ruAA-\n",
        "day_term 380\n",
        "spec_deposit 0\n",
        "\u0420\u0443\u0441-\u0420\u0435\u0439\u0442\u0438\u043d\u0433 AA+\n",
        "bank \u041c\u043e\u0441\u043a\u043e\u0432\u0441\u043a\u0438\u0439 \u041a\u0440\u0435\u0434\u0438\u0442\u043d\u044b\u0439 \u0411\u0430\u043d\u043a\n",
        "dep_name \u00ab\u0421\u0431\u0435\u0440\u0435\u0433\u0430\u0442\u0435\u043b\u044c\u043d\u044b\u0439 +\u00bb\n",
        "profit 10411\n",
        "rate 10.0\n",
        "Moody's A1.ru\n"
       ]
      }
     ],
     "prompt_number": 385
    },
    {
     "cell_type": "code",
     "collapsed": false,
     "input": [
      "URL = [\n",
      "       'http://www.banki.ru/products/deposits/search/Moskva/?PAGEN_1=1&filter=0&sort_param=undefined&sort_order=undefined&PAGESIZE=25&sum=100+000&currency=45&period=6&capitalization=2&replenishment=2&withdrawable=2&SPECIAL_DEPOSIT%5B1%5D=2&SPECIAL_DEPOSIT%5B2%5D=0&SPECIAL_DEPOSIT%5B7%5D=2&SPECIAL_DEPOSIT%5B4%5D=2&SPECIAL_DEPOSIT%5B5%5D=0&SPECIAL_DEPOSIT%5B6%5D=2&SPECIAL_DEPOSIT%5B3%5D=2&SPECIAL_DEPOSIT%5B10%5D=0&SPECIAL_DEPOSIT%5B8%5D=2&bankShow=all&bankTop=50&match=%2Fproducts%2Fdeposits%2Fsearch%2FMoskva%2F%3Ffilter%3D0&regionInfo=Moskva#nav_start',\n",
      "       'http://www.banki.ru/products/deposits/search/Moskva/?PAGEN_1=2&filter=0&sort_param=undefined&sort_order=undefined&PAGESIZE=25&sum=100+000&currency=45&period=6&capitalization=2&replenishment=2&withdrawable=2&SPECIAL_DEPOSIT%5B1%5D=2&SPECIAL_DEPOSIT%5B2%5D=0&SPECIAL_DEPOSIT%5B7%5D=2&SPECIAL_DEPOSIT%5B4%5D=2&SPECIAL_DEPOSIT%5B5%5D=0&SPECIAL_DEPOSIT%5B6%5D=2&SPECIAL_DEPOSIT%5B3%5D=2&SPECIAL_DEPOSIT%5B10%5D=0&SPECIAL_DEPOSIT%5B8%5D=2&bankShow=all&bankTop=50&match=%2Fproducts%2Fdeposits%2Fsearch%2FMoskva%2F%3Ffilter%3D0&regionInfo=Moskva#nav_start',\n",
      "       'http://www.banki.ru/products/deposits/search/Moskva/?PAGEN_1=3&filter=0&sort_param=undefined&sort_order=undefined&PAGESIZE=25&sum=100+000&currency=45&period=6&capitalization=2&replenishment=2&withdrawable=2&SPECIAL_DEPOSIT%5B1%5D=2&SPECIAL_DEPOSIT%5B2%5D=0&SPECIAL_DEPOSIT%5B7%5D=2&SPECIAL_DEPOSIT%5B4%5D=2&SPECIAL_DEPOSIT%5B5%5D=0&SPECIAL_DEPOSIT%5B6%5D=2&SPECIAL_DEPOSIT%5B3%5D=2&SPECIAL_DEPOSIT%5B10%5D=0&SPECIAL_DEPOSIT%5B8%5D=2&bankShow=all&bankTop=50&match=%2Fproducts%2Fdeposits%2Fsearch%2FMoskva%2F%3Ffilter%3D0&regionInfo=Moskva#nav_start',\n",
      "       'http://www.banki.ru/products/deposits/search/Moskva/?PAGEN_1=4&filter=0&sort_param=undefined&sort_order=undefined&PAGESIZE=25&sum=100+000&currency=45&period=6&capitalization=2&replenishment=2&withdrawable=2&SPECIAL_DEPOSIT%5B1%5D=2&SPECIAL_DEPOSIT%5B2%5D=0&SPECIAL_DEPOSIT%5B7%5D=2&SPECIAL_DEPOSIT%5B4%5D=2&SPECIAL_DEPOSIT%5B5%5D=0&SPECIAL_DEPOSIT%5B6%5D=2&SPECIAL_DEPOSIT%5B3%5D=2&SPECIAL_DEPOSIT%5B10%5D=0&SPECIAL_DEPOSIT%5B8%5D=2&bankShow=all&bankTop=50&match=%2Fproducts%2Fdeposits%2Fsearch%2FMoskva%2F%3Ffilter%3D0&regionInfo=Moskva#nav_start',\n",
      "       'http://www.banki.ru/products/deposits/search/Moskva/?PAGEN_1=5&filter=0&sort_param=undefined&sort_order=undefined&PAGESIZE=25&sum=100+000&currency=45&period=6&capitalization=2&replenishment=2&withdrawable=2&SPECIAL_DEPOSIT%5B1%5D=2&SPECIAL_DEPOSIT%5B2%5D=0&SPECIAL_DEPOSIT%5B7%5D=2&SPECIAL_DEPOSIT%5B4%5D=2&SPECIAL_DEPOSIT%5B5%5D=0&SPECIAL_DEPOSIT%5B6%5D=2&SPECIAL_DEPOSIT%5B3%5D=2&SPECIAL_DEPOSIT%5B10%5D=0&SPECIAL_DEPOSIT%5B8%5D=2&bankShow=all&bankTop=50&match=%2Fproducts%2Fdeposits%2Fsearch%2FMoskva%2F%3Ffilter%3D0&regionInfo=Moskva#nav_start',\n",
      "       'http://www.banki.ru/products/deposits/search/Moskva/?PAGEN_1=6&filter=0&sort_param=undefined&sort_order=undefined&PAGESIZE=25&sum=100+000&currency=45&period=6&capitalization=2&replenishment=2&withdrawable=2&SPECIAL_DEPOSIT%5B1%5D=2&SPECIAL_DEPOSIT%5B2%5D=0&SPECIAL_DEPOSIT%5B7%5D=2&SPECIAL_DEPOSIT%5B4%5D=2&SPECIAL_DEPOSIT%5B5%5D=0&SPECIAL_DEPOSIT%5B6%5D=2&SPECIAL_DEPOSIT%5B3%5D=2&SPECIAL_DEPOSIT%5B10%5D=0&SPECIAL_DEPOSIT%5B8%5D=2&bankShow=all&bankTop=50&match=%2Fproducts%2Fdeposits%2Fsearch%2FMoskva%2F%3Ffilter%3D0&regionInfo=Moskva#nav_start',\n",
      "       'http://www.banki.ru/products/deposits/search/Moskva/?PAGEN_1=7&filter=0&sort_param=undefined&sort_order=undefined&PAGESIZE=25&sum=100+000&currency=45&period=6&capitalization=2&replenishment=2&withdrawable=2&SPECIAL_DEPOSIT%5B1%5D=2&SPECIAL_DEPOSIT%5B2%5D=0&SPECIAL_DEPOSIT%5B7%5D=2&SPECIAL_DEPOSIT%5B4%5D=2&SPECIAL_DEPOSIT%5B5%5D=0&SPECIAL_DEPOSIT%5B6%5D=2&SPECIAL_DEPOSIT%5B3%5D=2&SPECIAL_DEPOSIT%5B10%5D=0&SPECIAL_DEPOSIT%5B8%5D=2&bankShow=all&bankTop=50&match=%2Fproducts%2Fdeposits%2Fsearch%2FMoskva%2F%3Ffilter%3D0&regionInfo=Moskva#nav_start',\n",
      "       'http://www.banki.ru/products/deposits/search/Moskva/?PAGEN_1=8&filter=0&sort_param=undefined&sort_order=undefined&PAGESIZE=25&sum=100+000&currency=45&period=6&capitalization=2&replenishment=2&withdrawable=2&SPECIAL_DEPOSIT%5B1%5D=2&SPECIAL_DEPOSIT%5B2%5D=0&SPECIAL_DEPOSIT%5B7%5D=2&SPECIAL_DEPOSIT%5B4%5D=2&SPECIAL_DEPOSIT%5B5%5D=0&SPECIAL_DEPOSIT%5B6%5D=2&SPECIAL_DEPOSIT%5B3%5D=2&SPECIAL_DEPOSIT%5B10%5D=0&SPECIAL_DEPOSIT%5B8%5D=2&bankShow=all&bankTop=50&match=%2Fproducts%2Fdeposits%2Fsearch%2FMoskva%2F%3Ffilter%3D0&regionInfo=Moskva#nav_start']"
     ],
     "language": "python",
     "metadata": {},
     "outputs": [],
     "prompt_number": 457
    },
    {
     "cell_type": "code",
     "collapsed": false,
     "input": [
      "itog = []\n",
      "for adr in URL:    \n",
      "    for rec in rws: itog.append(parse_record(rec))\n",
      "    time.sleep(180)\n",
      "df = DataFrame(itog)\n",
      "df.to_csv('DataSets\\parse_deposit.csv',';',index=False, encoding='utf-8')"
     ],
     "language": "python",
     "metadata": {},
     "outputs": [
      {
       "output_type": "stream",
       "stream": "stdout",
       "text": [
        "http://www.banki.ru/banks/bank/sovcombank/\n",
        "http://www.banki.ru/banks/bank/trust/"
       ]
      },
      {
       "output_type": "stream",
       "stream": "stdout",
       "text": [
        "\n",
        "http://www.banki.ru/banks/bank/vneshprombank/"
       ]
      },
      {
       "output_type": "stream",
       "stream": "stdout",
       "text": [
        "\n",
        "http://www.banki.ru/banks/bank/vneshprombank/"
       ]
      },
      {
       "output_type": "stream",
       "stream": "stdout",
       "text": [
        "\n",
        "http://www.banki.ru/banks/bank/vneshprombank/"
       ]
      },
      {
       "output_type": "stream",
       "stream": "stdout",
       "text": [
        "\n",
        "http://www.banki.ru/banks/bank/sovcombank/"
       ]
      },
      {
       "output_type": "stream",
       "stream": "stdout",
       "text": [
        "\n",
        "http://www.banki.ru/banks/bank/sovcombank/"
       ]
      },
      {
       "output_type": "stream",
       "stream": "stdout",
       "text": [
        "\n",
        "http://www.banki.ru/banks/bank/sovcombank/"
       ]
      },
      {
       "output_type": "stream",
       "stream": "stdout",
       "text": [
        "\n",
        "http://www.banki.ru/banks/bank/vneshprombank/"
       ]
      },
      {
       "output_type": "stream",
       "stream": "stdout",
       "text": [
        "\n",
        "http://www.banki.ru/banks/bank/mkb/"
       ]
      },
      {
       "output_type": "stream",
       "stream": "stdout",
       "text": [
        "\n",
        "http://www.banki.ru/banks/bank/sovcombank/"
       ]
      },
      {
       "output_type": "stream",
       "stream": "stdout",
       "text": [
        "\n",
        "http://www.banki.ru/banks/bank/sovcombank/"
       ]
      },
      {
       "output_type": "stream",
       "stream": "stdout",
       "text": [
        "\n",
        "http://www.banki.ru/banks/bank/trust/"
       ]
      },
      {
       "output_type": "stream",
       "stream": "stdout",
       "text": [
        "\n",
        "http://www.banki.ru/banks/bank/trust/"
       ]
      },
      {
       "output_type": "stream",
       "stream": "stdout",
       "text": [
        "\n",
        "http://www.banki.ru/banks/bank/vneshprombank/"
       ]
      },
      {
       "output_type": "stream",
       "stream": "stdout",
       "text": [
        "\n",
        "http://www.banki.ru/banks/bank/tatfondbank/"
       ]
      },
      {
       "output_type": "stream",
       "stream": "stdout",
       "text": [
        "\n",
        "http://www.banki.ru/banks/bank/binbank/"
       ]
      },
      {
       "output_type": "stream",
       "stream": "stdout",
       "text": [
        "\n",
        "http://www.banki.ru/banks/bank/mkb/"
       ]
      },
      {
       "output_type": "stream",
       "stream": "stdout",
       "text": [
        "\n",
        "http://www.banki.ru/banks/bank/minbank/"
       ]
      },
      {
       "output_type": "stream",
       "stream": "stdout",
       "text": [
        "\n",
        "http://www.banki.ru/banks/bank/minbank/"
       ]
      },
      {
       "output_type": "stream",
       "stream": "stdout",
       "text": [
        "\n",
        "http://www.banki.ru/banks/bank/rsb/"
       ]
      },
      {
       "output_type": "stream",
       "stream": "stdout",
       "text": [
        "\n",
        "http://www.banki.ru/banks/bank/akbars/"
       ]
      },
      {
       "output_type": "stream",
       "stream": "stdout",
       "text": [
        "\n",
        "http://www.banki.ru/banks/bank/binbank/"
       ]
      },
      {
       "output_type": "stream",
       "stream": "stdout",
       "text": [
        "\n",
        "http://www.banki.ru/banks/bank/homecreditbank/"
       ]
      },
      {
       "output_type": "stream",
       "stream": "stdout",
       "text": [
        "\n",
        "http://www.banki.ru/banks/bank/trust/"
       ]
      },
      {
       "output_type": "stream",
       "stream": "stdout",
       "text": [
        "\n",
        "http://www.banki.ru/banks/bank/otpbank/"
       ]
      },
      {
       "output_type": "stream",
       "stream": "stdout",
       "text": [
        "\n",
        "http://www.banki.ru/banks/bank/tatfondbank/"
       ]
      },
      {
       "output_type": "stream",
       "stream": "stdout",
       "text": [
        "\n",
        "http://www.banki.ru/banks/bank/binbank/"
       ]
      },
      {
       "output_type": "stream",
       "stream": "stdout",
       "text": [
        "\n",
        "http://www.banki.ru/banks/bank/sviaz-bank/"
       ]
      },
      {
       "output_type": "stream",
       "stream": "stdout",
       "text": [
        "\n",
        "http://www.banki.ru/banks/bank/novikombank/"
       ]
      },
      {
       "output_type": "stream",
       "stream": "stdout",
       "text": [
        "\n",
        "http://www.banki.ru/banks/bank/akbars/"
       ]
      },
      {
       "output_type": "stream",
       "stream": "stdout",
       "text": [
        "\n",
        "http://www.banki.ru/banks/bank/nomos-bank/"
       ]
      },
      {
       "output_type": "stream",
       "stream": "stdout",
       "text": [
        "\n",
        "http://www.banki.ru/banks/bank/binbank/"
       ]
      },
      {
       "output_type": "stream",
       "stream": "stdout",
       "text": [
        "\n",
        "http://www.banki.ru/banks/bank/petrocommerce/"
       ]
      },
      {
       "output_type": "stream",
       "stream": "stdout",
       "text": [
        "\n",
        "http://www.banki.ru/banks/bank/tatfondbank/"
       ]
      },
      {
       "output_type": "stream",
       "stream": "stdout",
       "text": [
        "\n",
        "http://www.banki.ru/banks/bank/sviaz-bank/"
       ]
      },
      {
       "output_type": "stream",
       "stream": "stdout",
       "text": [
        "\n",
        "http://www.banki.ru/banks/bank/smpbank/"
       ]
      },
      {
       "output_type": "stream",
       "stream": "stdout",
       "text": [
        "\n",
        "http://www.banki.ru/banks/bank/smpbank/"
       ]
      },
      {
       "output_type": "stream",
       "stream": "stdout",
       "text": [
        "\n",
        "http://www.banki.ru/banks/bank/mkb/"
       ]
      },
      {
       "output_type": "stream",
       "stream": "stdout",
       "text": [
        "\n",
        "http://www.banki.ru/banks/bank/rsb/"
       ]
      },
      {
       "output_type": "stream",
       "stream": "stdout",
       "text": [
        "\n",
        "http://www.banki.ru/banks/bank/rsb/"
       ]
      },
      {
       "output_type": "stream",
       "stream": "stdout",
       "text": [
        "\n",
        "http://www.banki.ru/banks/bank/sviaz-bank/"
       ]
      },
      {
       "output_type": "stream",
       "stream": "stdout",
       "text": [
        "\n",
        "http://www.banki.ru/banks/bank/otkritie/"
       ]
      },
      {
       "output_type": "stream",
       "stream": "stdout",
       "text": [
        "\n",
        "http://www.banki.ru/banks/bank/akbars/"
       ]
      },
      {
       "output_type": "stream",
       "stream": "stdout",
       "text": [
        "\n",
        "http://www.banki.ru/banks/bank/rosevrobank/"
       ]
      },
      {
       "output_type": "stream",
       "stream": "stdout",
       "text": [
        "\n",
        "http://www.banki.ru/banks/bank/otkritie/"
       ]
      },
      {
       "output_type": "stream",
       "stream": "stdout",
       "text": [
        "\n",
        "http://www.banki.ru/banks/bank/tatfondbank/"
       ]
      },
      {
       "output_type": "stream",
       "stream": "stdout",
       "text": [
        "\n",
        "http://www.banki.ru/banks/bank/uralsib/"
       ]
      },
      {
       "output_type": "stream",
       "stream": "stdout",
       "text": [
        "\n",
        "http://www.banki.ru/banks/bank/tatfondbank/"
       ]
      },
      {
       "output_type": "stream",
       "stream": "stdout",
       "text": [
        "\n",
        "http://www.banki.ru/banks/bank/v-express-bank/"
       ]
      },
      {
       "output_type": "stream",
       "stream": "stdout",
       "text": [
        "\n",
        "http://www.banki.ru/banks/bank/bank-of-moscow/"
       ]
      },
      {
       "output_type": "stream",
       "stream": "stdout",
       "text": [
        "\n",
        "http://www.banki.ru/banks/bank/rshb/"
       ]
      },
      {
       "output_type": "stream",
       "stream": "stdout",
       "text": [
        "\n",
        "http://www.banki.ru/banks/bank/smpbank/"
       ]
      },
      {
       "output_type": "stream",
       "stream": "stdout",
       "text": [
        "\n",
        "http://www.banki.ru/banks/bank/crediteuropebank/"
       ]
      },
      {
       "output_type": "stream",
       "stream": "stdout",
       "text": [
        "\n",
        "http://www.banki.ru/banks/bank/smpbank/"
       ]
      },
      {
       "output_type": "stream",
       "stream": "stdout",
       "text": [
        "\n",
        "http://www.banki.ru/banks/bank/petrocommerce/"
       ]
      },
      {
       "output_type": "stream",
       "stream": "stdout",
       "text": [
        "\n",
        "http://www.banki.ru/banks/bank/akbars/"
       ]
      },
      {
       "output_type": "stream",
       "stream": "stdout",
       "text": [
        "\n",
        "http://www.banki.ru/banks/bank/crediteuropebank/"
       ]
      },
      {
       "output_type": "stream",
       "stream": "stdout",
       "text": [
        "\n",
        "http://www.banki.ru/banks/bank/zenit/"
       ]
      },
      {
       "output_type": "stream",
       "stream": "stdout",
       "text": [
        "\n",
        "http://www.banki.ru/banks/bank/rshb/"
       ]
      },
      {
       "output_type": "stream",
       "stream": "stdout",
       "text": [
        "\n",
        "http://www.banki.ru/banks/bank/novikombank/"
       ]
      },
      {
       "output_type": "stream",
       "stream": "stdout",
       "text": [
        "\n",
        "http://www.banki.ru/banks/bank/minbank/"
       ]
      },
      {
       "output_type": "stream",
       "stream": "stdout",
       "text": [
        "\n",
        "http://www.banki.ru/banks/bank/bspb/"
       ]
      },
      {
       "output_type": "stream",
       "stream": "stdout",
       "text": [
        "\n",
        "http://www.banki.ru/banks/bank/bspb/"
       ]
      },
      {
       "output_type": "stream",
       "stream": "stdout",
       "text": [
        "\n",
        "http://www.banki.ru/banks/bank/rsb/"
       ]
      },
      {
       "output_type": "stream",
       "stream": "stdout",
       "text": [
        "\n",
        "http://www.banki.ru/banks/bank/binbank/"
       ]
      },
      {
       "output_type": "stream",
       "stream": "stdout",
       "text": [
        "\n",
        "http://www.banki.ru/banks/bank/minbank/"
       ]
      },
      {
       "output_type": "stream",
       "stream": "stdout",
       "text": [
        "\n",
        "http://www.banki.ru/banks/bank/minbank/"
       ]
      },
      {
       "output_type": "stream",
       "stream": "stdout",
       "text": [
        "\n",
        "http://www.banki.ru/banks/bank/rsb/"
       ]
      },
      {
       "output_type": "stream",
       "stream": "stdout",
       "text": [
        "\n",
        "http://www.banki.ru/banks/bank/rgsbank/"
       ]
      },
      {
       "output_type": "stream",
       "stream": "stdout",
       "text": [
        "\n",
        "http://www.banki.ru/banks/bank/otkritie/"
       ]
      },
      {
       "output_type": "stream",
       "stream": "stdout",
       "text": [
        "\n",
        "http://www.banki.ru/banks/bank/nomos-bank/"
       ]
      },
      {
       "output_type": "stream",
       "stream": "stdout",
       "text": [
        "\n",
        "http://www.banki.ru/banks/bank/bspb/"
       ]
      },
      {
       "output_type": "stream",
       "stream": "stdout",
       "text": [
        "\n",
        "http://www.banki.ru/banks/bank/rossiya/"
       ]
      },
      {
       "output_type": "stream",
       "stream": "stdout",
       "text": [
        "\n",
        "http://www.banki.ru/banks/bank/smpbank/"
       ]
      },
      {
       "output_type": "stream",
       "stream": "stdout",
       "text": [
        "\n",
        "http://www.banki.ru/banks/bank/uralsib/"
       ]
      },
      {
       "output_type": "stream",
       "stream": "stdout",
       "text": [
        "\n",
        "http://www.banki.ru/banks/bank/otkritie/"
       ]
      },
      {
       "output_type": "stream",
       "stream": "stdout",
       "text": [
        "\n",
        "http://www.banki.ru/banks/bank/rosevrobank/"
       ]
      },
      {
       "output_type": "stream",
       "stream": "stdout",
       "text": [
        "\n",
        "http://www.banki.ru/banks/bank/rshb/"
       ]
      },
      {
       "output_type": "stream",
       "stream": "stdout",
       "text": [
        "\n",
        "http://www.banki.ru/banks/bank/smpbank/"
       ]
      },
      {
       "output_type": "stream",
       "stream": "stdout",
       "text": [
        "\n",
        "http://www.banki.ru/banks/bank/rgsbank/"
       ]
      },
      {
       "output_type": "stream",
       "stream": "stdout",
       "text": [
        "\n",
        "http://www.banki.ru/banks/bank/bspb/"
       ]
      },
      {
       "output_type": "stream",
       "stream": "stdout",
       "text": [
        "\n",
        "http://www.banki.ru/banks/bank/mts-bank/"
       ]
      },
      {
       "output_type": "stream",
       "stream": "stdout",
       "text": [
        "\n",
        "http://www.banki.ru/banks/bank/novikombank/"
       ]
      },
      {
       "output_type": "stream",
       "stream": "stdout",
       "text": [
        "\n",
        "http://www.banki.ru/banks/bank/vneshprombank/"
       ]
      },
      {
       "output_type": "stream",
       "stream": "stdout",
       "text": [
        "\n",
        "http://www.banki.ru/banks/bank/otkritie/"
       ]
      },
      {
       "output_type": "stream",
       "stream": "stdout",
       "text": [
        "\n",
        "http://www.banki.ru/banks/bank/rosbank/"
       ]
      },
      {
       "output_type": "stream",
       "stream": "stdout",
       "text": [
        "\n",
        "http://www.banki.ru/banks/bank/rshb/"
       ]
      },
      {
       "output_type": "stream",
       "stream": "stdout",
       "text": [
        "\n",
        "http://www.banki.ru/banks/bank/uralsib/"
       ]
      },
      {
       "output_type": "stream",
       "stream": "stdout",
       "text": [
        "\n",
        "http://www.banki.ru/banks/bank/globexbank/"
       ]
      },
      {
       "output_type": "stream",
       "stream": "stdout",
       "text": [
        "\n",
        "http://www.banki.ru/banks/bank/rshb/"
       ]
      },
      {
       "output_type": "stream",
       "stream": "stdout",
       "text": [
        "\n",
        "http://www.banki.ru/banks/bank/uralsib/"
       ]
      },
      {
       "output_type": "stream",
       "stream": "stdout",
       "text": [
        "\n",
        "http://www.banki.ru/banks/bank/petrocommerce/"
       ]
      },
      {
       "output_type": "stream",
       "stream": "stdout",
       "text": [
        "\n",
        "http://www.banki.ru/banks/bank/promsvyazbank/"
       ]
      },
      {
       "output_type": "stream",
       "stream": "stdout",
       "text": [
        "\n",
        "http://www.banki.ru/banks/bank/trust/"
       ]
      },
      {
       "output_type": "stream",
       "stream": "stdout",
       "text": [
        "\n",
        "http://www.banki.ru/banks/bank/bspb/"
       ]
      },
      {
       "output_type": "stream",
       "stream": "stdout",
       "text": [
        "\n",
        "http://www.banki.ru/banks/bank/vtb24/"
       ]
      },
      {
       "output_type": "stream",
       "stream": "stdout",
       "text": [
        "\n",
        "http://www.banki.ru/banks/bank/rsb/"
       ]
      },
      {
       "output_type": "stream",
       "stream": "stdout",
       "text": [
        "\n",
        "http://www.banki.ru/banks/bank/transcapitalbank/"
       ]
      },
      {
       "output_type": "stream",
       "stream": "stdout",
       "text": [
        "\n",
        "http://www.banki.ru/banks/bank/bspb/"
       ]
      },
      {
       "output_type": "stream",
       "stream": "stdout",
       "text": [
        "\n",
        "http://www.banki.ru/banks/bank/alfabank/"
       ]
      },
      {
       "output_type": "stream",
       "stream": "stdout",
       "text": [
        "\n",
        "http://www.banki.ru/banks/bank/vozrozhdenie/"
       ]
      },
      {
       "output_type": "stream",
       "stream": "stdout",
       "text": [
        "\n",
        "http://www.banki.ru/banks/bank/globexbank/"
       ]
      },
      {
       "output_type": "stream",
       "stream": "stdout",
       "text": [
        "\n",
        "http://www.banki.ru/banks/bank/vozrozhdenie/"
       ]
      },
      {
       "output_type": "stream",
       "stream": "stdout",
       "text": [
        "\n",
        "http://www.banki.ru/banks/bank/mts-bank/"
       ]
      },
      {
       "output_type": "stream",
       "stream": "stdout",
       "text": [
        "\n",
        "http://www.banki.ru/banks/bank/nomos-bank/"
       ]
      },
      {
       "output_type": "stream",
       "stream": "stdout",
       "text": [
        "\n",
        "http://www.banki.ru/banks/bank/zenit/"
       ]
      },
      {
       "output_type": "stream",
       "stream": "stdout",
       "text": [
        "\n",
        "http://www.banki.ru/banks/bank/rgsbank/"
       ]
      },
      {
       "output_type": "stream",
       "stream": "stdout",
       "text": [
        "\n",
        "http://www.banki.ru/banks/bank/promsvyazbank/"
       ]
      },
      {
       "output_type": "stream",
       "stream": "stdout",
       "text": [
        "\n",
        "http://www.banki.ru/banks/bank/tatfondbank/"
       ]
      },
      {
       "output_type": "stream",
       "stream": "stdout",
       "text": [
        "\n",
        "http://www.banki.ru/banks/bank/globexbank/"
       ]
      },
      {
       "output_type": "stream",
       "stream": "stdout",
       "text": [
        "\n",
        "http://www.banki.ru/banks/bank/crediteuropebank/"
       ]
      },
      {
       "output_type": "stream",
       "stream": "stdout",
       "text": [
        "\n",
        "http://www.banki.ru/banks/bank/alfabank/"
       ]
      },
      {
       "output_type": "stream",
       "stream": "stdout",
       "text": [
        "\n",
        "http://www.banki.ru/banks/bank/alfabank/"
       ]
      },
      {
       "output_type": "stream",
       "stream": "stdout",
       "text": [
        "\n",
        "http://www.banki.ru/banks/bank/sviaz-bank/"
       ]
      },
      {
       "output_type": "stream",
       "stream": "stdout",
       "text": [
        "\n",
        "http://www.banki.ru/banks/bank/rgsbank/"
       ]
      },
      {
       "output_type": "stream",
       "stream": "stdout",
       "text": [
        "\n",
        "http://www.banki.ru/banks/bank/rossiya/"
       ]
      },
      {
       "output_type": "stream",
       "stream": "stdout",
       "text": [
        "\n",
        "http://www.banki.ru/banks/bank/vneshprombank/"
       ]
      },
      {
       "output_type": "stream",
       "stream": "stdout",
       "text": [
        "\n",
        "http://www.banki.ru/banks/bank/rosbank/"
       ]
      },
      {
       "output_type": "stream",
       "stream": "stdout",
       "text": [
        "\n",
        "http://www.banki.ru/banks/bank/zenit/"
       ]
      },
      {
       "output_type": "stream",
       "stream": "stdout",
       "text": [
        "\n",
        "http://www.banki.ru/banks/bank/zenit/"
       ]
      },
      {
       "output_type": "stream",
       "stream": "stdout",
       "text": [
        "\n",
        "http://www.banki.ru/banks/bank/minbank/"
       ]
      },
      {
       "output_type": "stream",
       "stream": "stdout",
       "text": [
        "\n",
        "http://www.banki.ru/banks/bank/minbank/"
       ]
      },
      {
       "output_type": "stream",
       "stream": "stdout",
       "text": [
        "\n",
        "http://www.banki.ru/banks/bank/nordea/"
       ]
      },
      {
       "output_type": "stream",
       "stream": "stdout",
       "text": [
        "\n",
        "http://www.banki.ru/banks/bank/petrocommerce/"
       ]
      },
      {
       "output_type": "stream",
       "stream": "stdout",
       "text": [
        "\n",
        "http://www.banki.ru/banks/bank/crediteuropebank/"
       ]
      },
      {
       "output_type": "stream",
       "stream": "stdout",
       "text": [
        "\n",
        "http://www.banki.ru/banks/bank/ubrr/"
       ]
      },
      {
       "output_type": "stream",
       "stream": "stdout",
       "text": [
        "\n",
        "http://www.banki.ru/banks/bank/minbank/"
       ]
      },
      {
       "output_type": "stream",
       "stream": "stdout",
       "text": [
        "\n",
        "http://www.banki.ru/banks/bank/mts-bank/"
       ]
      },
      {
       "output_type": "stream",
       "stream": "stdout",
       "text": [
        "\n",
        "http://www.banki.ru/banks/bank/zenit/"
       ]
      },
      {
       "output_type": "stream",
       "stream": "stdout",
       "text": [
        "\n",
        "http://www.banki.ru/banks/bank/unicreditbank/"
       ]
      },
      {
       "output_type": "stream",
       "stream": "stdout",
       "text": [
        "\n",
        "http://www.banki.ru/banks/bank/unicreditbank/"
       ]
      },
      {
       "output_type": "stream",
       "stream": "stdout",
       "text": [
        "\n",
        "http://www.banki.ru/banks/bank/mts-bank/"
       ]
      },
      {
       "output_type": "stream",
       "stream": "stdout",
       "text": [
        "\n",
        "http://www.banki.ru/banks/bank/nordea/"
       ]
      },
      {
       "output_type": "stream",
       "stream": "stdout",
       "text": [
        "\n",
        "http://www.banki.ru/banks/bank/rshb/"
       ]
      },
      {
       "output_type": "stream",
       "stream": "stdout",
       "text": [
        "\n",
        "http://www.banki.ru/banks/bank/bspb/"
       ]
      },
      {
       "output_type": "stream",
       "stream": "stdout",
       "text": [
        "\n",
        "http://www.banki.ru/banks/bank/uralsib/"
       ]
      },
      {
       "output_type": "stream",
       "stream": "stdout",
       "text": [
        "\n",
        "http://www.banki.ru/banks/bank/nomos-bank/"
       ]
      },
      {
       "output_type": "stream",
       "stream": "stdout",
       "text": [
        "\n",
        "http://www.banki.ru/banks/bank/gazprombank/"
       ]
      },
      {
       "output_type": "stream",
       "stream": "stdout",
       "text": [
        "\n",
        "http://www.banki.ru/banks/bank/gazprombank/"
       ]
      },
      {
       "output_type": "stream",
       "stream": "stdout",
       "text": [
        "\n",
        "http://www.banki.ru/banks/bank/petrocommerce/"
       ]
      },
      {
       "output_type": "stream",
       "stream": "stdout",
       "text": [
        "\n",
        "http://www.banki.ru/banks/bank/bank-of-moscow/"
       ]
      },
      {
       "output_type": "stream",
       "stream": "stdout",
       "text": [
        "\n",
        "http://www.banki.ru/banks/bank/unicreditbank/"
       ]
      },
      {
       "output_type": "stream",
       "stream": "stdout",
       "text": [
        "\n",
        "http://www.banki.ru/banks/bank/rosevrobank/"
       ]
      },
      {
       "output_type": "stream",
       "stream": "stdout",
       "text": [
        "\n",
        "http://www.banki.ru/banks/bank/otpbank/"
       ]
      },
      {
       "output_type": "stream",
       "stream": "stdout",
       "text": [
        "\n",
        "http://www.banki.ru/banks/bank/rosbank/"
       ]
      },
      {
       "output_type": "stream",
       "stream": "stdout",
       "text": [
        "\n",
        "http://www.banki.ru/banks/bank/promsvyazbank/"
       ]
      },
      {
       "output_type": "stream",
       "stream": "stdout",
       "text": [
        "\n",
        "http://www.banki.ru/banks/bank/rossiya/"
       ]
      },
      {
       "output_type": "stream",
       "stream": "stdout",
       "text": [
        "\n",
        "http://www.banki.ru/banks/bank/rosbank/"
       ]
      },
      {
       "output_type": "stream",
       "stream": "stdout",
       "text": [
        "\n",
        "http://www.banki.ru/banks/bank/bspb/"
       ]
      },
      {
       "output_type": "stream",
       "stream": "stdout",
       "text": [
        "\n",
        "http://www.banki.ru/banks/bank/sberbank/"
       ]
      },
      {
       "output_type": "stream",
       "stream": "stdout",
       "text": [
        "\n",
        "http://www.banki.ru/banks/bank/alfabank/"
       ]
      },
      {
       "output_type": "stream",
       "stream": "stdout",
       "text": [
        "\n",
        "http://www.banki.ru/banks/bank/unicreditbank/"
       ]
      },
      {
       "output_type": "stream",
       "stream": "stdout",
       "text": [
        "\n",
        "http://www.banki.ru/banks/bank/bspb/"
       ]
      },
      {
       "output_type": "stream",
       "stream": "stdout",
       "text": [
        "\n",
        "http://www.banki.ru/banks/bank/vtb24/"
       ]
      },
      {
       "output_type": "stream",
       "stream": "stdout",
       "text": [
        "\n",
        "http://www.banki.ru/banks/bank/nordea/"
       ]
      },
      {
       "output_type": "stream",
       "stream": "stdout",
       "text": [
        "\n",
        "http://www.banki.ru/banks/bank/unicreditbank/"
       ]
      },
      {
       "output_type": "stream",
       "stream": "stdout",
       "text": [
        "\n",
        "http://www.banki.ru/banks/bank/promsvyazbank/"
       ]
      },
      {
       "output_type": "stream",
       "stream": "stdout",
       "text": [
        "\n",
        "http://www.banki.ru/banks/bank/sberbank/"
       ]
      },
      {
       "output_type": "stream",
       "stream": "stdout",
       "text": [
        "\n",
        "http://www.banki.ru/banks/bank/raiffeisen/"
       ]
      },
      {
       "output_type": "stream",
       "stream": "stdout",
       "text": [
        "\n",
        "http://www.banki.ru/banks/bank/vtb24/"
       ]
      },
      {
       "output_type": "stream",
       "stream": "stdout",
       "text": [
        "\n",
        "http://www.banki.ru/banks/bank/rossiya/"
       ]
      },
      {
       "output_type": "stream",
       "stream": "stdout",
       "text": [
        "\n",
        "http://www.banki.ru/banks/bank/petrocommerce/"
       ]
      },
      {
       "output_type": "stream",
       "stream": "stdout",
       "text": [
        "\n",
        "http://www.banki.ru/banks/bank/rosbank/"
       ]
      },
      {
       "output_type": "stream",
       "stream": "stdout",
       "text": [
        "\n",
        "http://www.banki.ru/banks/bank/gazprombank/"
       ]
      },
      {
       "output_type": "stream",
       "stream": "stdout",
       "text": [
        "\n",
        "http://www.banki.ru/banks/bank/mts-bank/"
       ]
      },
      {
       "output_type": "stream",
       "stream": "stdout",
       "text": [
        "\n",
        "http://www.banki.ru/banks/bank/vozrozhdenie/"
       ]
      },
      {
       "output_type": "stream",
       "stream": "stdout",
       "text": [
        "\n",
        "http://www.banki.ru/banks/bank/sberbank/"
       ]
      },
      {
       "output_type": "stream",
       "stream": "stdout",
       "text": [
        "\n",
        "http://www.banki.ru/banks/bank/sberbank/"
       ]
      },
      {
       "output_type": "stream",
       "stream": "stdout",
       "text": [
        "\n",
        "http://www.banki.ru/banks/bank/bank-of-moscow/"
       ]
      },
      {
       "output_type": "stream",
       "stream": "stdout",
       "text": [
        "\n",
        "http://www.banki.ru/banks/bank/nordea/"
       ]
      },
      {
       "output_type": "stream",
       "stream": "stdout",
       "text": [
        "\n",
        "http://www.banki.ru/banks/bank/vtb24/"
       ]
      },
      {
       "output_type": "stream",
       "stream": "stdout",
       "text": [
        "\n",
        "http://www.banki.ru/banks/bank/alfabank/"
       ]
      },
      {
       "output_type": "stream",
       "stream": "stdout",
       "text": [
        "\n",
        "http://www.banki.ru/banks/bank/gazprombank/"
       ]
      },
      {
       "output_type": "stream",
       "stream": "stdout",
       "text": [
        "\n",
        "http://www.banki.ru/banks/bank/alfabank/"
       ]
      },
      {
       "output_type": "stream",
       "stream": "stdout",
       "text": [
        "\n",
        "http://www.banki.ru/banks/bank/raiffeisen/"
       ]
      },
      {
       "output_type": "stream",
       "stream": "stdout",
       "text": [
        "\n",
        "http://www.banki.ru/banks/bank/raiffeisen/"
       ]
      },
      {
       "output_type": "stream",
       "stream": "stdout",
       "text": [
        "\n",
        "http://www.banki.ru/banks/bank/sberbank/"
       ]
      },
      {
       "output_type": "stream",
       "stream": "stdout",
       "text": [
        "\n",
        "http://www.banki.ru/banks/bank/raiffeisen/"
       ]
      },
      {
       "output_type": "stream",
       "stream": "stdout",
       "text": [
        "\n",
        "http://www.banki.ru/banks/bank/gazprombank/"
       ]
      },
      {
       "output_type": "stream",
       "stream": "stdout",
       "text": [
        "\n",
        "http://www.banki.ru/banks/bank/zenit/"
       ]
      },
      {
       "output_type": "stream",
       "stream": "stdout",
       "text": [
        "\n",
        "http://www.banki.ru/banks/bank/nordea/"
       ]
      },
      {
       "output_type": "stream",
       "stream": "stdout",
       "text": [
        "\n",
        "http://www.banki.ru/banks/bank/gazprombank/"
       ]
      },
      {
       "output_type": "stream",
       "stream": "stdout",
       "text": [
        "\n",
        "http://www.banki.ru/banks/bank/sberbank/"
       ]
      },
      {
       "output_type": "stream",
       "stream": "stdout",
       "text": [
        "\n",
        "http://www.banki.ru/banks/bank/sberbank/"
       ]
      },
      {
       "output_type": "stream",
       "stream": "stdout",
       "text": [
        "\n",
        "http://www.banki.ru/banks/bank/petrocommerce/"
       ]
      },
      {
       "output_type": "stream",
       "stream": "stdout",
       "text": [
        "\n",
        "http://www.banki.ru/banks/bank/sberbank/"
       ]
      },
      {
       "output_type": "stream",
       "stream": "stdout",
       "text": [
        "\n",
        "http://www.banki.ru/banks/bank/bank-of-moscow/"
       ]
      },
      {
       "output_type": "stream",
       "stream": "stdout",
       "text": [
        "\n",
        "http://www.banki.ru/banks/bank/mkb/"
       ]
      },
      {
       "output_type": "stream",
       "stream": "stdout",
       "text": [
        "\n",
        "http://www.banki.ru/banks/bank/citibank/"
       ]
      },
      {
       "output_type": "stream",
       "stream": "stdout",
       "text": [
        "\n",
        "http://www.banki.ru/banks/bank/vtb24/"
       ]
      },
      {
       "output_type": "stream",
       "stream": "stdout",
       "text": [
        "\n",
        "http://www.banki.ru/banks/bank/vtb24/"
       ]
      },
      {
       "output_type": "stream",
       "stream": "stdout",
       "text": [
        "\n",
        "http://www.banki.ru/banks/bank/raiffeisen/"
       ]
      },
      {
       "output_type": "stream",
       "stream": "stdout",
       "text": [
        "\n",
        "http://www.banki.ru/banks/bank/vtb24/"
       ]
      },
      {
       "output_type": "stream",
       "stream": "stdout",
       "text": [
        "\n"
       ]
      }
     ],
     "prompt_number": 462
    },
    {
     "cell_type": "code",
     "collapsed": false,
     "input": [
      "df.head()"
     ],
     "language": "python",
     "metadata": {},
     "outputs": [
      {
       "html": [
        "<pre>\n",
        "&lt;class 'pandas.core.frame.DataFrame'&gt;\n",
        "Int64Index: 5 entries, 0 to 4\n",
        "Data columns (total 21 columns):\n",
        "AK&amp;M                0  non-null values\n",
        "Fitch Ratings       0  non-null values\n",
        "Moody's             3  non-null values\n",
        "S&amp;P                 3  non-null values\n",
        "and                 0  non-null values\n",
        "bank                4  non-null values\n",
        "capital             0  non-null values\n",
        "day_term            4  non-null values\n",
        "dep_name            4  non-null values\n",
        "min_amount          4  non-null values\n",
        "payments_daily      0  non-null values\n",
        "payments_end        4  non-null values\n",
        "payments_monthly    0  non-null values\n",
        "payments_section    0  non-null values\n",
        "profit              4  non-null values\n",
        "rate                4  non-null values\n",
        "refill              4  non-null values\n",
        "spec_deposit        4  non-null values\n",
        "\u041d\u0420\u0410                 2  non-null values\n",
        "\u0420\u0443\u0441-\u0420\u0435\u0439\u0442\u0438\u043d\u0433         2  non-null values\n",
        "\u042d\u043a\u0441\u043f\u0435\u0440\u0442 \u0420\u0410          2  non-null values\n",
        "dtypes: float64(12), object(9)\n",
        "</pre>"
       ],
       "metadata": {},
       "output_type": "pyout",
       "prompt_number": 463,
       "text": [
        "<class 'pandas.core.frame.DataFrame'>\n",
        "Int64Index: 5 entries, 0 to 4\n",
        "Data columns (total 21 columns):\n",
        "AK&M                0  non-null values\n",
        "Fitch Ratings       0  non-null values\n",
        "Moody's             3  non-null values\n",
        "S&P                 3  non-null values\n",
        "and                 0  non-null values\n",
        "bank                4  non-null values\n",
        "capital             0  non-null values\n",
        "day_term            4  non-null values\n",
        "dep_name            4  non-null values\n",
        "min_amount          4  non-null values\n",
        "payments_daily      0  non-null values\n",
        "payments_end        4  non-null values\n",
        "payments_monthly    0  non-null values\n",
        "payments_section    0  non-null values\n",
        "profit              4  non-null values\n",
        "rate                4  non-null values\n",
        "refill              4  non-null values\n",
        "spec_deposit        4  non-null values\n",
        "\u041d\u0420\u0410                 2  non-null values\n",
        "\u0420\u0443\u0441-\u0420\u0435\u0439\u0442\u0438\u043d\u0433         2  non-null values\n",
        "\u042d\u043a\u0441\u043f\u0435\u0440\u0442 \u0420\u0410          2  non-null values\n",
        "dtypes: float64(12), object(9)"
       ]
      }
     ],
     "prompt_number": 463
    },
    {
     "cell_type": "code",
     "collapsed": false,
     "input": [],
     "language": "python",
     "metadata": {},
     "outputs": []
    }
   ],
   "metadata": {}
  }
 ]
}