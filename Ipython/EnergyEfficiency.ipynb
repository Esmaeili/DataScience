{
 "metadata": {
  "name": ""
 },
 "nbformat": 3,
 "nbformat_minor": 0,
 "worksheets": [
  {
   "cells": [
    {
     "cell_type": "heading",
     "level": 1,
     "metadata": {},
     "source": [
      "\u041f\u0440\u0438\u043c\u0435\u0440 \u0440\u0435\u0448\u0435\u043d\u0438\u044f \u0437\u0430\u0434\u0430\u0447\u0438 \u043c\u043d\u043e\u0436\u0435\u0441\u0442\u0432\u0435\u043d\u043d\u043e\u0439 \u0440\u0435\u0433\u0440\u0435\u0441\u0441\u0438\u0438 \u0441 \u043f\u043e\u043c\u043e\u0449\u044c\u044e Python"
     ]
    },
    {
     "cell_type": "heading",
     "level": 4,
     "metadata": {},
     "source": [
      "\u0412\u0432\u0435\u0434\u0435\u043d\u0438\u0435"
     ]
    },
    {
     "cell_type": "markdown",
     "metadata": {},
     "source": [
      "\u0414\u043e\u0431\u0440\u044b\u0439 \u0434\u0435\u043d\u044c, \u0443\u0432\u0430\u0436\u0430\u0435\u043c\u044b\u0435 \u0447\u0438\u0442\u0430\u0442\u0435\u043b\u0438."
     ]
    },
    {
     "cell_type": "markdown",
     "metadata": {},
     "source": [
      "\u0412 \u043f\u0440\u043e\u0448\u043b\u044b\u0445 \u0441\u0442\u0430\u0442\u044c\u044f\u0445, \u043d\u0430 \u043f\u0440\u0430\u043a\u0442\u0438\u0447\u0435\u0441\u043a\u0438\u0445 \u043f\u0440\u0438\u043c\u0435\u0440\u0430\u0445, \u043c\u043d\u043e\u0439 \u0431\u044b\u043b\u0438 \u043f\u043e\u043a\u0430\u0437\u0430\u043d\u044b \u0441\u043f\u043e\u0441\u043e\u0431\u044b \u0440\u0435\u0448\u0435\u043d\u0438\u044f \u0437\u0430\u0434\u0430\u0447 \u043a\u043b\u0430\u0441\u0441\u0438\u0444\u0438\u043a\u0430\u0446\u0438\u0438 (<a href='http://habrahabr.ru/post/204500/'>\u0437\u0430\u0434\u0430\u0447\u0430 \u043a\u0440\u0435\u0434\u0438\u0442\u043d\u043e\u0433\u043e \u0441\u043a\u043e\u0440\u0438\u043d\u0433\u0430</a>) \u0438 \u043e\u0441\u043d\u043e\u0432 \u0430\u043d\u0430\u043b\u0438\u0437\u0430 \u0442\u0435\u043a\u0441\u0442\u043e\u0432\u043e\u0439 \u0438\u043d\u0444\u043e\u0440\u043c\u0430\u0446\u0438\u0438 (<a href='http://habrahabr.ru/post/205360/'>\u0437\u0430\u0434\u0430\u0447\u0430 \u043e \u043f\u0430\u0441\u043f\u043e\u0440\u0442\u0430\u0445</a>). \u0421\u0435\u0433\u043e\u0434\u043d\u044f \u0436\u0435 \u043c\u043d\u0435 \u0431\u044b \u0445\u043e\u0442\u0435\u043b\u043e\u0441\u044c \u043a\u043e\u0441\u043d\u0443\u0442\u044c\u0441\u044f \u0434\u0440\u0443\u0433\u043e\u0433\u043e \u043a\u043b\u0430\u0441\u0441\u0430 \u0437\u0430\u0434\u0430\u0447, \u0430 \u0438\u043c\u0435\u043d\u043d\u043e <a href='http://www.machinelearning.ru/wiki/index.php?title=%D0%A0%D0%B5%D0%B3%D1%80%D0%B5%D1%81%D1%81%D0%B8%D1%8F'>\u0432\u043e\u0441\u0441\u0442\u0430\u043d\u043e\u0432\u043b\u0435\u043d\u0438\u044f \u0440\u0435\u0433\u0440\u0435\u0441\u0441\u0438\u0438</a>.\n",
      "\u0417\u0430\u0434\u0430\u0447\u0438 \u0434\u0430\u043d\u043d\u043e\u0433\u043e \u043a\u043b\u0430\u0441\u0441\u0430, \u043a\u0430\u043a \u043f\u0440\u0430\u0432\u0438\u043b\u043e, \u0438\u0441\u043f\u043e\u043b\u044c\u0437\u0443\u044e\u0442\u0441\u044f \u043f\u0440\u0438 <a href='http://www.machinelearning.ru/wiki/index.php?title=%D0%9F%D1%80%D0%BE%D0%B3%D0%BD%D0%BE%D0%B7%D0%B8%D1%80%D0%BE%D0%B2%D0%B0%D0%BD%D0%B8%D0%B5'>\u043f\u0440\u043e\u0433\u043d\u043e\u0437\u0438\u0440\u043e\u0432\u0430\u043d\u0438\u0438</a>."
     ]
    },
    {
     "cell_type": "markdown",
     "metadata": {},
     "source": [
      "\u0414\u043b\u044f \u043f\u0440\u0438\u043c\u0435\u0440\u0430 \u0440\u0435\u0448\u0435\u043d\u0438\u044f \u0437\u0430\u0434\u0430\u0447\u0438 \u043f\u0440\u043e\u0433\u043d\u043e\u0437\u0438\u0440\u043e\u0432\u0430\u043d\u0438\u044f, \u044f \u0432\u0437\u044f\u043b \u043d\u0430\u0431\u043e\u0440 \u0434\u0430\u043d\u043d\u044b\u0445 <a href='http://archive.ics.uci.edu/ml/datasets/Energy+efficiency'>Energy efficiency</a> \u0438\u0437 \u043a\u0440\u0443\u043f\u043d\u0435\u0439\u0448\u0435\u0433\u043e \u0440\u0435\u043f\u043e\u0437\u0438\u0442\u043e\u0440\u0438\u044f <a href='http://www.machinelearning.ru/wiki/index.php?title=UCI'>UCI</a>. \u0412 \u043a\u0430\u0447\u0435\u0441\u0442\u0432\u0435 \u0438\u043d\u0441\u0442\u0440\u0443\u043c\u0435\u043d\u0442\u043e\u0432 \u043f\u043e \u0442\u0440\u0430\u0434\u0438\u0446\u0438\u0438 \u0431\u0443\u0434\u0435\u043c \u0438\u0441\u043f\u043e\u043b\u044c\u0437\u043e\u0432\u0430\u0442\u044c Python c \u0430\u043d\u0430\u043b\u0438\u0442\u0438\u0447\u0435\u0441\u043a\u0438\u043c\u0438 \u043f\u0430\u043a\u0435\u0442\u0430\u043c\u0438 <a href='http://pandas.pydata.org/pandas-docs/stable/'>pandas</a> \u0438 <a href='http://scikit-learn.org/stable/'>scikit-learn</a>."
     ]
    },
    {
     "cell_type": "heading",
     "level": 4,
     "metadata": {},
     "source": [
      "\u041e\u043f\u0438\u0441\u0430\u043d\u0438\u0435 \u043d\u0430\u0431\u043e\u0440\u0430 \u0434\u0430\u043d\u043d\u044b\u0445 \u0438 \u043f\u043e\u0441\u0442\u0430\u043d\u043e\u0432\u043a\u0430 \u0437\u0430\u0434\u0430\u0447\u0438"
     ]
    },
    {
     "cell_type": "markdown",
     "metadata": {},
     "source": [
      "\u0414\u0430\u043d <a href='http://archive.ics.uci.edu/ml/machine-learning-databases/00242/ENB2012_data.xlsx'>\u043d\u0430\u0431\u043e\u0440 \u0434\u0430\u043d\u043d\u044b\u0445</a>, \u043a\u043e\u0442\u043e\u0440\u043e\u043c \u043e\u043f\u0438\u0441\u0430\u043d\u044b \u0441\u043b\u0435\u0434\u0443\u044e\u0449\u0438\u0435 \u0430\u0442\u0440\u0438\u0431\u0443\u0442\u044b \u043f\u043e\u043c\u0435\u0449\u0435\u043d\u0438\u044f:\n",
      "<table>\n",
      "<tr><th>\u041f\u043e\u043b\u0435</th><th>\u041e\u043f\u0438\u0441\u0430\u043d\u0438\u0435</th><th>\u0422\u0438\u043f</th></tr>\n",
      "<tr><th>X1</th><td>\u041e\u0442\u043d\u043e\u0441\u0438\u0442\u0435\u043b\u044c\u043d\u0430\u044f \u043a\u043e\u043c\u043f\u0430\u043a\u0442\u043d\u043e\u0441\u0442\u044c</td><td>FLOAT</td><tr>\n",
      "<tr><th>X2</th><td>\u041f\u043b\u043e\u0449\u0430\u0434\u044c</td><td>FLOAT</td><tr>\n",
      "<tr><th>X3</th><td>\u041f\u043b\u043e\u0449\u0430\u0434\u044c \u0441\u0442\u0435\u043d\u044b</td><td>FLOAT</td><tr>\n",
      "<tr><th>X4</th><td>\u041f\u043b\u043e\u0449\u0430\u0434\u044c \u043f\u043e\u0442\u043e\u043b\u043a\u0430</td><td>FLOAT</td><tr>\n",
      "<tr><th>X5</th><td>\u041e\u0431\u0449\u0430\u044f \u0432\u044b\u0441\u043e\u0442\u0430</td><td>FLOAT</td><tr>\n",
      "<tr><th>X6</th><td>\u041e\u0440\u0438\u0435\u043d\u0442\u0430\u0446\u0438\u044f</td><td>INT</td><tr>\n",
      "<tr><th>X7</th><td>\u041f\u043b\u043e\u0449\u0430\u0434\u044c \u043e\u0441\u0442\u0435\u043a\u043b\u0435\u043d\u0438\u044f</td><td>FLOAT</td><tr>\n",
      "<tr><th>X8</th><td>\u0420\u0430\u0441\u043f\u0440\u0435\u0434\u0435\u043b\u0435\u043d\u043d\u0430\u044f \u043f\u043b\u043e\u0449\u0430\u0434\u044c \u043e\u0441\u0442\u0435\u043a\u043b\u0435\u043d\u0438\u044f</td><td>INT</td><tr>\n",
      "<tr><th>y1</th><td>\u041d\u0430\u0433\u0440\u0443\u0437\u043a\u0430 \u043f\u0440\u0438 \u043e\u0431\u043e\u0433\u0440\u0435\u0432\u0435</td><td>FLOAT</td><tr>\n",
      "<tr><th>y2</th><td>\u041d\u0430\u0433\u0440\u0443\u0437\u043a\u0430 \u043f\u0440\u0438 \u043e\u0445\u043b\u0430\u0436\u0434\u0435\u043d\u0438\u0438</td><td>FLOAT</td><tr>\n",
      "</table>"
     ]
    },
    {
     "cell_type": "markdown",
     "metadata": {},
     "source": [
      "\u0412 \u043d\u0435\u043c $X1 \\dotsm X8$ - \u0445\u0430\u0440\u0430\u043a\u0442\u0435\u0440\u0438\u0441\u0442\u0438\u043a\u0438 \u043f\u043e\u043c\u0435\u0449\u0435\u043d\u0438\u044f \u043d\u0430 \u043e\u0441\u043d\u043e\u0432\u0430\u043d\u0438\u0438 \u043a\u043e\u0442\u043e\u0440\u044b\u0445 \u0431\u0443\u0434\u0435\u0442 \u043f\u0440\u043e\u0432\u043e\u0434\u0438\u0442\u044c\u0441\u044f \u0430\u043d\u0430\u043b\u0438\u0437, \u0430 $y1, y2$ - \u0437\u043d\u0430\u0447\u0435\u043d\u0438\u044f \u043d\u0430\u0433\u0440\u0443\u0437\u043a\u0438, \u043a\u043e\u0442\u043e\u0440\u044b\u0435 \u043d\u0430\u0434\u043e \u0441\u043f\u0440\u043e\u0433\u043d\u043e\u0437\u0438\u0440\u043e\u0432\u0430\u0442\u044c."
     ]
    },
    {
     "cell_type": "heading",
     "level": 4,
     "metadata": {},
     "source": [
      "\u041f\u0440\u0435\u0434\u0432\u0430\u0440\u0438\u0442\u0435\u043b\u044c\u043d\u044b\u0439 \u0430\u043d\u0430\u043b\u0438\u0437 \u0434\u0430\u043d\u043d\u044b\u0445"
     ]
    },
    {
     "cell_type": "markdown",
     "metadata": {},
     "source": [
      "\u0414\u043b\u044f \u043d\u0430\u0447\u0430\u043b\u0430 \u0437\u0430\u0433\u0440\u0443\u0437\u0438\u043c \u043d\u0430\u0448\u0438 \u0434\u0430\u043d\u043d\u044b\u0435 \u0438 \u043f\u043e\u043c\u043e\u0442\u0440\u0438\u043c \u043d\u0430 \u043d\u0438\u0445:"
     ]
    },
    {
     "cell_type": "code",
     "collapsed": false,
     "input": [
      "from pandas import read_csv, DataFrame\n",
      "from sklearn.neighbors import KNeighborsRegressor\n",
      "from sklearn.linear_model import LinearRegression, LogisticRegression\n",
      "from sklearn.svm import SVR\n",
      "from sklearn.ensemble import RandomForestRegressor\n",
      "from sklearn.metrics import r2_score\n",
      "from sklearn.cross_validation import train_test_split"
     ],
     "language": "python",
     "metadata": {},
     "outputs": [],
     "prompt_number": 1
    },
    {
     "cell_type": "code",
     "collapsed": false,
     "input": [
      "dataset = read_csv('EnergyEfficiency/ENB2012_data.csv',';')\n",
      "dataset.head()"
     ],
     "language": "python",
     "metadata": {},
     "outputs": [
      {
       "html": [
        "<div style=\"max-height:1000px;max-width:1500px;overflow:auto;\">\n",
        "<table border=\"1\" class=\"dataframe\">\n",
        "  <thead>\n",
        "    <tr style=\"text-align: right;\">\n",
        "      <th></th>\n",
        "      <th>X1</th>\n",
        "      <th>X2</th>\n",
        "      <th>X3</th>\n",
        "      <th>X4</th>\n",
        "      <th>X5</th>\n",
        "      <th>X6</th>\n",
        "      <th>X7</th>\n",
        "      <th>X8</th>\n",
        "      <th>Y1</th>\n",
        "      <th>Y2</th>\n",
        "    </tr>\n",
        "  </thead>\n",
        "  <tbody>\n",
        "    <tr>\n",
        "      <th>0</th>\n",
        "      <td> 0.98</td>\n",
        "      <td> 514.5</td>\n",
        "      <td> 294.0</td>\n",
        "      <td> 110.25</td>\n",
        "      <td> 7</td>\n",
        "      <td> 2</td>\n",
        "      <td> 0</td>\n",
        "      <td> 0</td>\n",
        "      <td> 15.55</td>\n",
        "      <td> 21.33</td>\n",
        "    </tr>\n",
        "    <tr>\n",
        "      <th>1</th>\n",
        "      <td> 0.98</td>\n",
        "      <td> 514.5</td>\n",
        "      <td> 294.0</td>\n",
        "      <td> 110.25</td>\n",
        "      <td> 7</td>\n",
        "      <td> 3</td>\n",
        "      <td> 0</td>\n",
        "      <td> 0</td>\n",
        "      <td> 15.55</td>\n",
        "      <td> 21.33</td>\n",
        "    </tr>\n",
        "    <tr>\n",
        "      <th>2</th>\n",
        "      <td> 0.98</td>\n",
        "      <td> 514.5</td>\n",
        "      <td> 294.0</td>\n",
        "      <td> 110.25</td>\n",
        "      <td> 7</td>\n",
        "      <td> 4</td>\n",
        "      <td> 0</td>\n",
        "      <td> 0</td>\n",
        "      <td> 15.55</td>\n",
        "      <td> 21.33</td>\n",
        "    </tr>\n",
        "    <tr>\n",
        "      <th>3</th>\n",
        "      <td> 0.98</td>\n",
        "      <td> 514.5</td>\n",
        "      <td> 294.0</td>\n",
        "      <td> 110.25</td>\n",
        "      <td> 7</td>\n",
        "      <td> 5</td>\n",
        "      <td> 0</td>\n",
        "      <td> 0</td>\n",
        "      <td> 15.55</td>\n",
        "      <td> 21.33</td>\n",
        "    </tr>\n",
        "    <tr>\n",
        "      <th>4</th>\n",
        "      <td> 0.90</td>\n",
        "      <td> 563.5</td>\n",
        "      <td> 318.5</td>\n",
        "      <td> 122.50</td>\n",
        "      <td> 7</td>\n",
        "      <td> 2</td>\n",
        "      <td> 0</td>\n",
        "      <td> 0</td>\n",
        "      <td> 20.84</td>\n",
        "      <td> 28.28</td>\n",
        "    </tr>\n",
        "  </tbody>\n",
        "</table>\n",
        "</div>"
       ],
       "metadata": {},
       "output_type": "pyout",
       "prompt_number": 2,
       "text": [
        "     X1     X2     X3      X4  X5  X6  X7  X8     Y1     Y2\n",
        "0  0.98  514.5  294.0  110.25   7   2   0   0  15.55  21.33\n",
        "1  0.98  514.5  294.0  110.25   7   3   0   0  15.55  21.33\n",
        "2  0.98  514.5  294.0  110.25   7   4   0   0  15.55  21.33\n",
        "3  0.98  514.5  294.0  110.25   7   5   0   0  15.55  21.33\n",
        "4  0.90  563.5  318.5  122.50   7   2   0   0  20.84  28.28"
       ]
      }
     ],
     "prompt_number": 2
    },
    {
     "cell_type": "markdown",
     "metadata": {},
     "source": [
      "\u0422\u0435\u043f\u0435\u0440\u044c \u0434\u0430\u0432\u0430\u0439\u0442\u0435 \u043f\u043e\u0441\u043c\u043e\u0440\u0442\u0438\u043c \u043d\u0435 \u0441\u0432\u044f\u0437\u0430\u043d\u044b \u043b\u0438 \u043c\u0435\u0436\u0434\u0443 \u0441\u043e\u0431\u043e\u0439 \u043a\u0430\u043a\u0438\u0435-\u043b\u0438\u0431\u043e \u0430\u0442\u0440\u0438\u0431\u0443\u0442\u044b. \u0421\u0434\u0435\u043b\u0430\u0442\u044c \u044d\u0442\u043e \u043c\u043e\u0436\u043d\u043e \u0440\u0430\u0441\u0447\u0438\u0442\u0430\u0432 \u043a\u043e\u044d\u0444\u0444\u0438\u0446\u0438\u0435\u043d\u0442\u044b \u043a\u043e\u0440\u0440\u0435\u043b\u044f\u0446\u0438\u0438 \u0434\u043b\u044f \u0432\u0441\u0435\u0445 \u0441\u0442\u043e\u043b\u0431\u0446\u043e\u0432. \u041a\u0430\u043a \u044d\u0442\u043e \u0441\u0434\u0435\u043b\u0430\u0442\u044c \u0431\u044b\u043b\u043e \u043e\u043f\u0438\u0441\u0430\u043d\u043e \u0432 \u043f\u0440\u0435\u0434\u044b\u0434\u0443\u0449\u0435\u0439 <a href='http://habrahabr.ru/post/204500/'>\u0441\u0442\u0430\u0442\u044c\u0435</a>:"
     ]
    },
    {
     "cell_type": "code",
     "collapsed": false,
     "input": [
      "dataset.corr()"
     ],
     "language": "python",
     "metadata": {},
     "outputs": [
      {
       "html": [
        "<div style=\"max-height:1000px;max-width:1500px;overflow:auto;\">\n",
        "<table border=\"1\" class=\"dataframe\">\n",
        "  <thead>\n",
        "    <tr style=\"text-align: right;\">\n",
        "      <th></th>\n",
        "      <th>X1</th>\n",
        "      <th>X2</th>\n",
        "      <th>X3</th>\n",
        "      <th>X4</th>\n",
        "      <th>X5</th>\n",
        "      <th>X6</th>\n",
        "      <th>X7</th>\n",
        "      <th>X8</th>\n",
        "      <th>Y1</th>\n",
        "      <th>Y2</th>\n",
        "    </tr>\n",
        "  </thead>\n",
        "  <tbody>\n",
        "    <tr>\n",
        "      <th>X1</th>\n",
        "      <td> 1.000000e+00</td>\n",
        "      <td>-9.919015e-01</td>\n",
        "      <td>-2.037817e-01</td>\n",
        "      <td>-8.688234e-01</td>\n",
        "      <td> 8.277473e-01</td>\n",
        "      <td> 0.000000</td>\n",
        "      <td> 1.283986e-17</td>\n",
        "      <td> 1.764620e-17</td>\n",
        "      <td> 0.622272</td>\n",
        "      <td> 0.634339</td>\n",
        "    </tr>\n",
        "    <tr>\n",
        "      <th>X2</th>\n",
        "      <td>-9.919015e-01</td>\n",
        "      <td> 1.000000e+00</td>\n",
        "      <td> 1.955016e-01</td>\n",
        "      <td> 8.807195e-01</td>\n",
        "      <td>-8.581477e-01</td>\n",
        "      <td> 0.000000</td>\n",
        "      <td> 1.318356e-16</td>\n",
        "      <td>-3.558613e-16</td>\n",
        "      <td>-0.658120</td>\n",
        "      <td>-0.672999</td>\n",
        "    </tr>\n",
        "    <tr>\n",
        "      <th>X3</th>\n",
        "      <td>-2.037817e-01</td>\n",
        "      <td> 1.955016e-01</td>\n",
        "      <td> 1.000000e+00</td>\n",
        "      <td>-2.923165e-01</td>\n",
        "      <td> 2.809757e-01</td>\n",
        "      <td> 0.000000</td>\n",
        "      <td>-7.969726e-19</td>\n",
        "      <td> 0.000000e+00</td>\n",
        "      <td> 0.455671</td>\n",
        "      <td> 0.427117</td>\n",
        "    </tr>\n",
        "    <tr>\n",
        "      <th>X4</th>\n",
        "      <td>-8.688234e-01</td>\n",
        "      <td> 8.807195e-01</td>\n",
        "      <td>-2.923165e-01</td>\n",
        "      <td> 1.000000e+00</td>\n",
        "      <td>-9.725122e-01</td>\n",
        "      <td> 0.000000</td>\n",
        "      <td>-1.381805e-16</td>\n",
        "      <td>-1.079129e-16</td>\n",
        "      <td>-0.861828</td>\n",
        "      <td>-0.862547</td>\n",
        "    </tr>\n",
        "    <tr>\n",
        "      <th>X5</th>\n",
        "      <td> 8.277473e-01</td>\n",
        "      <td>-8.581477e-01</td>\n",
        "      <td> 2.809757e-01</td>\n",
        "      <td>-9.725122e-01</td>\n",
        "      <td> 1.000000e+00</td>\n",
        "      <td> 0.000000</td>\n",
        "      <td> 1.861418e-18</td>\n",
        "      <td> 0.000000e+00</td>\n",
        "      <td> 0.889431</td>\n",
        "      <td> 0.895785</td>\n",
        "    </tr>\n",
        "    <tr>\n",
        "      <th>X6</th>\n",
        "      <td> 0.000000e+00</td>\n",
        "      <td> 0.000000e+00</td>\n",
        "      <td> 0.000000e+00</td>\n",
        "      <td> 0.000000e+00</td>\n",
        "      <td> 0.000000e+00</td>\n",
        "      <td> 1.000000</td>\n",
        "      <td> 0.000000e+00</td>\n",
        "      <td> 0.000000e+00</td>\n",
        "      <td>-0.002587</td>\n",
        "      <td> 0.014290</td>\n",
        "    </tr>\n",
        "    <tr>\n",
        "      <th>X7</th>\n",
        "      <td> 1.283986e-17</td>\n",
        "      <td> 1.318356e-16</td>\n",
        "      <td>-7.969726e-19</td>\n",
        "      <td>-1.381805e-16</td>\n",
        "      <td> 1.861418e-18</td>\n",
        "      <td> 0.000000</td>\n",
        "      <td> 1.000000e+00</td>\n",
        "      <td> 2.129642e-01</td>\n",
        "      <td> 0.269841</td>\n",
        "      <td> 0.207505</td>\n",
        "    </tr>\n",
        "    <tr>\n",
        "      <th>X8</th>\n",
        "      <td> 1.764620e-17</td>\n",
        "      <td>-3.558613e-16</td>\n",
        "      <td> 0.000000e+00</td>\n",
        "      <td>-1.079129e-16</td>\n",
        "      <td> 0.000000e+00</td>\n",
        "      <td> 0.000000</td>\n",
        "      <td> 2.129642e-01</td>\n",
        "      <td> 1.000000e+00</td>\n",
        "      <td> 0.087368</td>\n",
        "      <td> 0.050525</td>\n",
        "    </tr>\n",
        "    <tr>\n",
        "      <th>Y1</th>\n",
        "      <td> 6.222722e-01</td>\n",
        "      <td>-6.581202e-01</td>\n",
        "      <td> 4.556712e-01</td>\n",
        "      <td>-8.618283e-01</td>\n",
        "      <td> 8.894307e-01</td>\n",
        "      <td>-0.002587</td>\n",
        "      <td> 2.698410e-01</td>\n",
        "      <td> 8.736759e-02</td>\n",
        "      <td> 1.000000</td>\n",
        "      <td> 0.975862</td>\n",
        "    </tr>\n",
        "    <tr>\n",
        "      <th>Y2</th>\n",
        "      <td> 6.343391e-01</td>\n",
        "      <td>-6.729989e-01</td>\n",
        "      <td> 4.271170e-01</td>\n",
        "      <td>-8.625466e-01</td>\n",
        "      <td> 8.957852e-01</td>\n",
        "      <td> 0.014290</td>\n",
        "      <td> 2.075050e-01</td>\n",
        "      <td> 5.052512e-02</td>\n",
        "      <td> 0.975862</td>\n",
        "      <td> 1.000000</td>\n",
        "    </tr>\n",
        "  </tbody>\n",
        "</table>\n",
        "</div>"
       ],
       "metadata": {},
       "output_type": "pyout",
       "prompt_number": 3,
       "text": [
        "              X1            X2            X3            X4            X5  \\\n",
        "X1  1.000000e+00 -9.919015e-01 -2.037817e-01 -8.688234e-01  8.277473e-01   \n",
        "X2 -9.919015e-01  1.000000e+00  1.955016e-01  8.807195e-01 -8.581477e-01   \n",
        "X3 -2.037817e-01  1.955016e-01  1.000000e+00 -2.923165e-01  2.809757e-01   \n",
        "X4 -8.688234e-01  8.807195e-01 -2.923165e-01  1.000000e+00 -9.725122e-01   \n",
        "X5  8.277473e-01 -8.581477e-01  2.809757e-01 -9.725122e-01  1.000000e+00   \n",
        "X6  0.000000e+00  0.000000e+00  0.000000e+00  0.000000e+00  0.000000e+00   \n",
        "X7  1.283986e-17  1.318356e-16 -7.969726e-19 -1.381805e-16  1.861418e-18   \n",
        "X8  1.764620e-17 -3.558613e-16  0.000000e+00 -1.079129e-16  0.000000e+00   \n",
        "Y1  6.222722e-01 -6.581202e-01  4.556712e-01 -8.618283e-01  8.894307e-01   \n",
        "Y2  6.343391e-01 -6.729989e-01  4.271170e-01 -8.625466e-01  8.957852e-01   \n",
        "\n",
        "          X6            X7            X8        Y1        Y2  \n",
        "X1  0.000000  1.283986e-17  1.764620e-17  0.622272  0.634339  \n",
        "X2  0.000000  1.318356e-16 -3.558613e-16 -0.658120 -0.672999  \n",
        "X3  0.000000 -7.969726e-19  0.000000e+00  0.455671  0.427117  \n",
        "X4  0.000000 -1.381805e-16 -1.079129e-16 -0.861828 -0.862547  \n",
        "X5  0.000000  1.861418e-18  0.000000e+00  0.889431  0.895785  \n",
        "X6  1.000000  0.000000e+00  0.000000e+00 -0.002587  0.014290  \n",
        "X7  0.000000  1.000000e+00  2.129642e-01  0.269841  0.207505  \n",
        "X8  0.000000  2.129642e-01  1.000000e+00  0.087368  0.050525  \n",
        "Y1 -0.002587  2.698410e-01  8.736759e-02  1.000000  0.975862  \n",
        "Y2  0.014290  2.075050e-01  5.052512e-02  0.975862  1.000000  "
       ]
      }
     ],
     "prompt_number": 3
    },
    {
     "cell_type": "markdown",
     "metadata": {},
     "source": [
      "\u041a\u0430\u043a \u043c\u043e\u0436\u043d\u043e \u0437\u0430\u043c\u0435\u0442\u0438\u0442\u044c \u0438\u0437 \u043d\u0430\u0448\u0435\u0439 \u043c\u0430\u0442\u0440\u0438\u0446\u044b, \u043a\u043e\u0440\u0440\u0435\u043b\u0438\u0440\u0443\u044e\u0442 \u043c\u0435\u0436\u0434\u0443 \u0441\u043e\u0431\u043e\u0439 \u0441\u043b\u0435\u0434\u0443\u044e\u0449\u0438\u0435 \u0441\u0442\u043e\u043b\u0431\u044b (\u0417\u043d\u0430\u0447\u0435\u043d\u0438\u0435 \u043a\u043e\u044d\u0444\u0444\u0438\u0446\u0438\u0435\u043d\u0442\u0430 \u043a\u043e\u0440\u0440\u0435\u043b\u044f\u0446\u0438\u0438 \u0431\u043e\u043b\u044c\u0448\u0435 95%):\n",
      "<ul>\n",
      "<li>y1 --> y2</li>\n",
      "<li>x1 --> x2</li>\n",
      "<li>x4 --> x5</li>\n",
      "</ul>"
     ]
    },
    {
     "cell_type": "markdown",
     "metadata": {},
     "source": [
      "\u0422\u0435\u043f\u0435\u0440\u044c \u0434\u0430\u0432\u0430\u0439\u0442\u0435 \u0432\u044b\u0431\u0435\u0440\u0435\u043c, \u043a\u0430\u043a\u0438\u043a\u0435 \u0441\u0442\u043e\u043b\u0431\u0446\u044b \u0438\u0445 \u043d\u0430\u0448\u0438\u0445 \u043f\u0430\u0440 \u043c\u044b \u043c\u043e\u0436\u0435\u043c \u0443\u0431\u0440\u0430\u0442\u044c \u0438\u0437 \u043d\u0430\u0448\u0435\u0439 \u0432\u044b\u0431\u043e\u0440\u043a\u0438. \u0414\u043b\u044f \u044d\u0442\u043e\u0433\u043e, \u0432 \u043a\u0430\u0436\u0434\u043e\u0439 \u043f\u0430\u0440\u0435, \u0432\u044b\u0431\u0435\u0440\u0435\u043c \u0441\u0442\u043e\u043b\u0431\u0446\u044b, \u043a\u043e\u0442\u043e\u0440\u044b\u0435 \u0432 \u0431\u043e\u043b\u044c\u0448\u0435\u0439 \u0441\u0442\u0435\u043f\u0435\u043d\u0438 \u043e\u043a\u0430\u0437\u044b\u0432\u0430\u044e\u0442 \u0432\u043b\u0438\u044f\u043d\u0438\u0435 \u043d\u0430 \u043f\u0440\u043e\u0433\u043d\u043e\u0437\u043d\u044b\u0435 \u0437\u043d\u0430\u0447\u0435\u043d\u0438\u044f <i>Y1</i> \u0438 <i>Y2</i> \u0438 \u043e\u0441\u0442\u0430\u0432\u0438\u043c \u0438\u0445, \u0430 \u043e\u0441\u0442\u0430\u043b\u044c\u043d\u044b\u0435 \u0443\u0434\u0430\u043b\u0438\u043c."
     ]
    },
    {
     "cell_type": "markdown",
     "metadata": {},
     "source": [
      "\u041a\u0430\u043a \u043c\u043e\u0436\u043d\u043e \u0437\u0430\u043c\u0435\u0442\u0438\u0442\u044c \u0438 \u043c\u0430\u0442\u0440\u0438\u0446\u044b \u0441 \u043a\u043e\u044d\u0444\u0444\u0438\u0446\u0438\u0435\u043d\u0442\u0430\u043c\u0438 \u043a\u043e\u0440\u0440\u0435\u043b\u044f\u0446\u0438\u0438 \u043d\u0430 <i><b>y1</b></i>,<i><b>y2</b></i> \u0431\u043e\u043b\u044c\u0448\u0435 \u0437\u043d\u0430\u0447\u0435\u043d\u0438\u044f \u043e\u043a\u0430\u0437\u044b\u0432\u0430\u044e\u0442 <b><i>X2</i></b> \u0438 <b><i>X5</i></b>, \u043d\u0435\u0436\u0435\u043b\u0438 X1 \u0438 X4, \u0442\u0430\u043a\u0438\u043c \u043e\u0431\u0440\u0430\u0437\u043e\u043c \u043c\u044b \u043c\u043e\u0436\u0435\u043c  \u043f\u043e\u0441\u043b\u0435\u0434\u043d\u0438\u0435 \u0441\u0442\u043e\u043b\u0431\u0446\u044b \u043c\u044b \u043c\u043e\u0436\u0435\u043c \u0443\u0434\u0430\u043b\u0438\u0442\u044c."
     ]
    },
    {
     "cell_type": "code",
     "collapsed": false,
     "input": [
      "dataset = dataset.drop(['X1','X4'], axis=1)\n",
      "dataset.head()"
     ],
     "language": "python",
     "metadata": {},
     "outputs": [
      {
       "html": [
        "<div style=\"max-height:1000px;max-width:1500px;overflow:auto;\">\n",
        "<table border=\"1\" class=\"dataframe\">\n",
        "  <thead>\n",
        "    <tr style=\"text-align: right;\">\n",
        "      <th></th>\n",
        "      <th>X2</th>\n",
        "      <th>X3</th>\n",
        "      <th>X5</th>\n",
        "      <th>X6</th>\n",
        "      <th>X7</th>\n",
        "      <th>X8</th>\n",
        "      <th>Y1</th>\n",
        "      <th>Y2</th>\n",
        "    </tr>\n",
        "  </thead>\n",
        "  <tbody>\n",
        "    <tr>\n",
        "      <th>0</th>\n",
        "      <td> 514.5</td>\n",
        "      <td> 294.0</td>\n",
        "      <td> 7</td>\n",
        "      <td> 2</td>\n",
        "      <td> 0</td>\n",
        "      <td> 0</td>\n",
        "      <td> 15.55</td>\n",
        "      <td> 21.33</td>\n",
        "    </tr>\n",
        "    <tr>\n",
        "      <th>1</th>\n",
        "      <td> 514.5</td>\n",
        "      <td> 294.0</td>\n",
        "      <td> 7</td>\n",
        "      <td> 3</td>\n",
        "      <td> 0</td>\n",
        "      <td> 0</td>\n",
        "      <td> 15.55</td>\n",
        "      <td> 21.33</td>\n",
        "    </tr>\n",
        "    <tr>\n",
        "      <th>2</th>\n",
        "      <td> 514.5</td>\n",
        "      <td> 294.0</td>\n",
        "      <td> 7</td>\n",
        "      <td> 4</td>\n",
        "      <td> 0</td>\n",
        "      <td> 0</td>\n",
        "      <td> 15.55</td>\n",
        "      <td> 21.33</td>\n",
        "    </tr>\n",
        "    <tr>\n",
        "      <th>3</th>\n",
        "      <td> 514.5</td>\n",
        "      <td> 294.0</td>\n",
        "      <td> 7</td>\n",
        "      <td> 5</td>\n",
        "      <td> 0</td>\n",
        "      <td> 0</td>\n",
        "      <td> 15.55</td>\n",
        "      <td> 21.33</td>\n",
        "    </tr>\n",
        "    <tr>\n",
        "      <th>4</th>\n",
        "      <td> 563.5</td>\n",
        "      <td> 318.5</td>\n",
        "      <td> 7</td>\n",
        "      <td> 2</td>\n",
        "      <td> 0</td>\n",
        "      <td> 0</td>\n",
        "      <td> 20.84</td>\n",
        "      <td> 28.28</td>\n",
        "    </tr>\n",
        "  </tbody>\n",
        "</table>\n",
        "</div>"
       ],
       "metadata": {},
       "output_type": "pyout",
       "prompt_number": 4,
       "text": [
        "      X2     X3  X5  X6  X7  X8     Y1     Y2\n",
        "0  514.5  294.0   7   2   0   0  15.55  21.33\n",
        "1  514.5  294.0   7   3   0   0  15.55  21.33\n",
        "2  514.5  294.0   7   4   0   0  15.55  21.33\n",
        "3  514.5  294.0   7   5   0   0  15.55  21.33\n",
        "4  563.5  318.5   7   2   0   0  20.84  28.28"
       ]
      }
     ],
     "prompt_number": 4
    },
    {
     "cell_type": "markdown",
     "metadata": {},
     "source": [
      "\u041f\u043e\u043c\u0438\u043c\u043e \u044d\u0442\u043e\u0433\u043e, \u043c\u043e\u0436\u043d\u043e \u0437\u0430\u043c\u0435\u0442\u0438\u0442\u044c, \u0447\u0442\u043e \u043f\u043e\u043b\u044f <i><b>Y1</b></i> \u0438 <i><b>Y2</b></i> \u043e\u0447\u0435\u043d\u044c \u0442\u0435\u0441\u043d\u043e \u043a\u043e\u0440\u0440\u0435\u043b\u0438\u0440\u0443\u044e\u0442 \u043c\u0435\u0436\u0434\u0443 \u0441\u043e\u0431\u043e\u0439. \u041d\u043e, \u0442. \u043a. \u043d\u0430\u043c \u043d\u0430\u0434\u043e \u0441\u043f\u0440\u043e\u0433\u043d\u043e\u0437\u0438\u0440\u043e\u0432\u0430\u0442\u044c \u043e\u0431\u0430 \u0437\u043d\u0430\u0447\u0435\u043d\u0438\u044f \u043c\u044b \u0438\u0445 \u043e\u0441\u0442\u0430\u0432\u043b\u044f\u0435\u043c \"\u043a\u0430\u043a \u0435\u0441\u0442\u044c\"."
     ]
    },
    {
     "cell_type": "heading",
     "level": 4,
     "metadata": {},
     "source": [
      "\u0412\u044b\u0431\u043e\u0440 \u043c\u043e\u0434\u0435\u043b\u0438"
     ]
    },
    {
     "cell_type": "markdown",
     "metadata": {},
     "source": [
      "\u041e\u0442\u0434\u0435\u043b\u0438\u043c \u043e\u0442 \u043d\u0430\u0448\u0435\u0439 \u0432\u044b\u0431\u043e\u0440\u043a\u0438 \u043f\u0440\u043e\u0433\u043d\u043e\u0437\u043d\u044b\u0435 \u0437\u043d\u0430\u0447\u0435\u043d\u0438\u044f:"
     ]
    },
    {
     "cell_type": "code",
     "collapsed": false,
     "input": [
      "trg = dataset[['Y1','Y2']]\n",
      "trn = dataset.drop(['Y1','Y2'], axis=1)"
     ],
     "language": "python",
     "metadata": {},
     "outputs": [],
     "prompt_number": 5
    },
    {
     "cell_type": "markdown",
     "metadata": {},
     "source": [
      "\u041f\u043e\u0441\u043b\u0435 \u043e\u0431\u0440\u0430\u0431\u043e\u0442\u043a\u0438 \u0434\u0430\u043d\u043d\u044b\u0445 \u043c\u043e\u0436\u043d\u043e \u043f\u0435\u0440\u0435\u0439\u0442\u0438 \u043a \u043f\u043e\u0441\u0442\u0440\u043e\u0435\u043d\u0438\u044e \u043c\u043e\u0434\u0435\u043b\u0438. \u0414\u043b\u044f \u043f\u043e\u0441\u0442\u0440\u043e\u0435\u043d\u0438\u044f \u043c\u043e\u0434\u0435\u043b\u0438 \u0431\u0443\u0434\u0435\u043c \u0438\u0441\u043f\u043e\u043b\u044c\u0437\u043e\u0432\u0430\u0442\u044c \u0441\u043b\u0435\u0434\u0443\u044e\u0449\u0438\u0435 \u043c\u0435\u0442\u043e\u0434\u044b:\n",
      "<ul>\n",
      "<li><a href='http://ru.wikipedia.org/wiki/%CC%E5%F2%EE%E4_%ED%E0%E8%EC%E5%ED%FC%F8%E8%F5_%EA%E2%E0%E4%F0%E0%F2%EE%E2'>\u041c\u0435\u0442\u043e\u0434 \u043d\u0430\u0438\u043c\u0435\u043d\u044c\u0448\u0438\u0445 \u043a\u0432\u0430\u0434\u0440\u0430\u0442\u043e\u0432</a></li>\n",
      "<li><a href='http://ru.wikipedia.org/wiki/Random_forest'>\u0421\u043b\u0443\u0447\u0430\u0439\u043d\u044b\u0439 \u043b\u0435\u0441</a></li>\n",
      "<li><a href='http://ru.wikipedia.org/wiki/%D0%9B%D0%BE%D0%B3%D0%B8%D1%81%D1%82%D0%B8%D1%87%D0%B5%D1%81%D0%BA%D0%B0%D1%8F_%D1%80%D0%B5%D0%B3%D1%80%D0%B5%D1%81%D1%81%D0%B8%D1%8F'>\u041b\u043e\u0433\u0438\u0441\u0442\u0438\u0447\u0435\u0441\u043a\u0443\u044e \u0440\u0435\u0433\u0440\u0435\u0441\u0441\u0438\u044e</a></li>\n",
      "<li><a href='http://ru.wikipedia.org/wiki/%CC%E5%F2%EE%E4_%EE%EF%EE%F0%ED%FB%F5_%E2%E5%EA%F2%EE%F0%EE%E2'>\u041c\u0435\u0442\u043e\u0434 \u043e\u043f\u043e\u0440\u043d\u044b\u0445 \u0432\u0435\u043a\u0442\u043e\u0440\u043e\u0432</a></li>\n",
      "<li><a href='http://www.machinelearning.ru/wiki/index.php?title=KNN'>\u041c\u0435\u0442\u043e\u0434 \u0431\u043b\u0438\u0436\u0430\u0439\u0448\u0438\u0445 \u0441\u043e\u0441\u0435\u0434\u0435\u0439</a></li>\n",
      "</ul>"
     ]
    },
    {
     "cell_type": "markdown",
     "metadata": {},
     "source": [
      "\u0422\u0435\u043e\u0440\u0438\u044e \u043e \u0434\u0430\u043d\u043d\u044b\u043c \u043c\u0435\u0442\u043e\u0434\u0430\u043c \u043c\u043e\u0436\u043d\u043e \u043f\u043e\u0447\u0438\u0442\u0430\u0442\u044c \u0432 <a href='http://www.machinelearning.ru/wiki/index.php?title=%D0%9C%D0%B0%D1%88%D0%B8%D0%BD%D0%BD%D0%BE%D0%B5_%D0%BE%D0%B1%D1%83%D1%87%D0%B5%D0%BD%D0%B8%D0%B5_(%D0%BA%D1%83%D1%80%D1%81_%D0%BB%D0%B5%D0%BA%D1%86%D0%B8%D0%B9%2C_%D0%9A.%D0%92.%D0%92%D0%BE%D1%80%D0%BE%D0%BD%D1%86%D0%BE%D0%B2)'>\u043a\u0443\u0440\u0441\u0435 \u043b\u0435\u043a\u0446\u0438\u0439 \u041a.\u0412.\u0412\u043e\u0440\u043e\u043d\u0446\u043e\u0432\u0430 \u043f\u043e \u043c\u0430\u0448\u0438\u043d\u043d\u043e\u043c\u0443 \u043e\u0431\u0443\u0447\u0435\u043d\u0438\u044e</a>."
     ]
    },
    {
     "cell_type": "markdown",
     "metadata": {},
     "source": [
      "\u041e\u0446\u0435\u043d\u043a\u0443 \u0431\u0443\u0434\u0435\u043c \u043f\u0440\u043e\u0438\u0437\u0432\u043e\u0434\u0438\u0442\u044c \u0441 \u043f\u043e\u043c\u043e\u0449\u044c\u044e <a href='http://ru.wikipedia.org/wiki/%CA%EE%FD%F4%F4%E8%F6%E8%E5%ED%F2_%E4%E5%F2%E5%F0%EC%E8%ED%E0%F6%E8%E8'>\u043a\u043e\u044d\u0444\u0444\u0438\u0446\u0438\u0435\u043d\u0442\u0430 \u0434\u0435\u0442\u0435\u0440\u043c\u0438\u043d\u0430\u0446\u0438\u0438</a> (<i>R-\u043a\u0432\u0430\u0434\u0440\u0430\u0442</i>). \u0414\u0430\u043d\u043d\u044b\u0439 \u043a\u043e\u044d\u0444\u0444\u0438\u0446\u0438\u0435\u043d\u0442 \u043e\u043f\u0440\u0435\u0434\u0435\u043b\u044f\u0435\u0442\u0441\u044f \u0441\u043b\u0435\u0434\u0443\u044e\u0449\u0438\u043c \u043e\u0431\u0440\u0430\u0437\u043e\u043c:"
     ]
    },
    {
     "cell_type": "markdown",
     "metadata": {},
     "source": [
      "$$R^2 = 1 - \\frac{V(y|x)}{V(y)} = 1 - \\frac{\\sigma^2}{\\sigma_y^2}$$"
     ]
    },
    {
     "cell_type": "markdown",
     "metadata": {},
     "source": [
      ",\u0433\u0434\u0435 $V(y|x) = {\\sigma^2}$ - \u0443\u0441\u043b\u043e\u0432\u043d\u0430\u044f \u0434\u0438\u0441\u043f\u0435\u0440\u0441\u0438\u044f \u0437\u0430\u0432\u0438\u0441\u0438\u043c\u043e\u0439 \u0432\u0435\u043b\u0438\u0447\u0438\u043d\u044b <i>\u0443</i> \u043f\u043e \u0444\u0430\u043a\u0442\u043e\u0440\u0443 <i>\u0445</i>"
     ]
    },
    {
     "cell_type": "markdown",
     "metadata": {},
     "source": [
      "\u041a\u043e\u044d\u0444\u0444\u0438\u0446\u0438\u0435\u043d\u0442 \u043f\u0440\u0438\u043d\u0438\u043c\u0430\u0435\u0442 \u0437\u043d\u0430\u0447\u0435\u043d\u0438\u0435 \u043d\u0430 \u043f\u0440\u043e\u043c\u0435\u0436\u0443\u0442\u043a\u0435 $[0,1]$ \u0438 \u0447\u0435\u043c \u043e\u043d \u0431\u043b\u0438\u0436\u0435 \u043a 1 \u0442\u0435\u043c \u0441\u0438\u043b\u044c\u043d\u0435\u0435 \u0437\u0430\u0432\u0438\u0441\u0438\u043c\u043e\u0441\u0442\u044c."
     ]
    },
    {
     "cell_type": "markdown",
     "metadata": {},
     "source": [
      "\u041d\u0443 \u0447\u0442\u043e \u0436\u0435 \u0442\u0435\u043f\u0435\u0440\u044c \u043c\u043e\u0436\u043d\u043e \u043f\u0435\u0440\u0435\u0439\u0442\u0438 \u043d\u0435\u043f\u043e\u0441\u0440\u0435\u0434\u0441\u0442\u0432\u0435\u043d\u043d\u043e \u043a \u043f\u043e\u0441\u0442\u0440\u043e\u0435\u043d\u0438\u044e \u043c\u043e\u0434\u0435\u043b\u0438 \u0438 \u0432\u044b\u0431\u043e\u0440\u0443 \u043c\u043e\u0434\u0435\u043b\u0438. \u0414\u0430\u0432\u0430\u0439\u0442\u0435 \u043f\u043e\u043c\u0435\u0441\u0442\u0438\u043c \u0432\u0441\u0435 \u043d\u0430\u0448\u0438 \u043c\u043e\u0434\u0435\u043b\u0438 \u0432 \u043e\u0434\u0438\u043d \u0441\u043f\u0438\u0441\u043e\u043a \u0434\u043b\u044f \u0443\u0434\u043e\u0431\u0441\u0442\u0432\u0430 \u0434\u0430\u043b\u044c\u043d\u0435\u0439\u0448\u0435\u0433\u043e \u0430\u043d\u0430\u043b\u0438\u0437\u0430:"
     ]
    },
    {
     "cell_type": "code",
     "collapsed": false,
     "input": [
      "models = [LinearRegression(), # \u043c\u0435\u0442\u043e\u0434 \u043d\u0430\u0438\u043c\u0435\u043d\u044c\u0448\u0438\u0445 \u043a\u0432\u0430\u0434\u0440\u0430\u0442\u043e\u0432\n",
      "          RandomForestRegressor(n_estimators=100, max_features ='sqrt'), # \u0441\u043b\u0443\u0447\u0430\u0439\u043d\u044b\u0439 \u043b\u0435\u0441\n",
      "          KNeighborsRegressor(n_neighbors=6), # \u043c\u0435\u0442\u043e\u0434 \u0431\u043b\u0438\u0436\u0430\u0439\u0448\u0438\u0445 \u0441\u043e\u0441\u0435\u0434\u0435\u0439\n",
      "          SVR(kernel='linear'), # \u043c\u0435\u0442\u043e\u0434 \u043e\u043f\u043e\u0440\u043d\u044b\u0445 \u0432\u0435\u043a\u0442\u043e\u0440\u043e\u0432 \u0441 \u043b\u0438\u043d\u0435\u0439\u043d\u044b\u043c \u044f\u0434\u0440\u043e\u043c\n",
      "          LogisticRegression() # \u043b\u043e\u0433\u0438\u0441\u0442\u0438\u0447\u0435\u0441\u043a\u0430\u044f \u0440\u0435\u0433\u0440\u0435\u0441\u0441\u0438\u044f\n",
      "          ]"
     ],
     "language": "python",
     "metadata": {},
     "outputs": [],
     "prompt_number": 6
    },
    {
     "cell_type": "markdown",
     "metadata": {},
     "source": [
      "\u0418\u0442\u0430\u043a \u043c\u043e\u0434\u0435\u043b\u0438 \u0433\u043e\u0442\u043e\u0432\u044b, \u0442\u0435\u043f\u0435\u0440\u044c \u043c\u044b \u0440\u0430\u0437\u043e\u0431\u044a\u0435\u043c \u043d\u0430\u0448\u0438 \u0438\u0441\u0445\u043e\u0434\u043d\u044b\u0435 \u0434\u0430\u043d\u043d\u044b\u0435 \u043d\u0430 2 \u043f\u043e\u0434\u0432\u044b\u0431\u043e\u0440\u043a\u0438: <i>\u0442\u0435\u0441\u0442\u043e\u0432\u0443\u044e</i> \u0438 <i>\u043e\u0431\u0443\u0447\u0430\u044e\u0449\u0443\u044e</i>. \u041a\u0442\u043e \u0447\u0438\u0442\u0430\u043b \u043c\u043e\u0438 \u043f\u0440\u0435\u0434\u044b\u0434\u0443\u0449\u0438\u0435 \u0441\u0442\u0430\u0442\u044c\u0438 \u0437\u043d\u0430\u0435\u0442, \u0447\u0442\u043e \u0441\u0434\u0435\u043b\u0430\u0442\u044c \u044d\u0442\u043e \u043c\u043e\u0436\u043d\u043e \u0441 \u043f\u043e\u043c\u043e\u0449\u044c\u044e \u0444\u0443\u043d\u043a\u0446\u0438\u0438 <a hrfe='http://scikit-learn.org/stable/modules/generated/sklearn.cross_validation.train_test_split.html'>train_test_split()</a> \u0438\u0437 \u043f\u0430\u043a\u0435\u0442\u0430 scikit-learn:"
     ]
    },
    {
     "cell_type": "code",
     "collapsed": false,
     "input": [
      "Xtrn, Xtest, Ytrn, Ytest = train_test_split(trn, trg, test_size=0.4)"
     ],
     "language": "python",
     "metadata": {},
     "outputs": [],
     "prompt_number": 7
    },
    {
     "cell_type": "markdown",
     "metadata": {},
     "source": [
      "\u0422\u0435\u043f\u0435\u0440\u044c, \u0442. \u043a. \u043d\u0430\u043c \u043d\u0430\u0434\u043e \u0441\u043f\u0440\u043e\u0433\u043d\u043e\u0437\u0438\u0440\u043e\u0432\u0430\u0442\u044c 2 \u043f\u0430\u0440\u0430\u043c\u0435\u0442\u0440\u0430 $y1,y2$, \u043d\u0430\u0434\u043e \u043f\u043e\u0441\u0442\u0440\u043e\u0438\u0442\u044c \u0440\u0435\u0433\u0440\u0435\u0441\u0441\u0438\u044e \u0434\u043b\u044f \u043a\u0430\u0436\u0434\u043e\u0433\u043e \u0438\u0437 \u043d\u0438\u0445. \u041a\u0440\u043e\u043c\u0435 \u044d\u0442\u043e\u0433\u043e, \u0434\u043b\u044f \u0434\u0430\u043b\u044c\u043d\u0435\u0439\u0448\u0435\u0433\u043e \u0430\u043d\u0430\u043b\u0438\u0437\u0430, \u043c\u043e\u0436\u043d\u043e \u0437\u0430\u043f\u0438\u0441\u0430\u0442\u044c \u043f\u043e\u043b\u0443\u0447\u0435\u043d\u043d\u044b\u0435 \u0440\u0435\u0437\u0443\u043b\u044c\u0442\u0430\u0442\u044b \u0432\u043e \u0432\u0440\u0435\u043c\u0435\u043d\u043d\u044b\u0439 <i>DataFrame</i>. \u0421\u0434\u0435\u043b\u0430\u0442\u044c \u044d\u0442\u043e \u043c\u043e\u0436\u043d\u043e \u0442\u0430\u043a:"
     ]
    },
    {
     "cell_type": "code",
     "collapsed": false,
     "input": [
      "#\u0441\u043e\u0437\u0434\u0430\u0435\u043c \u0432\u0440\u0435\u043c\u0435\u043d\u043d\u044b\u0435 \u0441\u0442\u0440\u0443\u043a\u0442\u0443\u0440\u044b\n",
      "TestModels = DataFrame()\n",
      "tmp = {}\n",
      "#\u0434\u043b\u044f \u043a\u0430\u0436\u0434\u043e\u0439 \u043c\u043e\u0434\u0435\u043b\u0438 \u0438\u0437 \u0441\u043f\u0438\u0441\u043a\u0430\n",
      "for model in models:\n",
      "    #\u043f\u043e\u043b\u0443\u0447\u0430\u0435\u043c \u0438\u043c\u044f \u043c\u043e\u0434\u0435\u043b\u0438\n",
      "    m = str(model)\n",
      "    tmp['Model'] = m[:m.index('(')]    \n",
      "    #\u0434\u043b\u044f \u043a\u0430\u0436\u0434\u043e\u0433\u043e \u0441\u0442\u043e\u043b\u0431\u0446\u0430\u043c \u0440\u0435\u0437\u0443\u043b\u044c\u0442\u0438\u0440\u0443\u044e\u0449\u0435\u0433\u043e \u043d\u0430\u0431\u043e\u0440\u0430\n",
      "    for i in  xrange(Ytrn.shape[1]):\n",
      "        #\u043e\u0431\u0443\u0447\u0430\u0435\u043c \u043c\u043e\u0434\u0435\u043b\u044c\n",
      "        model.fit(Xtrn, Ytrn[:,i]) \n",
      "        #\u0432\u044b\u0447\u0438\u0441\u043b\u044f\u0435\u043c \u043a\u043e\u044d\u0444\u0444\u0438\u0446\u0438\u0435\u043d\u0442 \u0434\u0435\u0442\u0435\u0440\u043c\u0438\u043d\u0430\u0446\u0438\u0438\n",
      "        tmp['R2_Y%s'%str(i+1)] = r2_score(Ytest[:,0], model.predict(Xtest))\n",
      "    #\u0437\u0430\u043f\u0438\u0441\u044b\u0432\u0430\u0435\u043c \u0434\u0430\u043d\u043d\u044b\u0435 \u0438 \u0438\u0442\u043e\u0433\u043e\u0432\u044b\u0439 DataFrame\n",
      "    TestModels = TestModels.append([tmp])\n",
      "#\u0434\u0435\u043b\u0430\u0435\u043c \u0438\u043d\u0434\u0435\u043a\u0441 \u043f\u043e \u043d\u0430\u0437\u0432\u0430\u043d\u0438\u044e \u043c\u043e\u0434\u0435\u043b\u0438\n",
      "TestModels.set_index('Model', inplace=True)"
     ],
     "language": "python",
     "metadata": {},
     "outputs": [],
     "prompt_number": 8
    },
    {
     "cell_type": "markdown",
     "metadata": {},
     "source": [
      "\u041a\u0430\u043a \u043c\u043e\u0436\u043d\u043e \u0437\u0430\u043c\u0435\u0442\u0438\u0442\u044c \u0438\u0437 \u043a\u043e\u0434\u0430 \u0432\u044b\u0448\u0435, \u0434\u043b\u044f \u0440\u043e\u0430\u0441\u0447\u0435\u0442\u0430 \u043a\u043e\u044d\u0444\u0444\u0438\u0446\u0438\u0435\u043d\u0442\u0430 $R^2$ \u0438\u0441\u043f\u043e\u043b\u044c\u0437\u0443\u0435\u0442\u0441\u044f \u0444\u0443\u043d\u043a\u0446\u0438\u044f <a hrfe='http://scikit-learn.org/stable/modules/generated/sklearn.metrics.r2_score.html'>r2_score()</a>."
     ]
    },
    {
     "cell_type": "markdown",
     "metadata": {},
     "source": [
      "\u0418\u0442\u0430\u043a, \u0434\u0430\u043d\u043d\u044b\u0435 \u0434\u043b\u044f \u0430\u043d\u0430\u043b\u0438\u0437\u0430 \u043f\u043e\u043b\u0443\u0447\u0435\u043d\u044b. \u0414\u0430\u0432\u0430\u0439\u0442\u0435 \u0442\u0435\u043f\u0435\u0440\u044c \u043f\u043e\u0441\u0442\u0440\u043e\u0438\u043c \u0433\u0440\u0430\u0444\u0438\u043a\u0438 \u0438 \u043f\u043e\u0441\u043c\u043e\u0442\u0440\u0438\u043c \u043a\u0430\u043a\u0430\u044f \u043c\u043e\u0434\u0435\u043b\u044c \u043f\u043e\u043a\u0430\u0437\u0430\u043b\u0430 \u043b\u0443\u0447\u0448\u0438\u0439 \u0440\u0435\u0437\u0443\u043b\u044c\u0442\u0430\u0442:"
     ]
    },
    {
     "cell_type": "code",
     "collapsed": false,
     "input": [
      "fig, axes = plt.subplots(ncols=2, figsize=(10,4))\n",
      "TestModels.R2_Y1.plot(ax=axes[0], kind='bar', title='R2_Y1')\n",
      "TestModels.R2_Y2.plot(ax=axes[1], kind='bar', color='green', title='R2_Y2')"
     ],
     "language": "python",
     "metadata": {},
     "outputs": [
      {
       "metadata": {},
       "output_type": "pyout",
       "prompt_number": 9,
       "text": [
        "<matplotlib.axes.AxesSubplot at 0x6107af0>"
       ]
      },
      {
       "metadata": {},
       "output_type": "display_data",
       "png": "[encoded data removed]",
       "text": [
        "<matplotlib.figure.Figure at 0x5befbf0>"
       ]
      }
     ],
     "prompt_number": 9
    },
    {
     "cell_type": "heading",
     "level": 4,
     "metadata": {},
     "source": [
      "\u0410\u043d\u0430\u043b\u0438\u0437 \u0440\u0435\u0437\u0443\u043b\u044c\u0442\u0430\u0442\u043e\u0432 \u0438 \u0432\u044b\u0432\u043e\u0434\u044b"
     ]
    },
    {
     "cell_type": "markdown",
     "metadata": {},
     "source": [
      "\u0418\u0437 \u0433\u0440\u0430\u0444\u0438\u043a\u043e\u0432, \u043f\u0440\u0438\u0432\u0435\u0434\u0435\u043d\u043d\u044b\u0445 \u0432\u044b\u0448\u0435, \u043c\u043e\u0436\u043d\u043e \u0441\u0434\u0435\u043b\u0430\u0442\u044c \u0432\u044b\u0432\u043e\u0434, \u0447\u0442\u043e \u043b\u0443\u0447\u0448\u0435 \u0434\u0440\u0443\u0433\u0438\u0445 \u0441 \u0437\u0430\u0434\u0430\u0447\u0435\u0439 \u0441\u043f\u0440\u0430\u0432\u0438\u043b\u0441\u044f \u043c\u0435\u0442\u043e\u0434 <i>RandomForest</i> (\u0441\u043b\u0443\u0447\u0430\u0439\u043d\u044b\u0439 \u043b\u0435\u0441). \u0415\u0433\u043e \u043a\u043e\u044d\u0444\u0444\u0438\u0446\u0438\u0435\u043d\u0442\u044b \u0434\u0435\u0442\u0435\u0440\u043c\u0438\u043d\u0430\u0446\u0438\u0438 \u0432\u044b\u0448\u0435 \u043e\u0441\u0442\u0430\u043b\u044c\u043d\u044b\u0445 \u043f\u043e \u043e\u0431\u043e\u0438\u043c \u043f\u0435\u0440\u0435\u043c\u0435\u043d\u043d\u044b\u043c: $R_{y1}^2 \\approx 99\\%,\\ R_{y2}^2 \\approx 90\\%$"
     ]
    },
    {
     "cell_type": "markdown",
     "metadata": {},
     "source": [
      "\u0414\u043b\u044f \u0434\u0430\u043b\u044c\u043d\u0435\u0439\u0448\u0435\u0433\u043e \u0430\u043d\u0430\u043b\u0438\u0437\u0430 \u0434\u0430\u0432\u0430\u0439\u0442\u0435 \u0437\u0430\u043d\u043e\u0432\u043e \u043e\u0431\u0443\u0447\u0438\u043c \u043d\u0430\u0448\u0443 \u043c\u043e\u0434\u0435\u043b\u044c:"
     ]
    },
    {
     "cell_type": "code",
     "collapsed": false,
     "input": [
      "model = models[1]\n",
      "model.fit(Xtrn, Ytrn)"
     ],
     "language": "python",
     "metadata": {},
     "outputs": [
      {
       "metadata": {},
       "output_type": "pyout",
       "prompt_number": 10,
       "text": [
        "RandomForestRegressor(bootstrap=True, compute_importances=None,\n",
        "           criterion='mse', max_depth=None, max_features='sqrt',\n",
        "           min_density=None, min_samples_leaf=1, min_samples_split=2,\n",
        "           n_estimators=100, n_jobs=1, oob_score=False, random_state=None,\n",
        "           verbose=0)"
       ]
      }
     ],
     "prompt_number": 10
    },
    {
     "cell_type": "markdown",
     "metadata": {},
     "source": [
      "\u041f\u0440\u0438 \u0432\u043d\u0438\u043c\u0430\u0442\u0435\u043b\u044c\u043d\u043e\u043c \u0440\u0430\u0441\u0441\u043c\u043e\u0442\u0440\u0435\u043d\u0438\u0438, \u043c\u043e\u0436\u0435\u0442 \u0432\u043e\u0437\u043d\u0438\u043a\u043d\u0443\u0442\u044c \u0432\u043e\u043f\u0440\u043e\u0441, \u043f\u043e\u0447\u0435\u043c\u0443 \u0432 \u043f\u0440\u0435\u0434\u044b\u0434\u0443\u0449\u0438\u0439 \u0440\u0430\u0437 \u0438 \u0434\u0435\u043b\u0438\u043b\u0438 \u0437\u0430\u0432\u0438\u0441\u0438\u043c\u0443\u044e \u0432\u044b\u0431\u043e\u0440\u043a\u0443 <i>Ytrn</i> \u043d\u0430 \u043f\u0435\u0440\u0435\u043c\u0435\u043d\u043d\u044b\u0435(\u043f\u043e \u0441\u0442\u043e\u043b\u0431\u0446\u0430\u043c\u043c), \u0430 \u0442\u0435\u043f\u0435\u0440\u044c \u043c\u044b \u044d\u0442\u043e\u0433\u043e \u043d\u0435 \u0434\u0435\u043b\u0430\u0435\u043c."
     ]
    },
    {
     "cell_type": "markdown",
     "metadata": {},
     "source": [
      "\u0414\u0435\u043b\u043e \u0432 \u0442\u043e\u043c, \u0447\u0442\u043e \u043d\u0435\u043a\u043e\u0442\u043e\u0440\u044b\u0435 \u043c\u0435\u0442\u043e\u0434\u044b, \u0442\u0430\u043a\u0438\u0435 \u043a\u0430\u043a <i>RandomForestRegressor</i>, \u043c\u043e\u0436\u0435\u0442 \u0440\u0430\u0431\u043e\u0442\u0430\u0442\u044c \u0441 \u043d\u0435\u0441\u043a\u043e\u043b\u044c\u043a\u0438\u043c\u0438 \u043f\u0440\u043e\u0433\u043d\u043e\u0437\u0438\u0440\u0443\u0435\u043c\u044b\u043c\u0438 \u043f\u0435\u0440\u0435\u043c\u0435\u043d\u043d\u044b\u043c\u0438, \u0430 \u0434\u0440\u0443\u0433\u0438\u0435 (\u043d\u0430\u043f\u0440\u0438\u043c\u0435\u0440 <i>SVR</i>) \u043c\u043e\u0433\u0443\u0442 \u0440\u0430\u0431\u043e\u0442\u0430\u0442\u044c \u0442\u043e\u043b\u044c\u043a\u043e \u0441 \u043e\u0434\u043d\u043e\u0439 \u043f\u0435\u0440\u0435\u043c\u0435\u043d\u043d\u043e\u0439. \u041f\u043e\u044d\u0442\u043e\u043c\u0443 \u043d\u0430 \u043f\u0440\u0438 \u043f\u0440\u0435\u0434\u044b\u0434\u0443\u0449\u0435\u043c \u043e\u0431\u0443\u0447\u0435\u043d\u0438\u0438 \u043c\u044b \u0438\u0441\u043f\u043e\u043b\u044c\u0437\u043e\u0432\u0430\u043b\u0438 \u0440\u0430\u0437\u0431\u0438\u0435\u043d\u0438\u0435 \u043f\u043e \u0441\u0442\u043e\u043b\u0431\u0446\u0430\u043c, \u0447\u0442\u043e\u0431\u044b \u0438\u0437\u0431\u0435\u0436\u0430\u0442\u044c \u043e\u0448\u0438\u0431\u043a\u0438 \u0432 \u043f\u0440\u043e\u0446\u0435\u0441\u0441\u0435 \u043f\u043e\u0441\u0442\u0440\u043e\u0435\u043d\u0438\u044f \u043d\u0435\u043a\u043e\u0442\u043e\u0440\u044b\u0445 \u043c\u043e\u0434\u0435\u043b\u0435\u0439."
     ]
    },
    {
     "cell_type": "markdown",
     "metadata": {},
     "source": [
      "\u0412\u044b\u0431\u0440\u0430\u0442\u044c \u043c\u043e\u0434\u0435\u043b\u044c \u044d\u0442\u043e, \u043a\u043e\u043d\u0435\u0447\u043d\u043e \u0436\u0435, \u0445\u043e\u0440\u043e\u0448\u043e, \u043d\u043e \u0435\u0449\u0435 \u043d\u0435\u043f\u043b\u043e\u0445\u043e \u0431\u044b \u043e\u0431\u043b\u0430\u0434\u0430\u0442\u044c \u0438\u043d\u0444\u043e\u0440\u043c\u0430\u0446\u0438\u0435\u0439, \u043a\u0430\u043a \u043a\u0430\u0436\u0434\u044b\u0439 \u0444\u0430\u043a\u0442\u043e\u0440 \u0432\u043b\u0438\u0435\u0442 \u043d\u0430 \u043f\u0440\u043e\u0433\u043d\u043e\u0437\u043d\u043e\u0435 \u0437\u043d\u0430\u0447\u0435\u043d\u0438\u0435. \u0414\u043b\u044f \u044d\u0442\u043e\u0433\u043e \u0443 \u043c\u043e\u0434\u0435\u043b\u0438 \u0435\u0441\u0442\u044c \u0441\u0432\u043e\u0439\u0441\u0442\u0432\u043e <i>feature\\_importances\\_</i>."
     ]
    },
    {
     "cell_type": "markdown",
     "metadata": {},
     "source": [
      "\u0421 \u043f\u043e\u043c\u043e\u0449\u044c\u044e \u043d\u0435\u0433\u043e, \u043c\u043e\u0436\u043d\u043e \u043f\u043e\u0441\u043c\u043e\u0442\u0440\u0435\u0442\u044c \u0432\u0435\u0441 \u043a\u0430\u0436\u0434\u043e\u0433\u043e \u0444\u0430\u043a\u0442\u043e\u0440\u0430 \u0432 \u0438\u0442\u043e\u0433\u043e\u0432\u043e\u0439 \u043c\u043e\u0434\u0435\u043b\u0435:"
     ]
    },
    {
     "cell_type": "code",
     "collapsed": false,
     "input": [
      "model.feature_importances_"
     ],
     "language": "python",
     "metadata": {},
     "outputs": [
      {
       "metadata": {},
       "output_type": "pyout",
       "prompt_number": 11,
       "text": [
        "array([ 0.40717901,  0.11394948,  0.34984766,  0.00751686,  0.09158358,\n",
        "        0.02992342])"
       ]
      }
     ],
     "prompt_number": 11
    },
    {
     "cell_type": "markdown",
     "metadata": {},
     "source": [
      "\u0412 \u043d\u0430\u0448\u0435\u043c \u0441\u043b\u0443\u0447\u0430\u0435 \u0432\u0438\u0434\u043d\u043e, \u0447\u0442\u043e \u0431\u043e\u043b\u044c\u0448\u0435 \u0432\u0441\u0435\u0433\u043e \u043d\u0430 \u043d\u0430\u0433\u0440\u0443\u0437\u043a\u0443 \u043f\u0440\u0438 \u043e\u0431\u043e\u0433\u0440\u0435\u0432\u0435 \u0438 \u043e\u0445\u043b\u0430\u0436\u0434\u0435\u043d\u0438\u0438 \u0432\u043b\u0438\u044f\u044e\u0442 \u043e\u0431\u0449\u0430\u044f \u0432\u044b\u0441\u043e\u0442\u0430 \u0438 \u043f\u043b\u043e\u0449\u0430\u0434\u044c. \u0418\u0445 \u043e\u0431\u0449\u0438\u0439 \u0432\u043a\u043b\u0430\u0434 \u0432 \u043f\u0440\u043e\u0433\u043d\u043e\u0437\u043d\u043e\u0439 \u043c\u043e\u0434\u0435\u043b\u0438 \u043e\u043a\u043e\u043b\u043e 72%."
     ]
    },
    {
     "cell_type": "markdown",
     "metadata": {},
     "source": [
      "\u0422\u0430\u043a\u0436\u0435 \u043d\u0435\u043e\u0431\u0445\u043e\u0434\u0438\u043c\u043e \u043e\u0442\u043c\u0435\u0442\u0438\u0442\u044c, \u0447\u0442\u043e \u043f\u043e \u0432\u044b\u0448\u0435\u0443\u043a\u0430\u0437\u0430\u043d\u043d\u043e\u0439 \u0441\u0445\u0435\u043c\u0435 \u043c\u043e\u0436\u043d\u043e \u043f\u043e\u0441\u043c\u043e\u0442\u0440\u0435\u0442\u044c \u0432\u043b\u0438\u044f\u043d\u0435 \u043a\u0430\u0436\u0434\u043e\u0433\u043e \u0444\u0430\u043a\u0442\u043e\u0440\u0430 \u043e\u0434\u0435\u043b\u044c\u043d\u043e \u043d\u0430 \u043e\u0431\u043e\u0433\u0440\u0435\u0432 \u0438 \u043e\u0442\u0434\u0435\u043b\u044c\u043d\u043e \u043d\u0430 \u043e\u0445\u043b\u0430\u0436\u0434\u0435\u043d\u0438\u0435, \u043d\u043e \u0442. \u043a. \u044d\u0442\u0438 \u0444\u0430\u043a\u0442\u043e\u0440\u044b \u0443 \u043d\u0430\u0441 \u043e\u0447\u0435\u043d\u044c \u0442\u0435\u0441\u043d\u043e \u043a\u043e\u0440\u0440\u0435\u043b\u0438\u0440\u0443\u044e\u0442 \u043c\u0435\u0436\u0434\u0443 \u0441\u043e\u0431\u043e\u0439  ($r\\ =\\ 97\\%$), \u043c\u044b \u0441\u043b\u0435\u0434\u0430\u043b\u0438 \u043e\u0431\u0449\u0438\u0439 \u0432\u044b\u0432\u043e\u0434 \u043f\u043e \u043d\u0438\u043c \u043e\u0431\u043e\u0438\u043c \u043a\u043e\u0442\u043e\u0440\u044b\u0439 \u0438 \u0431\u044b\u043b \u043d\u0430\u043f\u0438\u0441\u0430\u043d \u0432\u044b\u0448\u0435."
     ]
    },
    {
     "cell_type": "heading",
     "level": 4,
     "metadata": {},
     "source": [
      "\u0417\u0430\u043a\u043b\u044e\u0447\u0435\u043d\u0438\u0435"
     ]
    },
    {
     "cell_type": "markdown",
     "metadata": {},
     "source": [
      "\u0412 \u0441\u0442\u0430\u0442\u044c\u0435 \u044f \u043f\u043e\u0441\u0442\u0430\u0440\u0430\u043b\u0441\u044f \u043f\u043e\u043a\u0430\u0437\u0430\u0442\u044c \u043e\u0441\u043d\u043e\u0432\u043d\u044b\u0435 \u044d\u0442\u0430\u043f\u044b \u043f\u0440\u0438 \u0440\u0435\u0433\u0440\u0435\u0441\u0441\u0438\u043e\u043d\u043d\u043e\u043c \u0430\u043d\u0430\u043b\u0438\u0437\u0435 \u0434\u0430\u043d\u043d\u044b\u0445 \u0441 \u043f\u043e\u043c\u043e\u0449\u044c\u044e Python \u0438 \u0430\u043d\u0430\u043b\u0438\u0442\u0447\u0435\u0441\u043a\u0438\u0445 \u043f\u0430\u043a\u0435\u0442\u043e\u0432 <b>pandas</b> \u0438 <b>scikit-learn</b>. "
     ]
    },
    {
     "cell_type": "markdown",
     "metadata": {},
     "source": [
      "\u041d\u0435\u043e\u0431\u0445\u043e\u0434\u0438\u043c\u043e \u043e\u0442\u043c\u0435\u0442\u0438\u0442\u044c, \u0447\u0442\u043e \u043d\u0430\u0431\u043e\u0440 \u0434\u0430\u043d\u043d\u044b\u0445 \u0441\u043f\u0435\u0446\u0438\u0430\u043b\u044c\u043d\u043e \u0432\u044b\u0431\u0438\u0440\u0430\u043b\u0441\u044f \u0442\u0430\u043a\u0438\u043c \u043e\u0431\u0440\u0430\u0437\u043e\u043c \u0447\u0442\u043e\u0431\u044b \u0431\u044b\u0442\u044c \u043c\u0430\u043a\u0441\u0438\u043c\u0430\u043b\u044c\u043d\u043e \u0444\u043e\u0440\u043c\u0430\u043b\u0438\u0437\u043e\u0432\u0430\u043d\u044b\u043c \u0438 \u043f\u0435\u0440\u0432\u0438\u0447\u043d\u0430\u044f \u043e\u0431\u0440\u0430\u0431\u043e\u0442\u043a\u0430 \u0432\u0445\u043e\u0434\u043d\u044b\u0445 \u0434\u0430\u043d\u043d\u044b\u0445 \u0431\u044b\u043b\u0430 \u0431\u044b \u043c\u0438\u043d\u0438\u043c\u0430\u043b\u044c\u043d\u0430. \u041d\u0430 \u043c\u043e\u0439 \u0432\u0437\u0433\u043b\u044f\u0434 \u0441\u0442\u0430\u0442\u044c\u044f \u0431\u0443\u0434\u0435\u0442 \u043f\u043e\u043b\u0435\u0437\u043d\u0430 \u0442\u0435\u043c, \u043a\u0442\u043e \u0442\u043e\u043b\u044c\u043a\u043e \u043d\u0430\u0447\u0438\u043d\u0430\u0435\u0442 \u0441\u0432\u043e\u0439 \u043f\u0443\u0442\u044c \u0432 \u0430\u043d\u0430\u043b\u0438\u0437\u0435 \u0434\u0430\u043d\u043d\u044b\u0445, \u0430 \u0442\u0430\u043a\u0436\u0435 \u0442\u0435\u043c \u043a\u0442\u043e \u0438\u043c\u0435\u0435\u0442 \u0445\u043e\u0440\u043e\u0448\u0443\u044e \u0442\u0435\u043e\u0440\u0438\u0442\u0438\u0447\u0435\u0441\u043a\u0443\u044e \u0431\u0430\u0437\u0443, \u043d\u043e \u0432\u044b\u0431\u0438\u0440\u0430\u0435\u0442 \u0438\u043d\u0441\u0442\u0440\u0443\u043c\u0435\u043d\u0442\u0430\u0440\u0438\u0439 \u0434\u043b\u044f \u0440\u0430\u0431\u043e\u0442\u044b."
     ]
    },
    {
     "cell_type": "markdown",
     "metadata": {},
     "source": [
      "\u0424\u0430\u0439\u043b \u043a\u043e\u043d\u0441\u043e\u043b\u0438 IPython Notebook: <a href='#'>EnergyEfficiency.ipynb</a>"
     ]
    }
   ],
   "metadata": {}
  }
 ]
}