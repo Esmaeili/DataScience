{
 "metadata": {
  "name": ""
 },
 "nbformat": 3,
 "nbformat_minor": 0,
 "worksheets": [
  {
   "cells": [
    {
     "cell_type": "heading",
     "level": 4,
     "metadata": {},
     "source": [
      "\u041d\u0430\u043f\u0438\u0441\u0430\u043d\u0438\u0435 \u043f\u0430\u0440\u0441\u0435\u0440\u0430"
     ]
    },
    {
     "cell_type": "markdown",
     "metadata": {},
     "source": [
      "\u0417\u0430\u0433\u0440\u0443\u0436\u0430\u0435\u043c \u0431\u0438\u0431\u043b\u0438\u043e\u0442\u0435\u043a\u0443"
     ]
    },
    {
     "cell_type": "code",
     "collapsed": false,
     "input": [
      "import lxml.html as html\n",
      "import re, csv, time\n",
      "from pandas import DataFrame, read_csv"
     ],
     "language": "python",
     "metadata": {},
     "outputs": [],
     "prompt_number": 106
    },
    {
     "cell_type": "markdown",
     "metadata": {},
     "source": [
      "\u0423\u043a\u0430\u0437\u0432\u0430\u0435\u043c \u0441\u0442\u0440\u0430\u043d\u0438\u0446\u0443 \u0434\u043b\u044f \u043f\u0430\u0440\u0441\u0438\u043d\u0433\u0430"
     ]
    },
    {
     "cell_type": "code",
     "collapsed": false,
     "input": [
      "page = html.parse('http://www.cian.ru/cat.php?deal_type=2&obl_id=1&room1=1&room2=1&room3=1&p=1')\n",
      "                  #'http://www.cian.ru/cat.php?deal_type=2&obl_id=1&room1=1&room2=1')"
     ],
     "language": "python",
     "metadata": {},
     "outputs": [],
     "prompt_number": 2
    },
    {
     "cell_type": "markdown",
     "metadata": {},
     "source": [
      "\u041f\u043e\u043b\u0443\u0447\u0430\u0435\u043c \u0433\u043b\u0430\u0432\u043d\u044b\u0439 \u044d\u043b\u0435\u043c\u0435\u043d\u0442 \u0441\u0442\u0440\u0430\u043d\u0438\u0446\u044b"
     ]
    },
    {
     "cell_type": "code",
     "collapsed": false,
     "input": [
      "main = page.getroot()"
     ],
     "language": "python",
     "metadata": {},
     "outputs": [],
     "prompt_number": 3
    },
    {
     "cell_type": "markdown",
     "metadata": {},
     "source": [
      "\u0418\u0441\u0445\u043e\u0434\u044f \u0438\u0437 \u0441\u0442\u0440\u0443\u043a\u0442\u0443\u0440\u044b \u0441\u0442\u0440\u0430\u043d\u0446\u044b \u043d\u0430\u0445\u043e\u0434\u0438\u043c \u0442\u0430\u0431\u043b\u0438\u0446\u0443 \u0441 <i>id = 'tbody'</i>"
     ]
    },
    {
     "cell_type": "code",
     "collapsed": false,
     "input": [
      "tbody = main.get_element_by_id('tbody')"
     ],
     "language": "python",
     "metadata": {},
     "outputs": [],
     "prompt_number": 4
    },
    {
     "cell_type": "markdown",
     "metadata": {},
     "source": [
      "\u0414\u0430\u043d\u043d\u044b\u0435 \u0441\u043e\u0434\u0435\u0440\u0436\u0430\u0442\u0441\u044f \u0432 \u0442\u0430\u0431\u043b\u0438\u0446\u044b \u0441 \u043a\u043b\u0430\u0441\u0441\u043e\u043c 'cat', \u043d\u0430\u0439\u0434\u0435\u043c \u044d\u043b\u0435\u043c\u0435\u043d\u0442\u044b \u0441 \u044d\u0442\u0438\u043c \u043a\u043b\u0430\u0441\u0441\u043e\u043c"
     ]
    },
    {
     "cell_type": "code",
     "collapsed": false,
     "input": [
      "pre_table = tbody.find_class('cat')"
     ],
     "language": "python",
     "metadata": {},
     "outputs": [],
     "prompt_number": 5
    },
    {
     "cell_type": "markdown",
     "metadata": {},
     "source": [
      "\u041d\u0430\u0439\u0434\u0435\u043c \u0432 \u043f\u043e\u043b\u0443\u0447\u0435\u043d\u043d\u043e\u043c \u0441\u043f\u0438\u0441\u043a\u0435 \u0442\u044d\u0433\u0438 \u0442\u0430\u0431\u043b\u0438\u0446:"
     ]
    },
    {
     "cell_type": "code",
     "collapsed": false,
     "input": [
      "table_cat_list = [t for t in pre_table if t.tag == 'table']"
     ],
     "language": "python",
     "metadata": {},
     "outputs": [],
     "prompt_number": 6
    },
    {
     "cell_type": "markdown",
     "metadata": {},
     "source": [
      "\u041f\u043e\u0441\u043c\u043e\u0442\u0440\u0438\u043c \u043d\u0430 \u043f\u043e\u043b\u0443\u0447\u0438\u0432\u0448\u0438\u0439\u0441\u044f \u0441\u043f\u0438\u0441\u043e\u043a:"
     ]
    },
    {
     "cell_type": "code",
     "collapsed": false,
     "input": [
      "table_cat_list"
     ],
     "language": "python",
     "metadata": {},
     "outputs": [
      {
       "metadata": {},
       "output_type": "pyout",
       "prompt_number": 7,
       "text": [
        "[<Element table at 0x3ccad20>]"
       ]
      }
     ],
     "prompt_number": 7
    },
    {
     "cell_type": "markdown",
     "metadata": {},
     "source": [
      "\u041a\u0430\u043a \u0432\u0438\u0434\u043d\u043e \u043d\u0430 \u0441\u0442\u0440\u0430\u043d\u0438\u0446\u0435 \u0442\u043e\u043b\u044c\u043a\u043e \u043e\u0434\u043d\u0430 \u0442\u0430\u0431\u043b\u0438\u0446\u0430 \u0441 \u043a\u043b\u0430\u0441\u0441\u043e\u043c cat \u0435\u0435 \u0438 \u0431\u0443\u0434\u0435\u043c \u043f\u0430\u0440\u0441\u0438\u0442\u044c."
     ]
    },
    {
     "cell_type": "code",
     "collapsed": false,
     "input": [
      "table = table_cat_list[0]"
     ],
     "language": "python",
     "metadata": {},
     "outputs": [],
     "prompt_number": 8
    },
    {
     "cell_type": "code",
     "collapsed": false,
     "input": [
      "table"
     ],
     "language": "python",
     "metadata": {},
     "outputs": [
      {
       "metadata": {},
       "output_type": "pyout",
       "prompt_number": 9,
       "text": [
        "<Element table at 0x3ccad20>"
       ]
      }
     ],
     "prompt_number": 9
    },
    {
     "cell_type": "markdown",
     "metadata": {},
     "source": [
      "\u0422.\u043a. \u043c\u043e\u0436\u0435\u0442 \u043f\u043e\u0442\u0440\u0435\u0431\u043e\u0432\u0430\u0442\u044c\u0441\u044f \u0440\u0430\u0441\u043f\u0430\u0440\u0441\u0438\u0442\u044c \u043d\u0435\u0441\u043a\u043e\u043b\u044c\u043a\u043e \u0441\u0442\u0440\u0430\u043d\u0438\u0446 \u0438\u043c\u0435\u0435\u0442 \u0441\u043c\u044b\u0441\u043b \u043f\u043e\u043c\u0435\u0441\u0442\u0438\u0442\u044c \u0432\u0441\u0435 \u0432\u044b\u0448\u0435\u043e\u043f\u0438\u0441\u0430\u043d\u043d\u044b\u0435 \u0434\u0430\u043d\u043d\u044b\u0435 \u0432 \u0444\u0443\u043d\u043a\u0446\u0438\u044e:"
     ]
    },
    {
     "cell_type": "code",
     "collapsed": false,
     "input": [
      "def load_table(id_page):\n",
      "    page = html.parse('http://www.cian.ru/cat.php?deal_type=2&obl_id=1&room1=1&room2=1&room3=1&p=%s' % (id_page))\n",
      "    main = page.getroot()\n",
      "    tbody = main.get_element_by_id('tbody')\n",
      "    pre_table = tbody.find_class('cat')\n",
      "    table = table_cat_list[0]\n",
      "    return table"
     ],
     "language": "python",
     "metadata": {},
     "outputs": [],
     "prompt_number": 19
    },
    {
     "cell_type": "markdown",
     "metadata": {},
     "source": [
      "\u041a\u0430\u043a \u043c\u043e\u0436\u043d\u043e \u0437\u0430\u043c\u0435\u0442\u0438\u0442\u044c \u0438\u0437 \u043a\u043e\u0434\u0430 \u0441\u0442\u0440\u0430\u043d\u0438\u0446\u044b, \u0441\u0442\u0440\u043e\u043a\u0438 \u0438 \u0441\u0442\u043e\u043b\u0431\u0446\u044b \u0441\u043e\u0434\u0435\u0440\u0436\u0430\u0449\u0438\u0435 \u043f\u043e\u043b\u0435\u0437\u043d\u0443\u044e \u0434\u043b\u044f \u043d\u0430\u0441 \u0438\u043d\u0444\u043e\u0440\u043c\u0430\u0446\u0438\u044e \u0442\u043e\u0436\u0435 \u043e\u0442\u043d\u043e\u0441\u044f\u0442\u0441\u044f \u043a 'cat' \u043f\u043e\u044d\u0442\u043e\u043c\u0443 \u043d\u0430\u0439\u0434\u0435\u043c \u0432\u0441\u0435 \u0441\u0442\u0440\u043e\u043a\u0438 c \u043a\u043b\u0430\u0441\u0441\u043e\u043c 'cat' \u0438 \u043f\u043e\u043b\u0443\u0447\u0438\u043c \u0434\u043b\u044f \u043d\u0438\u0445 \u0437\u043d\u0430\u0447\u0435\u043d\u0438\u044f \u0441\u0442\u043e\u043b\u0431\u0446\u043e\u0432"
     ]
    },
    {
     "cell_type": "code",
     "collapsed": false,
     "input": [
      "rows = [row for row in table.getchildren() if row.attrib.has_key('class') and row.attrib['class'] == 'cat']"
     ],
     "language": "python",
     "metadata": {},
     "outputs": [],
     "prompt_number": 11
    },
    {
     "cell_type": "markdown",
     "metadata": {},
     "source": [
      "\u0421\u043e\u0437\u0434\u0430\u0435\u043c \u0432\u0441\u043f\u043e\u043c\u043e\u0433\u0430\u0442\u0435\u043b\u044c\u043d\u044b\u0435 \u0441\u043b\u043e\u0432\u0430\u0440\u0438 \u0434\u043b\u044f \u043f\u0430\u0440\u0441\u0438\u043d\u0433\u0430:"
     ]
    },
    {
     "cell_type": "code",
     "collapsed": false,
     "input": [
      "metro_station_list = {u'\u043c.\u0410\u0432\u0438\u0430\u043c\u043e\u0442\u043e\u0440\u043d\u0430\u044f':1,\n",
      "u'\u043c.\u0410\u0432\u0442\u043e\u0437\u0430\u0432\u043e\u0434\u0441\u043a\u0430\u044f':2,\n",
      "u'\u043c.\u0410\u043a\u0430\u0434\u0435\u043c\u0438\u0447\u0435\u0441\u043a\u0430\u044f':3,\n",
      "u'\u043c.\u0410\u043b\u0435\u043a\u0441\u0430\u043d\u0434\u0440\u043e\u0432\u0441\u043a\u0438\u0439 \u0441\u0430\u0434':4,\n",
      "u'\u043c.\u0410\u043b\u0435\u043a\u0441\u0435\u0435\u0432\u0441\u043a\u0430\u044f':5,\n",
      "u'\u043c.\u0410\u043b\u0442\u0443\u0444\u044c\u0435\u0432\u043e':6,\n",
      "u'\u043c.\u0410\u043d\u043d\u0438\u043d\u043e':7,\n",
      "u'\u043c.\u0410\u0440\u0431\u0430\u0442\u0441\u043a\u0430\u044f':8,\n",
      "u'\u043c.\u0410\u044d\u0440\u043e\u043f\u043e\u0440\u0442':9,\n",
      "u'\u043c.\u0411\u0430\u0431\u0443\u0448\u043a\u0438\u043d\u0441\u043a\u0430\u044f':10,\n",
      "u'\u043c.\u0411\u0430\u0433\u0440\u0430\u0442\u0438\u043e\u043d\u043e\u0432\u0441\u043a\u0430\u044f':11,\n",
      "u'\u043c.\u0411\u0430\u0440\u0440\u0438\u043a\u0430\u0434\u043d\u0430\u044f':12,\n",
      "u'\u043c.\u0411\u0430\u0443\u043c\u0430\u043d\u0441\u043a\u0430\u044f':13,\n",
      "u'\u043c.\u0411\u0435\u0433\u043e\u0432\u0430\u044f':14,\n",
      "u'\u043c.\u0411\u0435\u043b\u043e\u0440\u0443\u0441\u0441\u043a\u0430\u044f':15,\n",
      "u'\u043c.\u0411\u0435\u043b\u044f\u0435\u0432\u043e':16,\n",
      "u'\u043c.\u0411\u0438\u0431\u0438\u0440\u0435\u0432\u043e':17,\n",
      "u'\u043c.\u0411\u0438\u0431\u043b\u0438\u043e\u0442\u0435\u043a\u0430 \u0438\u043c\u0435\u043d\u0438 \u041b\u0435\u043d\u0438\u043d\u0430':18,\n",
      "u'\u043c.\u0411\u0438\u0442\u0446\u0435\u0432\u0441\u043a\u0438\u0439 \u043f\u0430\u0440\u043a':19,\n",
      "u'\u043c.\u0411\u043e\u0440\u043e\u0432\u0438\u0446\u043a\u0430\u044f':20,\n",
      "u'\u043c.\u0411\u043e\u0442\u0430\u043d\u0438\u0447\u0435\u0441\u043a\u0438\u0439\u0441\u0430\u0434':21,\n",
      "u'\u043c.\u0411\u0440\u0430\u0442\u0438\u0441\u043b\u0430\u0432\u0441\u043a\u0430\u044f':22,\n",
      "u'\u043c.\u0411\u0443\u043b\u044c\u0432\u0430\u0440 \u0430\u0434\u043c\u0438\u0440\u0430\u043b\u0430 \u0423\u0448\u0430\u043a\u043e\u0432\u0430':23,\n",
      "u'\u043c.\u0411\u0443\u043b\u044c\u0432\u0430\u0440 \u0414\u043c\u0438\u0442\u0440\u0438\u044f \u0414\u043e\u043d\u0441\u043a\u043e\u0433\u043e':24,\n",
      "u'\u043c.\u0411\u0443\u043d\u0438\u043d\u0441\u043a\u0430\u044f \u0430\u043b\u043b\u0435\u044f':25,\n",
      "u'\u043c.\u0412\u0430\u0440\u0448\u0430\u0432\u0441\u043a\u0430\u044f':26,\n",
      "u'\u043c.\u0412\u0414\u041d\u0425':27,\n",
      "u'\u043c.\u0412\u043b\u0430\u0434\u044b\u043a\u0438\u043d\u043e':28,\n",
      "u'\u043c.\u0412\u043e\u0434\u043d\u044b\u0439 \u0441\u0442\u0430\u0434\u0438\u043e\u043d':29,\n",
      "u'\u043c.\u0412\u043e\u0439\u043a\u043e\u0432\u0441\u043a\u0430\u044f':30,\n",
      "u'\u043c.\u0412\u043e\u043b\u0433\u043e\u0433\u0440\u0430\u0434\u0441\u043a\u0438\u0439 \u043f\u0440\u043e\u0441\u043f\u0435\u043a\u0442':31,\n",
      "u'\u043c.\u0412\u043e\u043b\u0436\u0441\u043a\u0430\u044f':32,\n",
      "u'\u043c.\u0412\u043e\u043b\u043e\u043a\u043e\u043b\u0430\u043c\u0441\u043a\u0430\u044f':33,\n",
      "u'\u043c.\u0412\u043e\u0440\u043e\u0431\u044c\u0435\u0432\u044b \u0433\u043e\u0440\u044b':34,\n",
      "u'\u043c.\u0412\u044b\u0441\u0442\u0430\u0432\u043e\u0447\u043d\u0430\u044f':35,\n",
      "u'\u043c.\u0412\u044b\u0445\u0438\u043d\u043e':36,\n",
      "u'\u043c.\u0414\u0435\u043b\u043e\u0432\u043e\u0439 \u0446\u0435\u043d\u0442\u0440':37,\n",
      "u'\u043c.\u0414\u0438\u043d\u0430\u043c\u043e':38,\n",
      "u'\u043c.\u0414\u043c\u0438\u0442\u0440\u043e\u0432\u0441\u043a\u0430\u044f':39,\n",
      "u'\u043c.\u0414\u043e\u0431\u0440\u044b\u043d\u0438\u043d\u0441\u043a\u0430\u044f':40,\n",
      "u'\u043c.\u0414\u043e\u043c\u043e\u0434\u0435\u0434\u043e\u0432\u0441\u043a\u0430\u044f':41,\n",
      "u'\u043c.\u0414\u043e\u0441\u0442\u043e\u0435\u0432\u0441\u043a\u0430\u044f':42,\n",
      "u'\u043c.\u0414\u0443\u0431\u0440\u043e\u0432\u043a\u0430':43,\n",
      "u'\u043c.\u0416\u0443\u043b\u0435\u0431\u0438\u043d\u043e':44,\n",
      "u'\u043c.\u0418\u0437\u043c\u0430\u0439\u043b\u043e\u0432\u0441\u043a\u0430\u044f':45,\n",
      "u'\u043c.\u041a\u0430\u043b\u0443\u0436\u0441\u043a\u0430\u044f':46,\n",
      "u'\u043c.\u041a\u0430\u043d\u0442\u0435\u043c\u0438\u0440\u043e\u0432\u0441\u043a\u0430\u044f':47,\n",
      "u'\u043c.\u041a\u0430\u0445\u043e\u0432\u0441\u043a\u0430\u044f':48,\n",
      "u'\u043c.\u041a\u0430\u0448\u0438\u0440\u0441\u043a\u0430\u044f':49,\n",
      "u'\u043c.\u041a\u0438\u0435\u0432\u0441\u043a\u0430\u044f':50,\n",
      "u'\u043c.\u041a\u0438\u0442\u0430\u0439-\u0433\u043e\u0440\u043e\u0434':51,\n",
      "u'\u043c.\u041a\u043e\u0436\u0443\u0445\u043e\u0432\u0441\u043a\u0430\u044f':52,\n",
      "u'\u043c.\u041a\u043e\u043b\u043e\u043c\u0435\u043d\u0441\u043a\u0430\u044f':53,\n",
      "u'\u043c.\u041a\u043e\u043c\u0441\u043e\u043c\u043e\u043b\u044c\u0441\u043a\u0430\u044f':54,\n",
      "u'\u043c.\u041a\u043e\u043d\u044c\u043a\u043e\u0432\u043e':55,\n",
      "u'\u043c.\u041a\u0440\u0430\u0441\u043d\u043e\u0433\u0432\u0430\u0440\u0434\u0435\u0439\u0441\u043a\u0430\u044f':56,\n",
      "u'\u043c.\u041a\u0440\u0430\u0441\u043d\u043e\u043f\u0440\u0435\u0441\u043d\u0435\u043d\u0441\u043a\u0430\u044f':57,\n",
      "u'\u043c.\u041a\u0440\u0430\u0441\u043d\u043e\u0441\u0435\u043b\u044c\u0441\u043a\u0430\u044f':58,\n",
      "u'\u043c.\u041a\u0440\u0430\u0441\u043d\u044b\u0435 \u0432\u043e\u0440\u043e\u0442\u0430':59,\n",
      "u'\u043c.\u041a\u0440\u0435\u0441\u0442\u044c\u044f\u043d\u0441\u043a\u0430\u044f \u0437\u0430\u0441\u0442\u0430\u0432\u0430':60,\n",
      "u'\u043c.\u041a\u0440\u043e\u043f\u043e\u0442\u043a\u0438\u043d\u0441\u043a\u0430\u044f':61,\n",
      "u'\u043c.\u041a\u0440\u044b\u043b\u0430\u0442\u0441\u043a\u043e\u0435':62,\n",
      "u'\u043c.\u041a\u0443\u0437\u043d\u0435\u0446\u043a\u0438\u0439 \u043c\u043e\u0441\u0442':63,\n",
      "u'\u043c.\u041a\u0443\u0437\u044c\u043c\u0438\u043d\u043a\u0438':64,\n",
      "u'\u043c.\u041a\u0443\u043d\u0446\u0435\u0432\u0441\u043a\u0430\u044f':65,\n",
      "u'\u043c.\u041a\u0443\u0440\u0441\u043a\u0430\u044f':66,\n",
      "u'\u043c.\u041a\u0443\u0442\u0443\u0437\u043e\u0432\u0441\u043a\u0430\u044f':67,\n",
      "u'\u043c.\u041b\u0435\u043d\u0438\u043d\u0441\u043a\u0438\u0439 \u043f\u0440\u043e\u0441\u043f\u0435\u043a\u0442':68,\n",
      "u'\u043c.\u041b\u0443\u0431\u044f\u043d\u043a\u0430':69,\n",
      "u'\u043c.\u041b\u044e\u0431\u043b\u0438\u043d\u043e':70,\n",
      "u'\u043c.\u041c\u0430\u0440\u043a\u0441\u0438\u0441\u0442\u0441\u043a\u0430\u044f':71,\n",
      "u'\u043c.\u041c\u0430\u0440\u044c\u0438\u043d\u0430 \u0440\u043e\u0449\u0430':72,\n",
      "u'\u043c.\u041c\u0430\u0440\u044c\u0438\u043d\u043e':73,\n",
      "u'\u043c.\u041c\u0430\u044f\u043a\u043e\u0432\u0441\u043a\u0430\u044f':74,\n",
      "u'\u043c.\u041c\u0435\u0434\u0432\u0435\u0434\u043a\u043e\u0432\u043e':75,\n",
      "u'\u043c.\u041c\u0435\u0436\u0434\u0443\u043d\u0430\u0440\u043e\u0434\u043d\u0430\u044f':76,\n",
      "u'\u043c.\u041c\u0435\u043d\u0434\u0435\u043b\u0435\u0435\u0432\u0441\u043a\u0430\u044f':77,\n",
      "u'\u043c.\u041c\u0438\u0442\u0438\u043d\u043e':78,\n",
      "u'\u043c.\u041c\u043e\u043b\u043e\u0434\u0435\u0436\u043d\u0430\u044f':79,\n",
      "u'\u043c.\u041c\u044f\u043a\u0438\u043d\u0438\u043d\u043e':80,\n",
      "u'\u043c.\u041d\u0430\u0433\u0430\u0442\u0438\u043d\u0441\u043a\u0430\u044f':81,\n",
      "u'\u043c.\u041d\u0430\u0433\u043e\u0440\u043d\u0430\u044f':82,\n",
      "u'\u043c.\u041d\u0430\u0445\u0438\u043c\u043e\u0432\u0441\u043a\u0438\u0439 \u043f\u0440\u043e\u0441\u043f\u0435\u043a\u0442':83,\n",
      "u'\u043c.\u041d\u043e\u0432\u043e\u0433\u0438\u0440\u0435\u0435\u0432\u043e':84,\n",
      "u'\u043c.\u041d\u043e\u0432\u043e\u043a\u0443\u0437\u043d\u0435\u0446\u043a\u0430\u044f':85,\n",
      "u'\u043c.\u041d\u043e\u0432\u043e\u0441\u043b\u043e\u0431\u043e\u0434\u0441\u043a\u0430\u044f':86,\n",
      "u'\u043c.\u041d\u043e\u0432\u043e\u044f\u0441\u0435\u043d\u0435\u0432\u0441\u043a\u0430\u044f':87,\n",
      "u'\u043c.\u041d\u043e\u0432\u044b\u0435 \u0427\u0435\u0440\u0435\u043c\u0443\u0448\u043a\u0438':88,\n",
      "u'\u043c.\u041e\u043a\u0442\u044f\u0431\u0440\u044c\u0441\u043a\u0430\u044f':89,\n",
      "u'\u043c.\u041e\u043a\u0442\u044f\u0431\u0440\u044c\u0441\u043a\u043e\u0435 \u043f\u043e\u043b\u0435':90,\n",
      "u'\u043c.\u041e\u0440\u0435\u0445\u043e\u0432\u043e':91,\n",
      "u'\u043c.\u041e\u0442\u0440\u0430\u0434\u043d\u043e\u0435':92,\n",
      "u'\u043c.\u041e\u0445\u043e\u0442\u043d\u044b\u0439 \u0440\u044f\u0434':93,\n",
      "u'\u043c.\u041f\u0430\u0432\u0435\u043b\u0435\u0446\u043a\u0430\u044f':94,\n",
      "u'\u043c.\u041f\u0430\u0440\u043a \u043a\u0443\u043b\u044c\u0442\u0443\u0440\u044b':95,\n",
      "u'\u043c.\u041f\u0430\u0440\u043a \u041f\u043e\u0431\u0435\u0434\u044b':96,\n",
      "u'\u043c.\u041f\u0430\u0440\u0442\u0438\u0437\u0430\u043d\u0441\u043a\u0430\u044f':97,\n",
      "u'\u043c.\u041f\u0435\u0440\u0432\u043e\u043c\u0430\u0439\u0441\u043a\u0430\u044f':98,\n",
      "u'\u043c.\u041f\u0435\u0440\u043e\u0432\u043e':99,\n",
      "u'\u043c.\u041f\u0435\u0442\u0440\u043e\u0432\u0441\u043a\u043e-\u0420\u0430\u0437\u0443\u043c\u043e\u0432\u0441\u043a\u0430\u044f':100,\n",
      "u'\u043c.\u041f\u0435\u0447\u0430\u0442\u043d\u0438\u043a\u0438':101,\n",
      "u'\u043c.\u041f\u0438\u043e\u043d\u0435\u0440\u0441\u043a\u0430\u044f':102,\n",
      "u'\u043c.\u041f\u043b\u0430\u043d\u0435\u0440\u043d\u0430\u044f':103,\n",
      "u'\u043c.\u041f\u043b\u043e\u0449\u0430\u0434\u044c \u0418\u043b\u044c\u0438\u0447\u0430':104,\n",
      "u'\u043c.\u041f\u043b\u043e\u0449\u0430\u0434\u044c \u0420\u0435\u0432\u043e\u043b\u044e\u0446\u0438\u0438':105,\n",
      "u'\u043c.\u041f\u043e\u043b\u0435\u0436\u0430\u0435\u0432\u0441\u043a\u0430\u044f':106,\n",
      "u'\u043c.\u041f\u043e\u043b\u044f\u043d\u043a\u0430':107,\n",
      "u'\u043c.\u041f\u0440\u0430\u0436\u0441\u043a\u0430\u044f':108,\n",
      "u'\u043c.\u041f\u0440\u0435\u043e\u0431\u0440\u0430\u0436\u0435\u043d\u0441\u043a\u0430\u044f \u043f\u043b\u043e\u0449\u0430\u0434\u044c':109,\n",
      "u'\u043c.\u041f\u0440\u043e\u043b\u0435\u0442\u0430\u0440\u0441\u043a\u0430\u044f':110,\n",
      "u'\u043c.\u041f\u0440\u043e\u0441\u043f\u0435\u043a\u0442 \u0412\u0435\u0440\u043d\u0430\u0434\u0441\u043a\u043e\u0433\u043e':111,\n",
      "u'\u043c.\u041f\u0440\u043e\u0441\u043f\u0435\u043a\u0442\u041c\u0438\u0440\u0430':112,\n",
      "u'\u043c.\u041f\u0440\u043e\u0444\u0441\u043e\u044e\u0437\u043d\u0430\u044f':113,\n",
      "u'\u043c.\u041f\u0443\u0448\u043a\u0438\u043d\u0441\u043a\u0430\u044f':114,\n",
      "u'\u043c.\u0420\u0435\u0447\u043d\u043e\u0439\u0432\u043e\u043a\u0437\u0430\u043b':115,\n",
      "u'\u043c.\u0420\u0438\u0436\u0441\u043a\u0430\u044f':116,\n",
      "u'\u043c.\u0420\u0438\u043c\u0441\u043a\u0430\u044f':117,\n",
      "u'\u043c.\u0420\u044f\u0437\u0430\u043d\u0441\u043a\u0438\u0439 \u043f\u0440\u043e\u0441\u043f\u0435\u043a\u0442':118,\n",
      "u'\u043c.\u0421\u0430\u0432\u0435\u043b\u043e\u0432\u0441\u043a\u0430\u044f':119,\n",
      "u'\u043c.\u0421\u0432\u0438\u0431\u043b\u043e\u0432\u043e':120,\n",
      "u'\u043c.\u0421\u0435\u0432\u0430\u0441\u0442\u043e\u043f\u043e\u043b\u044c\u0441\u043a\u0430\u044f':121,\n",
      "u'\u043c.\u0421\u0435\u043c\u0435\u043d\u043e\u0432\u0441\u043a\u0430\u044f':122,\n",
      "u'\u043c.\u0421\u0435\u0440\u043f\u0443\u0445\u043e\u0432\u0441\u043a\u0430\u044f':123,\n",
      "u'\u043c.\u0421\u043b\u0430\u0432\u044f\u043d\u0441\u043a\u0438\u0439 \u0431\u0443\u043b\u044c\u0432\u0430\u0440':124,\n",
      "u'\u043c.\u0421\u043c\u043e\u043b\u0435\u043d\u0441\u043a\u0430\u044f':125,\n",
      "u'\u043c.\u0421\u043e\u043a\u043e\u043b':126,\n",
      "u'\u043c.\u0421\u043e\u043a\u043e\u043b\u044c\u043d\u0438\u043a\u0438':127,\n",
      "u'\u043c.\u0421\u043f\u043e\u0440\u0442\u0438\u0432\u043d\u0430\u044f':128,\n",
      "u'\u043c.\u0421\u0440\u0435\u0442\u0435\u043d\u0441\u043a\u0438\u0439 \u0431\u0443\u043b\u044c\u0432\u0430\u0440':129,\n",
      "u'\u043c.\u0421\u0442\u0440\u043e\u0433\u0438\u043d\u043e':130,\n",
      "u'\u043c.\u0421\u0442\u0443\u0434\u0435\u043d\u0447\u0435\u0441\u043a\u0430\u044f':131,\n",
      "u'\u043c.\u0421\u0443\u0445\u0430\u0440\u0435\u0432\u0441\u043a\u0430\u044f':132,\n",
      "u'\u043c.\u0421\u0445\u043e\u0434\u043d\u0435\u043d\u0441\u043a\u0430\u044f':133,\n",
      "u'\u043c.\u0422\u0430\u0433\u0430\u043d\u0441\u043a\u0430\u044f':134,\n",
      "u'\u043c.\u0422\u0432\u0435\u0440\u0441\u043a\u0430\u044f':135,\n",
      "u'\u043c.\u0422\u0435\u0430\u0442\u0440\u0430\u043b\u044c\u043d\u0430\u044f':136,\n",
      "u'\u043c.\u0422\u0435\u043a\u0441\u0442\u0438\u043b\u044c\u0449\u0438\u043a\u0438':137,\n",
      "u'\u043c.\u0422\u0435\u043f\u043b\u044b\u0439\u0421\u0442\u0430\u043d':138,\n",
      "u'\u043c.\u0422\u0438\u043c\u0438\u0440\u044f\u0437\u0435\u0432\u0441\u043a\u0430\u044f':139,\n",
      "u'\u043c.\u0422\u0440\u0435\u0442\u044c\u044f\u043a\u043e\u0432\u0441\u043a\u0430\u044f':140,\n",
      "u'\u043c.\u0422\u0440\u0443\u0431\u043d\u0430\u044f':141,\n",
      "u'\u043c.\u0422\u0443\u043b\u044c\u0441\u043a\u0430\u044f':142,\n",
      "u'\u043c.\u0422\u0443\u0440\u0433\u0435\u043d\u0435\u0432\u0441\u043a\u0430\u044f':143,\n",
      "u'\u043c.\u0422\u0443\u0448\u0438\u043d\u0441\u043a\u0430\u044f':144,\n",
      "u'\u043c.\u0423\u043b\u0438\u0446\u0430 1905 \u0433\u043e\u0434\u0430':145,\n",
      "u'\u043c.\u0423\u043b\u0438\u0446\u0430 \u0410\u043a\u0430\u0434\u0435\u043c\u0438\u043a\u0430 \u042f\u043d\u0433\u0435\u043b\u044f':146,\n",
      "u'\u043c.\u0423\u043b\u0438\u0446\u0430 \u0413\u043e\u0440\u0447\u0430\u043a\u043e\u0432\u0430':147,\n",
      "u'\u043c.\u0423\u043b\u0438\u0446\u0430 \u041f\u043e\u0434\u0431\u0435\u043b\u044c\u0441\u043a\u043e\u0433\u043e':148,\n",
      "u'\u043c.\u0423\u043b\u0438\u0446\u0430 \u0421\u043a\u043e\u0431\u0435\u043b\u0435\u0432\u0441\u043a\u0430\u044f':149,\n",
      "u'\u043c.\u0423\u043b\u0438\u0446\u0430 \u0421\u0442\u0430\u0440\u043e\u043a\u0430\u0447\u0430\u043b\u043e\u0432\u0441\u043a\u0430\u044f':150,\n",
      "u'\u043c.\u0423\u043d\u0438\u0432\u0435\u0440\u0441\u0438\u0442\u0435\u0442':151,\n",
      "u'\u043c.\u0424\u0438\u043b\u0435\u0432\u0441\u043a\u0438\u0439 \u043f\u0430\u0440\u043a':152,\n",
      "u'\u043c.\u0424\u0438\u043b\u0438':153,\n",
      "u'\u043c.\u0424\u0440\u0443\u043d\u0437\u0435\u043d\u0441\u043a\u0430\u044f':154,\n",
      "u'\u043c.\u0426\u0430\u0440\u0438\u0446\u044b\u043d\u043e':155,\n",
      "u'\u043c.\u0426\u0432\u0435\u0442\u043d\u043e\u0439 \u0431\u0443\u043b\u044c\u0432\u0430\u0440':156,\n",
      "u'\u043c.\u0427\u0435\u0440\u043a\u0438\u0437\u043e\u0432\u0441\u043a\u0430\u044f':157,\n",
      "u'\u043c.\u0427\u0435\u0440\u0442\u0430\u043d\u043e\u0432\u0441\u043a\u0430\u044f':158,\n",
      "u'\u043c.\u0427\u0435\u0445\u043e\u0432\u0441\u043a\u0430\u044f':159,\n",
      "u'\u043c.\u0427\u0438\u0441\u0442\u044b\u0435 \u043f\u0440\u0443\u0434\u044b':160,\n",
      "u'\u043c.\u0427\u043a\u0430\u043b\u043e\u0432\u0441\u043a\u0430\u044f':161,\n",
      "u'\u043c.\u0428\u0430\u0431\u043e\u043b\u043e\u0432\u0441\u043a\u0430\u044f':162,\n",
      "u'\u043c.\u0428\u043e\u0441\u0441\u0435 \u042d\u043d\u0442\u0443\u0437\u0438\u0430\u0441\u0442\u043e\u0432':163,\n",
      "u'\u043c.\u0429\u0435\u043b\u043a\u043e\u0432\u0441\u043a\u0430\u044f':164,\n",
      "u'\u043c.\u0429\u0443\u043a\u0438\u043d\u0441\u043a\u0430\u044f':165,\n",
      "u'\u043c.\u042d\u043b\u0435\u043a\u0442\u0440\u043e\u0437\u0430\u0432\u043e\u0434\u0441\u043a\u0430\u044f':166,\n",
      "u'\u043c.\u042e\u0433\u043e-\u0417\u0430\u043f\u0430\u0434\u043d\u0430\u044f':167,\n",
      "u'\u043c.\u042e\u0436\u043d\u0430\u044f':168,\n",
      "u'\u043c.\u042f\u0441\u0435\u043d\u0435\u0432\u043e':169}\n",
      "\n",
      "square = {u'\u043e\u0431\u0449\u0430\u044f':'all_sqr', \n",
      "          u'\u0436\u0438\u043b\u0430\u044f':'room_sqr', \n",
      "          u'\u043a\u0443\u0445\u043d\u044f':'kitchen_sqr'\n",
      "          }\n",
      "\n",
      "dop_des = {u'\u041b\u0438\u0444\u0442':'lift', \n",
      "           u'\u0411\u0430\u043b\u043a\u043e\u043d':'balkon', \n",
      "           u'\u041e\u043a\u043d\u0430':'windows', \n",
      "           u'\u0421\u0430\u043d\u0443\u0437\u0435\u043b':'tolet', \n",
      "           u'\u0422\u0435\u043b\u0435\u0444\u043e\u043d':'tel'\n",
      "           }\n",
      "\n",
      "typ = [u'\u041d\u043e\u0432\u043e\u0441\u0442\u0440\u043e\u0439\u043a\u0430', u'\u0412\u0442\u043e\u0440\u0438\u0447\u043a\u0430']\n",
      "\n",
      "material_desc = {u'\u043f\u0430\u043d':u'\u043f\u0430\u043d\u0435\u043b\u044c\u043d\u044b\u0439 \u0434\u043e\u043c',\n",
      "                 u'\u0441\u0442\u0430\u043b':u'\u0441\u0442\u0430\u043b\u0438\u043d\u0441\u043a\u0438\u0439',\n",
      "                 u'\u043a\u0438\u0440\u043f':u'\u043a\u0438\u0440\u043f\u0438\u0447\u043d\u044b\u0439',\n",
      "                 u'\u043c\u043e\u043d':u'\u043c\u043e\u043d\u043e\u043b\u0438\u0442\u043d\u044b\u0439',\n",
      "                 u'\u043a-\u043c':u'\u043a\u0438\u0440\u043f\u0438\u0447\u043d\u043e-\u043c\u043e\u043d\u043e\u043b\u0438\u0442\u043d\u044b\u0439',\n",
      "                 u'\u0431\u043b\u043e\u0447':u'\u0431\u043b\u043e\u0447\u043d\u044b\u0439',\n",
      "                 u'\u0434\u0435\u0440':u'\u0434\u0435\u0440\u0435\u0432\u044f\u043d\u043d\u044b\u0439'}"
     ],
     "language": "python",
     "metadata": {},
     "outputs": [],
     "prompt_number": 12
    },
    {
     "cell_type": "markdown",
     "metadata": {},
     "source": [
      "\u041d\u0430\u043f\u0438\u0448\u0435\u043c \u0444\u0443\u043d\u043a\u0446\u0438\u044e \u043f\u0430\u0440\u0441\u0438\u043d\u0433\u0430 \u043d\u0430 \u043f\u0440\u0438\u043c\u0435\u0440\u0435 \u043e\u0434\u043d\u043e\u0439 \u0441\u0442\u0440\u043e\u043a\u0438"
     ]
    },
    {
     "cell_type": "code",
     "collapsed": false,
     "input": [
      "def row_parse(row):\n",
      "    res = {}\n",
      "    for i in row.getchildren():\n",
      "        if i.attrib.has_key('id'):\n",
      "            field =  re.sub(r\"\\w*_\", \"\", i.attrib['id'])\n",
      "            if field == 'metro':\n",
      "                for j in i.itertext(): \n",
      "                    if j in metro_station_list: \n",
      "                        res['metro'] = metro_station_list[j]\n",
      "                    else:\n",
      "                        res['metro'] = nan\n",
      "            elif field == 'room':\n",
      "                if i.text_content().find(u'-\u043a\u043e\u043c\u043d. \u043a\u0432\u0430\u0440\u0442\u0438\u0440\u0430') > -1:\n",
      "                    res['room_count'] = int(i.text_content().replace(u'-\u043a\u043e\u043c\u043d. \u043a\u0432\u0430\u0440\u0442\u0438\u0440\u0430',''))\n",
      "                else:\n",
      "                    res['room_count'] = i.text_content()\n",
      "            elif field == 'rooms':\n",
      "                for sqr_type in i.itertext():  \n",
      "                    tmp = sqr_type.split(':')\n",
      "                    if tmp[0] in square:\n",
      "                        res[square[tmp[0]]] = float(re.sub(u\"\u043c2|\u043c\", \"\", tmp[1]))\n",
      "            elif field == 'price':\n",
      "                prices = prices = [int(re.sub(r\"\\D*\", \"\", price_val)) for price_val in i.itertext() if len(price_val) > 1]\n",
      "                res['price_rur'] = prices[0]\n",
      "                res['price_usd'] = prices[1]\n",
      "            elif field == 'floor':\n",
      "                floor = [flr.split('/')  for flr in i.itertext()]           \n",
      "                res['floor_flat'] = floor[0][0]\n",
      "                res['floor_all'] = floor[0][1]\n",
      "                res['material_desc'] = material_desc[floor[1][0]]\n",
      "            elif field == 'dopsved':\n",
      "                for param in i.itertext():\n",
      "                    if param.find(';') == -1:\n",
      "                        tmp = param.split(':')\n",
      "                        if tmp[0] in dop_des:\n",
      "                            res[dop_des[tmp[0]]] = tmp[1].strip()\n",
      "                        elif tmp[0] in typ:\n",
      "                            res['typ'] = tmp[0]\n",
      "                    else:\n",
      "                        for split_param in param.split('; '):\n",
      "                            tmp = split_param.split(':')\n",
      "                            res[dop_des[tmp[0]]] = tmp[1].strip()\n",
      "    return res"
     ],
     "language": "python",
     "metadata": {},
     "outputs": [],
     "prompt_number": 105
    },
    {
     "cell_type": "markdown",
     "metadata": {},
     "source": [
      "\u041f\u0440\u0438\u043c\u0435\u043d\u0438\u043c \u0444\u0443\u043d\u043a\u0446\u0438\u044e \u043a\u043e \u0432\u0441\u0435 \u0441\u0442\u0440\u043e\u043a\u0430\u043c:"
     ]
    },
    {
     "cell_type": "code",
     "collapsed": false,
     "input": [
      "parse_list = [row_parse(tr) for tr in rows]"
     ],
     "language": "python",
     "metadata": {},
     "outputs": [],
     "prompt_number": 14
    },
    {
     "cell_type": "markdown",
     "metadata": {},
     "source": [
      "\u041f\u0435\u0440\u0435\u0432\u043e\u0434\u0438\u043c \u043f\u043e\u043b\u0443\u0447\u0438\u0432\u0448\u0438\u0439\u0441\u044f \u0441\u043f\u0438\u0441\u043e\u043a \u0432 DataFrame \u0434\u043b\u044f \u0434\u0430\u043b\u044c\u043d\u0435\u0439\u0448\u0435\u0439 \u043e\u0431\u0440\u0430\u0431\u043e\u0442\u043a\u0438"
     ]
    },
    {
     "cell_type": "code",
     "collapsed": false,
     "input": [
      "df = DataFrame(parse_list)"
     ],
     "language": "python",
     "metadata": {},
     "outputs": [],
     "prompt_number": 15
    },
    {
     "cell_type": "code",
     "collapsed": false,
     "input": [
      "df.head(5)"
     ],
     "language": "python",
     "metadata": {},
     "outputs": [
      {
       "html": [
        "<div style=\"max-height:1000px;max-width:1500px;overflow:auto;\">\n",
        "<table border=\"1\" class=\"dataframe\">\n",
        "  <thead>\n",
        "    <tr style=\"text-align: right;\">\n",
        "      <th></th>\n",
        "      <th>all_sqr</th>\n",
        "      <th>balkon</th>\n",
        "      <th>floor_all</th>\n",
        "      <th>floor_flat</th>\n",
        "      <th>kitchen_sqr</th>\n",
        "      <th>lift</th>\n",
        "      <th>material_desc</th>\n",
        "      <th>metro</th>\n",
        "      <th>price_rur</th>\n",
        "      <th>price_usd</th>\n",
        "      <th>room_count</th>\n",
        "      <th>room_sqr</th>\n",
        "      <th>tel</th>\n",
        "      <th>tolet</th>\n",
        "      <th>typ</th>\n",
        "      <th>windows</th>\n",
        "    </tr>\n",
        "  </thead>\n",
        "  <tbody>\n",
        "    <tr>\n",
        "      <th>0</th>\n",
        "      <td> 40</td>\n",
        "      <td>  \u00a01\u0411</td>\n",
        "      <td>  5</td>\n",
        "      <td>  4</td>\n",
        "      <td>  5</td>\n",
        "      <td>     \u00a0\u043d\u0435\u0442</td>\n",
        "      <td>     \u043a\u0438\u0440\u043f\u0438\u0447\u043d\u044b\u0439</td>\n",
        "      <td>NaN</td>\n",
        "      <td>  5350</td>\n",
        "      <td>  151</td>\n",
        "      <td>               2</td>\n",
        "      <td> 26.3</td>\n",
        "      <td> \u00a0\u0435\u0441\u0442\u044c</td>\n",
        "      <td>  \u00a01\u0420</td>\n",
        "      <td> \u0412\u0442\u043e\u0440\u0438\u0447\u043a\u0430</td>\n",
        "      <td>        \u0434\u0432\u043e\u0440</td>\n",
        "    </tr>\n",
        "    <tr>\n",
        "      <th>1</th>\n",
        "      <td> 72</td>\n",
        "      <td>  \u00a01\u0411</td>\n",
        "      <td> 17</td>\n",
        "      <td>  5</td>\n",
        "      <td>NaN</td>\n",
        "      <td> \u00a01\u041f\u00a0+\u00a02\u0413</td>\n",
        "      <td> \u043f\u0430\u043d\u0435\u043b\u044c\u043d\u044b\u0439 \u0434\u043e\u043c</td>\n",
        "      <td> 92</td>\n",
        "      <td> 50000</td>\n",
        "      <td> 1410</td>\n",
        "      <td> \u0434\u043e\u043b\u044f \u0432 \u043a\u0432\u0430\u0440\u0442\u0438\u0440\u0435</td>\n",
        "      <td> 50.0</td>\n",
        "      <td> \u00a0\u0435\u0441\u0442\u044c</td>\n",
        "      <td>  \u00a01\u0420</td>\n",
        "      <td> \u0412\u0442\u043e\u0440\u0438\u0447\u043a\u0430</td>\n",
        "      <td>  \u0434\u0432\u043e\u0440+\u0443\u043b\u0438\u0446\u0430</td>\n",
        "    </tr>\n",
        "    <tr>\n",
        "      <th>2</th>\n",
        "      <td> 31</td>\n",
        "      <td>  \u00a01\u041b</td>\n",
        "      <td>  9</td>\n",
        "      <td>  2</td>\n",
        "      <td> 10</td>\n",
        "      <td>     \u00a0\u043d\u0435\u0442</td>\n",
        "      <td> \u043f\u0430\u043d\u0435\u043b\u044c\u043d\u044b\u0439 \u0434\u043e\u043c</td>\n",
        "      <td> 10</td>\n",
        "      <td> 58000</td>\n",
        "      <td> 1636</td>\n",
        "      <td> \u0434\u043e\u043b\u044f \u0432 \u043a\u0432\u0430\u0440\u0442\u0438\u0440\u0435</td>\n",
        "      <td> 28.0</td>\n",
        "      <td> \u00a0\u0435\u0441\u0442\u044c</td>\n",
        "      <td> \u00a0\u043d\u0435\u0442</td>\n",
        "      <td> \u0412\u0442\u043e\u0440\u0438\u0447\u043a\u0430</td>\n",
        "      <td>        \u0434\u0432\u043e\u0440</td>\n",
        "    </tr>\n",
        "    <tr>\n",
        "      <th>3</th>\n",
        "      <td> 63</td>\n",
        "      <td>  \u00a01\u0411</td>\n",
        "      <td>  7</td>\n",
        "      <td> 22</td>\n",
        "      <td>  7</td>\n",
        "      <td> \u00a01\u041f\u00a0+\u00a01\u0413</td>\n",
        "      <td> \u043f\u0430\u043d\u0435\u043b\u044c\u043d\u044b\u0439 \u0434\u043e\u043c</td>\n",
        "      <td> 27</td>\n",
        "      <td> 59000</td>\n",
        "      <td> 1664</td>\n",
        "      <td> \u0434\u043e\u043b\u044f \u0432 \u043a\u0432\u0430\u0440\u0442\u0438\u0440\u0435</td>\n",
        "      <td> 40.0</td>\n",
        "      <td> \u00a0\u0435\u0441\u0442\u044c</td>\n",
        "      <td>  \u00a01\u0420</td>\n",
        "      <td> \u0412\u0442\u043e\u0440\u0438\u0447\u043a\u0430</td>\n",
        "      <td>  \u0434\u0432\u043e\u0440+\u0443\u043b\u0438\u0446\u0430</td>\n",
        "    </tr>\n",
        "    <tr>\n",
        "      <th>4</th>\n",
        "      <td> 75</td>\n",
        "      <td> \u00a0\u043d\u0435\u0442</td>\n",
        "      <td> 12</td>\n",
        "      <td>  7</td>\n",
        "      <td>NaN</td>\n",
        "      <td>     \u00a0\u043d\u0435\u0442</td>\n",
        "      <td> \u043f\u0430\u043d\u0435\u043b\u044c\u043d\u044b\u0439 \u0434\u043e\u043c</td>\n",
        "      <td> 75</td>\n",
        "      <td> 60000</td>\n",
        "      <td> 1693</td>\n",
        "      <td> \u0434\u043e\u043b\u044f \u0432 \u043a\u0432\u0430\u0440\u0442\u0438\u0440\u0435</td>\n",
        "      <td> 47.0</td>\n",
        "      <td>  \u00a0\u043d\u0435\u0442</td>\n",
        "      <td> \u00a0\u043d\u0435\u0442</td>\n",
        "      <td> \u0412\u0442\u043e\u0440\u0438\u0447\u043a\u0430</td>\n",
        "      <td>        \u0434\u0432\u043e\u0440</td>\n",
        "    </tr>\n",
        "  </tbody>\n",
        "</table>\n",
        "</div>"
       ],
       "metadata": {},
       "output_type": "pyout",
       "prompt_number": 24,
       "text": [
        "   all_sqr balkon floor_all floor_flat  kitchen_sqr      lift  material_desc  \\\n",
        "0       40    \u00a01\u0411         5          4            5      \u00a0\u043d\u0435\u0442      \u043a\u0438\u0440\u043f\u0438\u0447\u043d\u044b\u0439   \n",
        "1       72    \u00a01\u0411        17          5          NaN  \u00a01\u041f\u00a0+\u00a02\u0413  \u043f\u0430\u043d\u0435\u043b\u044c\u043d\u044b\u0439 \u0434\u043e\u043c   \n",
        "2       31    \u00a01\u041b         9          2           10      \u00a0\u043d\u0435\u0442  \u043f\u0430\u043d\u0435\u043b\u044c\u043d\u044b\u0439 \u0434\u043e\u043c   \n",
        "3       63    \u00a01\u0411         7         22            7  \u00a01\u041f\u00a0+\u00a01\u0413  \u043f\u0430\u043d\u0435\u043b\u044c\u043d\u044b\u0439 \u0434\u043e\u043c   \n",
        "4       75   \u00a0\u043d\u0435\u0442        12          7          NaN      \u00a0\u043d\u0435\u0442  \u043f\u0430\u043d\u0435\u043b\u044c\u043d\u044b\u0439 \u0434\u043e\u043c   \n",
        "\n",
        "   metro  price_rur  price_usd       room_count  room_sqr    tel tolet  \\\n",
        "0    NaN       5350        151                2      26.3  \u00a0\u0435\u0441\u0442\u044c   \u00a01\u0420   \n",
        "1     92      50000       1410  \u0434\u043e\u043b\u044f \u0432 \u043a\u0432\u0430\u0440\u0442\u0438\u0440\u0435      50.0  \u00a0\u0435\u0441\u0442\u044c   \u00a01\u0420   \n",
        "2     10      58000       1636  \u0434\u043e\u043b\u044f \u0432 \u043a\u0432\u0430\u0440\u0442\u0438\u0440\u0435      28.0  \u00a0\u0435\u0441\u0442\u044c  \u00a0\u043d\u0435\u0442   \n",
        "3     27      59000       1664  \u0434\u043e\u043b\u044f \u0432 \u043a\u0432\u0430\u0440\u0442\u0438\u0440\u0435      40.0  \u00a0\u0435\u0441\u0442\u044c   \u00a01\u0420   \n",
        "4     75      60000       1693  \u0434\u043e\u043b\u044f \u0432 \u043a\u0432\u0430\u0440\u0442\u0438\u0440\u0435      47.0   \u00a0\u043d\u0435\u0442  \u00a0\u043d\u0435\u0442   \n",
        "\n",
        "        typ      windows  \n",
        "0  \u0412\u0442\u043e\u0440\u0438\u0447\u043a\u0430         \u0434\u0432\u043e\u0440  \n",
        "1  \u0412\u0442\u043e\u0440\u0438\u0447\u043a\u0430   \u0434\u0432\u043e\u0440+\u0443\u043b\u0438\u0446\u0430  \n",
        "2  \u0412\u0442\u043e\u0440\u0438\u0447\u043a\u0430         \u0434\u0432\u043e\u0440  \n",
        "3  \u0412\u0442\u043e\u0440\u0438\u0447\u043a\u0430   \u0434\u0432\u043e\u0440+\u0443\u043b\u0438\u0446\u0430  \n",
        "4  \u0412\u0442\u043e\u0440\u0438\u0447\u043a\u0430         \u0434\u0432\u043e\u0440  "
       ]
      }
     ],
     "prompt_number": 24
    },
    {
     "cell_type": "markdown",
     "metadata": {},
     "source": [
      "\u0414\u043b\u044f \u0434\u0430\u043b\u044c\u043d\u0435\u0439\u0448\u0435\u0433\u043e \u0430\u043d\u0430\u043b\u0438\u0437\u0430 \u0432\u044b\u0433\u0440\u0443\u0437\u0438\u043c \u0434\u0430\u043d\u043d\u044b\u0435 \u0441 \u043f\u0435\u0440\u0432\u044b\u0445 100 \u0441\u0442\u0430\u0440\u043d\u0438\u0446:"
     ]
    },
    {
     "cell_type": "code",
     "collapsed": false,
     "input": [
      "parse_list = []\n",
      "for page_num in range(1,2500):\n",
      "    load_table(page_num)\n",
      "    rows = [row for row in table.getchildren() if row.attrib.has_key('class') and row.attrib['class'] == 'cat']\n",
      "    for tr in rows: parse_list.append(row_parse(tr))\n",
      "    # \u0434\u043b\u044f \u043e\u0431\u043c\u0430\u043d\u043a\u0438 \u0441\u0435\u0440\u0432\u0435\u0440\u0430\n",
      "    if page_num % 100:\n",
      "        time.sleep(60)\n",
      "    else:\n",
      "        time.sleep(120)\n",
      "        \n",
      "df = DataFrame(parse_list)\n",
      "df.to_csv('DataSets\\parse_flat_all.csv',';',index=False, encoding='utf-8')"
     ],
     "language": "python",
     "metadata": {},
     "outputs": [
      {
       "ename": "KeyError",
       "evalue": "'tbody'",
       "output_type": "pyerr",
       "traceback": [
        "\u001b[1;31m---------------------------------------------------------------------------\u001b[0m\n\u001b[1;31mKeyError\u001b[0m                                  Traceback (most recent call last)",
        "\u001b[1;32m<ipython-input-148-ec484f8e0924>\u001b[0m in \u001b[0;36m<module>\u001b[1;34m()\u001b[0m\n\u001b[0;32m      1\u001b[0m \u001b[0mparse_list\u001b[0m \u001b[1;33m=\u001b[0m \u001b[1;33m[\u001b[0m\u001b[1;33m]\u001b[0m\u001b[1;33m\u001b[0m\u001b[0m\n\u001b[0;32m      2\u001b[0m \u001b[1;32mfor\u001b[0m \u001b[0mpage_num\u001b[0m \u001b[1;32min\u001b[0m \u001b[0mrange\u001b[0m\u001b[1;33m(\u001b[0m\u001b[1;36m1\u001b[0m\u001b[1;33m,\u001b[0m\u001b[1;36m2500\u001b[0m\u001b[1;33m)\u001b[0m\u001b[1;33m:\u001b[0m\u001b[1;33m\u001b[0m\u001b[0m\n\u001b[1;32m----> 3\u001b[1;33m     \u001b[0mload_table\u001b[0m\u001b[1;33m(\u001b[0m\u001b[0mpage_num\u001b[0m\u001b[1;33m)\u001b[0m\u001b[1;33m\u001b[0m\u001b[0m\n\u001b[0m\u001b[0;32m      4\u001b[0m     \u001b[0mrows\u001b[0m \u001b[1;33m=\u001b[0m \u001b[1;33m[\u001b[0m\u001b[0mrow\u001b[0m \u001b[1;32mfor\u001b[0m \u001b[0mrow\u001b[0m \u001b[1;32min\u001b[0m \u001b[0mtable\u001b[0m\u001b[1;33m.\u001b[0m\u001b[0mgetchildren\u001b[0m\u001b[1;33m(\u001b[0m\u001b[1;33m)\u001b[0m \u001b[1;32mif\u001b[0m \u001b[0mrow\u001b[0m\u001b[1;33m.\u001b[0m\u001b[0mattrib\u001b[0m\u001b[1;33m.\u001b[0m\u001b[0mhas_key\u001b[0m\u001b[1;33m(\u001b[0m\u001b[1;34m'class'\u001b[0m\u001b[1;33m)\u001b[0m \u001b[1;32mand\u001b[0m \u001b[0mrow\u001b[0m\u001b[1;33m.\u001b[0m\u001b[0mattrib\u001b[0m\u001b[1;33m[\u001b[0m\u001b[1;34m'class'\u001b[0m\u001b[1;33m]\u001b[0m \u001b[1;33m==\u001b[0m \u001b[1;34m'cat'\u001b[0m\u001b[1;33m]\u001b[0m\u001b[1;33m\u001b[0m\u001b[0m\n\u001b[0;32m      5\u001b[0m     \u001b[1;32mfor\u001b[0m \u001b[0mtr\u001b[0m \u001b[1;32min\u001b[0m \u001b[0mrows\u001b[0m\u001b[1;33m:\u001b[0m \u001b[0mparse_list\u001b[0m\u001b[1;33m.\u001b[0m\u001b[0mappend\u001b[0m\u001b[1;33m(\u001b[0m\u001b[0mrow_parse\u001b[0m\u001b[1;33m(\u001b[0m\u001b[0mtr\u001b[0m\u001b[1;33m)\u001b[0m\u001b[1;33m)\u001b[0m\u001b[1;33m\u001b[0m\u001b[0m\n",
        "\u001b[1;32m<ipython-input-19-ab4275b9a7fa>\u001b[0m in \u001b[0;36mload_table\u001b[1;34m(id_page)\u001b[0m\n\u001b[0;32m      2\u001b[0m     \u001b[0mpage\u001b[0m \u001b[1;33m=\u001b[0m \u001b[0mhtml\u001b[0m\u001b[1;33m.\u001b[0m\u001b[0mparse\u001b[0m\u001b[1;33m(\u001b[0m\u001b[1;34m'http://www.cian.ru/cat.php?deal_type=2&obl_id=1&room1=1&room2=1&room3=1&p=%s'\u001b[0m \u001b[1;33m%\u001b[0m \u001b[1;33m(\u001b[0m\u001b[0mid_page\u001b[0m\u001b[1;33m)\u001b[0m\u001b[1;33m)\u001b[0m\u001b[1;33m\u001b[0m\u001b[0m\n\u001b[0;32m      3\u001b[0m     \u001b[0mmain\u001b[0m \u001b[1;33m=\u001b[0m \u001b[0mpage\u001b[0m\u001b[1;33m.\u001b[0m\u001b[0mgetroot\u001b[0m\u001b[1;33m(\u001b[0m\u001b[1;33m)\u001b[0m\u001b[1;33m\u001b[0m\u001b[0m\n\u001b[1;32m----> 4\u001b[1;33m     \u001b[0mtbody\u001b[0m \u001b[1;33m=\u001b[0m \u001b[0mmain\u001b[0m\u001b[1;33m.\u001b[0m\u001b[0mget_element_by_id\u001b[0m\u001b[1;33m(\u001b[0m\u001b[1;34m'tbody'\u001b[0m\u001b[1;33m)\u001b[0m\u001b[1;33m\u001b[0m\u001b[0m\n\u001b[0m\u001b[0;32m      5\u001b[0m     \u001b[0mpre_table\u001b[0m \u001b[1;33m=\u001b[0m \u001b[0mtbody\u001b[0m\u001b[1;33m.\u001b[0m\u001b[0mfind_class\u001b[0m\u001b[1;33m(\u001b[0m\u001b[1;34m'cat'\u001b[0m\u001b[1;33m)\u001b[0m\u001b[1;33m\u001b[0m\u001b[0m\n\u001b[0;32m      6\u001b[0m     \u001b[0mtable\u001b[0m \u001b[1;33m=\u001b[0m \u001b[0mtable_cat_list\u001b[0m\u001b[1;33m[\u001b[0m\u001b[1;36m0\u001b[0m\u001b[1;33m]\u001b[0m\u001b[1;33m\u001b[0m\u001b[0m\n",
        "\u001b[1;32mC:\\Python27\\lib\\site-packages\\lxml\\html\\__init__.pyc\u001b[0m in \u001b[0;36mget_element_by_id\u001b[1;34m(self, id, *default)\u001b[0m\n\u001b[0;32m    270\u001b[0m                 \u001b[1;32mreturn\u001b[0m \u001b[0mdefault\u001b[0m\u001b[1;33m[\u001b[0m\u001b[1;36m0\u001b[0m\u001b[1;33m]\u001b[0m\u001b[1;33m\u001b[0m\u001b[0m\n\u001b[0;32m    271\u001b[0m             \u001b[1;32melse\u001b[0m\u001b[1;33m:\u001b[0m\u001b[1;33m\u001b[0m\u001b[0m\n\u001b[1;32m--> 272\u001b[1;33m                 \u001b[1;32mraise\u001b[0m \u001b[0mKeyError\u001b[0m\u001b[1;33m(\u001b[0m\u001b[0mid\u001b[0m\u001b[1;33m)\u001b[0m\u001b[1;33m\u001b[0m\u001b[0m\n\u001b[0m\u001b[0;32m    273\u001b[0m \u001b[1;33m\u001b[0m\u001b[0m\n\u001b[0;32m    274\u001b[0m     \u001b[1;32mdef\u001b[0m \u001b[0mtext_content\u001b[0m\u001b[1;33m(\u001b[0m\u001b[0mself\u001b[0m\u001b[1;33m)\u001b[0m\u001b[1;33m:\u001b[0m\u001b[1;33m\u001b[0m\u001b[0m\n",
        "\u001b[1;31mKeyError\u001b[0m: 'tbody'"
       ]
      }
     ],
     "prompt_number": 148
    },
    {
     "cell_type": "code",
     "collapsed": false,
     "input": [
      "df = DataFrame(parse_list)\n",
      "df.to_csv('DataSets\\parse_flat_all.csv',';',index=False, encoding='utf-8')"
     ],
     "language": "python",
     "metadata": {},
     "outputs": [],
     "prompt_number": 151
    },
    {
     "cell_type": "heading",
     "level": 4,
     "metadata": {},
     "source": [
      "\u041f\u0440\u0435\u0434\u0432\u0430\u0440\u0438\u0442\u0435\u043b\u044c\u043d\u0430\u044f \u043e\u0431\u0440\u0430\u0431\u043e\u043a\u0430 \u0434\u0430\u043d\u043d\u044b\u0445"
     ]
    },
    {
     "cell_type": "code",
     "collapsed": false,
     "input": [
      "df = read_csv('DataSets\\data.csv',';',index_col=0)"
     ],
     "language": "python",
     "metadata": {},
     "outputs": [],
     "prompt_number": 98
    },
    {
     "cell_type": "code",
     "collapsed": false,
     "input": [
      "df.head()"
     ],
     "language": "python",
     "metadata": {},
     "outputs": [
      {
       "html": [
        "<div style=\"max-height:1000px;max-width:1500px;overflow:auto;\">\n",
        "<table border=\"1\" class=\"dataframe\">\n",
        "  <thead>\n",
        "    <tr style=\"text-align: right;\">\n",
        "      <th></th>\n",
        "      <th>all_sqr</th>\n",
        "      <th>balkon</th>\n",
        "      <th>floor_all</th>\n",
        "      <th>floor_flat</th>\n",
        "      <th>kitchen_sqr</th>\n",
        "      <th>lift</th>\n",
        "      <th>material_desc</th>\n",
        "      <th>metro</th>\n",
        "      <th>price_rur</th>\n",
        "      <th>price_usd</th>\n",
        "      <th>room_count</th>\n",
        "      <th>room_sqr</th>\n",
        "      <th>tel</th>\n",
        "      <th>tolet</th>\n",
        "      <th>typ</th>\n",
        "      <th>windows</th>\n",
        "    </tr>\n",
        "  </thead>\n",
        "  <tbody>\n",
        "    <tr>\n",
        "      <th>0</th>\n",
        "      <td> 40</td>\n",
        "      <td>  1\u0411</td>\n",
        "      <td>  5</td>\n",
        "      <td>  4</td>\n",
        "      <td>  5</td>\n",
        "      <td>     \u043d\u0435\u0442</td>\n",
        "      <td>     \u043a\u0438\u0440\u043f\u0438\u0447\u043d\u044b\u0439</td>\n",
        "      <td>NaN</td>\n",
        "      <td>  5350</td>\n",
        "      <td>  151</td>\n",
        "      <td>               2</td>\n",
        "      <td> 26.3</td>\n",
        "      <td> \u0435\u0441\u0442\u044c</td>\n",
        "      <td>  1\u0420</td>\n",
        "      <td> \u0412\u0442\u043e\u0440\u0438\u0447\u043a\u0430</td>\n",
        "      <td>       \u0434\u0432\u043e\u0440</td>\n",
        "    </tr>\n",
        "    <tr>\n",
        "      <th>1</th>\n",
        "      <td> 72</td>\n",
        "      <td>  1\u0411</td>\n",
        "      <td> 17</td>\n",
        "      <td>  5</td>\n",
        "      <td>NaN</td>\n",
        "      <td> 1\u041f\u00a0+\u00a02\u0413</td>\n",
        "      <td> \u043f\u0430\u043d\u0435\u043b\u044c\u043d\u044b\u0439 \u0434\u043e\u043c</td>\n",
        "      <td> 92</td>\n",
        "      <td> 50000</td>\n",
        "      <td> 1410</td>\n",
        "      <td> \u0434\u043e\u043b\u044f \u0432 \u043a\u0432\u0430\u0440\u0442\u0438\u0440\u0435</td>\n",
        "      <td> 50.0</td>\n",
        "      <td> \u0435\u0441\u0442\u044c</td>\n",
        "      <td>  1\u0420</td>\n",
        "      <td> \u0412\u0442\u043e\u0440\u0438\u0447\u043a\u0430</td>\n",
        "      <td> \u0434\u0432\u043e\u0440+\u0443\u043b\u0438\u0446\u0430</td>\n",
        "    </tr>\n",
        "    <tr>\n",
        "      <th>2</th>\n",
        "      <td> 31</td>\n",
        "      <td>  1\u041b</td>\n",
        "      <td>  9</td>\n",
        "      <td>  2</td>\n",
        "      <td> 10</td>\n",
        "      <td>     \u043d\u0435\u0442</td>\n",
        "      <td> \u043f\u0430\u043d\u0435\u043b\u044c\u043d\u044b\u0439 \u0434\u043e\u043c</td>\n",
        "      <td> 10</td>\n",
        "      <td> 58000</td>\n",
        "      <td> 1636</td>\n",
        "      <td> \u0434\u043e\u043b\u044f \u0432 \u043a\u0432\u0430\u0440\u0442\u0438\u0440\u0435</td>\n",
        "      <td> 28.0</td>\n",
        "      <td> \u0435\u0441\u0442\u044c</td>\n",
        "      <td> \u043d\u0435\u0442</td>\n",
        "      <td> \u0412\u0442\u043e\u0440\u0438\u0447\u043a\u0430</td>\n",
        "      <td>       \u0434\u0432\u043e\u0440</td>\n",
        "    </tr>\n",
        "    <tr>\n",
        "      <th>3</th>\n",
        "      <td> 63</td>\n",
        "      <td>  1\u0411</td>\n",
        "      <td>  7</td>\n",
        "      <td> 22</td>\n",
        "      <td>  7</td>\n",
        "      <td> 1\u041f\u00a0+\u00a01\u0413</td>\n",
        "      <td> \u043f\u0430\u043d\u0435\u043b\u044c\u043d\u044b\u0439 \u0434\u043e\u043c</td>\n",
        "      <td> 27</td>\n",
        "      <td> 59000</td>\n",
        "      <td> 1664</td>\n",
        "      <td> \u0434\u043e\u043b\u044f \u0432 \u043a\u0432\u0430\u0440\u0442\u0438\u0440\u0435</td>\n",
        "      <td> 40.0</td>\n",
        "      <td> \u0435\u0441\u0442\u044c</td>\n",
        "      <td>  1\u0420</td>\n",
        "      <td> \u0412\u0442\u043e\u0440\u0438\u0447\u043a\u0430</td>\n",
        "      <td> \u0434\u0432\u043e\u0440+\u0443\u043b\u0438\u0446\u0430</td>\n",
        "    </tr>\n",
        "    <tr>\n",
        "      <th>4</th>\n",
        "      <td> 75</td>\n",
        "      <td> \u043d\u0435\u0442</td>\n",
        "      <td> 12</td>\n",
        "      <td>  7</td>\n",
        "      <td>NaN</td>\n",
        "      <td>     \u043d\u0435\u0442</td>\n",
        "      <td> \u043f\u0430\u043d\u0435\u043b\u044c\u043d\u044b\u0439 \u0434\u043e\u043c</td>\n",
        "      <td> 75</td>\n",
        "      <td> 60000</td>\n",
        "      <td> 1693</td>\n",
        "      <td> \u0434\u043e\u043b\u044f \u0432 \u043a\u0432\u0430\u0440\u0442\u0438\u0440\u0435</td>\n",
        "      <td> 47.0</td>\n",
        "      <td>  \u043d\u0435\u0442</td>\n",
        "      <td> \u043d\u0435\u0442</td>\n",
        "      <td> \u0412\u0442\u043e\u0440\u0438\u0447\u043a\u0430</td>\n",
        "      <td>       \u0434\u0432\u043e\u0440</td>\n",
        "    </tr>\n",
        "  </tbody>\n",
        "</table>\n",
        "</div>"
       ],
       "metadata": {},
       "output_type": "pyout",
       "prompt_number": 137,
       "text": [
        "   all_sqr balkon floor_all floor_flat  kitchen_sqr     lift  material_desc  \\\n",
        "0       40     1\u0411         5          4            5      \u043d\u0435\u0442      \u043a\u0438\u0440\u043f\u0438\u0447\u043d\u044b\u0439   \n",
        "1       72     1\u0411        17          5          NaN  1\u041f\u00a0+\u00a02\u0413  \u043f\u0430\u043d\u0435\u043b\u044c\u043d\u044b\u0439 \u0434\u043e\u043c   \n",
        "2       31     1\u041b         9          2           10      \u043d\u0435\u0442  \u043f\u0430\u043d\u0435\u043b\u044c\u043d\u044b\u0439 \u0434\u043e\u043c   \n",
        "3       63     1\u0411         7         22            7  1\u041f\u00a0+\u00a01\u0413  \u043f\u0430\u043d\u0435\u043b\u044c\u043d\u044b\u0439 \u0434\u043e\u043c   \n",
        "4       75    \u043d\u0435\u0442        12          7          NaN      \u043d\u0435\u0442  \u043f\u0430\u043d\u0435\u043b\u044c\u043d\u044b\u0439 \u0434\u043e\u043c   \n",
        "\n",
        "   metro  price_rur  price_usd       room_count  room_sqr   tel tolet  \\\n",
        "0    NaN       5350        151                2      26.3  \u0435\u0441\u0442\u044c    1\u0420   \n",
        "1     92      50000       1410  \u0434\u043e\u043b\u044f \u0432 \u043a\u0432\u0430\u0440\u0442\u0438\u0440\u0435      50.0  \u0435\u0441\u0442\u044c    1\u0420   \n",
        "2     10      58000       1636  \u0434\u043e\u043b\u044f \u0432 \u043a\u0432\u0430\u0440\u0442\u0438\u0440\u0435      28.0  \u0435\u0441\u0442\u044c   \u043d\u0435\u0442   \n",
        "3     27      59000       1664  \u0434\u043e\u043b\u044f \u0432 \u043a\u0432\u0430\u0440\u0442\u0438\u0440\u0435      40.0  \u0435\u0441\u0442\u044c    1\u0420   \n",
        "4     75      60000       1693  \u0434\u043e\u043b\u044f \u0432 \u043a\u0432\u0430\u0440\u0442\u0438\u0440\u0435      47.0   \u043d\u0435\u0442   \u043d\u0435\u0442   \n",
        "\n",
        "        typ     windows  \n",
        "0  \u0412\u0442\u043e\u0440\u0438\u0447\u043a\u0430        \u0434\u0432\u043e\u0440  \n",
        "1  \u0412\u0442\u043e\u0440\u0438\u0447\u043a\u0430  \u0434\u0432\u043e\u0440+\u0443\u043b\u0438\u0446\u0430  \n",
        "2  \u0412\u0442\u043e\u0440\u0438\u0447\u043a\u0430        \u0434\u0432\u043e\u0440  \n",
        "3  \u0412\u0442\u043e\u0440\u0438\u0447\u043a\u0430  \u0434\u0432\u043e\u0440+\u0443\u043b\u0438\u0446\u0430  \n",
        "4  \u0412\u0442\u043e\u0440\u0438\u0447\u043a\u0430        \u0434\u0432\u043e\u0440  "
       ]
      }
     ],
     "prompt_number": 137
    },
    {
     "cell_type": "markdown",
     "metadata": {},
     "source": [
      "\u041d\u0435\u043e\u0431\u0445\u043e\u0434\u0438\u043c\u043e \u043f\u0440\u0435\u043e\u0431\u0440\u0430\u0437\u043e\u0432\u0430\u0442\u044c \u043d\u0430\u0448\u0438 \u0442\u0435\u043a\u0441\u0442\u043e\u0432\u044b\u0435 \u0434\u0430\u043d\u043d\u044b\u0435 \u0432 \u0447\u0438\u0441\u043b\u043e\u0432\u044b\u0435"
     ]
    },
    {
     "cell_type": "code",
     "collapsed": false,
     "input": [
      "df.balkon.drop_duplicates()"
     ],
     "language": "python",
     "metadata": {},
     "outputs": [
      {
       "metadata": {},
       "output_type": "pyout",
       "prompt_number": 138,
       "text": [
        "0     1\u0411\n",
        "2     1\u041b\n",
        "4    \u043d\u0435\u0442\n",
        "Name: balkon, dtype: object"
       ]
      }
     ],
     "prompt_number": 138
    },
    {
     "cell_type": "markdown",
     "metadata": {},
     "source": [
      "\u041c\u043e\u0436\u043d\u043e \u043f\u0440\u0435\u0434\u043f\u043e\u043b\u043e\u0436\u0438\u0442\u044c, \u0447\u0442\u043e \u0431\u0443\u043a\u0432\u044b \"\u0411\" \u0438 \"\u041b\" \u043e\u0431\u043e\u0437\u043d\u0430\u0447\u0430\u044e\u0442 \"\u0431\u0430\u043b\u043a\u043e\u043d\" \u0438 \"\u043b\u043e\u0434\u0436\u0438\u044f\". \u0420\u0430\u0437\u043d\u0435\u0441\u0435\u043c \u044d\u0442\u0438 \u0434\u0430\u043d\u043d\u044b\u0435 \u043f\u043e \u0434\u0432\u0443\u043c \u043f\u043e\u043b\u044f\u043c \u0438 \u0443\u0431\u0435\u0440\u0435\u043c \u0431\u0443\u043a\u0432\u044b, \u0430 \u0443 \u0442\u0435\u0445 \u0437\u0430\u043f\u0438\u0441\u0435\u0439 \u0443 \u043a\u043e\u0442\u043e\u0440\u044b\u0445 \u043d\u0435\u0442 \u0431\u0430\u043b\u043a\u043e\u043d\u0430 \u0437\u0430\u043f\u0438\u0448\u0435\u043c 0"
     ]
    },
    {
     "cell_type": "code",
     "collapsed": false,
     "input": [
      "df.balkon[df.balkon == u'\u043d\u0435\u0442'] = 0"
     ],
     "language": "python",
     "metadata": {},
     "outputs": [],
     "prompt_number": 141
    },
    {
     "cell_type": "code",
     "collapsed": false,
     "input": [
      "df.balkon.drop_duplicates()"
     ],
     "language": "python",
     "metadata": {},
     "outputs": [
      {
       "metadata": {},
       "output_type": "pyout",
       "prompt_number": 142,
       "text": [
        "0    1\u0411\n",
        "2    1\u041b\n",
        "4     0\n",
        "Name: balkon, dtype: object"
       ]
      }
     ],
     "prompt_number": 142
    },
    {
     "cell_type": "code",
     "collapsed": false,
     "input": [
      "df.head()"
     ],
     "language": "python",
     "metadata": {},
     "outputs": [
      {
       "html": [
        "<div style=\"max-height:1000px;max-width:1500px;overflow:auto;\">\n",
        "<table border=\"1\" class=\"dataframe\">\n",
        "  <thead>\n",
        "    <tr style=\"text-align: right;\">\n",
        "      <th></th>\n",
        "      <th>all_sqr</th>\n",
        "      <th>balkon</th>\n",
        "      <th>floor_all</th>\n",
        "      <th>floor_flat</th>\n",
        "      <th>kitchen_sqr</th>\n",
        "      <th>lift</th>\n",
        "      <th>material_desc</th>\n",
        "      <th>metro</th>\n",
        "      <th>price_rur</th>\n",
        "      <th>price_usd</th>\n",
        "      <th>room_count</th>\n",
        "      <th>room_sqr</th>\n",
        "      <th>tel</th>\n",
        "      <th>tolet</th>\n",
        "      <th>typ</th>\n",
        "      <th>windows</th>\n",
        "    </tr>\n",
        "  </thead>\n",
        "  <tbody>\n",
        "    <tr>\n",
        "      <th>0</th>\n",
        "      <td> 40</td>\n",
        "      <td>  \u00a01\u0411</td>\n",
        "      <td>  5</td>\n",
        "      <td>  4</td>\n",
        "      <td>  5</td>\n",
        "      <td>     \u00a0\u043d\u0435\u0442</td>\n",
        "      <td>     \u043a\u0438\u0440\u043f\u0438\u0447\u043d\u044b\u0439</td>\n",
        "      <td>NaN</td>\n",
        "      <td>  5350</td>\n",
        "      <td>  151</td>\n",
        "      <td>               2</td>\n",
        "      <td> 26.3</td>\n",
        "      <td> \u00a0\u0435\u0441\u0442\u044c</td>\n",
        "      <td>  \u00a01\u0420</td>\n",
        "      <td> \u0412\u0442\u043e\u0440\u0438\u0447\u043a\u0430</td>\n",
        "      <td>        \u0434\u0432\u043e\u0440</td>\n",
        "    </tr>\n",
        "    <tr>\n",
        "      <th>1</th>\n",
        "      <td> 72</td>\n",
        "      <td>  \u00a01\u0411</td>\n",
        "      <td> 17</td>\n",
        "      <td>  5</td>\n",
        "      <td>NaN</td>\n",
        "      <td> \u00a01\u041f\u00a0+\u00a02\u0413</td>\n",
        "      <td> \u043f\u0430\u043d\u0435\u043b\u044c\u043d\u044b\u0439 \u0434\u043e\u043c</td>\n",
        "      <td> 92</td>\n",
        "      <td> 50000</td>\n",
        "      <td> 1410</td>\n",
        "      <td> \u0434\u043e\u043b\u044f \u0432 \u043a\u0432\u0430\u0440\u0442\u0438\u0440\u0435</td>\n",
        "      <td> 50.0</td>\n",
        "      <td> \u00a0\u0435\u0441\u0442\u044c</td>\n",
        "      <td>  \u00a01\u0420</td>\n",
        "      <td> \u0412\u0442\u043e\u0440\u0438\u0447\u043a\u0430</td>\n",
        "      <td>  \u0434\u0432\u043e\u0440+\u0443\u043b\u0438\u0446\u0430</td>\n",
        "    </tr>\n",
        "    <tr>\n",
        "      <th>2</th>\n",
        "      <td> 31</td>\n",
        "      <td>  \u00a01\u041b</td>\n",
        "      <td>  9</td>\n",
        "      <td>  2</td>\n",
        "      <td> 10</td>\n",
        "      <td>     \u00a0\u043d\u0435\u0442</td>\n",
        "      <td> \u043f\u0430\u043d\u0435\u043b\u044c\u043d\u044b\u0439 \u0434\u043e\u043c</td>\n",
        "      <td> 10</td>\n",
        "      <td> 58000</td>\n",
        "      <td> 1636</td>\n",
        "      <td> \u0434\u043e\u043b\u044f \u0432 \u043a\u0432\u0430\u0440\u0442\u0438\u0440\u0435</td>\n",
        "      <td> 28.0</td>\n",
        "      <td> \u00a0\u0435\u0441\u0442\u044c</td>\n",
        "      <td> \u00a0\u043d\u0435\u0442</td>\n",
        "      <td> \u0412\u0442\u043e\u0440\u0438\u0447\u043a\u0430</td>\n",
        "      <td>        \u0434\u0432\u043e\u0440</td>\n",
        "    </tr>\n",
        "    <tr>\n",
        "      <th>3</th>\n",
        "      <td> 63</td>\n",
        "      <td>  \u00a01\u0411</td>\n",
        "      <td>  7</td>\n",
        "      <td> 22</td>\n",
        "      <td>  7</td>\n",
        "      <td> \u00a01\u041f\u00a0+\u00a01\u0413</td>\n",
        "      <td> \u043f\u0430\u043d\u0435\u043b\u044c\u043d\u044b\u0439 \u0434\u043e\u043c</td>\n",
        "      <td> 27</td>\n",
        "      <td> 59000</td>\n",
        "      <td> 1664</td>\n",
        "      <td> \u0434\u043e\u043b\u044f \u0432 \u043a\u0432\u0430\u0440\u0442\u0438\u0440\u0435</td>\n",
        "      <td> 40.0</td>\n",
        "      <td> \u00a0\u0435\u0441\u0442\u044c</td>\n",
        "      <td>  \u00a01\u0420</td>\n",
        "      <td> \u0412\u0442\u043e\u0440\u0438\u0447\u043a\u0430</td>\n",
        "      <td>  \u0434\u0432\u043e\u0440+\u0443\u043b\u0438\u0446\u0430</td>\n",
        "    </tr>\n",
        "    <tr>\n",
        "      <th>4</th>\n",
        "      <td> 75</td>\n",
        "      <td> \u00a0\u043d\u0435\u0442</td>\n",
        "      <td> 12</td>\n",
        "      <td>  7</td>\n",
        "      <td>NaN</td>\n",
        "      <td>     \u00a0\u043d\u0435\u0442</td>\n",
        "      <td> \u043f\u0430\u043d\u0435\u043b\u044c\u043d\u044b\u0439 \u0434\u043e\u043c</td>\n",
        "      <td> 75</td>\n",
        "      <td> 60000</td>\n",
        "      <td> 1693</td>\n",
        "      <td> \u0434\u043e\u043b\u044f \u0432 \u043a\u0432\u0430\u0440\u0442\u0438\u0440\u0435</td>\n",
        "      <td> 47.0</td>\n",
        "      <td>  \u00a0\u043d\u0435\u0442</td>\n",
        "      <td> \u00a0\u043d\u0435\u0442</td>\n",
        "      <td> \u0412\u0442\u043e\u0440\u0438\u0447\u043a\u0430</td>\n",
        "      <td>        \u0434\u0432\u043e\u0440</td>\n",
        "    </tr>\n",
        "  </tbody>\n",
        "</table>\n",
        "</div>"
       ],
       "metadata": {},
       "output_type": "pyout",
       "prompt_number": 56,
       "text": [
        "   all_sqr balkon  floor_all  floor_flat  kitchen_sqr      lift  \\\n",
        "0       40    \u00a01\u0411          5           4            5      \u00a0\u043d\u0435\u0442   \n",
        "1       72    \u00a01\u0411         17           5          NaN  \u00a01\u041f\u00a0+\u00a02\u0413   \n",
        "2       31    \u00a01\u041b          9           2           10      \u00a0\u043d\u0435\u0442   \n",
        "3       63    \u00a01\u0411          7          22            7  \u00a01\u041f\u00a0+\u00a01\u0413   \n",
        "4       75   \u00a0\u043d\u0435\u0442         12           7          NaN      \u00a0\u043d\u0435\u0442   \n",
        "\n",
        "   material_desc  metro  price_rur  price_usd       room_count  room_sqr  \\\n",
        "0      \u043a\u0438\u0440\u043f\u0438\u0447\u043d\u044b\u0439    NaN       5350        151                2      26.3   \n",
        "1  \u043f\u0430\u043d\u0435\u043b\u044c\u043d\u044b\u0439 \u0434\u043e\u043c     92      50000       1410  \u0434\u043e\u043b\u044f \u0432 \u043a\u0432\u0430\u0440\u0442\u0438\u0440\u0435      50.0   \n",
        "2  \u043f\u0430\u043d\u0435\u043b\u044c\u043d\u044b\u0439 \u0434\u043e\u043c     10      58000       1636  \u0434\u043e\u043b\u044f \u0432 \u043a\u0432\u0430\u0440\u0442\u0438\u0440\u0435      28.0   \n",
        "3  \u043f\u0430\u043d\u0435\u043b\u044c\u043d\u044b\u0439 \u0434\u043e\u043c     27      59000       1664  \u0434\u043e\u043b\u044f \u0432 \u043a\u0432\u0430\u0440\u0442\u0438\u0440\u0435      40.0   \n",
        "4  \u043f\u0430\u043d\u0435\u043b\u044c\u043d\u044b\u0439 \u0434\u043e\u043c     75      60000       1693  \u0434\u043e\u043b\u044f \u0432 \u043a\u0432\u0430\u0440\u0442\u0438\u0440\u0435      47.0   \n",
        "\n",
        "     tel tolet       typ      windows  \n",
        "0  \u00a0\u0435\u0441\u0442\u044c   \u00a01\u0420  \u0412\u0442\u043e\u0440\u0438\u0447\u043a\u0430         \u0434\u0432\u043e\u0440  \n",
        "1  \u00a0\u0435\u0441\u0442\u044c   \u00a01\u0420  \u0412\u0442\u043e\u0440\u0438\u0447\u043a\u0430   \u0434\u0432\u043e\u0440+\u0443\u043b\u0438\u0446\u0430  \n",
        "2  \u00a0\u0435\u0441\u0442\u044c  \u00a0\u043d\u0435\u0442  \u0412\u0442\u043e\u0440\u0438\u0447\u043a\u0430         \u0434\u0432\u043e\u0440  \n",
        "3  \u00a0\u0435\u0441\u0442\u044c   \u00a01\u0420  \u0412\u0442\u043e\u0440\u0438\u0447\u043a\u0430   \u0434\u0432\u043e\u0440+\u0443\u043b\u0438\u0446\u0430  \n",
        "4   \u00a0\u043d\u0435\u0442  \u00a0\u043d\u0435\u0442  \u0412\u0442\u043e\u0440\u0438\u0447\u043a\u0430         \u0434\u0432\u043e\u0440  "
       ]
      }
     ],
     "prompt_number": 56
    },
    {
     "cell_type": "code",
     "collapsed": false,
     "input": [
      "300 % 200"
     ],
     "language": "python",
     "metadata": {},
     "outputs": [
      {
       "metadata": {},
       "output_type": "pyout",
       "prompt_number": 146,
       "text": [
        "100"
       ]
      }
     ],
     "prompt_number": 146
    },
    {
     "cell_type": "code",
     "collapsed": false,
     "input": [
      "0 == "
     ],
     "language": "python",
     "metadata": {},
     "outputs": [
      {
       "metadata": {},
       "output_type": "pyout",
       "prompt_number": 147,
       "text": [
        "False"
       ]
      }
     ],
     "prompt_number": 147
    },
    {
     "cell_type": "code",
     "collapsed": false,
     "input": [
      "page_num"
     ],
     "language": "python",
     "metadata": {},
     "outputs": [
      {
       "metadata": {},
       "output_type": "pyout",
       "prompt_number": 149,
       "text": [
        "1104"
       ]
      }
     ],
     "prompt_number": 149
    },
    {
     "cell_type": "code",
     "collapsed": false,
     "input": [
      "len(parse_list)"
     ],
     "language": "python",
     "metadata": {},
     "outputs": [
      {
       "metadata": {},
       "output_type": "pyout",
       "prompt_number": 150,
       "text": [
        "27575"
       ]
      }
     ],
     "prompt_number": 150
    },
    {
     "cell_type": "code",
     "collapsed": false,
     "input": [],
     "language": "python",
     "metadata": {},
     "outputs": []
    }
   ],
   "metadata": {}
  }
 ]
}