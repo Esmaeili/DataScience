{
 "metadata": {
  "name": "SympyTest"
 },
 "nbformat": 3,
 "nbformat_minor": 0,
 "worksheets": [
  {
   "cells": [
    {
     "cell_type": "code",
     "collapsed": false,
     "input": "from IPython.display import display, Latex\n\nfrom sympy.interactive import printing\nprinting.init_printing(use_latex=True)\n\nfrom __future__ import division\nfrom sympy import *",
     "language": "python",
     "metadata": {},
     "outputs": [],
     "prompt_number": 1
    },
    {
     "cell_type": "code",
     "collapsed": false,
     "input": "def answer(fu):\n    answer = []\n    last = fu\n    prev = 1\n    answer.append(fu.expand())\n    while len(last.args) > 2:    \n        first, last = last.as_two_terms()\n        prev = Mul(prev,first)\n        answer.append(Mul(prev, last.expand()))\n        next\n    answer.append(fu)\n    for i in reversed(answer):\n        print i",
     "language": "python",
     "metadata": {},
     "outputs": [],
     "prompt_number": 3
    },
    {
     "cell_type": "code",
     "collapsed": false,
     "input": "x = symbols('x')\nf = (x-3)*(x**2+3)*(x+7)\nanswer(f)",
     "language": "python",
     "metadata": {},
     "outputs": [
      {
       "output_type": "stream",
       "stream": "stdout",
       "text": "(x - 3)*(x + 7)*(x**2 + 3)\n(x - 3)*(x**3 + 7*x**2 + 3*x + 21)\nx**4 + 4*x**3 - 18*x**2 + 12*x - 63\n"
      }
     ],
     "prompt_number": 4
    },
    {
     "cell_type": "code",
     "collapsed": false,
     "input": "",
     "language": "python",
     "metadata": {},
     "outputs": []
    }
   ],
   "metadata": {}
  }
 ]
}