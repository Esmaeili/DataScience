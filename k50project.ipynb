{
 "metadata": {
  "name": ""
 },
 "nbformat": 3,
 "nbformat_minor": 0,
 "worksheets": [
  {
   "cells": [
    {
     "cell_type": "heading",
     "level": 4,
     "metadata": {},
     "source": [
      "\u041e\u043f\u0438\u0441\u0430\u043d\u0438\u0435 \u0434\u0430\u043d\u043d\u044b\u0445"
     ]
    },
    {
     "cell_type": "raw",
     "metadata": {},
     "source": [
      "CREATE TABLE RC.AA_K50PROJECT_STAT (\n",
      "    ID               NUMBER(*, 0) NOT NULL,\n",
      "    DT               DATE,\n",
      "    URL              VARCHAR2(1024 BYTE),\n",
      "    VISITS           VARCHAR2(255 BYTE),\n",
      "    CAMPAIGN         VARCHAR2(255 BYTE),\n",
      "    SOURCE           VARCHAR2(255 BYTE),\n",
      "    MEDIUM           VARCHAR2(255 BYTE),\n",
      "    KEYWORD          VARCHAR2(255 BYTE),\n",
      "    GOAL1COMPLETIONS VARCHAR2(255 BYTE),\n",
      "    TRANSACTIONS     VARCHAR2(255 BYTE)\n",
      ")"
     ]
    },
    {
     "cell_type": "markdown",
     "metadata": {},
     "source": [
      "<table>\n",
      "\t<tr><th>\u2116 \u043f\u043f.</th><th>\u041d\u0430\u0437\u0432\u0430\u043d\u0438\u0435 \u043f\u043e\u043b\u044f</th><th>\u041e\u043f\u0438\u0441\u0430\u043d\u0438\u0435</th></tr>\n",
      "\t<tr><td>1</td><td><b>id</b></td><td>\u043f\u043e\u0440\u044f\u0434\u043a\u043e\u0432\u044b\u0439 \u043d\u043e\u043c\u0435\u0440 \u0441\u0442\u0440\u043e\u0447\u043a\u0438</td></tr>\n",
      "\t<tr><td>2</td><td><b>date</b></td><td>\u0434\u0430\u0442\u0430 \u0437\u0430\u0445\u043e\u0434\u0430 \u043d\u0430 \u0441\u0430\u0439\u0442</td></tr>\n",
      "\t<tr><td>3</td><td><i>revenue</i></td><td>\u0441\u0442\u043e\u0438\u043c\u043e\u0441\u0442\u044c \u0442\u043e\u0432\u0430\u0440\u043e\u0432 \u0432 \u0437\u0430\u043a\u0430\u0437\u0435</td></tr>\n",
      "\t<tr><td>4</td><td><b>url</b></td><td>URL, \u043d\u0430 \u043a\u043e\u0442\u043e\u0440\u044b\u0439 \u0447\u0435\u043b\u043e\u0432\u0435\u043a \u043f\u0435\u0440\u0435\u0448\u0451\u043b \u043d\u0430 \u043d\u0430\u0448 \u0441\u0430\u0439\u0442(\u0431\u0435\u0437 utm-\u0440\u0430\u0437\u043c\u0435\u0442\u043a\u0438)</td></tr>\n",
      "\t<tr><td>5</td><td><i>urlWithoutQuery</i></td><td>url \u0431\u0435\u0437 \u043f\u0430\u0440\u0430\u043c\u0435\u0442\u0440\u043e\u0432 \u043f\u0435\u0440\u0435\u0434\u0430\u0432\u0430\u0435\u043c\u044b\u0445 \u0447\u0435\u0440\u0435\u0437 ?, \u043d\u0443 \u0442.\u0435 /books/tsvetaeva?lfrom=22 =&gt; /books/tsvetaeva</td></tr>\n",
      "\t<tr><td>6</td><td><i>model</i></td><td>\u043c\u043e\u0434\u0435\u043b\u044c \u0442\u043e\u0432\u0430\u0440\u0430 \u0432 \u044f\u043d\u0434\u0435\u043a\u0441.\u043c\u0430\u0440\u043a\u0435\u0442\u0435</td></tr>\n",
      "\t<tr><td>7</td><td><i>vendor</i></td><td>\u043f\u0440\u043e\u0438\u0437\u0432\u043e\u0434\u0438\u0442\u0435\u043b\u044c (\u0431\u0440\u0435\u043d\u0434) \u0442\u043e\u0432\u0430\u0440\u0430 \u0432 \u044f\u043d\u0434\u0435\u043a\u0441.\u043c\u0430\u0440\u043a\u0435\u0442\u0435</td></tr>\n",
      "\t<tr><td>8</td><td><i>yml_id</i></td><td>id \u0442\u043e\u0432\u0430\u0440\u0430 \u0432 \u044f\u043d\u0434\u0435\u043a\u0441.\u043c\u0430\u0440\u043a\u0435\u0442\u0435</td></tr>\n",
      "\t<tr><td>9</td><td><i>yml_cat_id</i></td><td>id \u043a\u0430\u0442\u0435\u0433\u043e\u0440\u0438\u0438 \u0432 \u044f\u043d\u0434\u0435\u043a\u0441.\u043c\u0430\u0440\u043a\u0435\u0442\u0435</td></tr>\n",
      "\t<tr><td>10</td><td><i>k50id</i></td><td>id-\u0448\u043d\u0438\u043a, \u0447\u0435\u0440\u0435\u0437 \u043a\u043e\u0442\u043e\u0440\u044b\u0439 \u043c\u044b \u043f\u043e\u043d\u0438\u043c\u0430\u0435\u043c \u0447\u0435\u0440\u0435\u0437 \u043a\u0430\u043a\u043e\u0435 \u0438\u043c\u0435\u043d\u043d\u043e \u043e\u0431\u044a\u044f\u0432\u043b\u0435\u043d\u0438\u0435 \u0438 \u043a\u0430\u043a\u043e\u0439 \u043a\u043b\u044e\u0447\u0435\u0432\u0438\u043a \u043c\u044b \u043f\u043e\u043b\u0443\u0447\u0438\u043b\u0438 \u0437\u0430\u043a\u0430\u0437</td></tr>\n",
      "\t<tr><td>11</td><td><b>visits</b></td><td>\u043a\u043e\u043b\u0438\u0447\u0435\u0441\u0442\u0432\u043e \u0432\u0438\u0437\u0438\u0442\u043e\u0432 \u043d\u0430 \u0441\u0430\u0439\u0442 \u0441 \u0442\u0430\u043a\u0438\u043c\u0438 \u043a\u043e\u043c\u0431\u0438\u043d\u0430\u0446\u0438\u044f\u043c\u0438 \u0444\u0430\u043a\u0442\u043e\u0440\u043e\u0432</td></tr>\n",
      "\t<tr><td>12</td><td><b>campaign</b></td><td>\u043d\u0430\u0437\u0432\u0430\u043d\u0438\u0435 \u0440\u0435\u043a\u043b\u0430\u043c\u043d\u043e\u0439 \u043a\u0430\u043c\u043f\u0430\u043d\u0438\u0438, \u0447\u0435\u0440\u0435\u0437 \u043a\u043e\u0442\u043e\u0440\u0443\u044e \u0431\u044b\u043b \u043e\u0441\u0443\u0449\u0435\u0441\u0442\u0432\u043b\u0451\u043d \u043f\u0435\u0440\u0435\u0445\u043e\u0434 \u043d\u0430 \u0441\u0430\u0439\u0442</td></tr>\n",
      "\t<tr><td>13</td><td><b>source</b></td><td>\u0438\u0441\u0442\u043e\u0447\u043d\u0438\u043a, \u0441 \u043a\u043e\u0442\u043e\u0440\u043e\u0433\u043e \u043f\u043e\u043b\u044c\u0437\u043e\u0432\u0430\u0442\u0435\u043b\u044c \u043f\u043e\u043f\u0430\u043b \u043d\u0430 \u0441\u0430\u0439\u0442</td></tr>\n",
      "\t<tr><td>14</td><td><b>medium</b></td><td>\u0442\u0438\u043f \u0442\u0440\u0430\u0444\u0438\u043a\u0430 (\u0440\u0435\u043a\u043b\u0430\u043c\u043d\u044b\u0439, \u0438\u0437 \u043e\u0440\u0433\u0430\u043d\u0438\u0447\u0435\u0441\u043a\u043e\u0439 \u0432\u044b\u0434\u0430\u0447\u0438, \u043f\u043e \u0441\u0441\u044b\u043b\u043a\u0435 \u0438\u0437 \u0434\u0440\u0443\u0433\u0438\u0445 \u0441\u0430\u0439\u0442\u043e\u0432)</td></tr>\n",
      "\t<tr><td>15</td><td><b>keyword</b></td><td>\u043a\u043b\u044e\u0447\u0435\u0432\u043e\u0439 \u0437\u0430\u043f\u0440\u043e\u0441, \u043f\u043e \u043a\u043e\u0442\u043e\u0440\u043e\u043c\u0443 \u043e\u0441\u0443\u0449\u0435\u0441\u0442\u0432\u043b\u0451\u043d \u043f\u0435\u0440\u0435\u0445\u043e\u0434</td></tr>\n",
      "\t<tr><td>16</td><td><b>goal1Completions</b></td><td>\u043a\u0430\u043a\u0430\u044f-\u0442\u043e \u0446\u0435\u043b\u044c \u0438\u0437 \u0430\u043d\u0430\u043b\u0438\u0442\u0438\u043a\u0441\u0430</td></tr>\n",
      "\t<tr><td>17</td><td><i>landingPagePath</i></td><td>URL, \u043d\u0430 \u043a\u043e\u0442\u043e\u0440\u044b\u0439 \u0447\u0435\u043b\u043e\u0432\u0435\u043a \u043f\u0435\u0440\u0435\u0448\u0451\u043b \u043d\u0430 \u043d\u0430\u0448 \u0441\u0430\u0439\u0442(\u0441 utm-\u0440\u0430\u0437\u043c\u0435\u0442\u043a\u043e\u0439)</td></tr>\n",
      "\t<tr><td>18</td><td><b>transactions</b></td><td>\u043a\u043e\u043b\u0438\u0447\u0435\u0441\u0442\u0432\u043e \u0442\u0440\u0430\u043d\u0437\u0430\u0446\u0438\u0439 \u043f\u043e \u0434\u0430\u043d\u043d\u043e\u0439 \u043a\u043e\u043c\u0431\u0438\u043d\u0430\u0446\u0438\u0438 \u0444\u0430\u043a\u0442\u043e\u0440\u043e\u0432</td></tr>\n",
      "</table>\n",
      "\u041a\u0443\u0440\u0441\u0438\u0432\u043e\u043c \u043e\u0442\u043c\u0435\u0447\u0435\u043d\u044b \u043f\u043e\u043b\u044f \u0434\u043b\u044f \u0443\u0434\u0430\u043b\u0435\u043d\u0438\u044f, \u0436\u0434\u0438\u0440\u043d\u044b\u043c \u0432\u0438\u0434\u0435\u043b\u0435\u043d\u044b \u043f\u043e\u043b\u044f, \u043a\u043e\u0442\u043e\u0440\u044b\u0435 \u043e\u0441\u0442\u0430\u044e\u0442\u0441\u044f"
     ]
    },
    {
     "cell_type": "heading",
     "level": 4,
     "metadata": {},
     "source": [
      "\u041f\u043b\u0430\u043d \u0434\u0435\u0439\u0441\u0442\u0432\u0438\u0439"
     ]
    },
    {
     "cell_type": "markdown",
     "metadata": {},
     "source": [
      "<ul>\n",
      "<li>\u041f\u0435\u0440\u0435\u043a\u043e\u0434\u0438\u0440\u043e\u0432\u0430\u0442\u044c \u0441\u0441\u044b\u043b\u043a\u0438 \u0442\u0438\u043f\u0430 \u043a\u043e\u0434\u044b \u0441\u0438\u043c\u0432\u043e\u043b\u043e\u0432 <i>%</i> \u0432 \u0441\u0438\u043c\u0432\u043e\u043b\u044b</li>\n",
      "<li><i>url</i> \u0440\u0430\u0437\u0434\u0435\u043b\u0438\u0442\u044c \u043d\u0430 2 \u043a\u043e\u043b\u043e\u043d\u043a\u0438 \u043f\u043e \u0437\u043d\u0430\u043a\u0443 \"?\"</li>\n",
      "<li>\u0443\u0434\u0430\u043b\u0438\u0442\u044c \u043b\u0438\u0448\u043d\u0438\u0435 \u043f\u043e\u043b\u044f</li>\n",
      "<li>\u043a\u043e\u0434\u0438\u0440\u0443\u0435\u043c <i>medium</i> \u0447\u0435\u0440\u0435\u0437 \u0441\u043f\u0440\u0430\u0432\u043e\u0447\u043d\u0438\u043a</li>\n",
      "<li>\u043a\u043e\u0434\u0438\u0440\u0443\u0435\u043c <i>campaign</i> \u0447\u0435\u0440\u0435\u0437 \u0445\u044d\u0448 \u0444\u0443\u043d\u043a\u0446\u0438\u044e</li>\n",
      "</ul>"
     ]
    },
    {
     "cell_type": "code",
     "collapsed": false,
     "input": [
      "from pandas import read_csv\n",
      "import urllib"
     ],
     "language": "python",
     "metadata": {},
     "outputs": [],
     "prompt_number": 23
    },
    {
     "cell_type": "code",
     "collapsed": false,
     "input": [
      "df = read_csv(\"DataSets/AA_K50PROJECT_STAT.csv\", sep=';', index_col=\"ID\")"
     ],
     "language": "python",
     "metadata": {},
     "outputs": [],
     "prompt_number": 99
    },
    {
     "cell_type": "code",
     "collapsed": false,
     "input": [
      "old_url_split = df.URL.str.split('?')\n",
      "search_query = []\n",
      "new_url = []\n",
      "for i in old_url_split:\n",
      "    new_url.append(i[0])\n",
      "    if len(i) > 1:\n",
      "        search_query.append(i[1])\n",
      "    else:\n",
      "        search_query.append(nan)\n",
      "df['NEW_URL'] = new_url\n",
      "df['SEARCH_QUERY'] = search_query\n",
      "df = df.drop(['URL'], axis=1)"
     ],
     "language": "python",
     "metadata": {},
     "outputs": [],
     "prompt_number": 100
    }
   ],
   "metadata": {}
  }
 ]
}