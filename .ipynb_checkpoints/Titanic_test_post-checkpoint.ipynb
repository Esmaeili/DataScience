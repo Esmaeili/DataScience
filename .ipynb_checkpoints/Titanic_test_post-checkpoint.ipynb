{
 "metadata": {
  "name": ""
 },
 "nbformat": 3,
 "nbformat_minor": 0,
 "worksheets": [
  {
   "cells": [
    {
     "cell_type": "markdown",
     "metadata": {},
     "source": [
      "<h2>\u0412\u0432\u0435\u0434\u0435\u043d\u0438\u0435 \u0432 \u0430\u043d\u0430\u043b\u0438\u0437 \u0434\u0430\u043d\u043d\u044b\u0445 \u0441 \u043f\u043e\u043c\u043e\u0449\u044c\u044e python \u043d\u0430 \u043f\u0440\u0438\u043c\u0435\u0440\u0435 \u0437\u0430\u0434\u0430\u0447\u0438 \u043f\u0440\u043e \u0422\u0438\u0442\u0430\u043d\u0438\u043a</h2>"
     ]
    },
    {
     "cell_type": "markdown",
     "metadata": {},
     "source": [
      "<a href='https://www.kaggle.com/c/titanic-gettingStarted/data'>\u0417\u0430\u0434\u0430\u0447\u0430</a> \u043f\u0440\u043e \u0441\u043f\u0430\u0441\u0435\u043d\u043d\u044b\u0445 \u0441 \"\u0422\u0438\u0442\u0430\u043d\u0438\u043a\u0430\", \u0438\u043c\u0435\u0435\u0442 \u0431\u043e\u043b\u044c\u0448\u0443\u044e \u043f\u043e\u043f\u0443\u043b\u044f\u0440\u043d\u043e\u0441\u0442\u044c \u0441\u0440\u0435\u0434\u0438 \u043b\u044e\u0434\u0435\u0439, \u0442\u043e\u043b\u044c\u043a\u043e \u043d\u0430\u0447\u0438\u043d\u0430\u044e\u0449\u0438\u0445 \u0437\u0430\u043d\u0438\u043c\u0430\u0442\u044c\u0441\u044f \u0430\u043d\u0430\u043b\u0438\u0437\u043e\u043c \u0434\u0430\u043d\u043d\u044b\u0445 \u0438 <a href='http://ru.wikipedia.org/wiki/%D0%9C%D0%B0%D1%88%D0%B8%D0%BD%D0%BD%D0%BE%D0%B5_%D0%BE%D0%B1%D1%83%D1%87%D0%B5%D0%BD%D0%B8%D0%B5'>\u043c\u0430\u0448\u0438\u043d\u043d\u044b\u043c \u043e\u0431\u0443\u0447\u0435\u043d\u0438\u0435\u043c</a>."
     ]
    },
    {
     "cell_type": "markdown",
     "metadata": {},
     "source": [
      "\u0418\u0442\u0430\u043a \u0441\u0443\u0442\u044c \u0437\u0430\u0434\u0430\u0447\u0438 \u0441\u043e\u0441\u0442\u043e\u0438\u0442 \u0432 \u0442\u043e\u043c, \u0447\u0442\u043e\u0431\u044b \u0441 \u043f\u043e\u043c\u043e\u0449\u044c\u044e \u043c\u0435\u0442\u043e\u0434\u043e\u0432 \u043c\u0430\u0448\u0438\u043d\u043d\u043e\u0433\u043e \u043e\u0431\u0443\u0447\u0435\u043d\u0438\u044f \u043f\u043e\u0441\u0442\u0440\u043e\u0438\u0442\u044c \u043c\u043e\u0434\u0435\u043b\u044c, \u043a\u043e\u0442\u043e\u0440\u0430\u044f \u043f\u0440\u043e\u0433\u043d\u0430\u0437\u0438\u0440\u043e\u0432\u0430\u043b\u0430 \u0431\u044b \u0441\u043f\u0430\u0441\u0435\u0442\u0441\u044f \u0447\u0435\u043b\u043e\u0432\u0435\u043a \u0438\u043b\u0438 \u043d\u0435\u0442. \u041a \u0437\u0430\u0434\u0430\u0447\u0438 \u043f\u0440\u0438\u043b\u0430\u0433\u0430\u044e\u0442\u0441\u044f 2 \u0444\u0430\u0439\u043b\u0430: <ul><li><i>train.csv</i> - \u043d\u0430\u0431\u043e\u0440 \u0434\u0430\u043d\u043d\u044b\u0445 \u043d\u0430 \u043e\u0441\u043d\u043e\u0432\u0430\u043d\u0438\u0438 \u043a\u043e\u0442\u043e\u0440\u043e\u0433\u043e \u0431\u0443\u0434\u0435\u0442 \u0441\u0442\u0440\u043e\u0438\u0442\u044c\u0441\u044f \u043c\u043e\u0434\u0435\u043b\u044c (<i>\u043e\u0431\u0443\u0447\u0430\u044e\u0449\u0430\u044f \u0432\u044b\u0431\u043e\u0440\u043a\u0430</i></li><li><i>test.csv</i> - \u043d\u0430\u0431\u043e\u0440 \u0434\u0430\u043d\u043d\u044b\u0445 \u0434\u043b\u044f \u043f\u0440\u043e\u0432\u0435\u0440\u043a\u0438 \u043c\u043e\u0434\u0435\u043b\u0438</li></ul>"
     ]
    },
    {
     "cell_type": "markdown",
     "metadata": {},
     "source": [
      "\u0414\u043b\u044f \u0430\u043d\u0430\u043b\u0438\u0437 \u043f\u043e\u043d\u0430\u0434\u043e\u0431\u044f\u0442\u0441\u044f \u043c\u043e\u0434\u0443\u043b\u0438 <a href='http://pandas.pydata.org/'>Pandas</a> \u0438 <a href='http://scikit-learn.org/stable/'>sklearn</a>. \u0421 \u043f\u043e\u043c\u043e\u0449\u044c\u044e <b>Pandas</b> \u043c\u044b \u043f\u0440\u043e\u0432\u0435\u0434\u0435\u043c \u043d\u0430\u0447\u0430\u043b\u044c\u043d\u044b\u0439 \u0430\u043d\u0430\u043b\u0438\u0437 \u0434\u0430\u043d\u043d\u044b\u0445, \u0430 <b>sklearn</b> \u043f\u043e\u043c\u043e\u0436\u0435\u0442 \u0432 \u0432\u044b\u0447\u0438\u0441\u043b\u0435\u043d\u0438\u0438 \u043f\u0440\u043e\u0433\u043d\u043e\u0437\u043d\u043e\u0439 \u043c\u043e\u0434\u0435\u043b\u0438. \u0418\u0442\u0430\u043a, \u0434\u043b\u044f \u043d\u0430\u0447\u0430\u043b\u0430 \u0437\u0430\u0433\u0440\u0443\u0437\u0438\u043c \u043d\u0443\u0436\u043d\u044b\u0435 \u043c\u043e\u0434\u0443\u043b\u0438:"
     ]
    },
    {
     "cell_type": "markdown",
     "metadata": {},
     "source": [
      "\u041a\u0440\u043e\u043c\u0435 \u0442\u043e\u0433\u043e \u0434\u0430\u044e\u0442\u0441\u044f \u043f\u043e\u044f\u0441\u043d\u0435\u043d\u0438\u044f \u043f\u043e \u043d\u0435\u043a\u043e\u0442\u043e\u0440\u044b\u043c \u043f\u043e\u043b\u044f\u043c:<ul><li><b>PassengerId</b> - \u0438\u0434\u0435\u043d\u0442\u0438\u0444\u0438\u043a\u0430\u0442\u043e\u0440 \u043f\u0430\u0441\u0441\u0430\u0436\u0438\u0440\u0430</li><li><b>Survival</b> - \u043f\u043e\u043b\u0435 \u0432 \u043a\u043e\u0442\u043e\u0440\u043e\u043c \u0443\u043a\u0430\u0437\u0430\u043d\u043e \u0441\u043f\u0430\u0441\u0441\u044f \u0447\u0435\u043b\u043e\u043a\u0435(1) \u0438\u043b\u0438 \u043d\u0435\u0442 (0)</li><li><b>Pclass</b> - \u0441\u043e\u0434\u0435\u0440\u0436\u0438\u0442 \u0441\u043e\u0446\u0438\u0430\u043b\u044c\u043d\u043e-\u044d\u043a\u043e\u043d\u043e\u043c\u0438\u0447\u0435\u0441\u043a\u0438\u0439 \u0441\u0442\u0430\u0442\u0443\u0441: <ol><li>\u0432\u044b\u0441\u043e\u043a\u0438\u0439</li><li>\u0441\u0440\u0435\u0434\u043d\u0438\u0439</li><li>\u043d\u0438\u0437\u043a\u0438\u0439</li></ol></li><li><b>Name</b> - \u0438\u043c\u044f \u043f\u0430\u0441\u0441\u0430\u0436\u0438\u0440\u0430</li><li><b>Sex</b> - \u043f\u043e\u043b \u043f\u0430\u0441\u0441\u0430\u0436\u0438\u0440\u0430</li><li><b>Age</b> - \u0432\u043e\u0437\u0440\u0430\u0441\u0442</li><li><b>SibSp</b> - \u0441\u043e\u0434\u0435\u0440\u0436\u0438\u0442 \u0438\u043d\u0444\u043e\u0440\u043c\u0430\u0446\u0438\u044e \u043e \u043a\u043e\u043b\u0438\u0447\u0435\u0441\u0442\u0432\u0435 \u0440\u043e\u0434\u0441\u0442\u0432\u0435\u043d\u043d\u0438\u043a\u043e\u0432 2-\u0433\u043e \u043f\u043e\u0440\u044f\u0434\u043a\u0430 (\u043c\u0443\u0436, \u0436\u0435\u043d\u0430, \u0431\u0440\u0430\u0442\u044c\u044f, \u0441\u0435\u0442\u0440\u044b)</li><li><b>Parch</b> - \u0441\u043e\u0434\u0435\u0440\u0436\u0438\u0442 \u0438\u043d\u0444\u043e\u0440\u043c\u0430\u0446\u0438\u044e \u043e \u043a\u043e\u043b\u0438\u0447\u0435\u0441\u0442\u0432\u0435 \u0440\u043e\u0434\u0441\u0442\u0432\u0435\u043d\u043d\u0438\u043a\u043e\u0432 \u043d\u0430 \u0431\u043e\u0440\u0442\u0443 1-\u0433\u043e \u043f\u043e\u0440\u044f\u0434\u043a\u0430 (\u043c\u0430\u0442\u044c, \u043e\u0442\u0435\u0446, \u0434\u0435\u0442\u0438)</li><li><b>Ticket</b> - \u043d\u043e\u043c\u0435\u0440 \u0431\u0438\u043b\u0435\u0442\u0430</li><li><b>Fare</b> - \u0446\u0435\u043d\u0430 \u0431\u0438\u043b\u0435\u0442\u0430</li><li><b>Cabin</b> - \u043a\u0430\u044e\u0442\u0430</li><li><b>Embarked</b> - \u043f\u043e\u0440\u0442 \u043f\u043e\u0441\u0430\u0434\u043a\u0438<ul><li>C - Cherbourg</li><li>Q - Queenstown</li><li>S - Southampton</li></ul></li></ul>"
     ]
    },
    {
     "cell_type": "code",
     "collapsed": false,
     "input": [
      "from pandas import read_csv, DataFrame, Series"
     ],
     "language": "python",
     "metadata": {},
     "outputs": [],
     "prompt_number": 1
    },
    {
     "cell_type": "markdown",
     "metadata": {},
     "source": [
      "\u0422\u0435\u043f\u0435\u0440\u044c \u043c\u043e\u0436\u043d\u043e \u0437\u0430\u0433\u0440\u0443\u0437\u0438\u0442\u044c \u0442\u0435\u0441\u0442\u043e\u0432\u0443\u044e \u0432\u044b\u0431\u043e\u0440\u043a\u0443 \u0438 \u043f\u043e\u0441\u043c\u043e\u0442\u0440\u0435\u0442\u044c \u043d\u0430 \u043d\u0435\u0435:"
     ]
    },
    {
     "cell_type": "code",
     "collapsed": false,
     "input": [
      "data = read_csv('Kaggle_Titanic/Data/train.csv')\n",
      "data"
     ],
     "language": "python",
     "metadata": {},
     "outputs": [
      {
       "html": [
        "<pre>\n",
        "&lt;class 'pandas.core.frame.DataFrame'&gt;\n",
        "Int64Index: 891 entries, 0 to 890\n",
        "Data columns (total 12 columns):\n",
        "PassengerId    891  non-null values\n",
        "Survived       891  non-null values\n",
        "Pclass         891  non-null values\n",
        "Name           891  non-null values\n",
        "Sex            891  non-null values\n",
        "Age            714  non-null values\n",
        "SibSp          891  non-null values\n",
        "Parch          891  non-null values\n",
        "Ticket         891  non-null values\n",
        "Fare           891  non-null values\n",
        "Cabin          204  non-null values\n",
        "Embarked       889  non-null values\n",
        "dtypes: float64(2), int64(5), object(5)\n",
        "</pre>"
       ],
       "metadata": {},
       "output_type": "pyout",
       "prompt_number": 2,
       "text": [
        "<class 'pandas.core.frame.DataFrame'>\n",
        "Int64Index: 891 entries, 0 to 890\n",
        "Data columns (total 12 columns):\n",
        "PassengerId    891  non-null values\n",
        "Survived       891  non-null values\n",
        "Pclass         891  non-null values\n",
        "Name           891  non-null values\n",
        "Sex            891  non-null values\n",
        "Age            714  non-null values\n",
        "SibSp          891  non-null values\n",
        "Parch          891  non-null values\n",
        "Ticket         891  non-null values\n",
        "Fare           891  non-null values\n",
        "Cabin          204  non-null values\n",
        "Embarked       889  non-null values\n",
        "dtypes: float64(2), int64(5), object(5)"
       ]
      }
     ],
     "prompt_number": 2
    },
    {
     "cell_type": "markdown",
     "metadata": {},
     "source": [
      "\u041c\u043e\u0436\u043d\u043e \u043f\u0440\u0435\u0434\u043f\u043e\u043b\u043e\u0436\u0438\u0442\u044c, \u0447\u0442\u043e \u0447\u0435\u043c \u0432\u044b\u0448\u0435 \u0441\u043e\u0446\u0438\u0430\u043b\u044c\u043d\u044b\u0439 \u0441\u0442\u0430\u0442\u0443\u0441, \u0442\u0435\u043c \u0431\u043e\u043b\u044c\u0448\u0435 \u0432\u0435\u0440\u043e\u044f\u0442\u043d\u043e\u0441\u0442\u044c \u0441\u043f\u0430\u0441\u0435\u043d\u0438\u044f. \u0414\u0430\u0432\u0430\u0439\u0442\u0435 \u043f\u0440\u043e\u0432\u0435\u0440\u0438\u043c \u044d\u0442\u043e \u0432\u0437\u0433\u043b\u044f\u043d\u0443\u0432 \u043d\u0430 \u043a\u043e\u043b\u0438\u0447\u0435\u0441\u0442\u0432\u043e \u0441\u043f\u0430\u0441\u0448\u0438\u0445\u0441\u044f \u0438 \u0443\u0442\u043e\u043d\u0443\u0432\u0448\u0438\u0445 \u0432 \u0437\u0430\u0432\u0438\u0441\u0438\u043c\u043e\u0441\u0442\u0438 \u0432 \u0440\u0430\u0437\u0440\u0435\u0437\u0435 \u043a\u043b\u0430\u0441\u0441\u043e\u0432. \u0414\u043b\u044f \u044d\u0442\u043e\u0433\u043e \u043d\u0443\u0436\u043d\u043e \u043f\u043e\u0441\u0442\u0440\u043e\u0438\u0442\u044c \u0441\u043b\u0435\u0434\u0443\u044e\u0449\u0443\u044e \u0441\u0432\u043e\u0434\u043d\u0443\u044e:"
     ]
    },
    {
     "cell_type": "code",
     "collapsed": false,
     "input": [
      "data.pivot_table('PassengerId', 'Pclass', 'Survived', 'count').plot(kind='bar', stacked=True)"
     ],
     "language": "python",
     "metadata": {},
     "outputs": [
      {
       "metadata": {},
       "output_type": "pyout",
       "prompt_number": 3,
       "text": [
        "<matplotlib.axes.AxesSubplot at 0x3c57070>"
       ]
      },
      {
       "metadata": {},
       "output_type": "display_data",
       "png": "[encoded data removed]",
       "text": [
        "<matplotlib.figure.Figure at 0x3bb9fb0>"
       ]
      }
     ],
     "prompt_number": 3
    },
    {
     "cell_type": "markdown",
     "metadata": {},
     "source": [
      "\u041d\u0430\u0448\u0435 \u0432\u044b\u0448\u0435\u043e\u043f\u0438\u0441\u0430\u043d\u043d\u043e\u0435 \u043f\u0440\u0435\u0434\u043f\u043e\u043b\u043e\u0436\u0435\u043d\u0438\u0435 \u043f\u0440\u043e \u0442\u043e, \u0447\u0442\u043e \u0447\u0435\u043c \u0432\u044b\u0448\u0435 \u0443 \u043f\u0430\u0441\u0441\u0430\u0436\u0438\u0440\u043e\u0432 \u0438\u0445 \u0441\u043e\u0446\u0438\u0430\u043b\u044c\u043d\u043e\u0435 \u043f\u043e\u043b\u043e\u0436\u0435\u043d\u0438\u0435, \u0442\u0435\u043c \u0432\u044b\u0448\u0435 \u0438\u0445 \u0432\u0435\u0440\u043e\u044f\u0442\u043d\u043e\u0441\u0442\u044c \u0441\u043f\u0430\u0441\u0435\u043d\u0438\u044f. \u0422\u0435\u043f\u0435\u0440\u044c \u0434\u0430\u0432\u0430\u0439\u0442\u0435 \u0432\u0437\u0433\u043b\u044f\u043c\u0435\u043d, \u043a\u0430\u043a \u043a\u043e\u043b\u0438\u0447\u0435\u0441\u0442\u0432\u043e \u0440\u043e\u0434\u0441\u0442\u0432\u0435\u043d\u043d\u0438\u043a\u043e\u0432 \u0432\u043b\u0438\u044f\u0435\u0442 \u043d\u0430 \u0444\u0430\u043a\u0442 \u0441\u043f\u0430\u0441\u0435\u043d\u0438\u044f:"
     ]
    },
    {
     "cell_type": "code",
     "collapsed": false,
     "input": [
      "fig, axes = plt.subplots(ncols=2)\n",
      "data.pivot_table('PassengerId', ['SibSp'], 'Survived', 'count').plot(ax=axes[0], title='SibSp')\n",
      "data.pivot_table('PassengerId', ['Parch'], 'Survived', 'count').plot(ax=axes[1], title='Parch')"
     ],
     "language": "python",
     "metadata": {},
     "outputs": [
      {
       "metadata": {},
       "output_type": "pyout",
       "prompt_number": 4,
       "text": [
        "<matplotlib.axes.AxesSubplot at 0x3cea970>"
       ]
      },
      {
       "metadata": {},
       "output_type": "display_data",
       "png": "[encoded data removed]",
       "text": [
        "<matplotlib.figure.Figure at 0x3c57bb0>"
       ]
      }
     ],
     "prompt_number": 4
    },
    {
     "cell_type": "markdown",
     "metadata": {},
     "source": [
      "\u041a\u0430\u043a \u0432\u0438\u0434\u043d\u043e \u0438\u0437 \u0433\u0440\u0430\u0444\u0438\u043a\u043e\u0432 \u043d\u0430\u0448\u0435 \u043f\u0440\u0435\u0434\u043f\u043e\u043b\u043e\u0436\u0435\u043d\u0438\u0435 \u0441\u043d\u043e\u0432\u0430 \u043f\u043e\u0442\u0434\u0432\u0435\u0440\u0434\u0438\u043b\u043e\u0441\u044c, \u0438 \u0438\u0437 \u043b\u044e\u0434\u0435\u0439 \u0438\u043c\u0435\u044e\u0449\u0438\u0445 \u0431\u043e\u043b\u044c\u0448\u0435 1 \u0440\u043e\u0434\u0441\u0442\u0432\u0435\u043d\u043d\u0438\u043a\u043e\u0432 \u0441\u043f\u0430\u0441\u043b\u0438\u0441\u044c \u043d\u0435 \u043c\u043d\u043e\u0433\u0438\u0435."
     ]
    },
    {
     "cell_type": "markdown",
     "metadata": {},
     "source": [
      "\u0422\u0435\u043f\u0435\u0440\u044c \u0434\u0430\u0432\u0430\u0439\u0442\u0435 \u0432\u0437\u0433\u043b\u044f\u043d\u0435\u043c \u0441\u0442\u043e\u043b\u0431\u0435\u0446 \u0441 \u043d\u043e\u043c\u0435\u0440\u0430\u043c\u0438 \u043a\u0430\u044e\u0442 \u0438 \u043f\u043e\u0441\u043c\u043e\u0442\u0440\u0438\u043c \u043d\u0430\u0441\u043a\u043e\u043b\u044c\u043a\u043e \u043d\u0430\u043c \u043f\u0440\u0438\u0433\u043e\u0434\u044f\u0442\u0441\u044f \u044d\u0442\u0438 \u0434\u0430\u043d\u043d\u044b\u0435:"
     ]
    },
    {
     "cell_type": "code",
     "collapsed": false,
     "input": [
      "data.PassengerId[data.Cabin.notnull()].count()"
     ],
     "language": "python",
     "metadata": {},
     "outputs": [
      {
       "metadata": {},
       "output_type": "pyout",
       "prompt_number": 5,
       "text": [
        "204"
       ]
      }
     ],
     "prompt_number": 5
    },
    {
     "cell_type": "markdown",
     "metadata": {},
     "source": [
      "\u041a\u0430\u043a \u0432\u0438\u0434\u043d\u043e \u043f\u043e\u043b\u0435 \u043f\u0440\u0430\u043a\u0442\u0438\u0447\u0435\u0441\u043a\u0438 \u043d\u0435 \u0437\u0430\u043f\u043e\u043d\u0435\u043d\u043e, \u043f\u043e\u044d\u0442\u043e\u043c\u0443 \u0434\u0430\u043d\u043d\u044b\u0435 \u043f\u043e \u043d\u0435\u043c\u0443 \u043c\u043e\u0436\u043d\u043e \u0431\u0443\u0434\u0435\u0442 \u043e\u043f\u0443\u0441\u0442\u0438\u0442\u044c."
     ]
    },
    {
     "cell_type": "markdown",
     "metadata": {},
     "source": [
      "\u0418\u0442\u0430\u043a \u043f\u0440\u043e\u0434\u043e\u043b\u0436\u0435\u043c \u0440\u0430\u0437\u0431\u0438\u0440\u0430\u0442\u044c\u0441\u044f \u0441 \u043f\u043e\u043b\u044f\u043c\u0438 \u0438 \u043d\u0430 \u043e\u0447\u0435\u0440\u0435\u0434\u0438 \u043f\u043e\u043b\u0435 Age \u0432 \u043a\u043e\u0442\u043e\u0440\u043e\u043c \u0437\u0430\u043f\u0438\u0441\u0430\u043d \u0432\u043e\u0437\u0440\u0430\u0441\u0442. \u041f\u043e\u0441\u043c\u043e\u0440\u0442\u0438\u0440\u0438\u043c \u043d\u0430 \u0441\u043a\u043e\u043b\u044c\u043a\u043e \u043e\u043d\u043e \u0437\u0430\u043f\u043e\u043b\u0435\u043d\u043e:"
     ]
    },
    {
     "cell_type": "code",
     "collapsed": false,
     "input": [
      "data.PassengerId[data.Age.notnull()].count()"
     ],
     "language": "python",
     "metadata": {},
     "outputs": [
      {
       "metadata": {},
       "output_type": "pyout",
       "prompt_number": 6,
       "text": [
        "714"
       ]
      }
     ],
     "prompt_number": 6
    },
    {
     "cell_type": "markdown",
     "metadata": {},
     "source": [
      "\u0414\u0430\u043d\u043d\u043e\u0435 \u043f\u043e\u043b\u0435 \u043f\u0440\u0430\u043a\u0442\u0438\u0447\u0435\u0441\u043a\u0438 \u0432\u0441\u0435 \u0437\u0430\u043f\u043e\u043b\u043d\u0435\u043d\u043e, \u043d\u043e \u0435\u0441\u0442\u044c \u043f\u0443\u0441\u0442\u044b\u0435 \u0437\u043d\u0430\u0447\u0435\u043d\u0438\u044f, \u043a\u043e\u0442\u043e\u0440\u044b\u0435 \u043d\u0435 \u043e\u043f\u0440\u0435\u0434\u0435\u043b\u0435\u043d\u044b. \u0414\u0430\u0432\u0430\u0439\u0442\u0435 \u0437\u0430\u0434\u0430\u0434\u0438\u043c \u0442\u0430\u043a\u0438\u043c \u043f\u043e\u043b\u044f\u0435\u043c \u0437\u043d\u0430\u0447\u0435\u043d\u0438\u0435 \u0440\u0430\u0432\u043d\u043e\u0435 \u043c\u0435\u0434\u0438\u0430\u043d\u0435 \u043f\u043e \u0432\u043e\u0437\u0440\u0430\u0442\u0443 \u0438\u0437 \u0432\u0441\u0435\u0439 \u0432\u044b\u0431\u043e\u0440\u043a\u0438. \u0414\u0430\u043d\u043d\u044b\u0439 \u0448\u0430\u0433 \u043d\u0443\u0436\u0435\u043d \u0434\u043b\u044f \u0431\u043e\u043b\u0435\u0435 \u0442\u043e\u0447\u043d\u043e\u0433\u043e \u043f\u043e\u0441\u0442\u0440\u043e\u0435\u043d\u0438\u044f \u043c\u043e\u0434\u0435\u043b\u0438:"
     ]
    },
    {
     "cell_type": "code",
     "collapsed": false,
     "input": [
      "data.Age = data.Age.median()"
     ],
     "language": "python",
     "metadata": {},
     "outputs": [],
     "prompt_number": 7
    },
    {
     "cell_type": "markdown",
     "metadata": {},
     "source": [
      "\u0423 \u043d\u0430\u0441 \u043e\u0441\u0442\u0430\u043b\u043e\u0441\u044c \u0440\u0430\u0437\u043e\u0431\u0440\u0430\u0442\u0441\u044f \u0441 \u043f\u043e\u043b\u044f\u043c\u0438 <i>Ticket</i>, <i>Embarked</i>, <i>Fare</i>, <i>Name</i>. \u0414\u0430\u0432\u0430\u0439\u0442\u0435 \u043f\u043e\u0441\u043c\u043e\u0442\u0440\u0438\u043c \u043d\u0430 \u043f\u043e\u043b\u0435 Embarked, \u0432 \u043a\u043e\u0442\u043e\u0440\u043e\u043c \u043d\u0430\u0445\u043e\u0434\u0438\u0442\u0441\u044f \u043f\u043e\u0440\u0442 \u043f\u043e\u0441\u0430\u0434\u043a\u0438 \u0438 \u043f\u0440\u043e\u0432\u0435\u0440\u0438\u043c \u0435\u0441\u0442\u044c \u043b\u0438 \u0442\u0430\u043a\u0438\u0435 \u043f\u0430\u0441\u0441\u0430\u0436\u0438\u0440\u044b \u0443 \u043a\u043e\u0442\u043e\u0440\u044b\u0445 \u043f\u043e\u0440\u0442 \u043d\u0435 \u0443\u043a\u0430\u0437\u0430\u043d:"
     ]
    },
    {
     "cell_type": "code",
     "collapsed": false,
     "input": [
      "data[data.Embarked.isnull()]"
     ],
     "language": "python",
     "metadata": {},
     "outputs": [
      {
       "html": [
        "<div style=\"max-height:1000px;max-width:1500px;overflow:auto;\">\n",
        "<table border=\"1\" class=\"dataframe\">\n",
        "  <thead>\n",
        "    <tr style=\"text-align: right;\">\n",
        "      <th></th>\n",
        "      <th>PassengerId</th>\n",
        "      <th>Survived</th>\n",
        "      <th>Pclass</th>\n",
        "      <th>Name</th>\n",
        "      <th>Sex</th>\n",
        "      <th>Age</th>\n",
        "      <th>SibSp</th>\n",
        "      <th>Parch</th>\n",
        "      <th>Ticket</th>\n",
        "      <th>Fare</th>\n",
        "      <th>Cabin</th>\n",
        "      <th>Embarked</th>\n",
        "    </tr>\n",
        "  </thead>\n",
        "  <tbody>\n",
        "    <tr>\n",
        "      <th>61 </th>\n",
        "      <td>  62</td>\n",
        "      <td> 1</td>\n",
        "      <td> 1</td>\n",
        "      <td>                       Icard, Miss. Amelie</td>\n",
        "      <td> female</td>\n",
        "      <td> 28</td>\n",
        "      <td> 0</td>\n",
        "      <td> 0</td>\n",
        "      <td> 113572</td>\n",
        "      <td> 80</td>\n",
        "      <td> B28</td>\n",
        "      <td> NaN</td>\n",
        "    </tr>\n",
        "    <tr>\n",
        "      <th>829</th>\n",
        "      <td> 830</td>\n",
        "      <td> 1</td>\n",
        "      <td> 1</td>\n",
        "      <td> Stone, Mrs. George Nelson (Martha Evelyn)</td>\n",
        "      <td> female</td>\n",
        "      <td> 28</td>\n",
        "      <td> 0</td>\n",
        "      <td> 0</td>\n",
        "      <td> 113572</td>\n",
        "      <td> 80</td>\n",
        "      <td> B28</td>\n",
        "      <td> NaN</td>\n",
        "    </tr>\n",
        "  </tbody>\n",
        "</table>\n",
        "</div>"
       ],
       "metadata": {},
       "output_type": "pyout",
       "prompt_number": 8,
       "text": [
        "     PassengerId  Survived  Pclass                                       Name  \\\n",
        "61            62         1       1                        Icard, Miss. Amelie   \n",
        "829          830         1       1  Stone, Mrs. George Nelson (Martha Evelyn)   \n",
        "\n",
        "        Sex  Age  SibSp  Parch  Ticket  Fare Cabin Embarked  \n",
        "61   female   28      0      0  113572    80   B28      NaN  \n",
        "829  female   28      0      0  113572    80   B28      NaN  "
       ]
      }
     ],
     "prompt_number": 8
    },
    {
     "cell_type": "markdown",
     "metadata": {},
     "source": [
      "\u0418\u0442\u0430\u043a \u0443 \u043d\u0430\u0441 \u043d\u0430\u0448\u043b\u043e\u0441\u044c 2 \u0442\u0430\u043a\u0438\u0445 \u043f\u0430\u0441\u0441\u0430\u0436\u0438\u0440\u0430. \u0414\u0430\u0432\u0430\u0439\u0442\u0435 \u043f\u0440\u0438\u0441\u0432\u043e\u0438\u043c \u044d\u0442\u0438 \u043f\u0430\u0441\u0441\u0430\u0436\u0438\u0440\u0430\u043c \u043f\u043e\u0440\u0442 \u0432 \u043a\u043e\u0442\u043e\u0440\u043e\u043c \u0441\u0435\u043b\u043e \u0431\u043e\u043b\u044c\u0448\u0435 \u0432\u0441\u0435\u0433\u043e \u043b\u044e\u0434\u0435\u0439:"
     ]
    },
    {
     "cell_type": "code",
     "collapsed": false,
     "input": [
      "MaxPassEmbarked = data.groupby('Embarked').count()['PassengerId']\n",
      "data.Embarked[data.Embarked.isnull()] = MaxPassEmbarked[MaxPassEmbarked == MaxPassEmbarked.max()].index[0]"
     ],
     "language": "python",
     "metadata": {},
     "outputs": [],
     "prompt_number": 9
    },
    {
     "cell_type": "markdown",
     "metadata": {},
     "source": [
      "\u041d\u0443 \u0447\u0442\u043e \u0436\u0435 \u0440\u0430\u0437\u043e\u0431\u0440\u0430\u043b\u0438\u0441\u044c \u0435\u0449\u0435 \u0441 \u043e\u0434\u043d\u0438\u043c \u043f\u043e\u043b\u0435\u043c \u0438 \u0442\u0435\u043f\u0435\u0440\u044c \u0443 \u043d\u0430\u0441 \u043e\u0441\u0442\u0430\u043b\u0438\u0441\u044c \u043f\u043e\u043b\u044f \u0441 \u0438\u043c\u044f \u043f\u0430\u0441\u0441\u0430\u0436\u0438\u0440\u0430, \u043d\u043e\u043c\u0435\u0440\u043e\u043c \u0431\u0438\u043b\u0435\u0442\u0430 \u0438 \u0446\u0435\u043d\u043e\u0439 \u0431\u0438\u043b\u0435\u0442\u0430."
     ]
    },
    {
     "cell_type": "markdown",
     "metadata": {},
     "source": [
      "\u041f\u043e \u0441\u0443\u0442\u0438 \u043d\u0430\u043c \u0438\u0437 \u044d\u0442\u0438\u0445 \u0442\u0440\u0435\u0445 \u043f\u043e\u043b\u0435\u0439 \u043d\u0430\u043c \u043d\u0443\u0436\u043d\u0430 \u0442\u043e\u043b\u044c\u043a\u043e \u0446\u0435\u043d\u0430(Fare), \u0442.\u043a. \u043e\u043d\u0430 \u0432 \u043a\u0430\u043a\u043e\u0439-\u0442\u043e \u043c\u0435\u0440\u0435 \u043e\u043f\u0440\u0435\u0434\u0435\u043b\u044f\u0435\u043c \u0440\u0430\u043d\u0436\u0438\u0440\u043e\u0432\u0430\u043d\u0438\u0435 \u0432\u043d\u0443\u0442\u0440\u0438 \u043a\u043b\u0430\u0441\u0441\u043e\u0432 \u043f\u043e\u043b\u044f Pclass. \u0422. \u0435. \u043d\u0430\u043f\u0440\u0438\u043c\u0435\u0440 \u043b\u044e\u0434\u0438 \u0432\u043d\u0443\u0442\u0440\u0438 \u0441\u0440\u0435\u0434\u043d\u0435\u0433\u043e \u043a\u043b\u0430\u0441\u0441\u0430 \u043c\u043e\u0433\u0443\u0442 \u0431\u044b\u0442\u044c \u0440\u0430\u0437\u0434\u0435\u043b\u0435\u043d\u044b \u043d\u0430 \u0442\u0435\u0445, \u043a\u0442\u043e \u0431\u043b\u0438\u0436\u0435 \u043a \u043f\u0435\u0440\u0432\u043e\u043c\u0443(\u0432\u044b\u0441\u0448\u0435\u043c\u0443) \u043a\u043b\u0430\u0441\u0441\u0443, \u0430 \u043a\u0442\u043e \u043a \u0442\u0440\u0435\u0442\u044c\u0435\u043c\u0443(\u043d\u0438\u0437\u0448\u0438\u0439). \u041f\u0440\u043e\u0432\u0435\u0440\u0438\u043c \u044d\u0442\u043e \u043f\u043e\u043b\u0435 \u043d\u0430 \u043f\u0443\u0441\u0442\u044b\u0435 \u0437\u043d\u0430\u0447\u0435\u043d\u0438\u044f \u0438 \u0435\u0441\u043b\u0438 \u0442\u0430\u043a\u043e\u0432\u044b\u0435 \u0438\u043c\u0435\u044e\u0442\u0441\u044f \u0437\u0430\u043c\u0435\u043d\u0438\u043c \u0446\u0435\u043d\u0443 \u043c\u0435\u0434\u0438\u0430\u043d\u043e\u0439 \u043f\u043e \u0446\u0435\u043d\u0435 \u0438\u0437 \u0432\u0441\u0435 \u0432\u044b\u0431\u043e\u0440\u043a\u0438:"
     ]
    },
    {
     "cell_type": "code",
     "collapsed": false,
     "input": [
      "data.PassengerId[data.Fare.isnull()]"
     ],
     "language": "python",
     "metadata": {},
     "outputs": [
      {
       "metadata": {},
       "output_type": "pyout",
       "prompt_number": 10,
       "text": [
        "Series([], dtype: int64)"
       ]
      }
     ],
     "prompt_number": 10
    },
    {
     "cell_type": "markdown",
     "metadata": {},
     "source": [
      "\u041d\u043e\u043c\u0435\u0440 \u0436\u0435 \u0431\u0438\u043b\u0435\u0442\u0430 \u0438 \u0438\u043c\u044f \u043f\u0430\u0441\u0441\u0430\u0436\u0438\u0440\u0430 \u043d\u0430\u043c \u043d\u0438\u043a\u0430\u043a \u043d\u0435 \u043f\u043e\u043c\u043e\u0433\u0443\u0442, \u0442. \u043a. \u044d\u0442\u043e \u043f\u0440\u043e\u0441\u0442\u043e \u0441\u043f\u0440\u0430\u0432\u043e\u0447\u043d\u0430\u044f \u0438\u043d\u0444\u043e\u0440\u043c\u0430\u0446\u0438\u044f. \u0415\u0434\u0438\u043d\u0441\u0442\u0432\u0435\u043d\u043d\u043e\u0435 \u0434\u043b\u044f \u0447\u0435\u0433\u043e \u043e\u043d\u0438 \u043c\u043e\u0433\u0443\u0442 \u043f\u0440\u0438\u0433\u043e\u0434\u0438\u0442\u044c\u0441\u044f -  \u044d\u0442\u043e \u043e\u043f\u0440\u0435\u0434\u0435\u043b\u0435\u043d\u0438\u0435 \u043a\u0442\u043e \u0438\u0437 \u043f\u0430\u0441\u0441\u0430\u0436\u0438\u0440\u043e\u0432 \u043f\u043e\u0442\u0435\u043d\u0446\u0438\u0430\u043b\u044c\u043d\u043e \u044f\u0432\u043b\u044f\u044e\u0442\u0441\u044f \u0440\u043e\u0434\u0441\u0442\u0432\u0435\u043d\u043d\u0438\u043a\u0430\u043c\u0438, \u043d\u043e \u0442\u0430\u043a \u043a\u0430\u043a \u043b\u044e\u0434\u0438 \u0443 \u043a\u043e\u0442\u043e\u0440\u044b\u0445 \u0435\u0441\u0442\u044c \u0440\u043e\u0434\u0441\u0442\u0432\u0435\u043d\u043d\u0438\u043a\u0438 \u043f\u0440\u0430\u043a\u0442\u0438\u0447\u0435\u0441\u043a\u0438 \u043d\u0435 \u0441\u043f\u0430\u0441\u043b\u0438\u0441\u044c (\u044d\u0442\u043e \u0431\u044b\u043b\u043e \u043f\u043e\u043a\u0430\u0437\u0430\u043d\u043e \u0432\u044b\u0448\u0435) \u043c\u043e\u0436\u043d\u043e \u043f\u0440\u0438\u043d\u0435\u0431\u0440\u0435\u0447\u044c \u044d\u0442\u0438\u043c\u0438 \u0434\u0430\u043d\u043d\u044b\u043c\u0438."
     ]
    },
    {
     "cell_type": "markdown",
     "metadata": {},
     "source": [
      "\u0422\u0435\u043f\u0435\u0440\u044c \u043d\u0430\u0448 \u043d\u0430\u0431\u043e\u0440 \u0432\u044b\u0433\u043b\u044f\u0434\u0438\u0442 \u0442\u0430\u043a: "
     ]
    },
    {
     "cell_type": "code",
     "collapsed": false,
     "input": [
      "data = data.drop(['PassengerId','Name','Ticket','Cabin'],axis=1)\n",
      "data.head()"
     ],
     "language": "python",
     "metadata": {},
     "outputs": [
      {
       "html": [
        "<div style=\"max-height:1000px;max-width:1500px;overflow:auto;\">\n",
        "<table border=\"1\" class=\"dataframe\">\n",
        "  <thead>\n",
        "    <tr style=\"text-align: right;\">\n",
        "      <th></th>\n",
        "      <th>Survived</th>\n",
        "      <th>Pclass</th>\n",
        "      <th>Sex</th>\n",
        "      <th>Age</th>\n",
        "      <th>SibSp</th>\n",
        "      <th>Parch</th>\n",
        "      <th>Fare</th>\n",
        "      <th>Embarked</th>\n",
        "    </tr>\n",
        "  </thead>\n",
        "  <tbody>\n",
        "    <tr>\n",
        "      <th>0</th>\n",
        "      <td> 0</td>\n",
        "      <td> 3</td>\n",
        "      <td>   male</td>\n",
        "      <td> 28</td>\n",
        "      <td> 1</td>\n",
        "      <td> 0</td>\n",
        "      <td>  7.2500</td>\n",
        "      <td> S</td>\n",
        "    </tr>\n",
        "    <tr>\n",
        "      <th>1</th>\n",
        "      <td> 1</td>\n",
        "      <td> 1</td>\n",
        "      <td> female</td>\n",
        "      <td> 28</td>\n",
        "      <td> 1</td>\n",
        "      <td> 0</td>\n",
        "      <td> 71.2833</td>\n",
        "      <td> C</td>\n",
        "    </tr>\n",
        "    <tr>\n",
        "      <th>2</th>\n",
        "      <td> 1</td>\n",
        "      <td> 3</td>\n",
        "      <td> female</td>\n",
        "      <td> 28</td>\n",
        "      <td> 0</td>\n",
        "      <td> 0</td>\n",
        "      <td>  7.9250</td>\n",
        "      <td> S</td>\n",
        "    </tr>\n",
        "    <tr>\n",
        "      <th>3</th>\n",
        "      <td> 1</td>\n",
        "      <td> 1</td>\n",
        "      <td> female</td>\n",
        "      <td> 28</td>\n",
        "      <td> 1</td>\n",
        "      <td> 0</td>\n",
        "      <td> 53.1000</td>\n",
        "      <td> S</td>\n",
        "    </tr>\n",
        "    <tr>\n",
        "      <th>4</th>\n",
        "      <td> 0</td>\n",
        "      <td> 3</td>\n",
        "      <td>   male</td>\n",
        "      <td> 28</td>\n",
        "      <td> 0</td>\n",
        "      <td> 0</td>\n",
        "      <td>  8.0500</td>\n",
        "      <td> S</td>\n",
        "    </tr>\n",
        "  </tbody>\n",
        "</table>\n",
        "</div>"
       ],
       "metadata": {},
       "output_type": "pyout",
       "prompt_number": 11,
       "text": [
        "   Survived  Pclass     Sex  Age  SibSp  Parch     Fare Embarked\n",
        "0         0       3    male   28      1      0   7.2500        S\n",
        "1         1       1  female   28      1      0  71.2833        C\n",
        "2         1       3  female   28      0      0   7.9250        S\n",
        "3         1       1  female   28      1      0  53.1000        S\n",
        "4         0       3    male   28      0      0   8.0500        S"
       ]
      }
     ],
     "prompt_number": 11
    },
    {
     "cell_type": "markdown",
     "metadata": {},
     "source": [
      "\u0418\u0442\u0430\u043a \u0434\u043b\u044f \u043f\u043e\u0441\u0442\u0440\u043e\u0435\u043d\u0438\u044f \u043d\u0430\u0448\u0435\u0439 \u043c\u043e\u0434\u0435\u043b\u0438, \u043d\u0443\u0436\u043d\u043e \u0437\u0430\u043a\u043e\u0434\u0438\u0440\u043e\u0432\u0430\u0442\u044c \u0432\u0441\u0435 \u043d\u0430\u0448\u0438 \u0442\u0435\u043a\u0441\u0442\u043e\u0432\u044b\u0435 \u0437\u043d\u0430\u0447\u0435\u043d\u0438\u044f. \u041c\u043e\u0436\u043d\u043e \u044d\u0442\u043e \u0441\u0434\u0435\u043b\u0430\u0442\u044c \u0432 \u0440\u0443\u0447\u043d\u0443\u044e, \u0430 \u043c\u043e\u0436\u043d\u043e \u0441 \u043f\u043e\u043c\u043e\u0449\u044c\u044e \u043c\u043e\u0434\u0443\u043b\u044f <a href='http://scikit-learn.org/stable/modules/preprocessing.html#preprocessing'>sklearn.preprocessing</a>. \u0414\u0430\u0432\u0430\u0439\u0442\u0435 \u0432\u043e\u0441\u043f\u043e\u043b\u044c\u0437\u0443\u0435\u043c\u0441\u044f \u0432\u0442\u043e\u0440\u044b\u043c \u0432\u0430\u0440\u0438\u0430\u043d\u0442\u043e\u043c."
     ]
    },
    {
     "cell_type": "markdown",
     "metadata": {},
     "source": [
      "\u0417\u0430\u043a\u043e\u0434\u0438\u0440\u043e\u0432\u0430\u0442\u044c \u0441\u043f\u0438\u0441\u043e\u043a \u0441 \u0444\u0438\u043a\u0441\u0438\u0440\u043e\u0432\u0430\u043d\u043d\u044b\u043c\u0438 \u0437\u043d\u0430\u0447\u0435\u043d\u0438\u044f\u043c\u0438 \u043c\u043e\u0436\u043d\u043e \u0441 \u043f\u043e\u043c\u043e\u0449\u044c\u044e \u043e\u0431\u044a\u0435\u043a\u0442\u0430 <a href='http://scikit-learn.org/stable/modules/generated/sklearn.preprocessing.LabelEncoder.html#sklearn.preprocessing.LabelEncoder'>LabelEncoder()</a>. "
     ]
    },
    {
     "cell_type": "code",
     "collapsed": false,
     "input": [
      "from sklearn.preprocessing import LabelEncoder\n",
      "label = LabelEncoder()\n",
      "dicts = {}\n",
      "\n",
      "label.fit(data.Sex.drop_duplicates())\n",
      "dicts['Sex'] = list(label.classes_)\n",
      "data.Sex = label.transform(data.Sex)\n",
      "\n",
      "label.fit(data.Embarked.drop_duplicates())\n",
      "dicts['Embarked'] = list(label.classes_)\n",
      "data.Embarked = label.transform(data.Embarked)"
     ],
     "language": "python",
     "metadata": {},
     "outputs": [],
     "prompt_number": 12
    },
    {
     "cell_type": "markdown",
     "metadata": {},
     "source": [
      "\u0412 \u0438\u0442\u043e\u0433\u0435 \u043d\u0430\u0448\u0438 \u0438\u0441\u0445\u043e\u0434\u043d\u044b\u0435 \u0434\u0430\u043d\u043d\u044b\u0435 \u0431\u0443\u0434\u0443\u0442 \u0432\u044b\u0433\u043b\u044f\u0434\u0435\u0442\u044c \u0442\u0430\u043a:"
     ]
    },
    {
     "cell_type": "code",
     "collapsed": false,
     "input": [
      "data.head()"
     ],
     "language": "python",
     "metadata": {},
     "outputs": [
      {
       "html": [
        "<div style=\"max-height:1000px;max-width:1500px;overflow:auto;\">\n",
        "<table border=\"1\" class=\"dataframe\">\n",
        "  <thead>\n",
        "    <tr style=\"text-align: right;\">\n",
        "      <th></th>\n",
        "      <th>Survived</th>\n",
        "      <th>Pclass</th>\n",
        "      <th>Sex</th>\n",
        "      <th>Age</th>\n",
        "      <th>SibSp</th>\n",
        "      <th>Parch</th>\n",
        "      <th>Fare</th>\n",
        "      <th>Embarked</th>\n",
        "    </tr>\n",
        "  </thead>\n",
        "  <tbody>\n",
        "    <tr>\n",
        "      <th>0</th>\n",
        "      <td> 0</td>\n",
        "      <td> 3</td>\n",
        "      <td> 1</td>\n",
        "      <td> 28</td>\n",
        "      <td> 1</td>\n",
        "      <td> 0</td>\n",
        "      <td>  7.2500</td>\n",
        "      <td> 2</td>\n",
        "    </tr>\n",
        "    <tr>\n",
        "      <th>1</th>\n",
        "      <td> 1</td>\n",
        "      <td> 1</td>\n",
        "      <td> 0</td>\n",
        "      <td> 28</td>\n",
        "      <td> 1</td>\n",
        "      <td> 0</td>\n",
        "      <td> 71.2833</td>\n",
        "      <td> 0</td>\n",
        "    </tr>\n",
        "    <tr>\n",
        "      <th>2</th>\n",
        "      <td> 1</td>\n",
        "      <td> 3</td>\n",
        "      <td> 0</td>\n",
        "      <td> 28</td>\n",
        "      <td> 0</td>\n",
        "      <td> 0</td>\n",
        "      <td>  7.9250</td>\n",
        "      <td> 2</td>\n",
        "    </tr>\n",
        "    <tr>\n",
        "      <th>3</th>\n",
        "      <td> 1</td>\n",
        "      <td> 1</td>\n",
        "      <td> 0</td>\n",
        "      <td> 28</td>\n",
        "      <td> 1</td>\n",
        "      <td> 0</td>\n",
        "      <td> 53.1000</td>\n",
        "      <td> 2</td>\n",
        "    </tr>\n",
        "    <tr>\n",
        "      <th>4</th>\n",
        "      <td> 0</td>\n",
        "      <td> 3</td>\n",
        "      <td> 1</td>\n",
        "      <td> 28</td>\n",
        "      <td> 0</td>\n",
        "      <td> 0</td>\n",
        "      <td>  8.0500</td>\n",
        "      <td> 2</td>\n",
        "    </tr>\n",
        "  </tbody>\n",
        "</table>\n",
        "</div>"
       ],
       "metadata": {},
       "output_type": "pyout",
       "prompt_number": 13,
       "text": [
        "   Survived  Pclass  Sex  Age  SibSp  Parch     Fare  Embarked\n",
        "0         0       3    1   28      1      0   7.2500         2\n",
        "1         1       1    0   28      1      0  71.2833         0\n",
        "2         1       3    0   28      0      0   7.9250         2\n",
        "3         1       1    0   28      1      0  53.1000         2\n",
        "4         0       3    1   28      0      0   8.0500         2"
       ]
      }
     ],
     "prompt_number": 13
    },
    {
     "cell_type": "markdown",
     "metadata": {},
     "source": [
      "\u0422\u0435\u043f\u0435\u0440\u044c \u043d\u0430\u043c \u043d\u0430\u0434\u043e \u043d\u0430\u043f\u0438\u0441\u0430\u0442\u044c \u043a\u043e\u0434 \u0434\u043b\u044f \u043f\u0440\u0438\u0432\u0435\u0434\u0435\u043d\u0438\u044f \u043f\u0440\u043e\u0432\u0435\u0440\u043e\u0447\u043d\u043e\u0433\u043e \u0444\u0430\u0439\u043b\u0430 \u0432 \u043d\u0443\u0436\u043d\u044b\u0439 \u043d\u0430\u043c \u0432\u0438\u0434. \u0414\u043b\u044f \u044d\u0442\u043e\u0433\u043e \u043c\u043e\u0436\u043d\u043e \u043f\u0440\u043e\u0441\u0442\u043e \u0441\u043a\u043e\u043f\u0438\u0440\u043e\u0432\u0430\u0442\u044c \u043a\u0443\u0441\u043a\u0438 \u043a\u043e\u0434\u0430 \u043a\u043e\u0442\u043e\u0440\u044b\u0435 \u0431\u044b\u043b\u0438 \u0432\u044b\u0448\u0435(\u0438\u043b\u0438 \u043f\u0440\u043e\u0441\u0442\u043e \u043d\u0430\u043f\u0438\u0441\u0430\u0442\u044c \u0444\u0443\u043d\u043a\u0446\u0438\u044e \u0434\u043b\u044f \u043e\u0431\u0440\u0430\u0431\u043e\u0442\u043a\u0438 \u0432\u0445\u043e\u0434\u043d\u043e\u0433\u043e \u0444\u0430\u0439\u043b\u0430):"
     ]
    },
    {
     "cell_type": "code",
     "collapsed": false,
     "input": [
      "test = read_csv('Kaggle_Titanic/Data/test.csv')\n",
      "test.Age[test.Age.isnull()] = test.Age.mean()\n",
      "test.Fare[test.Fare.isnull()] = test.Fare.median()\n",
      "MaxPassEmbarked = test.groupby('Embarked').count()['PassengerId']\n",
      "test.Embarked[test.Embarked.isnull()] = MaxPassEmbarked[MaxPassEmbarked == MaxPassEmbarked.max()].index[0]\n",
      "result = DataFrame(test.PassengerId)\n",
      "test = test.drop(['Name','Ticket','Cabin','PassengerId'],axis=1)\n",
      "\n",
      "label.fit(dicts['Sex'])\n",
      "test.Sex = label.transform(test.Sex)\n",
      "\n",
      "label.fit(dicts['Embarked'])\n",
      "test.Embarked = label.transform(test.Embarked)"
     ],
     "language": "python",
     "metadata": {},
     "outputs": [],
     "prompt_number": 14
    },
    {
     "cell_type": "code",
     "collapsed": false,
     "input": [
      "test.head()"
     ],
     "language": "python",
     "metadata": {},
     "outputs": [
      {
       "html": [
        "<div style=\"max-height:1000px;max-width:1500px;overflow:auto;\">\n",
        "<table border=\"1\" class=\"dataframe\">\n",
        "  <thead>\n",
        "    <tr style=\"text-align: right;\">\n",
        "      <th></th>\n",
        "      <th>Pclass</th>\n",
        "      <th>Sex</th>\n",
        "      <th>Age</th>\n",
        "      <th>SibSp</th>\n",
        "      <th>Parch</th>\n",
        "      <th>Fare</th>\n",
        "      <th>Embarked</th>\n",
        "    </tr>\n",
        "  </thead>\n",
        "  <tbody>\n",
        "    <tr>\n",
        "      <th>0</th>\n",
        "      <td> 3</td>\n",
        "      <td> 1</td>\n",
        "      <td> 34.5</td>\n",
        "      <td> 0</td>\n",
        "      <td> 0</td>\n",
        "      <td>  7.8292</td>\n",
        "      <td> 1</td>\n",
        "    </tr>\n",
        "    <tr>\n",
        "      <th>1</th>\n",
        "      <td> 3</td>\n",
        "      <td> 0</td>\n",
        "      <td> 47.0</td>\n",
        "      <td> 1</td>\n",
        "      <td> 0</td>\n",
        "      <td>  7.0000</td>\n",
        "      <td> 2</td>\n",
        "    </tr>\n",
        "    <tr>\n",
        "      <th>2</th>\n",
        "      <td> 2</td>\n",
        "      <td> 1</td>\n",
        "      <td> 62.0</td>\n",
        "      <td> 0</td>\n",
        "      <td> 0</td>\n",
        "      <td>  9.6875</td>\n",
        "      <td> 1</td>\n",
        "    </tr>\n",
        "    <tr>\n",
        "      <th>3</th>\n",
        "      <td> 3</td>\n",
        "      <td> 1</td>\n",
        "      <td> 27.0</td>\n",
        "      <td> 0</td>\n",
        "      <td> 0</td>\n",
        "      <td>  8.6625</td>\n",
        "      <td> 2</td>\n",
        "    </tr>\n",
        "    <tr>\n",
        "      <th>4</th>\n",
        "      <td> 3</td>\n",
        "      <td> 0</td>\n",
        "      <td> 22.0</td>\n",
        "      <td> 1</td>\n",
        "      <td> 1</td>\n",
        "      <td> 12.2875</td>\n",
        "      <td> 2</td>\n",
        "    </tr>\n",
        "  </tbody>\n",
        "</table>\n",
        "</div>"
       ],
       "metadata": {},
       "output_type": "pyout",
       "prompt_number": 15,
       "text": [
        "   Pclass  Sex   Age  SibSp  Parch     Fare  Embarked\n",
        "0       3    1  34.5      0      0   7.8292         1\n",
        "1       3    0  47.0      1      0   7.0000         2\n",
        "2       2    1  62.0      0      0   9.6875         1\n",
        "3       3    1  27.0      0      0   8.6625         2\n",
        "4       3    0  22.0      1      1  12.2875         2"
       ]
      }
     ],
     "prompt_number": 15
    },
    {
     "cell_type": "markdown",
     "metadata": {},
     "source": [
      "\u041d\u0443 \u0447\u0442\u043e \u0436\u0435 \u0442\u0435\u0440\u0435\u043f\u044c \u0434\u0430\u043d\u043d\u044b\u0435 \u0434\u043b\u044f \u043f\u043e\u0441\u0442\u0440\u043e\u0435\u043d\u0438\u044f \u0438 \u043f\u0440\u043e\u0432\u0435\u0440\u043a\u0438 \u043c\u043e\u0434\u0435\u043b\u0438 \u0433\u043e\u0442\u043e\u0432\u044b \u0438 \u043c\u043e\u0436\u043d\u043e \u043f\u0440\u0438\u0441\u0442\u0443\u043f\u0438\u0442\u044c \u043a \u0435\u0435 \u043f\u043e\u0441\u0442\u0440\u043e\u0435\u043d\u0438\u044e. \u0414\u043b\u044f \u043f\u0440\u043e\u0432\u0435\u0440\u043a\u0438 \u0442\u043e\u0447\u043d\u043e\u0441\u0442\u0438 \u043c\u043e\u0434\u0435\u043b\u0438 \u0431\u0443\u0434\u0435\u043c \u0438\u0441\u043f\u043e\u043b\u044c\u0437\u043e\u0432\u0430\u0442\u044c <a href=\"http://www.machinelearning.ru/wiki/index.php?title=%D0%A1%D0%BA%D0%BE%D0%BB%D1%8C%D0%B7%D1%8F%D1%89%D0%B8%D0%B9_%D0%BA%D0%BE%D0%BD%D1%82%D1%80%D0%BE%D0%BB%D1%8C\">\u0441\u043a\u043e\u043b\u044c\u0437\u044f\u0449\u0438\u0439 \u043a\u043e\u043d\u0442\u0440\u043e\u043b\u044c</a> \u0438 <a href='http://ru.wikipedia.org/wiki/ROC-%D0%BA%D1%80%D0%B8%D0%B2%D0%B0%D1%8F'>ROC-\u043a\u0440\u0438\u0432\u044b\u0435</a>. \u041f\u0440\u043e\u0432\u0435\u0440\u043a\u0443 \u0431\u0443\u0434\u0435\u043c \u0432\u044b\u043f\u043e\u043b\u043d\u044f\u0442\u044c \u043d\u0430 \u043e\u0431\u0443\u0447\u0430\u044e\u0449\u0435\u0439 \u0432\u044b\u0431\u043e\u0440\u043a\u0435, \u043f\u043e\u0441\u043b\u0435 \u0447\u0435\u0433\u043e \u043f\u0440\u0438\u043c\u0435\u043d\u0438\u043c \u0435\u0435 \u043d\u0430 \u0442\u0435\u0441\u0442\u043e\u0432\u0443\u044e."
     ]
    },
    {
     "cell_type": "markdown",
     "metadata": {},
     "source": [
      "\u0418\u0442\u0430\u043a \u0440\u0430\u0441\u0441\u043c\u043e\u0442\u0440\u0438\u043c \u043d\u0435\u0441\u043a\u043e\u043b\u044c\u043a\u043e \u0430\u043b\u0433\u043e\u0440\u0438\u0442\u043c\u043e\u0432 \u043c\u0430\u0448\u0438\u043d\u043d\u043e\u0433\u043e \u043e\u0431\u0443\u0447\u0435\u043d\u0438\u044f: <ul><li>SVM (\u0441 \u043b\u0438\u043d\u0435\u0439\u043d\u044b\u043c \u044f\u0434\u0440\u043e\u043c \u0438 \u043a\u0432\u0430\u0434\u0440\u0430\u0442\u0438\u0447\u043d\u044b\u043c \u043f\u043e\u043b\u0438\u043d\u043e\u043c\u043e\u043c)</li><li>\u041c\u0435\u0442\u043e\u0434 \u0431\u043b\u0438\u0436\u0430\u0439\u0448\u0438\u0445 \u0441\u043e\u0441\u0435\u0434\u0435\u0439</li><li>Random forest</li></ul>"
     ]
    },
    {
     "cell_type": "markdown",
     "metadata": {},
     "source": [
      "\u0417\u0430\u0433\u0440\u0443\u0437\u0438\u043c \u043d\u0443\u0436\u043d\u044b\u0435 \u043d\u0430\u043c \u0431\u0438\u0431\u043b\u0438\u043e\u0442\u043a\u0438:"
     ]
    },
    {
     "cell_type": "code",
     "collapsed": false,
     "input": [
      "from sklearn import cross_validation, svm\n",
      "from sklearn.neighbors import KNeighborsClassifier\n",
      "from sklearn.ensemble import RandomForestClassifier\n",
      "from sklearn.linear_model import LogisticRegression\n",
      "from sklearn.metrics import roc_curve, auc\n",
      "import pylab as pl"
     ],
     "language": "python",
     "metadata": {},
     "outputs": [],
     "prompt_number": 16
    },
    {
     "cell_type": "markdown",
     "metadata": {},
     "source": [
      "\u0414\u043b\u044f \u043d\u0430\u0447\u0430\u043b\u0430, \u043d\u0430\u0434\u043e \u0440\u0430\u0437\u0434\u0435\u043b\u0438\u0442\u044c \u043d\u0430\u0448\u0443 \u043e\u0431\u0443\u0447\u0430\u044e\u0448\u0443\u044e \u0432\u044b\u0431\u043e\u0440\u043a\u0443 \u043d\u0430 \u043f\u043e\u043a\u0430\u0437\u0430\u0442\u0435\u043b\u044c, \u043a\u043e\u0442\u043e\u0440\u044b\u0439 \u043c\u044b \u0438\u0441\u0441\u043b\u0435\u0434\u0443\u0435\u043c, \u0438 \u043f\u0440\u0438\u0437\u043d\u0430\u043a\u0438 \u0435\u0433\u043e \u043e\u043f\u0440\u0435\u0434\u0435\u043b\u044f\u044e\u0449\u0438\u0435:"
     ]
    },
    {
     "cell_type": "code",
     "collapsed": false,
     "input": [
      "target = data.Survived\n",
      "train = data.drop(['Survived'], axis=1) #\u0438\u0437 \u0438\u0441\u0445\u043e\u0434\u043d\u044b\u0445 \u0434\u0430\u043d\u043d\u044b\u0445 \u0443\u0431\u0438\u0440\u0430\u0435\u043c Id \u043f\u0430\u0441\u0441\u0430\u0436\u0438\u0440\u0430 \u0438 \u0444\u043b\u0430\u0433 \u0441\u043f\u0430\u0441\u0441\u044f \u043e\u043d \u0438\u043b\u0438 \u043d\u0435\u0442\n",
      "\n",
      "kfold = 5 #\u043a\u043e\u043b\u0438\u0447\u0435\u0441\u0442\u0432\u043e \u043f\u043e\u0434\u0432\u044b\u0431\u043e\u0440\u043e\u043a \u0434\u043b\u044f \u0432\u0430\u043b\u0438\u0434\u0430\u0446\u0438\u0438\n",
      "itog_val = {} #\u0441\u043f\u0438\u0441\u043e\u043a \u0434\u043b\u044f \u0437\u0430\u043f\u0438\u0441\u0438 \u0440\u0435\u0437\u0443\u043b\u044c\u0442\u0430\u0442\u043e\u0432 \u043a\u0440\u043e\u0441\u0441 \u0432\u0430\u043b\u0438\u0434\u0430\u0446\u0438\u0438 \u0440\u0430\u0437\u043d\u044b\u0445 \u0430\u043b\u0433\u043e\u0440\u0438\u0442\u043c\u043e\u0432"
     ],
     "language": "python",
     "metadata": {},
     "outputs": [],
     "prompt_number": 17
    },
    {
     "cell_type": "markdown",
     "metadata": {},
     "source": [
      "\u0422\u0435\u043f\u0435\u0440\u044c \u043d\u0430\u0448\u0430 \u043e\u0431\u0443\u0447\u0430\u044e\u0449\u0430\u044f \u0432\u044b\u0431\u043e\u0440\u043a\u0430 \u0432\u044b\u0433\u043b\u044f\u0434\u0438\u0442 \u0442\u0430\u043a:"
     ]
    },
    {
     "cell_type": "code",
     "collapsed": false,
     "input": [
      "train.head()"
     ],
     "language": "python",
     "metadata": {},
     "outputs": [
      {
       "html": [
        "<div style=\"max-height:1000px;max-width:1500px;overflow:auto;\">\n",
        "<table border=\"1\" class=\"dataframe\">\n",
        "  <thead>\n",
        "    <tr style=\"text-align: right;\">\n",
        "      <th></th>\n",
        "      <th>Pclass</th>\n",
        "      <th>Sex</th>\n",
        "      <th>Age</th>\n",
        "      <th>SibSp</th>\n",
        "      <th>Parch</th>\n",
        "      <th>Fare</th>\n",
        "      <th>Embarked</th>\n",
        "    </tr>\n",
        "  </thead>\n",
        "  <tbody>\n",
        "    <tr>\n",
        "      <th>0</th>\n",
        "      <td> 3</td>\n",
        "      <td> 1</td>\n",
        "      <td> 28</td>\n",
        "      <td> 1</td>\n",
        "      <td> 0</td>\n",
        "      <td>  7.2500</td>\n",
        "      <td> 2</td>\n",
        "    </tr>\n",
        "    <tr>\n",
        "      <th>1</th>\n",
        "      <td> 1</td>\n",
        "      <td> 0</td>\n",
        "      <td> 28</td>\n",
        "      <td> 1</td>\n",
        "      <td> 0</td>\n",
        "      <td> 71.2833</td>\n",
        "      <td> 0</td>\n",
        "    </tr>\n",
        "    <tr>\n",
        "      <th>2</th>\n",
        "      <td> 3</td>\n",
        "      <td> 0</td>\n",
        "      <td> 28</td>\n",
        "      <td> 0</td>\n",
        "      <td> 0</td>\n",
        "      <td>  7.9250</td>\n",
        "      <td> 2</td>\n",
        "    </tr>\n",
        "    <tr>\n",
        "      <th>3</th>\n",
        "      <td> 1</td>\n",
        "      <td> 0</td>\n",
        "      <td> 28</td>\n",
        "      <td> 1</td>\n",
        "      <td> 0</td>\n",
        "      <td> 53.1000</td>\n",
        "      <td> 2</td>\n",
        "    </tr>\n",
        "    <tr>\n",
        "      <th>4</th>\n",
        "      <td> 3</td>\n",
        "      <td> 1</td>\n",
        "      <td> 28</td>\n",
        "      <td> 0</td>\n",
        "      <td> 0</td>\n",
        "      <td>  8.0500</td>\n",
        "      <td> 2</td>\n",
        "    </tr>\n",
        "  </tbody>\n",
        "</table>\n",
        "</div>"
       ],
       "metadata": {},
       "output_type": "pyout",
       "prompt_number": 18,
       "text": [
        "   Pclass  Sex  Age  SibSp  Parch     Fare  Embarked\n",
        "0       3    1   28      1      0   7.2500         2\n",
        "1       1    0   28      1      0  71.2833         0\n",
        "2       3    0   28      0      0   7.9250         2\n",
        "3       1    0   28      1      0  53.1000         2\n",
        "4       3    1   28      0      0   8.0500         2"
       ]
      }
     ],
     "prompt_number": 18
    },
    {
     "cell_type": "markdown",
     "metadata": {},
     "source": [
      "\u0422\u0435\u043f\u0435\u0440\u044c \u0440\u0430\u0437\u043e\u0431\u044a\u0435\u043c \u043f\u043e\u043a\u0430\u0437\u0430\u0442\u0435\u043b\u0438 \u043f\u043e\u043b\u0443\u0447\u0435\u043d\u043d\u044b\u0435 \u0440\u0430\u043d\u0435\u0435 \u043d\u0430 2 \u043f\u043e\u0434\u0432\u044b\u0431\u043e\u0440\u043a\u0438(\u043e\u0431\u0443\u0447\u0430\u044e\u0449\u0443\u044e \u0438 \u0442\u0435\u0441\u0442\u043e\u0432\u0443\u044e) \u0434\u043b\u044f \u0440\u0430\u0441\u0447\u0435\u0442 ROC \u043a\u0440\u0438\u0432\u044b\u0445 (\u0434\u043b\u044f \u0441\u043a\u043e\u043b\u044c\u0437\u044f\u0449\u0435\u0433\u043e \u043a\u043e\u043d\u0442\u0440\u043e\u043b\u044f \u044d\u0442\u043e\u0433\u043e \u0434\u0435\u043b\u0430\u0442\u044c \u043d\u0435 \u043d\u0430\u0434\u043e, \u0442.\u043a. \u0444\u0443\u043d\u043a\u0446\u0438\u044f \u043f\u0440\u043e\u0432\u0435\u0440\u043a\u0438 \u044d\u0442\u043e \u0434\u0435\u043b\u0430\u0435\u0442 \u0441\u0430\u043c\u0430. \u0412 \u044d\u0442\u043e\u043c \u043d\u0430\u043c \u043f\u043e\u043c\u043e\u0436\u0435\u0442 \u0444\u0443\u043d\u043a\u0446\u0438\u044f <a href=\"http://scikit-learn.org/stable/modules/generated/sklearn.cross_validation.train_test_split.html#sklearn.cross_validation.train_test_split\">train_test_split</a> \u043c\u043e\u0434\u0443\u043b\u044f <a href=\"http://scikit-learn.org/stable/modules/cross_validation.html#cross-validation\">cross_validation</a>:"
     ]
    },
    {
     "cell_type": "code",
     "collapsed": false,
     "input": [
      "ROCtrainTRN, ROCtestTRN, ROCtrainTRG, ROCtestTRG = cross_validation.train_test_split(train, target, test_size=0.25) "
     ],
     "language": "python",
     "metadata": {},
     "outputs": [],
     "prompt_number": 19
    },
    {
     "cell_type": "markdown",
     "metadata": {},
     "source": [
      "\u0412 \u043a\u0430\u0447\u0435\u0441\u0442\u0432\u0435 \u043f\u0440\u0430\u043c\u0435\u0442\u0440\u043e\u0432 \u0435\u0439 \u043f\u0435\u0440\u0435\u0434\u0430\u0435\u0442\u0441\u044f: <ul><li>\u041c\u0430\u0441\u0441\u0438\u0432 \u043f\u0430\u0440\u0430\u043c\u0435\u0442\u0440\u043e\u0432</li><li>\u041c\u0430\u0441\u0441\u0438\u0432 \u0437\u043d\u0430\u0447\u0435\u043d\u0438\u0439 \u043f\u043e\u043a\u0430\u0437\u0430\u0442\u0435\u043b\u0435\u0439</li><li>\u0421\u043e\u043e\u0442\u043d\u043e\u0448\u0435\u043d\u0438\u0435 \u0432 \u043a\u043e\u0442\u0440\u043e\u043c \u0431\u0443\u0434\u0435\u0442 \u0440\u0430\u0437\u0431\u0438\u0442\u0430 \u043e\u0431\u0443\u0447\u0430\u044e\u0449\u0430\u044f \u0432\u044b\u0431\u043e\u0440\u043a\u0430 (\u0432 \u043d\u0430\u0448\u0435\u043c \u0441\u043b\u0443\u0447\u0430\u0435 \u0434\u043b\u044f \u0442\u0435\u0441\u0442\u043e\u0432\u043e\u0433\u043e \u043d\u0430\u0431\u043e\u0440\u0430 \u0431\u0443\u0434\u0435\u0442 \u0432\u044b\u0434\u0435\u043b\u0435\u043d\u0430 1/4 \u0447\u0430\u0441\u0442\u044c \u0434\u0430\u043d\u043d\u044b\u0445 \u0438\u0441\u0445\u043e\u0434\u043d\u043e\u0439 \u043e\u0431\u0443\u0447\u0430\u044e\u0449\u0435\u0439 \u0432\u044b\u0431\u043e\u0440\u043a\u0438)</li></ul>.</br>\u041d\u0430 \u0432\u044b\u0445\u043e\u0434\u0435 \u0444\u0443\u043d\u043a\u0446\u0438\u044f \u0432\u044b\u0434\u0430\u0435\u0442 4 \u043c\u0430\u0441\u0441\u0438\u0432\u0430: <ol><li>\u041d\u043e\u0432\u044b\u0439 \u043e\u0431\u0443\u0447\u0430\u044e\u0449\u0438\u0439 \u043c\u0430\u0441\u0441\u0438\u0432 \u043f\u0430\u0440\u0430\u043c\u0435\u0442\u0440\u043e\u0432</li><li>\u0442\u0435\u0441\u0442\u043e\u0432\u044b\u0439 \u043c\u0430\u0441\u0441\u0438\u0432 \u043f\u0430\u0440\u0430\u043c\u0435\u0442\u0440\u043e\u0432</li><li>\u041d\u043e\u0432\u044b\u0439 \u043c\u0430\u0441\u0441\u0438\u0432 \u043f\u043e\u043a\u0430\u0437\u0430\u0442\u0435\u043b\u0435\u0439</li><li>\u0442\u0435\u0441\u0442\u043e\u0432\u044b\u0439 \u043c\u0430\u0441\u0441\u0438\u0432 \u043f\u043e\u043a\u0430\u0437\u0430\u0442\u0435\u043b\u0435\u0439</li></ol>"
     ]
    },
    {
     "cell_type": "markdown",
     "metadata": {},
     "source": [
      "\u0414\u0430\u043b\u0435\u0435 \u043f\u0440\u0435\u0434\u0441\u0442\u0430\u0432\u043b\u0435\u043d\u044b \u043f\u0435\u0440\u0435\u0447\u0438\u0441\u043b\u0435\u043d\u043d\u044b\u0435 \u043c\u0435\u0442\u043e\u0434\u044b \u0441 \u043d\u0430\u0438\u043b\u0443\u0447\u0448\u0438\u043c\u0438 \u043f\u0430\u0440\u0430\u043c\u0435\u0442\u0440\u0430\u043c\u0438 \u043f\u043e\u0434\u043e\u0431\u0440\u0430\u043d\u043d\u044b\u0435 \u043e\u043f\u044b\u0442\u043d\u044b\u043c \u043f\u0443\u0442\u0435\u043c:"
     ]
    },
    {
     "cell_type": "code",
     "collapsed": false,
     "input": [
      "model_rfc = RandomForestClassifier(n_estimators = 70) #\u0432 \u043f\u0430\u0440\u0430\u043c\u0435\u0442\u0440\u0435 \u043f\u0435\u0440\u0435\u0434\u0430\u0435\u043c \u043a\u043e\u043b-\u0432\u043e \u0434\u0435\u0440\u0435\u0432\u044c\u0435\u0432\n",
      "model_knc = KNeighborsClassifier(n_neighbors = 18) #\u0432 \u043f\u0430\u0440\u0430\u043c\u0435\u0442\u0440\u0435 \u043f\u0435\u0440\u0435\u0434\u0430\u0435\u043c \u043a\u043e\u043b-\u0432\u043e \u0441\u043e\u0441\u0435\u0434\u0435\u0439\n",
      "model_lr = LogisticRegression(penalty='l1', tol=0.01) \n",
      "model_svc = svm.SVC() #\u043f\u043e \u0443\u043c\u043e\u043b\u0447\u0430\u043d\u0438\u044e kernek='rbf'"
     ],
     "language": "python",
     "metadata": {},
     "outputs": [],
     "prompt_number": 20
    },
    {
     "cell_type": "markdown",
     "metadata": {},
     "source": [
      "\u0422\u0435\u043f\u0435\u0440\u044c \u043f\u0440\u043e\u0432\u0435\u0440\u0438\u043c \u043f\u043e\u043b\u0443\u0447\u0435\u043d\u043d\u044b\u0435 \u043c\u043e\u0434\u0435\u043b\u0438 \u0441 \u043f\u043e\u043c\u043e\u0449\u044c\u044e \u0441\u043a\u043e\u043b\u044c\u0437\u044f\u0449\u0435\u0433\u043e \u043a\u043e\u043d\u0442\u0440\u043e\u043b\u044f. \u0414\u043b\u044f \u044d\u0442\u043e\u0433\u043e \u043d\u0430\u043c \u043d\u0435\u043e\u0431\u0445\u043e\u0434\u0438\u043c\u043e \u0432\u043e\u043f\u043e\u043b\u044c\u0437\u043e\u0432\u0430\u0442\u044c\u0441\u044f \u0444\u0443\u043d\u043a\u0446\u0438\u0435\u0439 <a href=\"http://scikit-learn.org/stable/modules/generated/sklearn.cross_validation.cross_val_score.html#sklearn.cross_validation.cross_val_score\">cross_val_score</a> "
     ]
    },
    {
     "cell_type": "code",
     "collapsed": false,
     "input": [
      "scores = cross_validation.cross_val_score(model_rfc, train, target, cv = kfold)\n",
      "itog_val['RandomForestClassifier'] = scores.mean()\n",
      "scores = cross_validation.cross_val_score(model_knc, train, target, cv = kfold)\n",
      "itog_val['KNeighborsClassifier'] = scores.mean()\n",
      "scores = cross_validation.cross_val_score(model_lr, train, target, cv = kfold)\n",
      "itog_val['LogisticRegression'] = scores.mean()\n",
      "scores = cross_validation.cross_val_score(model_svc, train, target, cv = kfold)\n",
      "itog_val['SVC'] = scores.mean()\n",
      "\n",
      "#\u0440\u0438\u0441\u0443\u0435\u043c \u0440\u0435\u0437\u0443\u043b\u044c\u0442\u0430\u0442\n",
      "DataFrame.from_dict(data = itog_val, orient='index').plot(kind='bar', legend=False)"
     ],
     "language": "python",
     "metadata": {},
     "outputs": [
      {
       "metadata": {},
       "output_type": "pyout",
       "prompt_number": 21,
       "text": [
        "<matplotlib.axes.AxesSubplot at 0x5df1b10>"
       ]
      },
      {
       "metadata": {},
       "output_type": "display_data",
       "png": "[encoded data removed]",
       "text": [
        "<matplotlib.figure.Figure at 0x5df1190>"
       ]
      }
     ],
     "prompt_number": 21
    },
    {
     "cell_type": "markdown",
     "metadata": {},
     "source": [
      "\u041a\u043e\u0433\u0434\u0430 \u043c\u044b \u0441\u043e\u0431\u0440\u0430\u043b\u0438 \u0434\u0430\u043d\u043d\u044b\u0435 \u043f\u043e \u043f\u0435\u0440\u0435\u043a\u0440\u0435\u0441\u0442\u043d\u044b\u043c \u043f\u0440\u043e\u0432\u0435\u0440\u043a\u0430\u043c, \u0434\u0430\u0432\u0430\u0439\u0442\u0435 \u043d\u0430\u0440\u0438\u0441\u0443\u0435\u043c \u0433\u0440\u0430\u0444\u0438\u043a\u0438 ROC-\u043a\u0440\u0438\u0432\u044b\u0445:"
     ]
    },
    {
     "cell_type": "code",
     "collapsed": false,
     "input": [
      "pl.clf()\n",
      "plt.figure(figsize=(8,6))\n",
      "#SVC\n",
      "model_svc.probability = True\n",
      "probas = model_svc.fit(ROCtrainTRN, ROCtrainTRG).predict_proba(ROCtestTRN)\n",
      "fpr, tpr, thresholds = roc_curve(ROCtestTRG, probas[:, 1])\n",
      "roc_auc  = auc(fpr, tpr)\n",
      "pl.plot(fpr, tpr, label='%s ROC (area = %0.2f)' % ('SVC', roc_auc))\n",
      "#RandomForestClassifier\n",
      "probas = model_rfc.fit(ROCtrainTRN, ROCtrainTRG).predict_proba(ROCtestTRN)\n",
      "fpr, tpr, thresholds = roc_curve(ROCtestTRG, probas[:, 1])\n",
      "roc_auc  = auc(fpr, tpr)\n",
      "pl.plot(fpr, tpr, label='%s ROC (area = %0.2f)' % ('RandonForest',roc_auc))\n",
      "#KNeighborsClassifier\n",
      "probas = model_knc.fit(ROCtrainTRN, ROCtrainTRG).predict_proba(ROCtestTRN)\n",
      "fpr, tpr, thresholds = roc_curve(ROCtestTRG, probas[:, 1])\n",
      "roc_auc  = auc(fpr, tpr)\n",
      "pl.plot(fpr, tpr, label='%s ROC (area = %0.2f)' % ('KNeighborsClassifier',roc_auc))\n",
      "#LogisticRegression\n",
      "probas = model_lr.fit(ROCtrainTRN, ROCtrainTRG).predict_proba(ROCtestTRN)\n",
      "fpr, tpr, thresholds = roc_curve(ROCtestTRG, probas[:, 1])\n",
      "roc_auc  = auc(fpr, tpr)\n",
      "pl.plot(fpr, tpr, label='%s ROC (area = %0.2f)' % ('LogisticRegression',roc_auc))\n",
      "pl.plot([0, 1], [0, 1], 'k--')\n",
      "pl.xlim([0.0, 1.0])\n",
      "pl.ylim([0.0, 1.0])\n",
      "pl.xlabel('False Positive Rate')\n",
      "pl.ylabel('True Positive Rate')\n",
      "pl.legend(loc=0, fontsize='small')\n",
      "pl.show()"
     ],
     "language": "python",
     "metadata": {},
     "outputs": [
      {
       "metadata": {},
       "output_type": "display_data",
       "text": [
        "<matplotlib.figure.Figure at 0x6280dd0>"
       ]
      },
      {
       "metadata": {},
       "output_type": "display_data",
       "png": "[encoded data removed]",
       "text": [
        "<matplotlib.figure.Figure at 0x628d550>"
       ]
      }
     ],
     "prompt_number": 22
    },
    {
     "cell_type": "markdown",
     "metadata": {},
     "source": [
      "\u041a\u0430\u043a \u0432\u0438\u0434\u043d\u043e \u043f\u043e \u0440\u0435\u0437\u0443\u043b\u044c\u0442\u0430\u043c \u043e\u0431\u043e\u0438\u0445 \u043f\u0440\u043e\u0432\u0435\u0440\u043e\u043a \u0430\u043b\u0433\u043e\u0440\u0438\u0442\u043c \u043d\u0430 \u043e\u0441\u043d\u043e\u0432\u0435 \u0434\u0435\u0440\u0435\u0432\u044c\u0435\u0432 \u0440\u0435\u0448\u0435\u043d\u0438\u0439 \u0432\u044b\u0434\u0430\u043b \u043b\u0443\u0447\u0448\u0438\u0435 \u0440\u0435\u0437\u0443\u043b\u044c\u0442\u0430\u0442\u044b, \u0447\u0435\u043c \u043e\u0441\u0442\u0430\u043b\u044c\u043d\u044b\u0435. \u0422\u0435\u043f\u0435\u0440\u044c \u043e\u0441\u0442\u0430\u043b\u043e\u0441\u044c \u0442\u043e\u043b\u044c\u043a\u043e \u043f\u0440\u0438\u043c\u0435\u043d\u0438\u0442\u044c \u043d\u0430\u0448\u0443 \u043c\u043e\u0434\u0435\u043b\u044c \u043a \u0442\u0435\u0441\u0442\u043e\u0432\u043e\u0439 \u0432\u044b\u0431\u043e\u0440\u043a\u0435:"
     ]
    },
    {
     "cell_type": "code",
     "collapsed": false,
     "input": [
      "model_rfc.fit(train, target)\n",
      "result.insert(1,'Survived', model_rfc.predict(test))\n",
      "result.to_csv('Kaggle_Titanic/Result/test.csv', index=False)"
     ],
     "language": "python",
     "metadata": {},
     "outputs": [],
     "prompt_number": 23
    }
   ],
   "metadata": {}
  }
 ]
}