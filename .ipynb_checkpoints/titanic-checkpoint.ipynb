{
 "metadata": {
  "name": ""
 },
 "nbformat": 3,
 "nbformat_minor": 0,
 "worksheets": [
  {
   "cells": [
    {
     "cell_type": "code",
     "collapsed": false,
     "input": [
      "from pandas import read_csv, DataFrame, Series\n",
      "from sklearn import svm\n",
      "from sklearn.preprocessing import LabelEncoder, OneHotEncoder, Binarizer, Imputer, normalize, MinMaxScaler\n",
      "from sklearn.ensemble import RandomForestClassifier\n",
      "from sklearn import cross_validation\n",
      "from sklearn.metrics import roc_auc_score, accuracy_score\n",
      "from sklearn.decomposition import PCA, RandomizedPCA\n",
      "from sklearn.feature_extraction.text import HashingVectorizer"
     ],
     "language": "python",
     "metadata": {},
     "outputs": [],
     "prompt_number": 98
    },
    {
     "cell_type": "code",
     "collapsed": false,
     "input": [
      "data = read_csv('Kaggle_Titanic/Data/train.csv', index_col='PassengerId')\n",
      "\n",
      "pretrain = data\n",
      "\n",
      "pretrain.Name = pretrain.Name.str.replace('(\\(|\")[a-zA-Z0-9 ]*(\\)|\")', '')\n",
      "pretrain.insert(len(pretrain.columns),'Fam', [i[0] for i in pretrain.Name.str.split(', ')])\n",
      "pretrain.insert(len(pretrain.columns),'Pref', [i[1].split('. ')[0] for i in pretrain.Name.str.split(', ')])\n",
      "pretrain.insert(len(pretrain.columns),'Nam',[i[1].split(' ')[1] for i in pretrain.Name.str.split(', ')])\n",
      "#ot = []\n",
      "#for i in pretrain.Name.str.split(', '):\n",
      "#    c = i[1].split(' ')\n",
      "#    if len(c)>2:  \n",
      "#        ot.append(c[2])\n",
      "#    else:\n",
      "#        ot.append(np.nan)\n",
      "#pretrain.insert(len(pretrain.columns),'Ot',ot)\n",
      "\n",
      "pretrain = pretrain.drop('Name',axis=1)\n",
      "\n",
      "le = LabelEncoder()\n",
      "pretrain.Pclass = pretrain.Pclass - 1\n",
      "pretrain.Sex = le.fit_transform(pretrain.Sex)\n",
      "\n",
      "binarizer = Binarizer(threshold=2)\n",
      "pretrain.Parch = binarizer.fit_transform(pretrain.Parch)\n",
      "pretrain.SibSp = binarizer.fit_transform(pretrain.SibSp)\n",
      "\n",
      "pretrain.Age[pretrain.Age.notnull()] = normalize(pretrain[['Age']][pretrain.Age.notnull()], norm='l2', axis=0)\n",
      "\n",
      "pretrain.Cabin = pretrain.Cabin.str[0]\n",
      "pretrain.Cabin[pretrain.Cabin.notnull()] = le.fit_transform(pretrain.Cabin[pretrain.Cabin.notnull()])\n",
      "pretrain.Cabin = pretrain.Cabin.astype(float32)\n",
      "pretrain.Embarked[pretrain.Embarked.notnull()] = le.fit_transform(pretrain.Embarked[pretrain.Embarked.notnull()])\n",
      "pretrain.Embarked = pretrain.Embarked.astype(float32)\n",
      "\n",
      "pretrain.Fare = pretrain.Fare.round()\n",
      "pretrain.Fare[data.Fare.notnull()] = normalize(pretrain[['Fare']][pretrain.Fare.notnull()], norm='l2', axis=0)\n",
      "\n",
      "vectorizer = HashingVectorizer(n_features=10)\n",
      "HashFam = vectorizer.fit_transform(pretrain.Fam).toarray()\n",
      "HasNam = vectorizer.fit_transform(pretrain.Nam).toarray()\n",
      "HashPref = vectorizer.fit_transform(pretrain.Pref).toarray()\n",
      "\n",
      "HashName =  hstack((HashPref, HashFam, HasNam))\n",
      "pretrain = pretrain.drop(['Fam','Pref','Nam'], axis=1)\n",
      "\n",
      "pretrain.Ticket = pretrain.Ticket.str.replace('\\.|/|','')\n",
      "HashTicket = vectorizer.fit_transform(pretrain.Ticket).toarray()\n",
      "pretrain = pretrain.drop(['Ticket'], axis=1)\n",
      "\n",
      "imp = Imputer(strategy='most_frequent')\n",
      "ClassCabinPort = imp.fit_transform(pretrain[['Pclass','Cabin','Embarked']])\n",
      "\n",
      "ohe = OneHotEncoder()\n",
      "HashClassCabinPort = ohe.fit_transform(ClassCabinPort).toarray()\n",
      "pretrain = pretrain.drop(['Pclass','Cabin','Embarked'], axis=1)\n",
      "\n",
      "target = pretrain.Survived.values\n",
      "pretrain = pretrain.drop(['Survived'], axis=1)\n",
      "train = imp.fit_transform(pretrain.values)\n",
      "\n",
      "old_train = hstack((train, HashClassCabinPort, HashName)).astype(float32)\n",
      "\n",
      "pca = PCA(n_components=9)\n",
      "train = pca.fit_transform(old_train)"
     ],
     "language": "python",
     "metadata": {},
     "outputs": [],
     "prompt_number": 157
    },
    {
     "cell_type": "code",
     "collapsed": false,
     "input": [
      "model = RandomForestClassifier(\n",
      "                               n_estimators = 80, \n",
      "                               criterion = 'entropy',\n",
      "                               max_features='auto', \n",
      "                               max_depth=6,\n",
      "                               ) "
     ],
     "language": "python",
     "metadata": {},
     "outputs": [],
     "prompt_number": 158
    },
    {
     "cell_type": "code",
     "collapsed": false,
     "input": [
      "itrn, ttrn, itrg, ttrg = cross_validation.train_test_split(train, target, test_size=0.4)\n",
      "print \"Cross val: %f\" % mean(cross_validation.cross_val_score(model, train, target, cv=5))\n",
      "model.fit(itrn, itrg)\n",
      "probas = model.predict_proba(ttrn)\n",
      "predict = model.predict(ttrn)\n",
      "print \"ROC: %f\" % roc_auc_score(ttrg, probas[:,1])\n",
      "print \"Accuracy score: %f\" % accuracy_score(ttrg, predict)"
     ],
     "language": "python",
     "metadata": {},
     "outputs": [
      {
       "output_type": "stream",
       "stream": "stdout",
       "text": [
        "Cross val: 0.808072\n",
        "ROC: 0.846446"
       ]
      },
      {
       "output_type": "stream",
       "stream": "stdout",
       "text": [
        "\n",
        "Accuracy score: 0.775910\n"
       ]
      }
     ],
     "prompt_number": 159
    },
    {
     "cell_type": "code",
     "collapsed": false,
     "input": [
      "old_train[0]"
     ],
     "language": "python",
     "metadata": {},
     "outputs": [
      {
       "metadata": {},
       "output_type": "pyout",
       "prompt_number": 160,
       "text": [
        "array([ 1.        ,  0.0249064 ,  0.        ,  0.        ,  0.00396142,\n",
        "        0.        ,  0.        ,  1.        ,  0.        ,  0.        ,\n",
        "        1.        ,  0.        ,  0.        ,  0.        ,  0.        ,\n",
        "        0.        ,  0.        ,  0.        ,  1.        ,  0.        ,\n",
        "        0.        ,  0.        , -1.        ,  0.        ,  0.        ,\n",
        "        0.        ,  0.        ,  0.        ,  0.        ,  0.        ,\n",
        "        0.        ,  1.        ,  0.        ,  0.        ,  0.        ,\n",
        "        0.        ,  0.        ,  0.        ,  0.        ,  0.        ,\n",
        "        0.        ,  0.        ,  0.        ,  0.        ,  0.        ,\n",
        "        0.        ,  1.        ,  0.        ,  0.        ], dtype=float32)"
       ]
      }
     ],
     "prompt_number": 160
    },
    {
     "cell_type": "raw",
     "metadata": {},
     "source": [
      "test = read_csv('Kaggle_Titanic/Data/test.csv')\n",
      "res = DataFrame(index=test.PassengerId)\n",
      "\n",
      "pretrain = test\n",
      "\n",
      "pretrain.Name = pretrain.Name.str.replace('(\\(|\")[a-zA-Z0-9 ]*(\\)|\")', '')\n",
      "pretrain.insert(len(pretrain.columns),'Fam', [i[0] for i in pretrain.Name.str.split(', ')])\n",
      "pretrain.insert(len(pretrain.columns),'Pref', [i[1].split('. ')[0] for i in pretrain.Name.str.split(', ')])\n",
      "pretrain.insert(len(pretrain.columns),'Nam',[i[1].split(' ')[1] for i in pretrain.Name.str.split(', ')])\n",
      "#ot = []\n",
      "#for i in pretrain.Name.str.split(', '):\n",
      "#    c = i[1].split(' ')\n",
      "#    if len(c)>2:  \n",
      "#        ot.append(c[2])\n",
      "#    else:\n",
      "#        ot.append(np.nan)\n",
      "#pretrain.insert(len(pretrain.columns),'Ot',ot)\n",
      "\n",
      "pretrain = pretrain.drop('Name',axis=1)\n",
      "\n",
      "le = LabelEncoder()\n",
      "pretrain.Pclass = pretrain.Pclass - 1\n",
      "pretrain.Sex = le.fit_transform(pretrain.Sex)\n",
      "\n",
      "binarizer = Binarizer(threshold=2)\n",
      "pretrain.Parch = binarizer.fit_transform(pretrain.Parch)\n",
      "pretrain.SibSp = binarizer.fit_transform(pretrain.SibSp)\n",
      "\n",
      "pretrain.Age[pretrain.Age.notnull()] = normalize(pretrain[['Age']][pretrain.Age.notnull()], norm='l2', axis=0)\n",
      "\n",
      "pretrain.Cabin = pretrain.Cabin.str[0]\n",
      "pretrain.Cabin[pretrain.Cabin.notnull()] = le.fit_transform(pretrain.Cabin[pretrain.Cabin.notnull()])\n",
      "pretrain.Cabin = pretrain.Cabin.astype(float32)\n",
      "pretrain.Embarked[pretrain.Embarked.notnull()] = le.fit_transform(pretrain.Embarked[pretrain.Embarked.notnull()])\n",
      "pretrain.Embarked = pretrain.Embarked.astype(float32)\n",
      "\n",
      "pretrain.Fare = pretrain.Fare.round()\n",
      "pretrain.Fare[pretrain.Fare.isnull()] = pretrain.Fare.median()\n",
      "pretrain.Fare[pretrain.Fare.notnull()] = normalize(pretrain[['Fare']][pretrain.Fare.notnull()], norm='l2', axis=0)\n",
      "\n",
      "vectorizer = HashingVectorizer(n_features=10)\n",
      "HashFam = vectorizer.fit_transform(pretrain.Fam).toarray()\n",
      "HasNam = vectorizer.fit_transform(pretrain.Nam).toarray()\n",
      "HashPref = vectorizer.fit_transform(pretrain.Pref).toarray()\n",
      "\n",
      "HashName =  hstack((HashPref, HashFam, HasNam))\n",
      "pretrain = pretrain.drop(['Fam','Pref','Nam'], axis=1)\n",
      "\n",
      "pretrain.Ticket = pretrain.Ticket.str.replace('\\.|/|','')\n",
      "pretrain.Ticket[pretrain.Ticket.isnull()] = pretrain.Ticket.min()\n",
      "HashTicket = vectorizer.fit_transform(pretrain.Ticket).toarray()\n",
      "pretrain = pretrain.drop(['Ticket'], axis=1)\n",
      "\n",
      "imp = Imputer(strategy='most_frequent')\n",
      "ClassCabinPort = imp.fit_transform(pretrain[['Pclass','Cabin','Embarked']])\n",
      "\n",
      "ohe = OneHotEncoder()\n",
      "HashClassCabinPort = ohe.fit_transform(ClassCabinPort).toarray()\n",
      "pretrain = pretrain.drop(['Pclass','Cabin','Embarked'], axis=1)\n",
      "\n",
      "test = imp.fit_transform(pretrain.values)\n",
      "\n",
      "test = hstack((test, HashClassCabinPort, HashName)).astype(float32)\n",
      "\n",
      "#pca = PCA(n_components=8)\n",
      "#test = pca.fit_transform(test)\n",
      "\n",
      "#\u0437\u0430\u043f\u0438\u0441\u044b\u0432\u0430\u0435\u043c \u0440\u0435\u0437\u0443\u043b\u044c\u0442\u0430\u0442\n",
      "model.fit(train, target)\n",
      "res.insert(0,'Survived', model.predict(test))\n",
      "res.to_csv('Kaggle_Titanic/Result/test.csv', index_label='PassengerId')"
     ]
    },
    {
     "cell_type": "raw",
     "metadata": {},
     "source": [
      "def fields_analisys(df):\n",
      "    field = df.columns[2:].tolist()\n",
      "    c = len(field)\n",
      "    TypeField = {i: str(df[i].dtype) for i in field}\n",
      "    fig, axes = plt.subplots(nrows=c, figsize=(30,10*c))\n",
      "    for i in xrange(c):\n",
      "        print 'Field: %s(%s)' % (field[i], TypeField[field[i]])\n",
      "        df.pivot_table('PassengerId',field[i],'Survived','count').plot(ax=axes[i], kind='bar', stacked=True)"
     ]
    }
   ],
   "metadata": {}
  }
 ]
}