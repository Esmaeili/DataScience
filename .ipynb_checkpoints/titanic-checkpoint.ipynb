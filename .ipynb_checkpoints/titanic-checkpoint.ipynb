{
 "metadata": {
  "name": ""
 },
 "nbformat": 3,
 "nbformat_minor": 0,
 "worksheets": [
  {
   "cells": [
    {
     "cell_type": "code",
     "collapsed": false,
     "input": [
      "from pandas import read_csv, DataFrame, Series\n",
      "from sklearn import svm\n",
      "from sklearn.preprocessing import LabelEncoder, OneHotEncoder, Binarizer, Imputer, normalize, MinMaxScaler\n",
      "from sklearn.ensemble import RandomForestClassifier\n",
      "from sklearn.linear_model import LogisticRegression\n",
      "from sklearn import cross_validation\n",
      "from sklearn.metrics import roc_auc_score, confusion_matrix, accuracy_score, log_loss, classification_report, matthews_corrcoef\n",
      "from sklearn.decomposition import FastICA\n",
      "from  sklearn.feature_selection import SelectKBest, chi2"
     ],
     "language": "python",
     "metadata": {},
     "outputs": [],
     "prompt_number": 504
    },
    {
     "cell_type": "code",
     "collapsed": false,
     "input": [
      "data = read_csv('Kaggle_Titanic/Data/train.csv')\n",
      "dicts = {}\n",
      "t = {}\n",
      "#\u043a\u043e\u0434\u0438\u0440\u043e\u0432\u0430\u043d\u0438\u0435 \u0441\u043f\u0438\u0441\u043a\u043e\u0432\n",
      "le = LabelEncoder()\n",
      "le.fit(data.Sex.drop_duplicates())\n",
      "data.Sex = le.transform(data.Sex)\n",
      "t['Sex_list'] = list(label.classes_)\n",
      "le.fit(data.Embarked[data.Embarked.notnull()].drop_duplicates())\n",
      "data.Embarked[data.Embarked.notnull()] = le.transform(data.Embarked[data.Embarked.notnull()])\n",
      "dicts['Embarked_list'] = list(label.classes_)\n",
      "\n",
      "#\u043d\u043e\u0440\u043c\u0430\u043b\u0438\u0437\u0430\u0446\u0438\u044f\n",
      "data.Parch = normalize(data[['Parch']], norm='l1')\n",
      "data.SibSp = normalize(data[['SibSp']], norm='l1')\n",
      "mms = MinMaxScaler()\n",
      "data.Fare = mms.fit_transform(data[['Fare']].values.round())\n",
      "\n",
      "#\u0443\u0431\u0438\u0440\u0430\u0435\u043c \u043d\u0443\u043b\u0435\u0432\u044b\u0435 \u0437\u043d\u0430\u0447\u0435\u043d\u0438\u044f\n",
      "imp = Imputer(strategy='most_frequent')\n",
      "data.Embarked = imp.fit_transform(data[['Embarked']])\n",
      "data.Embarked = data.Embarked.astype(int)\n",
      "\n",
      "ohe = OneHotEncoder()\n",
      "#newdata = DataFrame(ohe.fit_transform(data[['Sex','Pclass','Embarked']]).toarray())\n",
      "newdata = ohe.fit_transform(data[['Sex','Pclass','Embarked']]).toarray()\n",
      "\n",
      "target = data.Survived.values\n",
      "train = hstack((newdata, data[['SibSp','Parch']].values))\n",
      "#train = ohe.fit_transform(data[['Pclass','Sex','SibSp','Parch','Embarked']]).toarray()\n",
      "\n",
      "NewComponent = FastICA(n_components=4, fun = 'exp')#,\n",
      "\n",
      "NewComponent.fit(train, target)\n",
      "train = NewComponent.transform(train)"
     ],
     "language": "python",
     "metadata": {},
     "outputs": [],
     "prompt_number": 903
    },
    {
     "cell_type": "code",
     "collapsed": false,
     "input": [
      "model = RandomForestClassifier(n_estimators = 120, \n",
      "                               max_features='auto', \n",
      "                               max_depth=60,\n",
      "                               min_samples_split = 10,\n",
      "                               min_samples_leaf=25\n",
      "                               ) "
     ],
     "language": "python",
     "metadata": {},
     "outputs": [],
     "prompt_number": 871
    },
    {
     "cell_type": "code",
     "collapsed": false,
     "input": [
      "ROCtrainTRN, ROCtestTRN, ROCtrainTRG, ROCtestTRG = cross_validation.train_test_split(train, target, test_size=0.45)\n",
      "\n",
      "model.fit(ROCtrainTRN, ROCtrainTRG)\n",
      "probas =  model.predict_proba(ROCtestTRN)\n",
      "predict =  model.predict(ROCtestTRN)\n",
      "\n",
      "print \"Cross-validate score: %f\" % model.score(ROCtestTRN, ROCtestTRG)\n",
      "print \"Log-loss score: %f\" % log_loss(ROCtestTRG, probas)  \n",
      "print \"ROC area: %f\" % roc_auc_score(ROCtestTRG, probas[:,1])\n",
      "print \"MMC coef: %f\" % matthews_corrcoef(ROCtestTRG, predict)\n",
      "print (confusion_matrix(ROCtestTRG, predict))\n",
      "print (classification_report(ROCtestTRG, predict))"
     ],
     "language": "python",
     "metadata": {},
     "outputs": [
      {
       "output_type": "stream",
       "stream": "stdout",
       "text": [
        "Cross-validate score: 0.817955\n",
        "Log-loss score: 0.448637\n",
        "ROC area: 0.845137\n",
        "MMC coef: 0.596396\n",
        "[[239  17]\n",
        " [ 56  89]]\n",
        "             precision    recall  f1-score   support\n",
        "\n",
        "          0       0.81      0.93      0.87       256\n",
        "          1       0.84      0.61      0.71       145\n",
        "\n",
        "avg / total       0.82      0.82      0.81       401\n",
        "\n"
       ]
      }
     ],
     "prompt_number": 906
    },
    {
     "cell_type": "code",
     "collapsed": false,
     "input": [
      "model.feature_importances_"
     ],
     "language": "python",
     "metadata": {},
     "outputs": [
      {
       "metadata": {},
       "output_type": "pyout",
       "prompt_number": 837,
       "text": [
        "array([ 0.24716228,  0.58140197,  0.12161001,  0.04982573])"
       ]
      }
     ],
     "prompt_number": 837
    },
    {
     "cell_type": "raw",
     "metadata": {},
     "source": [
      "\u041b\u0443\u0447\u0448\u0430\u044f \u043c\u043e\u0434\u0435\u043b\u044c \u043d\u0430 \u0434\u0430\u043d\u043d\u044b\u0439 \u043c\u043e\u043c\u0435\u043d\u0442\n",
      "listDelField = ['Name','Ticket','Cabin','PassengerId','Fare','Embarked']\n",
      "RandomForestClassifier(n_estimators = 80, max_features='auto', criterion='entropy',max_depth=4)\n",
      "\n",
      "Cross-validate score: 0.822870\n",
      "Log-loss score: 0.430041\n",
      "ROC area: 0.862528\n",
      "MMC coef: 0.617210\n",
      "[[247  31]\n",
      " [ 48 120]]\n",
      "             precision    recall  f1-score   support\n",
      "\n",
      "          0       0.84      0.89      0.86       278\n",
      "          1       0.79      0.71      0.75       168\n",
      "\n",
      "avg / total       0.82      0.82      0.82       446"
     ]
    },
    {
     "cell_type": "code",
     "collapsed": false,
     "input": [
      "test = read_csv('Kaggle_Titanic/Data/test.csv')"
     ],
     "language": "python",
     "metadata": {},
     "outputs": []
    },
    {
     "cell_type": "code",
     "collapsed": false,
     "input": [
      "test = read_csv('Kaggle_Titanic/Data/test.csv')\n",
      "res = DataFrame(index=test.PassengerId)\n",
      "\n",
      "\n",
      "#\u043a\u043e\u0434\u0438\u0440\u043e\u0432\u0430\u043d\u0438\u0435 \u0441\u043f\u0438\u0441\u043a\u043e\u0432\n",
      "le = LabelEncoder()\n",
      "le.fit(test.Sex.drop_duplicates())\n",
      "test.Sex = le.transform(test.Sex)\n",
      "le.fit(dicts['Embarked_list'])\n",
      "test.Embarked = le.transform(test.Embarked)\n",
      "\n",
      "#\u043d\u043e\u0440\u043c\u0430\u043b\u0438\u0437\u0430\u0446\u0438\u044f\n",
      "test.Parch = normalize(test[['Parch']], norm='l1')\n",
      "test.SibSp = normalize(test[['SibSp']], norm='l1')\n",
      "\n",
      "#\u0443\u0431\u0438\u0440\u0430\u0435\u043c \u043d\u0443\u043b\u0435\u0432\u044b\u0435 \u0437\u043d\u0430\u0447\u0435\u043d\u0438\u044f\n",
      "imp = Imputer(strategy='most_frequent')\n",
      "data.Embarked = imp.fit_transform(data[['Embarked']])\n",
      "data.Embarked = data.Embarked.astype(int)\n",
      "\n",
      "ohe = OneHotEncoder()\n",
      "newtest = ohe.fit_transform(test[['Sex','Pclass','Embarked']]).toarray()\n",
      "\n",
      "test = hstack((newtest, test[['SibSp','Parch']].values))\n",
      "#train = ohe.fit_transform(data[['Pclass','Sex','SibSp','Parch','Embarked']]).toarray()\n",
      "\n",
      "NewComponent = FastICA(n_components=4, fun = 'exp')#,\n",
      "\n",
      "test = NewComponent.fit_transform(test)\n",
      "\n",
      "#\u0437\u0430\u043f\u0438\u0441\u044b\u0432\u0430\u0435\u043c \u0440\u0435\u0437\u0443\u043b\u044c\u0442\u0430\u0442\n",
      "model.fit(train, target)\n",
      "res.insert(0,'Survived', model.predict(test))\n",
      "res.to_csv('Kaggle_Titanic/Result/test.csv', index_label='PassengerId')"
     ],
     "language": "python",
     "metadata": {},
     "outputs": [],
     "prompt_number": 905
    },
    {
     "cell_type": "raw",
     "metadata": {},
     "source": [
      "def fields_analisys(df):\n",
      "    field = df.columns[2:].tolist()\n",
      "    c = len(field)\n",
      "    TypeField = {i: str(df[i].dtype) for i in field}\n",
      "    fig, axes = plt.subplots(nrows=c, figsize=(30,10*c))\n",
      "    for i in xrange(c):\n",
      "        print 'Field: %s(%s)' % (field[i], TypeField[field[i]])\n",
      "        df.pivot_table('PassengerId',field[i],'Survived','count').plot(ax=axes[i], kind='bar', stacked=True)"
     ]
    },
    {
     "cell_type": "markdown",
     "metadata": {},
     "source": [
      "fields_analisys(data)"
     ]
    },
    {
     "cell_type": "code",
     "collapsed": false,
     "input": [
      "newtest"
     ],
     "language": "python",
     "metadata": {},
     "outputs": [
      {
       "metadata": {},
       "output_type": "pyout",
       "prompt_number": 890,
       "text": [
        "array([[ 0.,  1.,  0., ...,  0.,  0.,  1.],\n",
        "       [ 1.,  0.,  1., ...,  1.,  0.,  0.],\n",
        "       [ 1.,  0.,  0., ...,  0.,  0.,  1.],\n",
        "       ..., \n",
        "       [ 1.,  0.,  0., ...,  0.,  0.,  1.],\n",
        "       [ 0.,  1.,  1., ...,  1.,  0.,  0.],\n",
        "       [ 0.,  1.,  0., ...,  0.,  1.,  0.]])"
       ]
      }
     ],
     "prompt_number": 890
    },
    {
     "cell_type": "code",
     "collapsed": false,
     "input": [
      "test"
     ],
     "language": "python",
     "metadata": {},
     "outputs": [
      {
       "output_type": "stream",
       "stream": "stderr",
       "text": [
        "C:\\Python27\\lib\\site-packages\\pandas\\core\\config.py:570: DeprecationWarning: height has been deprecated.\n",
        "\n",
        "  warnings.warn(d.msg, DeprecationWarning)\n"
       ]
      },
      {
       "html": [
        "<pre>\n",
        "&lt;class 'pandas.core.frame.DataFrame'&gt;\n",
        "Int64Index: 418 entries, 0 to 417\n",
        "Data columns (total 11 columns):\n",
        "PassengerId    418  non-null values\n",
        "Pclass         418  non-null values\n",
        "Name           418  non-null values\n",
        "Sex            418  non-null values\n",
        "Age            332  non-null values\n",
        "SibSp          418  non-null values\n",
        "Parch          418  non-null values\n",
        "Ticket         418  non-null values\n",
        "Fare           417  non-null values\n",
        "Cabin          91  non-null values\n",
        "Embarked       418  non-null values\n",
        "dtypes: float64(2), int32(2), int64(4), object(3)\n",
        "</pre>"
       ],
       "metadata": {},
       "output_type": "pyout",
       "prompt_number": 902,
       "text": [
        "<class 'pandas.core.frame.DataFrame'>\n",
        "Int64Index: 418 entries, 0 to 417\n",
        "Data columns (total 11 columns):\n",
        "PassengerId    418  non-null values\n",
        "Pclass         418  non-null values\n",
        "Name           418  non-null values\n",
        "Sex            418  non-null values\n",
        "Age            332  non-null values\n",
        "SibSp          418  non-null values\n",
        "Parch          418  non-null values\n",
        "Ticket         418  non-null values\n",
        "Fare           417  non-null values\n",
        "Cabin          91  non-null values\n",
        "Embarked       418  non-null values\n",
        "dtypes: float64(2), int32(2), int64(4), object(3)"
       ]
      }
     ],
     "prompt_number": 902
    },
    {
     "cell_type": "code",
     "collapsed": false,
     "input": [
      "d = test[['SibSp','Parch']].values"
     ],
     "language": "python",
     "metadata": {},
     "outputs": [],
     "prompt_number": 898
    },
    {
     "cell_type": "code",
     "collapsed": false,
     "input": [],
     "language": "python",
     "metadata": {},
     "outputs": []
    }
   ],
   "metadata": {}
  }
 ]
}