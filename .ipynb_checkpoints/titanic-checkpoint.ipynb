{
 "metadata": {
  "name": ""
 },
 "nbformat": 3,
 "nbformat_minor": 0,
 "worksheets": [
  {
   "cells": [
    {
     "cell_type": "code",
     "collapsed": false,
     "input": [
      "from pandas import read_csv, DataFrame, Series\n",
      "from sklearn import svm\n",
      "from sklearn.preprocessing import LabelBinarizer, LabelEncoder, OneHotEncoder, Binarizer, Imputer, normalize, MinMaxScaler, scale\n",
      "from sklearn.ensemble import RandomForestClassifier, ExtraTreesClassifier\n",
      "from sklearn.tree import DecisionTreeClassifier\n",
      "from sklearn.linear_model import LogisticRegression, SGDClassifier\n",
      "from sklearn import cross_validation\n",
      "from sklearn.neighbors import KNeighborsClassifier\n",
      "from sklearn.metrics import roc_auc_score, confusion_matrix, f1_score, accuracy_score, classification_report, matthews_corrcoef\n",
      "from sklearn.decomposition import FastICA, PCA, RandomizedPCA\n",
      "from  sklearn.feature_selection import SelectKBest, chi2"
     ],
     "language": "python",
     "metadata": {},
     "outputs": [],
     "prompt_number": 1
    },
    {
     "cell_type": "code",
     "collapsed": false,
     "input": [
      "data = read_csv('Kaggle_Titanic/Data/train.csv')\n",
      "\n",
      "#\u043a\u043e\u0434\u0438\u0440\u043e\u0432\u0430\u043d\u0438\u0435 \u0441\u043f\u0438\u0441\u043a\u043e\u0432\n",
      "le = LabelEncoder()\n",
      "data.Sex = le.fit_transform(data.Sex)\n",
      "data.Embarked[data.Embarked.notnull()] = le.fit_transform(data.Embarked[data.Embarked.notnull()])\n",
      "data.Pclass = data.Pclass - 1\n",
      "\n",
      "data.Name.head(10)"
     ],
     "language": "python",
     "metadata": {},
     "outputs": [
      {
       "metadata": {},
       "output_type": "pyout",
       "prompt_number": 52,
       "text": [
        "0                              Braund, Mr. Owen Harris\n",
        "1    Cumings, Mrs. John Bradley (Florence Briggs Th...\n",
        "2                               Heikkinen, Miss. Laina\n",
        "3         Futrelle, Mrs. Jacques Heath (Lily May Peel)\n",
        "4                             Allen, Mr. William Henry\n",
        "5                                     Moran, Mr. James\n",
        "6                              McCarthy, Mr. Timothy J\n",
        "7                       Palsson, Master. Gosta Leonard\n",
        "8    Johnson, Mrs. Oscar W (Elisabeth Vilhelmina Berg)\n",
        "9                  Nasser, Mrs. Nicholas (Adele Achem)\n",
        "Name: Name, dtype: object"
       ]
      }
     ],
     "prompt_number": 52
    },
    {
     "cell_type": "code",
     "collapsed": false,
     "input": [
      "train.astype(float)"
     ],
     "language": "python",
     "metadata": {},
     "outputs": [
      {
       "metadata": {},
       "output_type": "pyout",
       "prompt_number": 28,
       "text": [
        "array([[-0.97391793, -0.26936403, -0.25631278, -0.44621073,  0.02083482],\n",
        "       [ 1.04127568,  1.09472742, -0.56911887,  1.00589259, -0.57473802],\n",
        "       [-0.61350477, -0.21140153, -0.06303841,  0.86918971, -0.01498802],\n",
        "       ..., \n",
        "       [ 0.85215592, -1.63360102,  1.25317822,  0.40650762, -0.18061123],\n",
        "       [-0.02084684,  0.4479617 , -0.74054212, -0.16512959, -0.48891259],\n",
        "       [-0.82568379,  0.32252075, -0.01173588, -0.19985661, -0.8652192 ]])"
       ]
      }
     ],
     "prompt_number": 28
    },
    {
     "cell_type": "raw",
     "metadata": {},
     "source": [
      "bnz = Binarizer(threshold=1)\n",
      "data.SibSp = bnz.fit_transform(data.SibSp)\n",
      "cls = ['Sex','Pclass', 'Embarked']\n",
      "fo_cls = ['Fare','Age','SibSp','Parch','Cabin']\n",
      "\n",
      "#\u0443\u0431\u0438\u0440\u0430\u0435\u043c \u043d\u0443\u043b\u0435\u0432\u044b\u0435 \u0437\u043d\u0430\u0447\u0435\u043d\u0438\u044f\n",
      "imp = Imputer(strategy='most_frequent')\n",
      "data.Embarked = imp.fit_transform(data[['Embarked']])\n",
      "data.Age = imp.fit_transform(data[['Age']])\n",
      "data.Embarked = data.Embarked.astype(int)\n",
      "data.Fare = scale(data.Fare.round())\n",
      "data.Age = scale(data.Age.round())\n",
      "#data.SibSp = scale(data.SibSp.astype(float))\n",
      "data.Parch = scale(data.Parch.astype(float))\n",
      "\n",
      "ohe = OneHotEncoder(dtype=int)\n",
      "\n",
      "\n",
      "target = data.Survived.values\n",
      "train = hstack((ohe.fit_transform(data[cls].values).toarray(), data[fo_cls].values))\n",
      "#train = data[fo_cls].values\n",
      "\n",
      "pca = RandomizedPCA(n_components=5)\n",
      "\n",
      "pca.fit(train)\n",
      "train = pca.transform(train)\n",
      "train = train.astype(float)"
     ]
    },
    {
     "cell_type": "code",
     "collapsed": false,
     "input": [
      "model = RandomForestClassifier(n_estimators =80, max_features='auto', max_depth=6, criterion='entropy')\n",
      "#model = KNeighborsClassifier(n_neighbors = 15, algorithm = 'auto', p=1)\n",
      "#model = svm.SVC(C=2, kernel='rbf',gamma=.7, probability=True)"
     ],
     "language": "python",
     "metadata": {},
     "outputs": [],
     "prompt_number": 29
    },
    {
     "cell_type": "code",
     "collapsed": false,
     "input": [
      "kf = cross_validation.KFold(len(target), n_folds=5, shuffle=True)\n",
      "roc = []\n",
      "ac = []\n",
      "    \n",
      "for idx_trn, idx_tst in kf:\n",
      "    model.fit(train[idx_trn], target[idx_trn])\n",
      "    probas =  model.predict_proba(train[idx_tst])\n",
      "    predict =  model.predict(train[idx_tst])\n",
      "    roc.append(roc_auc_score(target[idx_tst], probas[:,1]))\n",
      "    ac.append(accuracy_score(target[idx_tst], predict))\n",
      "    \n",
      "print \"ROC mean: %f\" % mean(roc)\n",
      "print \"Accuracy score mean: %f\" % mean(ac)\n",
      "\n",
      "ROCtrainTRN, ROCtestTRN, ROCtrainTRG, ROCtestTRG = cross_validation.train_test_split(train, target, test_size=0.5)\n",
      "\n",
      "model.fit(ROCtrainTRN, ROCtrainTRG)\n",
      "probas =  model.predict_proba(ROCtestTRN)\n",
      "predict =  model.predict(ROCtestTRN)\n",
      "  \n",
      "print \"ROC area: %f\" % roc_auc_score(ROCtestTRG, probas[:,1])\n",
      "print \"Accuracy score coef: %f\" % accuracy_score(ROCtestTRG, predict)"
     ],
     "language": "python",
     "metadata": {},
     "outputs": [
      {
       "output_type": "stream",
       "stream": "stdout",
       "text": [
        "ROC mean: 0.847291\n",
        "Accuracy score mean: 0.802517\n",
        "ROC area: 0.826847"
       ]
      },
      {
       "output_type": "stream",
       "stream": "stdout",
       "text": [
        "\n",
        "Accuracy score coef: 0.795964\n"
       ]
      }
     ],
     "prompt_number": 30
    },
    {
     "cell_type": "raw",
     "metadata": {},
     "source": [
      "def fields_analisys(df):\n",
      "    field = df.columns[2:].tolist()\n",
      "    c = len(field)\n",
      "    TypeField = {i: str(df[i].dtype) for i in field}\n",
      "    fig, axes = plt.subplots(nrows=c, figsize=(30,10*c))\n",
      "    for i in xrange(c):\n",
      "        print 'Field: %s(%s)' % (field[i], TypeField[field[i]])\n",
      "        df.pivot_table('PassengerId',field[i],'Survived','count').plot(ax=axes[i], kind='bar', stacked=True)"
     ]
    }
   ],
   "metadata": {}
  }
 ]
}