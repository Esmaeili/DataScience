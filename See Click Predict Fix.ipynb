{
 "metadata": {
  "name": ""
 },
 "nbformat": 3,
 "nbformat_minor": 0,
 "worksheets": [
  {
   "cells": [
    {
     "cell_type": "heading",
     "level": 3,
     "metadata": {},
     "source": [
      "\u041f\u043e\u0441\u0442\u0430\u043d\u043e\u0432\u043a\u0430 \u0437\u0430\u0434\u0430\u0447\u0438"
     ]
    },
    {
     "cell_type": "markdown",
     "metadata": {},
     "source": [
      "\u0421\u043f\u0440\u043e\u0433\u043d\u043e\u0437\u0438\u0440\u043e\u0432\u0430\u0442\u044c, \u043a\u0430\u043a\u0438\u0435 \u0432\u043e\u043f\u0440\u043e\u0441\u044b \u0431\u043e\u043b\u044c\u0448\u0435 \u0432\u0441\u0435\u0433\u043e \u0438\u043d\u0442\u0435\u0440\u0435\u0441\u0443\u044e\u0442 \u0433\u0440\u0430\u0436\u0434\u0430\u043d."
     ]
    },
    {
     "cell_type": "heading",
     "level": 3,
     "metadata": {},
     "source": [
      "\u041e\u043f\u0438\u0441\u0430\u043d\u0438\u0435 \u043d\u0430\u0431\u043e\u0440\u0430 \u0434\u0430\u043d\u043d\u044b\u0445"
     ]
    },
    {
     "cell_type": "markdown",
     "metadata": {},
     "source": [
      "<ul>\n",
      "<li><b>id</b> - a randomly assigned id</li>\n",
      "<li><b>latitude</b> - \u0448\u0438\u0440\u043e\u0442\u0430</li>\n",
      "<li><b>longitude</b> - \u0434\u043e\u043b\u0433\u043e\u0442\u0430</li>\n",
      "<li><b>summary</b> - \u043a\u043e\u0440\u043e\u0442\u043a\u0438\u0439 \u0437\u0430\u0433\u043e\u043b\u043e\u0432\u043e\u043a</li>\n",
      "<li><b>description</b> - \u043e\u043f\u0438\u0441\u0430\u043d\u0438\u0435</li>\n",
      "<li><b>num_votes</b> - \u043a\u043e\u043b-\u0432\u043e \u043f\u043e\u043b\u044c\u0437\u043e\u0432\u0430\u0442\u0435\u043b\u044c\u0441\u043a\u0438\u0445 \u0433\u043e\u043b\u043e\u0441\u043e\u0432</li>\n",
      "<li><b>num_comments</b> - \u043a\u043e\u043b-\u0432\u043e \u043f\u043e\u043b\u044c\u0437\u043e\u0432\u0430\u0442\u0435\u043b\u044c\u0441\u043a\u0438\u0445 \u043a\u043e\u043c\u043c\u0435\u043d\u0442\u0430\u0440\u0438\u0435\u0432</li>\n",
      "<li><b>num_views</b> - \u043a\u043e\u043b-\u0432\u043e \u043f\u0440\u043e\u0441\u043c\u043e\u0442\u0440\u043e\u0432</li>\n",
      "<li><b>source</b> - \u0438\u0441\u0442\u043e\u0447\u043d\u0438\u043a \u0441 \u043a\u043e\u0442\u043e\u0440\u043e\u0433\u043e \u0431\u044b\u043b\u043e \u043e\u0431\u0440\u0430\u0449\u0435\u043d\u0438\u0435</li>\n",
      "<li><b>created_time</b> - \u0432\u0440\u0435\u043c\u044f \u0432\u043e\u0437\u043d\u0438\u043a\u043d\u043e\u0432\u0435\u043d\u0438\u044f \u0432\u043e\u043f\u0440\u043e\u0441\u0430</li>\n",
      "<li><b>tag_type</b> - \u043a\u0430\u0442\u0435\u0433\u043e\u0440\u0438\u044f\u0439\u043d\u0430\u044f \u043f\u0435\u0440\u0435\u043c\u0435\u043d\u043d\u0430\u044f (\u0430\u0432\u0442\u043e\u043c\u0430\u0442\u0438\u0447\u0435\u0441\u043a\u0430\u044f) \u0441 \u0442\u0438\u043f\u043e\u043c \u0432\u043e\u043f\u0440\u043e\u0441\u0430</li>\n",
      "</ul>"
     ]
    },
    {
     "cell_type": "heading",
     "level": 3,
     "metadata": {},
     "source": [
      "\u041f\u0440\u0435\u0434\u0432\u0430\u0440\u0438\u0442\u0435\u043b\u044c\u043d\u044b\u0439 \u0430\u043d\u0430\u043b\u0438\u0437 \u0434\u0430\u043d\u043d\u044b\u0445"
     ]
    },
    {
     "cell_type": "code",
     "collapsed": false,
     "input": [
      "from pandas import read_csv\n",
      "from pandas.tools.plotting import scatter_matrix\n",
      "from sklearn import preprocessing, cross_validation \n",
      "from sklearn.feature_extraction.text import FeatureHasher, HashingVectorizer\n",
      "from sklearn.decomposition import PCA\n",
      "from sklearn.ensemble import RandomForestRegressor\n",
      "from sklearn import svm\n",
      "import nltk, string, re\n",
      "import ml_metrics as metrics"
     ],
     "language": "python",
     "metadata": {},
     "outputs": [],
     "prompt_number": 1
    },
    {
     "cell_type": "code",
     "collapsed": false,
     "input": [
      "data = read_csv('Kaggle/SeeClickPredictFix/Data/train.csv', index_col=['id'], parse_dates=['created_time'], keep_default_na=False)\n",
      "\n",
      "data['SumDesc'] = data.summary +' '+ data.description\n",
      "\n",
      "hasher = FeatureHasher(n_features=8, input_type='string', non_negative=True)\n",
      "PreHashTagType = hasher.fit_transform(data.tag_type)\n",
      "PreHashSource = hasher.fit_transform(data.source)\n",
      "\n",
      "encoder = preprocessing.OneHotEncoder()\n",
      "CategoryHash = encoder.fit_transform(hstack((PreHashSource.toarray(),PreHashTagType.toarray())))\n",
      "\n",
      "desc = data.SumDesc.str.lower().str.replace('\\\\\\\\n', '').\\\n",
      "    str.replace('[%s]' % re.escape(string.punctuation), ' ').\\\n",
      "    str.replace('pick up', 'pickup').\\\n",
      "    str.replace('side walk', 'sidewalk').\\\n",
      "    str.replace('street light', 'streetlight')\n",
      "    \n",
      "class LemmTokenizer(object):\n",
      "    def __init__(self):\n",
      "        self.lem = nltk.WordNetLemmatizer()\n",
      "    def __call__(self, doc):\n",
      "        return [self.lem.lemmatize(t) for t in nltk.word_tokenize(doc)]\n",
      "\n",
      "vect = HashingVectorizer(n_features = 128, tokenizer=LemmTokenizer(), stop_words=nltk.corpus.stopwords.words('english'), binary=True)\n",
      "vect.fit(desc)\n",
      "HashDesc = vect.transform(desc)\n",
      "\n",
      "target = data[['num_votes','num_comments','num_views']].values\n",
      "train = hstack((data[['latitude','longitude']].values, HashDesc.toarray(), CategoryHash.toarray()))"
     ],
     "language": "python",
     "metadata": {},
     "outputs": [],
     "prompt_number": 2
    },
    {
     "cell_type": "code",
     "collapsed": false,
     "input": [
      "TRNtrain, TRNtest, TARtrain, TARtest = cross_validation.train_test_split(train, target, test_size=0.4)"
     ],
     "language": "python",
     "metadata": {},
     "outputs": [],
     "prompt_number": 3
    },
    {
     "cell_type": "code",
     "collapsed": false,
     "input": [
      "model = RandomForestRegressor(n_estimators=80)\n",
      "model.fit(TRNtrain, TARtrain)\n",
      "metrics.rmse(TARtest, model.predict(TARtrain))"
     ],
     "language": "python",
     "metadata": {},
     "outputs": [],
     "prompt_number": "*"
    },
    {
     "cell_type": "code",
     "collapsed": false,
     "input": [],
     "language": "python",
     "metadata": {},
     "outputs": []
    }
   ],
   "metadata": {}
  }
 ]
}